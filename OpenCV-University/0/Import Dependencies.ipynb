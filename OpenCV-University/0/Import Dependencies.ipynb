{
 "cells": [
  {
   "cell_type": "code",
   "id": "initial_id",
   "metadata": {
    "collapsed": true,
    "ExecuteTime": {
     "end_time": "2025-09-17T16:46:52.705265Z",
     "start_time": "2025-09-17T16:46:52.076148Z"
    }
   },
   "source": [
    "# download some digit images from MNIST\n",
    "!python -m wget \"https://learnopencv.com/wp-content/uploads/2024/07/mnist_0.jpg\" -o \"mnist_0.jpg\"\n",
    "!python -m wget \"https://learnopencv.com/wp-content/uploads/2024/07/mnist_1.jpg\" -o \"mnist_1.jpg\""
   ],
   "outputs": [
    {
     "name": "stderr",
     "output_type": "stream",
     "text": [
      "Traceback (most recent call last):\n",
      "  File \u001B[35m\"<frozen runpy>\"\u001B[0m, line \u001B[35m198\u001B[0m, in \u001B[35m_run_module_as_main\u001B[0m\n",
      "  File \u001B[35m\"<frozen runpy>\"\u001B[0m, line \u001B[35m88\u001B[0m, in \u001B[35m_run_code\u001B[0m\n",
      "  File \u001B[35m\"E:\\py_project\\TorchStudy\\.venv\\Lib\\site-packages\\wget.py\"\u001B[0m, line \u001B[35m568\u001B[0m, in \u001B[35m<module>\u001B[0m\n",
      "    filename = download(args[0], out=options.output)\n",
      "  File \u001B[35m\"E:\\py_project\\TorchStudy\\.venv\\Lib\\site-packages\\wget.py\"\u001B[0m, line \u001B[35m526\u001B[0m, in \u001B[35mdownload\u001B[0m\n",
      "    (tmpfile, headers) = \u001B[31mulib.urlretrieve\u001B[0m\u001B[1;31m(binurl, tmpfile, callback)\u001B[0m\n",
      "                         \u001B[31m~~~~~~~~~~~~~~~~\u001B[0m\u001B[1;31m^^^^^^^^^^^^^^^^^^^^^^^^^^^\u001B[0m\n",
      "  File \u001B[35m\"C:\\Users\\31987\\AppData\\Local\\Programs\\Python\\Python313\\Lib\\urllib\\request.py\"\u001B[0m, line \u001B[35m214\u001B[0m, in \u001B[35murlretrieve\u001B[0m\n",
      "    with contextlib.closing(\u001B[31murlopen\u001B[0m\u001B[1;31m(url, data)\u001B[0m) as fp:\n",
      "                            \u001B[31m~~~~~~~\u001B[0m\u001B[1;31m^^^^^^^^^^^\u001B[0m\n",
      "  File \u001B[35m\"C:\\Users\\31987\\AppData\\Local\\Programs\\Python\\Python313\\Lib\\urllib\\request.py\"\u001B[0m, line \u001B[35m189\u001B[0m, in \u001B[35murlopen\u001B[0m\n",
      "    return \u001B[31mopener.open\u001B[0m\u001B[1;31m(url, data, timeout)\u001B[0m\n",
      "           \u001B[31m~~~~~~~~~~~\u001B[0m\u001B[1;31m^^^^^^^^^^^^^^^^^^^^\u001B[0m\n",
      "  File \u001B[35m\"C:\\Users\\31987\\AppData\\Local\\Programs\\Python\\Python313\\Lib\\urllib\\request.py\"\u001B[0m, line \u001B[35m495\u001B[0m, in \u001B[35mopen\u001B[0m\n",
      "    response = meth(req, response)\n",
      "  File \u001B[35m\"C:\\Users\\31987\\AppData\\Local\\Programs\\Python\\Python313\\Lib\\urllib\\request.py\"\u001B[0m, line \u001B[35m604\u001B[0m, in \u001B[35mhttp_response\u001B[0m\n",
      "    response = self.parent.error(\n",
      "        'http', request, response, code, msg, hdrs)\n",
      "  File \u001B[35m\"C:\\Users\\31987\\AppData\\Local\\Programs\\Python\\Python313\\Lib\\urllib\\request.py\"\u001B[0m, line \u001B[35m533\u001B[0m, in \u001B[35merror\u001B[0m\n",
      "    return \u001B[31mself._call_chain\u001B[0m\u001B[1;31m(*args)\u001B[0m\n",
      "           \u001B[31m~~~~~~~~~~~~~~~~\u001B[0m\u001B[1;31m^^^^^^^\u001B[0m\n",
      "  File \u001B[35m\"C:\\Users\\31987\\AppData\\Local\\Programs\\Python\\Python313\\Lib\\urllib\\request.py\"\u001B[0m, line \u001B[35m466\u001B[0m, in \u001B[35m_call_chain\u001B[0m\n",
      "    result = func(*args)\n",
      "  File \u001B[35m\"C:\\Users\\31987\\AppData\\Local\\Programs\\Python\\Python313\\Lib\\urllib\\request.py\"\u001B[0m, line \u001B[35m613\u001B[0m, in \u001B[35mhttp_error_default\u001B[0m\n",
      "    raise HTTPError(req.full_url, code, msg, hdrs, fp)\n",
      "\u001B[1;35murllib.error.HTTPError\u001B[0m: \u001B[35mHTTP Error 403: Forbidden\u001B[0m\n",
      "Traceback (most recent call last):\n",
      "  File \u001B[35m\"<frozen runpy>\"\u001B[0m, line \u001B[35m198\u001B[0m, in \u001B[35m_run_module_as_main\u001B[0m\n",
      "  File \u001B[35m\"<frozen runpy>\"\u001B[0m, line \u001B[35m88\u001B[0m, in \u001B[35m_run_code\u001B[0m\n",
      "  File \u001B[35m\"E:\\py_project\\TorchStudy\\.venv\\Lib\\site-packages\\wget.py\"\u001B[0m, line \u001B[35m568\u001B[0m, in \u001B[35m<module>\u001B[0m\n",
      "    filename = download(args[0], out=options.output)\n",
      "  File \u001B[35m\"E:\\py_project\\TorchStudy\\.venv\\Lib\\site-packages\\wget.py\"\u001B[0m, line \u001B[35m526\u001B[0m, in \u001B[35mdownload\u001B[0m\n",
      "    (tmpfile, headers) = \u001B[31mulib.urlretrieve\u001B[0m\u001B[1;31m(binurl, tmpfile, callback)\u001B[0m\n",
      "                         \u001B[31m~~~~~~~~~~~~~~~~\u001B[0m\u001B[1;31m^^^^^^^^^^^^^^^^^^^^^^^^^^^\u001B[0m\n",
      "  File \u001B[35m\"C:\\Users\\31987\\AppData\\Local\\Programs\\Python\\Python313\\Lib\\urllib\\request.py\"\u001B[0m, line \u001B[35m214\u001B[0m, in \u001B[35murlretrieve\u001B[0m\n",
      "    with contextlib.closing(\u001B[31murlopen\u001B[0m\u001B[1;31m(url, data)\u001B[0m) as fp:\n",
      "                            \u001B[31m~~~~~~~\u001B[0m\u001B[1;31m^^^^^^^^^^^\u001B[0m\n",
      "  File \u001B[35m\"C:\\Users\\31987\\AppData\\Local\\Programs\\Python\\Python313\\Lib\\urllib\\request.py\"\u001B[0m, line \u001B[35m189\u001B[0m, in \u001B[35murlopen\u001B[0m\n",
      "    return \u001B[31mopener.open\u001B[0m\u001B[1;31m(url, data, timeout)\u001B[0m\n",
      "           \u001B[31m~~~~~~~~~~~\u001B[0m\u001B[1;31m^^^^^^^^^^^^^^^^^^^^\u001B[0m\n",
      "  File \u001B[35m\"C:\\Users\\31987\\AppData\\Local\\Programs\\Python\\Python313\\Lib\\urllib\\request.py\"\u001B[0m, line \u001B[35m495\u001B[0m, in \u001B[35mopen\u001B[0m\n",
      "    response = meth(req, response)\n",
      "  File \u001B[35m\"C:\\Users\\31987\\AppData\\Local\\Programs\\Python\\Python313\\Lib\\urllib\\request.py\"\u001B[0m, line \u001B[35m604\u001B[0m, in \u001B[35mhttp_response\u001B[0m\n",
      "    response = self.parent.error(\n",
      "        'http', request, response, code, msg, hdrs)\n",
      "  File \u001B[35m\"C:\\Users\\31987\\AppData\\Local\\Programs\\Python\\Python313\\Lib\\urllib\\request.py\"\u001B[0m, line \u001B[35m533\u001B[0m, in \u001B[35merror\u001B[0m\n",
      "    return \u001B[31mself._call_chain\u001B[0m\u001B[1;31m(*args)\u001B[0m\n",
      "           \u001B[31m~~~~~~~~~~~~~~~~\u001B[0m\u001B[1;31m^^^^^^^\u001B[0m\n",
      "  File \u001B[35m\"C:\\Users\\31987\\AppData\\Local\\Programs\\Python\\Python313\\Lib\\urllib\\request.py\"\u001B[0m, line \u001B[35m466\u001B[0m, in \u001B[35m_call_chain\u001B[0m\n",
      "    result = func(*args)\n",
      "  File \u001B[35m\"C:\\Users\\31987\\AppData\\Local\\Programs\\Python\\Python313\\Lib\\urllib\\request.py\"\u001B[0m, line \u001B[35m613\u001B[0m, in \u001B[35mhttp_error_default\u001B[0m\n",
      "    raise HTTPError(req.full_url, code, msg, hdrs, fp)\n",
      "\u001B[1;35murllib.error.HTTPError\u001B[0m: \u001B[35mHTTP Error 403: Forbidden\u001B[0m\n"
     ]
    }
   ],
   "execution_count": 8
  },
  {
   "metadata": {
    "ExecuteTime": {
     "end_time": "2025-09-17T16:52:02.868060Z",
     "start_time": "2025-09-17T16:51:56.384837Z"
    }
   },
   "cell_type": "code",
   "source": [
    "import torch\n",
    "import matplotlib.pyplot as plt\n",
    "import numpy as np\n",
    "import cv2"
   ],
   "id": "2b45c2580136a532",
   "outputs": [],
   "execution_count": 1
  },
  {
   "metadata": {
    "ExecuteTime": {
     "end_time": "2025-09-17T16:52:08.888248Z",
     "start_time": "2025-09-17T16:52:08.884581Z"
    }
   },
   "cell_type": "code",
   "source": "print(\"torch version : {}\".format(torch.__version__))",
   "id": "5297159617bbabc0",
   "outputs": [
    {
     "name": "stdout",
     "output_type": "stream",
     "text": [
      "torch version : 2.8.0+cu128\n"
     ]
    }
   ],
   "execution_count": 2
  },
  {
   "metadata": {},
   "cell_type": "markdown",
   "source": [
    "# 1. Converting Images to Batched tensors\n",
    "\n",
    "An image is made up of pixel arrays that represent the intensity of pixels in grayscale or the color values in RGB format.\n",
    "\n",
    "When working with deep learning models, it's often necessary to convert these images into tensors, which are the primary data structures used in PyTorch for handling and processing data.\n",
    "\n",
    "* **Tensors**: In PyTorch, tensors are multi-dimensional arrays similar to NumPy arrays, but with additional capabilities for GPU acceleration and automatic differentiation. Tensors are the fundamental building blocks for representing data and parameters in neural networks.\n",
    "* **Batches**: Batching is a technique where multiple data samples (images, in this case) are grouped together into a single tensor. This allows efficient processing of multiple samples simultaneously, to take advantage of the parallel processing capabilities of modern hardware."
   ],
   "id": "c27b458260d05f7c"
  },
  {
   "metadata": {
    "ExecuteTime": {
     "end_time": "2025-09-17T16:54:04.362725Z",
     "start_time": "2025-09-17T16:54:04.183300Z"
    }
   },
   "cell_type": "code",
   "source": [
    "digit_0_array_og = cv2.imread(\"mnist_0.jpg\")\n",
    "digit_1_array_og = cv2.imread(\"mnist_1.jpg\")\n",
    "\n",
    "digit_0_array_gray = cv2.imread(\"mnist_0.jpg\",cv2.IMREAD_GRAYSCALE )\n",
    "digit_1_array_gray = cv2.imread(\"mnist_1.jpg\",cv2.IMREAD_GRAYSCALE )\n",
    "\n",
    "# Visualize the image\n",
    "\n",
    "fig, axs = plt.subplots(1,2, figsize=(10,5))\n",
    "\n",
    "\n",
    "axs[0].imshow(digit_0_array_og, cmap='gray',interpolation='none')\n",
    "axs[0].set_title(\"Digit 0 Image\")\n",
    "axs[0].axis('off')\n",
    "\n",
    "axs[1].imshow(digit_1_array_og, cmap=\"gray\", interpolation = 'none')\n",
    "axs[1].set_title(\"Digit 1 Image\")\n",
    "axs[1].axis('off')\n",
    "\n",
    "plt.show()"
   ],
   "id": "d4a8c91d2781b71f",
   "outputs": [
    {
     "data": {
      "text/plain": [
       "<Figure size 1000x500 with 2 Axes>"
      ],
      "image/png": "[encoded data removed]"
     },
     "metadata": {},
     "output_type": "display_data"
    }
   ],
   "execution_count": 3
  },
  {
   "metadata": {
    "ExecuteTime": {
     "end_time": "2025-09-17T16:59:07.088224Z",
     "start_time": "2025-09-17T16:59:07.084983Z"
    }
   },
   "cell_type": "code",
   "source": [
    "#Numpy array with three channels\n",
    "print(\"Image array shape: \",digit_0_array_og.shape)\n",
    "print(f\"Min pixel value:{np.min(digit_0_array_og)} ; Max pixel value : {np.max(digit_0_array_og)}\")"
   ],
   "id": "4871bd4153be0dd0",
   "outputs": [
    {
     "name": "stdout",
     "output_type": "stream",
     "text": [
      "Image array shape:  (28, 28, 3)\n",
      "Min pixel value:0 ; Max pixel value : 255\n"
     ]
    }
   ],
   "execution_count": 4
  },
  {
   "metadata": {
    "ExecuteTime": {
     "end_time": "2025-09-17T16:59:33.328482Z",
     "start_time": "2025-09-17T16:59:33.323316Z"
    }
   },
   "cell_type": "code",
   "source": [
    "# We will have a look at 28x28 single channel image's pixel values\n",
    "digit_0_array_gray"
   ],
   "id": "a34d7fd1d101067f",
   "outputs": [
    {
     "data": {
      "text/plain": [
       "array([[  0,   0,   0,   0,   7,   1,   0,   3,   0,  18,   0,   3,   0,\n",
       "          0,   3,   0,   0,   9,   0,   2,   0,  11,   0,   1,   0,   0,\n",
       "          0,   0],\n",
       "       [  0,   7,   7,   0,   0,   0,   0,   0,   2,   8,   0,   4,   0,\n",
       "          0,   0,   6,   4,   0,   2,   3,   2,   0,   0,  11,   0,   0,\n",
       "          0,   0],\n",
       "       [  1,   0,   2,   6,   4,   9,   9,   0,   0,   2,   0,   3,   1,\n",
       "         15,   0,   2,  16,   0,   2,   7,   0,   0,  22,   0,   0,   0,\n",
       "          0,   0],\n",
       "       [ 12,   0,   0,   8,   1,   0,   0,   0,   2,   0,   0,   0,   0,\n",
       "         14,   0,   0,   0,   7,   9,   0,   7,   0,   0,   0,   0,   0,\n",
       "          0,   0],\n",
       "       [  0,   0,   3,   5,   0,   0,   4,  16,   0,  10,  14,   6,  29,\n",
       "        122, 182, 255, 255, 152,  66,  26,   0,   0,  15,   0,   0,   0,\n",
       "          0,   0],\n",
       "       [  0,   7,   5,   0,   9,  12,   0,   0,   4,   0,  49, 184, 255,\n",
       "        255, 232, 255, 255, 231, 246, 227,  64,   0,   0,   4,   0,   0,\n",
       "          0,   0],\n",
       "       [  2,  15,   0,   0,   6,   0,   0,  13,   6, 148, 241, 255, 248,\n",
       "        236, 194, 151, 192, 253, 252, 244, 231, 121,   5,   6,   0,   0,\n",
       "          0,   0],\n",
       "       [  0,   7,   0,   0,   7,   0,  51, 191, 223, 254, 247, 248, 148,\n",
       "         30,   0,   6,  24,   0,  32, 116, 235, 255, 166,   0,   0,   0,\n",
       "          0,   0],\n",
       "       [  0,   4,   0,   0,  10,   0, 132, 246, 255, 247, 199,  77,   0,\n",
       "          0,   2,   0,   0,   7,   0,   0,  60, 238, 226,  46,   2,   0,\n",
       "          1,   5],\n",
       "       [  0,   0,   4,   0,  14,  59, 203, 255, 255, 201,  45,   1,  15,\n",
       "          0,   0,   1,   0,   4,   2,   0,   0, 137, 246, 169,   7,   0,\n",
       "          0,   4],\n",
       "       [  2,   0,   9,   0,   4, 127, 252, 252, 198,  32,   0,   0,   0,\n",
       "          5,   0,   3,   4,   0,   0,   1,   5,  78, 255, 222,  16,   1,\n",
       "          0,   3],\n",
       "       [  5,   0,   8,   0,   0, 150, 254, 247,  46,   7,   0,   8,   9,\n",
       "          0,   4,   3,   3,   0,   0,   4,   0,  19, 248, 254,  25,   4,\n",
       "          0,   2],\n",
       "       [  0,   1,   2,   0,   1, 150, 246, 255,  17,   9,   0,   4,   0,\n",
       "          0,   9,   0,   0,   0,   0,   6,   0,  46, 254, 255,  30,   5,\n",
       "          0,   2],\n",
       "       [  0,   1,   0,   0,   6, 139, 241, 251,  43,   0,  15,   6,   0,\n",
       "          9,   7,   0,   0,   0,   0,   3,  19, 120, 255, 240,  31,   5,\n",
       "          0,   3],\n",
       "       [  2,   0,   0,   2,   1, 133, 249, 197,   0,  27,   0,   0,  18,\n",
       "          0,   0,   8,   0,   7,   1,   0,   0, 153, 245, 255,  29,   3,\n",
       "          0,   5],\n",
       "       [  6,   0,   0,   4,   0, 142, 255, 156,   1,   0,   4,   0,   0,\n",
       "          6,   0,   0,   0,   3,   0,  10,  45, 245, 255, 250,  26,   2,\n",
       "          0,   6],\n",
       "       [  0,   0,   0,   0,   5, 152, 239,  63,   0,  14,   0,   4,   0,\n",
       "          1,   8,   0,   9,   0,   0,   5, 236, 255, 255, 152,   0,   0,\n",
       "          0,   0],\n",
       "       [  0,   9,  11,   0,   1, 126, 255,  59,   0,   1,   0,   5,   0,\n",
       "          1,   2,   0,   0,   0,  27, 169, 255, 247, 217,  26,   0,   0,\n",
       "          0,   0],\n",
       "       [  0,   0,   2,   0,  25,  97, 248,  83,   7,   0,   6,   0,   1,\n",
       "          0,   0,   0,   5,  47, 171, 255, 243, 255, 148,   0,   0,   0,\n",
       "          0,   0],\n",
       "       [  2,   0,  10,   0,   0,  13, 219, 255,  15,   0,  11,   0,   9,\n",
       "          6,   0,   7,  97, 239, 249, 243, 255, 163,  46,   0,   0,   0,\n",
       "          0,   0],\n",
       "       [ 15,   0,   0,   2,   6,   0, 100, 232, 246, 166, 104,  24,  32,\n",
       "         72, 128, 180, 245, 247, 255, 255, 174,   4,   0,   0,   0,   0,\n",
       "          0,   0],\n",
       "       [  0,   0,   8,   3,   0,   2,  63, 226, 254, 248, 255, 246, 255,\n",
       "        255, 255, 255, 255, 255, 237,  88,  13,  13,   0,  17,   0,   0,\n",
       "          0,   0],\n",
       "       [  0,   2,   0,   0,   0,   0,   0,  18, 199, 235, 250, 255, 255,\n",
       "        255, 255, 242, 255, 169,  43,  18,   0,   0,  11,   0,   0,   0,\n",
       "          0,   0],\n",
       "       [  2,   5,   0,   4,   1,   5,   8,   0,   9, 104, 169, 241, 248,\n",
       "        255, 247, 220,  95,  10,   7,   0,   0,   0,   0,   0,   0,   0,\n",
       "          0,   0],\n",
       "       [  0,   0,   0,   0,   0,   0,   0,   0,   0,   0,   0,   0,   0,\n",
       "          0,   0,   0,   0,   0,   0,   0,   0,   0,   0,   0,   0,   0,\n",
       "          0,   0],\n",
       "       [  0,   0,   0,   0,   0,   0,   0,   0,   0,   0,   0,   0,   0,\n",
       "          0,   0,   0,   0,   0,   0,   0,   0,   0,   0,   0,   0,   0,\n",
       "          0,   0],\n",
       "       [  0,   0,   0,   0,   0,   0,   0,   0,   0,   0,   0,   0,   0,\n",
       "          0,   0,   0,   0,   0,   0,   0,   0,   0,   0,   0,   0,   0,\n",
       "          0,   0],\n",
       "       [  0,   0,   0,   0,   0,   0,   0,   0,   0,   0,   0,   0,   0,\n",
       "          0,   0,   0,   0,   0,   0,   0,   0,   0,   0,   0,   0,   0,\n",
       "          0,   0]], dtype=uint8)"
      ]
     },
     "execution_count": 5,
     "metadata": {},
     "output_type": "execute_result"
    }
   ],
   "execution_count": 5
  },
  {
   "metadata": {},
   "cell_type": "markdown",
   "source": "### 1.1. Convert Numpy array to Torch tensors",
   "id": "45908a78650b1540"
  },
  {
   "metadata": {
    "ExecuteTime": {
     "end_time": "2025-09-17T17:01:03.475153Z",
     "start_time": "2025-09-17T17:01:03.375370Z"
    }
   },
   "cell_type": "code",
   "source": [
    "# Convert the images to PyTorch tensors and normalize\n",
    "img_tensor_0 = torch.tensor(digit_0_array_og, dtype=torch.float32) / 255.0\n",
    "img_tensor_1 = torch.tensor(digit_1_array_og, dtype=torch.float32) / 255.0\n",
    "\n",
    "print(\"Shape of Normalised Digit 0 Tensor: \", img_tensor_0.shape)\n",
    "print(f\"Normalised Min pixel value: {torch.min(img_tensor_0)} ; Normalised Max pixel value : {torch.max(img_tensor_0)}\")\n",
    "\n",
    "plt.imshow(img_tensor_0,cmap=\"gray\")\n",
    "plt.title(\"Normalised Digit 0 Image\")\n",
    "plt.axis('off')\n",
    "plt.show()"
   ],
   "id": "678c88d6d498d500",
   "outputs": [
    {
     "name": "stdout",
     "output_type": "stream",
     "text": [
      "Shape of Normalised Digit 0 Tensor:  torch.Size([28, 28, 3])\n",
      "Normalised Min pixel value: 0.0 ; Normalised Max pixel value : 1.0\n"
     ]
    },
    {
     "data": {
      "text/plain": [
       "<Figure size 640x480 with 1 Axes>"
      ],
      "image/png": "[encoded data removed]"
     },
     "metadata": {},
     "output_type": "display_data"
    }
   ],
   "execution_count": 6
  },
  {
   "metadata": {},
   "cell_type": "markdown",
   "source": "### 1.2. Creating Input Batch",
   "id": "7ad9c18b36f92175"
  },
  {
   "metadata": {
    "ExecuteTime": {
     "end_time": "2025-09-17T17:02:08.103776Z",
     "start_time": "2025-09-17T17:02:08.099593Z"
    }
   },
   "cell_type": "code",
   "source": [
    "batch_tensor = torch.stack([img_tensor_0, img_tensor_1])\n",
    "\n",
    "# In PyTorch the forward pass of input images to the model is expected to have a batch_size > 1\n",
    "print(\"Batch Tensor Shape:\", batch_tensor.shape)"
   ],
   "id": "d1b2d7464026bbff",
   "outputs": [
    {
     "name": "stdout",
     "output_type": "stream",
     "text": [
      "Batch Tensor Shape: torch.Size([2, 28, 28, 3])\n"
     ]
    }
   ],
   "execution_count": 7
  },
  {
   "metadata": {},
   "cell_type": "markdown",
   "source": [
    "Additionally in PyTorch, image tensors typically follow the shape convention **[N\n",
    ",C ,H ,W]** unlike tensorflow which follows [N, H, W, C].\n",
    "\n",
    "Therefore, we need to bring the color channel to the second dimension. This can be achieved using either `torch.view()` or `torch.permute()`."
   ],
   "id": "867e9a6df90e2ebb"
  },
  {
   "metadata": {
    "ExecuteTime": {
     "end_time": "2025-09-17T17:02:58.016636Z",
     "start_time": "2025-09-17T17:02:57.995839Z"
    }
   },
   "cell_type": "code",
   "source": [
    "batch_input = batch_tensor.permute(0,3,1,2)\n",
    "print(\"Batch Tensor Shape:\", batch_input.shape)"
   ],
   "id": "26fdfcd0ddb41a56",
   "outputs": [
    {
     "name": "stdout",
     "output_type": "stream",
     "text": [
      "Batch Tensor Shape: torch.Size([2, 3, 28, 28])\n"
     ]
    }
   ],
   "execution_count": 8
  },
  {
   "metadata": {},
   "cell_type": "markdown",
   "source": [
    "# 2. Introduction to Tensors and its Operations\n",
    "\n",
    "We have seen the importance of tensors, now will understand it from ground up.\n",
    "Tensor is simply a fancy name given to matrices. If you are familiar with NumPy arrays, understanding and using PyTorch Tensors will be very easy. A scalar value is represented by a 0-dimensional Tensor. Similarly, a column/row matrix is represented using a 1-D Tensor and so on. Some examples of Tensors with different dimensions are shown for you to visualize and understand.\n",
    "\n",
    "<img src=https://learnopencv.com/wp-content/uploads/2019/05/PyTorch-Tensors.jpg width = 400 height=350>\n",
    "\n",
    "## 2.1. Construct your first Tensor\n",
    "\n",
    "Let’s see how we can create a PyTorch Tensor."
   ],
   "id": "6bde579987552825"
  },
  {
   "metadata": {
    "ExecuteTime": {
     "end_time": "2025-09-17T17:03:48.225276Z",
     "start_time": "2025-09-17T17:03:48.185390Z"
    }
   },
   "cell_type": "code",
   "source": [
    "# Create a Tensor with just ones in a column\n",
    "a = torch.ones(5)\n",
    "# Print the tensor we created\n",
    "print(a)\n",
    "\n",
    "# Create a Tensor with just zeros in a column\n",
    "b = torch.zeros(5)\n",
    "print(b)"
   ],
   "id": "573b2a8ffb15b63",
   "outputs": [
    {
     "name": "stdout",
     "output_type": "stream",
     "text": [
      "tensor([1., 1., 1., 1., 1.])\n",
      "tensor([0., 0., 0., 0., 0.])\n"
     ]
    }
   ],
   "execution_count": 9
  },
  {
   "metadata": {},
   "cell_type": "markdown",
   "source": "We can similarly create Tensor with custom values as shown below.",
   "id": "bd1b1c32cdeec7b0"
  },
  {
   "metadata": {
    "ExecuteTime": {
     "end_time": "2025-09-17T17:04:22.140366Z",
     "start_time": "2025-09-17T17:04:22.126594Z"
    }
   },
   "cell_type": "code",
   "source": [
    "c = torch.tensor([1.0, 2.0, 3.0, 4.0, 5.0])\n",
    "print(c)"
   ],
   "id": "ec7c4adf122f4dc8",
   "outputs": [
    {
     "name": "stdout",
     "output_type": "stream",
     "text": [
      "tensor([1., 2., 3., 4., 5.])\n"
     ]
    }
   ],
   "execution_count": 10
  },
  {
   "metadata": {},
   "cell_type": "markdown",
   "source": "In all the above cases, we have created vectors or Tensors of dimension 1. Now, let’s create some tensors of higher dimension.",
   "id": "ae00eec5315047f1"
  },
  {
   "metadata": {
    "ExecuteTime": {
     "end_time": "2025-09-17T17:04:49.992534Z",
     "start_time": "2025-09-17T17:04:49.985767Z"
    }
   },
   "cell_type": "code",
   "source": [
    "d = torch.zeros(3,2)\n",
    "print(d)\n",
    "\n",
    "e = torch.ones(3,2)\n",
    "print(e)\n",
    "\n",
    "f = torch.tensor([[1.0, 2.0],[3.0, 4.0]])\n",
    "print(f)\n",
    "\n",
    "# 3D Tensor\n",
    "g = torch.tensor([[[1., 2.], [3., 4.]], [[5., 6.], [7., 8.]]])\n",
    "print(g)"
   ],
   "id": "4e5ade2f601e949c",
   "outputs": [
    {
     "name": "stdout",
     "output_type": "stream",
     "text": [
      "tensor([[0., 0.],\n",
      "        [0., 0.],\n",
      "        [0., 0.]])\n",
      "tensor([[1., 1.],\n",
      "        [1., 1.],\n",
      "        [1., 1.]])\n",
      "tensor([[1., 2.],\n",
      "        [3., 4.]])\n",
      "tensor([[[1., 2.],\n",
      "         [3., 4.]],\n",
      "\n",
      "        [[5., 6.],\n",
      "         [7., 8.]]])\n"
     ]
    }
   ],
   "execution_count": 11
  },
  {
   "metadata": {},
   "cell_type": "markdown",
   "source": "We can also find out the shape of a Tensor using **`.shape`** method.",
   "id": "e4406ed2733b2e18"
  },
  {
   "metadata": {
    "ExecuteTime": {
     "end_time": "2025-09-17T17:05:33.904623Z",
     "start_time": "2025-09-17T17:05:33.901317Z"
    }
   },
   "cell_type": "code",
   "source": [
    "print(f.shape)\n",
    "\n",
    "print(e.shape)\n",
    "\n",
    "print(g.shape)"
   ],
   "id": "7389fe5477ef79ff",
   "outputs": [
    {
     "name": "stdout",
     "output_type": "stream",
     "text": [
      "torch.Size([2, 2])\n",
      "torch.Size([3, 2])\n",
      "torch.Size([2, 2, 2])\n"
     ]
    }
   ],
   "execution_count": 12
  },
  {
   "metadata": {},
   "cell_type": "markdown",
   "source": [
    "## 2.2. Access an element in Tensor\n",
    "\n",
    "Now that we have created some tensors, let’s see how we can access an element in a Tensor. First let’s see how to do this for 1D Tensor aka vector."
   ],
   "id": "413329d4bb634861"
  },
  {
   "metadata": {
    "ExecuteTime": {
     "end_time": "2025-09-17T17:06:05.574272Z",
     "start_time": "2025-09-17T17:06:05.571053Z"
    }
   },
   "cell_type": "code",
   "source": [
    "# Get element at index 2\n",
    "print(c[2])"
   ],
   "id": "b123e655850b4d33",
   "outputs": [
    {
     "name": "stdout",
     "output_type": "stream",
     "text": [
      "tensor(3.)\n"
     ]
    }
   ],
   "execution_count": 13
  },
  {
   "metadata": {},
   "cell_type": "markdown",
   "source": [
    "What about 2D or 3D Tensor? Recall what we mentioned about **dimension of a tensor**.\n",
    "\n",
    "To access one particular element in a tensor, we will need to specify indices equal to the dimension of the tensor. That’s why for tensor **`c`** we only had to specify one index."
   ],
   "id": "26d94628cfbaf3ae"
  },
  {
   "metadata": {
    "ExecuteTime": {
     "end_time": "2025-09-17T17:06:25.682997Z",
     "start_time": "2025-09-17T17:06:25.677850Z"
    }
   },
   "cell_type": "code",
   "source": [
    "# All indices starting from 0\n",
    "\n",
    "# Get element at row 1, column 0\n",
    "print(f[1,0])\n",
    "\n",
    "# We can also use the following\n",
    "print(f[1][0])\n",
    "\n",
    "# Similarly for 3D Tensor\n",
    "print(g[1,0,0])\n",
    "print(g[1][0][0])"
   ],
   "id": "53c78fb413079de7",
   "outputs": [
    {
     "name": "stdout",
     "output_type": "stream",
     "text": [
      "tensor(3.)\n",
      "tensor(3.)\n",
      "tensor(5.)\n",
      "tensor(5.)\n"
     ]
    }
   ],
   "execution_count": 14
  },
  {
   "metadata": {},
   "cell_type": "markdown",
   "source": "But what if you wanted to access one entire row in a 2D Tensor?",
   "id": "a93c5e2aa69e7d10"
  },
  {
   "metadata": {
    "ExecuteTime": {
     "end_time": "2025-09-17T17:06:53.939627Z",
     "start_time": "2025-09-17T17:06:53.901306Z"
    }
   },
   "cell_type": "code",
   "source": [
    "# All elements\n",
    "print(f[:])\n",
    "\n",
    "# All elements from index 1 to 2 (excluding element 3)\n",
    "print(c[1:3])\n",
    "\n",
    "# All elements till index 4 (exclusive)\n",
    "print(c[:4])\n",
    "\n",
    "# First row\n",
    "print(f[0, :])\n",
    "\n",
    "# Second column\n",
    "print(f[:,1])"
   ],
   "id": "c1d01b5e06d2ba59",
   "outputs": [
    {
     "name": "stdout",
     "output_type": "stream",
     "text": [
      "tensor([[1., 2.],\n",
      "        [3., 4.]])\n",
      "tensor([2., 3.])\n",
      "tensor([1., 2., 3., 4.])\n",
      "tensor([1., 2.])\n",
      "tensor([2., 4.])\n"
     ]
    }
   ],
   "execution_count": 15
  },
  {
   "metadata": {},
   "cell_type": "markdown",
   "source": [
    "## 2.3. Specify data type of elements\n",
    "\n",
    "Whenever we create a tensor, PyTorch decides the data type of the elements of the tensor such that the data type can cover all the elements of the tensor. We can override this by specifying the data type while creating the tensor."
   ],
   "id": "cd6d3f522f0c4195"
  },
  {
   "metadata": {
    "ExecuteTime": {
     "end_time": "2025-09-17T17:07:59.082752Z",
     "start_time": "2025-09-17T17:07:59.071994Z"
    }
   },
   "cell_type": "code",
   "source": [
    "int_tensor = torch.tensor([[1,2,3],[4,5,6]])\n",
    "print(int_tensor.dtype)\n",
    "\n",
    "# What if we changed any one element to floating point number?\n",
    "int_tensor = torch.tensor([[1,2,3],[4.,5,6]])\n",
    "print(int_tensor.dtype)\n",
    "print(int_tensor)\n",
    "\n",
    "# This can be overridden as follows\n",
    "float_tensor = torch.tensor([[1, 2, 3],[4., 5, 6]])\n",
    "int_tensor = float_tensor.type(torch.int64) # set data type\n",
    "print(int_tensor.dtype)\n",
    "print(int_tensor)"
   ],
   "id": "f7477c8d06a18d58",
   "outputs": [
    {
     "name": "stdout",
     "output_type": "stream",
     "text": [
      "torch.int64\n",
      "torch.float32\n",
      "tensor([[1., 2., 3.],\n",
      "        [4., 5., 6.]])\n",
      "torch.int64\n",
      "tensor([[1, 2, 3],\n",
      "        [4, 5, 6]])\n"
     ]
    }
   ],
   "execution_count": 16
  },
  {
   "metadata": {},
   "cell_type": "markdown",
   "source": [
    "## 2.4. Tensor to/from NumPy Array\n",
    "\n",
    "We have mentioned several times that PyTorch Tensors and NumPy arrays are pretty similar. This of course demands the question if it’s possible to convert one data structure into another. Let’s see how we can do this."
   ],
   "id": "5c9c96f8657ac441"
  },
  {
   "metadata": {
    "ExecuteTime": {
     "end_time": "2025-09-17T17:09:43.420173Z",
     "start_time": "2025-09-17T17:09:43.406181Z"
    }
   },
   "cell_type": "code",
   "source": [
    "# Tensor to Array\n",
    "f_numpy = f.numpy()\n",
    "print(f_numpy)\n",
    "\n",
    "# Array to Tensor\n",
    "h = np.array([[8,7,6,5],[4,3,2,1]])\n",
    "h_tensor = torch.from_numpy(h)\n",
    "print(h_tensor)"
   ],
   "id": "7e3aa293d315f334",
   "outputs": [
    {
     "name": "stdout",
     "output_type": "stream",
     "text": [
      "[[1. 2.]\n",
      " [3. 4.]]\n",
      "tensor([[8, 7, 6, 5],\n",
      "        [4, 3, 2, 1]])\n"
     ]
    }
   ],
   "execution_count": 17
  },
  {
   "metadata": {},
   "cell_type": "markdown",
   "source": [
    "## 2.5. Arithmetic Operations on Tensors\n",
    "\n",
    "Now it’s time for the next step. Let’s see how we can perform arithmetic operations on PyTorch tensors."
   ],
   "id": "6b1c801cb419ac5"
  },
  {
   "metadata": {
    "ExecuteTime": {
     "end_time": "2025-09-17T17:10:36.063302Z",
     "start_time": "2025-09-17T17:10:36.011368Z"
    }
   },
   "cell_type": "code",
   "source": [
    "# Create tensor\n",
    "tensor1 = torch.tensor([[1,2,3],[4,5,6]])\n",
    "tensor2 = torch.tensor([[-1,2,-3],[4,-5,6]])\n",
    "\n",
    "# Addition\n",
    "print(tensor1+tensor2)\n",
    "# We can also use\n",
    "print(torch.add(tensor1,tensor2))\n",
    "\n",
    "# Subtraction\n",
    "print(tensor1-tensor2)\n",
    "# We can also use\n",
    "print(torch.sub(tensor1,tensor2))\n",
    "\n",
    "# Multiplication\n",
    "# Tensor with Scalar\n",
    "print(tensor1 * 2)\n",
    "\n",
    "# Tensor with another tensor\n",
    "# Elementwise Multiplication\n",
    "print(tensor1 * tensor2)\n",
    "\n",
    "# Matrix multiplication\n",
    "tensor3 = torch.tensor([[1,2],[3,4],[5,6]])\n",
    "print(torch.mm(tensor1,tensor3))\n",
    "\n",
    "# Division\n",
    "# Tensor with scalar\n",
    "print(tensor1/2)\n",
    "\n",
    "# Tensor with another tensor\n",
    "# Elementwise division\n",
    "print(tensor1/tensor2)"
   ],
   "id": "cca4cf54bdc0c846",
   "outputs": [
    {
     "name": "stdout",
     "output_type": "stream",
     "text": [
      "tensor([[ 0,  4,  0],\n",
      "        [ 8,  0, 12]])\n",
      "tensor([[ 0,  4,  0],\n",
      "        [ 8,  0, 12]])\n",
      "tensor([[ 2,  0,  6],\n",
      "        [ 0, 10,  0]])\n",
      "tensor([[ 2,  0,  6],\n",
      "        [ 0, 10,  0]])\n",
      "tensor([[ 2,  4,  6],\n",
      "        [ 8, 10, 12]])\n",
      "tensor([[ -1,   4,  -9],\n",
      "        [ 16, -25,  36]])\n",
      "tensor([[22, 28],\n",
      "        [49, 64]])\n",
      "tensor([[0.5000, 1.0000, 1.5000],\n",
      "        [2.0000, 2.5000, 3.0000]])\n",
      "tensor([[-1.,  1., -1.],\n",
      "        [ 1., -1.,  1.]])\n"
     ]
    }
   ],
   "execution_count": 18
  },
  {
   "metadata": {},
   "cell_type": "markdown",
   "source": [
    "## 2.6. Broadcasting\n",
    "\n",
    "   - `a` is a 1-dimensional tensor with shape \\([ 3 ]\\).\n",
    "   - `b` is a scalar tensor with shape \\([ 1 ]\\).\n",
    "   - When adding `a` and `b`, PyTorch broadcasts `b` to match the shape of `a`, resulting in \\([ 1 + 4, 2 + 4, 3 + 4 ]\\)."
   ],
   "id": "879e65caf9452205"
  },
  {
   "metadata": {
    "ExecuteTime": {
     "end_time": "2025-09-17T17:13:08.939579Z",
     "start_time": "2025-09-17T17:13:08.929390Z"
    }
   },
   "cell_type": "code",
   "source": [
    "# Create two 1-dimensional tensors\n",
    "a = torch.tensor([1, 2, 3])\n",
    "b = torch.tensor([4])\n",
    "\n",
    "# adding a scalar to a vector\n",
    "result = a + b\n",
    "\n",
    "print(\"Result of Broadcasting:\\n\",result)"
   ],
   "id": "96de604d09130db",
   "outputs": [
    {
     "name": "stdout",
     "output_type": "stream",
     "text": [
      "Result of Broadcasting:\n",
      " tensor([5, 6, 7])\n"
     ]
    }
   ],
   "execution_count": 19
  },
  {
   "metadata": {},
   "cell_type": "markdown",
   "source": [
    "[Broadcasting](https://pytorch.org/docs/stable/notes/broadcasting.html#broadcasting-semantics) allows PyTorch to perform element-wise operations on tensors of\n",
    "   - `a` is a 2-dimensional tensor with shape \\([1, 3]\\).\n",
    "   - `b` is a 2-dimensional tensor with shape \\([3, 1]\\).\n",
    "   - When adding `a` and `b`, PyTorch broadcasts both tensors to the common shape \\([3, 3]\\), resulting in:\n",
    "$$\n",
    "     \\begin{bmatrix}\n",
    "     1+4 & 2+4 & 3+4 \\\\\n",
    "     1+5 & 2+5 & 3+5 \\\\\n",
    "     1+6 & 2+6 & 3+6 \\\\\n",
    "     \\end{bmatrix}\n",
    "$$"
   ],
   "id": "85cbf1332ed3808e"
  },
  {
   "metadata": {
    "ExecuteTime": {
     "end_time": "2025-09-17T17:14:21.218614Z",
     "start_time": "2025-09-17T17:14:21.214102Z"
    }
   },
   "cell_type": "code",
   "source": [
    "# Create two tensors with shapes (1, 3) and (3, 1)\n",
    "a = torch.tensor([[1, 2, 3]])\n",
    "b = torch.tensor([[4], [5], [6]])\n",
    "\n",
    "# adding tensors of different shapes\n",
    "result = a + b\n",
    "print(\"Shape: \", result.shape)\n",
    "print(\"\\n\")\n",
    "print(\"Result of Broadcasting:\\n\", result)"
   ],
   "id": "ef3ccce5989c540d",
   "outputs": [
    {
     "name": "stdout",
     "output_type": "stream",
     "text": [
      "Shape:  torch.Size([3, 3])\n",
      "\n",
      "\n",
      "Result of Broadcasting:\n",
      " tensor([[5, 6, 7],\n",
      "        [6, 7, 8],\n",
      "        [7, 8, 9]])\n"
     ]
    }
   ],
   "execution_count": 20
  },
  {
   "metadata": {},
   "cell_type": "markdown",
   "source": [
    "## 2.7. CPU v/s GPU Tensor\n",
    "\n",
    "Let’s first see how to create a tensor for GPU."
   ],
   "id": "421420893eb2d292"
  },
  {
   "metadata": {
    "ExecuteTime": {
     "end_time": "2025-09-17T17:15:38.779331Z",
     "start_time": "2025-09-17T17:15:38.582626Z"
    }
   },
   "cell_type": "code",
   "source": [
    "# Create a tensor for CPU\n",
    "# This will occupy CPU RAM\n",
    "tensor_cpu = torch.tensor([[1.0, 2.0], [3.0, 4.0], [5.0, 6.0]], device='cpu')\n",
    "\n",
    "# Create a tensor for GPU\n",
    "# This will occupy GPU RAM\n",
    "tensor_gpu = torch.tensor([[1.0, 2.0], [3.0, 4.0], [5.0, 6.0]], device='cuda')"
   ],
   "id": "daedbaf84d8d6a79",
   "outputs": [],
   "execution_count": 21
  },
  {
   "metadata": {},
   "cell_type": "markdown",
   "source": "Just like tensor creation, the operations performed for CPU and GPU tensors are also different and consume RAM corresponding to the device specified.",
   "id": "102bc66a371b0db0"
  },
  {
   "metadata": {
    "ExecuteTime": {
     "end_time": "2025-09-17T17:17:37.391941Z",
     "start_time": "2025-09-17T17:17:37.386315Z"
    }
   },
   "cell_type": "code",
   "source": [
    "# This uses CPU RAM\n",
    "%time tensor_cpu = tensor_cpu * 5\n",
    "\n",
    "# This uses GPU RAM\n",
    "# Focus on GPU RAM Consumption\n",
    "%time tensor_gpu = tensor_gpu * 5"
   ],
   "id": "5391116f3f8fc2e3",
   "outputs": [
    {
     "name": "stdout",
     "output_type": "stream",
     "text": [
      "CPU times: total: 0 ns\n",
      "Wall time: 89.6 μs\n",
      "CPU times: total: 0 ns\n",
      "Wall time: 149 μs\n"
     ]
    }
   ],
   "execution_count": 24
  },
  {
   "metadata": {},
   "cell_type": "markdown",
   "source": "We can move the GPU tensor to CPU and vice versa as shown below.",
   "id": "6a5dc18f7f750fe"
  },
  {
   "metadata": {
    "ExecuteTime": {
     "end_time": "2025-09-17T17:16:08.404821Z",
     "start_time": "2025-09-17T17:16:08.401155Z"
    }
   },
   "cell_type": "code",
   "source": [
    "# Move GPU tensor to CPU\n",
    "tensor_gpu_cpu = tensor_gpu.to(device='cpu')\n",
    "\n",
    "# Move CPU tensor to GPU\n",
    "tensor_cpu_gpu = tensor_cpu.to(device='cuda')"
   ],
   "id": "c49e083c8c1986d2",
   "outputs": [],
   "execution_count": 23
  },
  {
   "metadata": {},
   "cell_type": "markdown",
   "source": [
    "# 3. Conclusion\n",
    "\n",
    "\n",
    "In this notebook, we started with constructing simple tensors and manipulating them. Next notebook, we will understand the functionality of Torch Autograd and its role in automatic differentiation and gradient computation.\n",
    "\n",
    "\n",
    "In the upcoming notebooks, we will go deeper into backpropagation and various computer vision tasks such as Classification, Segmentation, Object Detection, and Instance Segmentation.\n",
    "\n",
    "Each notebook will provide a detailed explanation and hands-on examples to help you serve as starter notebooks to master the essential tasks in computer vision."
   ],
   "id": "dc9bae6a069e63ac"
  },
  {
   "metadata": {},
   "cell_type": "code",
   "outputs": [],
   "execution_count": null,
   "source": "",
   "id": "286fa67d6e873a99"
  }
 ],
 "metadata": {
  "kernelspec": {
   "display_name": "Python 3",
   "language": "python",
   "name": "python3"
  },
  "language_info": {
   "codemirror_mode": {
    "name": "ipython",
    "version": 2
   },
   "file_extension": ".py",
   "mimetype": "text/x-python",
   "name": "python",
   "nbconvert_exporter": "python",
   "pygments_lexer": "ipython2",
   "version": "2.7.6"
  }
 },
 "nbformat": 4,
 "nbformat_minor": 5
}
