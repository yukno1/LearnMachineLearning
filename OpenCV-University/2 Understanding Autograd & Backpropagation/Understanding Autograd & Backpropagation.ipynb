{
 "cells": [
  {
   "metadata": {},
   "cell_type": "markdown",
   "source": [
    "**Torch Autograd** is PyTorch's automatic differentiation engine that powers neural network training by computing gradients of tensor operations. It enables the easy implementation of backpropagation for optimizing complex models, making it very good and easy to use due to its seamless integration with PyTorch's dynamic computation graph, allowing flexible model training.\n",
    "\n",
    "\n",
    " <img src='https://learnopencv.com/wp-content/uploads/2024/08/Autograd-Pytorch.png' width=700 align='center'><br/>"
   ],
   "id": "a2d65da221aab5"
  },
  {
   "cell_type": "code",
   "id": "initial_id",
   "metadata": {
    "collapsed": true,
    "ExecuteTime": {
     "end_time": "2025-09-19T08:34:25.312470Z",
     "start_time": "2025-09-19T08:34:23.116458Z"
    }
   },
   "source": [
    "import torch\n",
    "import matplotlib.pyplot as plt"
   ],
   "outputs": [],
   "execution_count": 1
  },
  {
   "metadata": {},
   "cell_type": "markdown",
   "source": [
    "# 1. Automatic Differentiation with `torch.autograd`\n",
    "\n",
    "Before proceeding autograd, will understand the basic terms:\n",
    "\n",
    "- **Forward Propagation**:\n",
    "  - Computes the model's output by passing the input data through the network layers. It is often called Forward pass.\n",
    "\n",
    "- **Backward Propagation**:\n",
    "  - Calculates the gradients of the loss with respect to the model's parameters using the chain rule, enabling parameter updates to minimize the loss."
   ],
   "id": "97065039497ef3f6"
  },
  {
   "metadata": {},
   "cell_type": "markdown",
   "source": [
    "## 1.1. **torch.autograd**\n",
    "\n",
    "\n",
    "[Autograd docs](https://pytorch.org/tutorials/beginner/blitz/autograd_tutorial.html#a-gentle-introduction-to-torch-autograd)"
   ],
   "id": "a0ec338dff7a9fd9"
  },
  {
   "metadata": {},
   "cell_type": "markdown",
   "source": [
    "\n",
    "\n",
    "- We create two tensors `x` and `y` with `requires_grad=True`, indicating that we want to compute gradients for these tensors.\n",
    "\n",
    "\n",
    "\n",
    "- We perform simple operations on `x` and `y` to obtain `z`.\n",
    "\n",
    "- Computing Gradients:\n",
    "We call `z.backward()` to compute the gradients of `z` with respect to `x` and `y`. The gradients are stored in the `grad` attribute of each tensor.\n",
    "\n",
    "\n",
    "\n",
    "\n",
    "In the following example:\n",
    "\n",
    "\n",
    "- The operation is $ z = x \\cdot y + y^2 $.\n",
    "- The partial derivative of $ z $ with respect to $ x $ is $ \\frac{\\partial z}{\\partial x} = y $.\n",
    "- The partial derivative of $ z $ with respect to $ y $ is $ \\frac{\\partial z}{\\partial y} = x + 2y $.\n",
    "\n",
    "Given $ x = 2.0 $ and $ y = 3.0 $:\n",
    "\n",
    "- The gradient of $ z $ w.r.t. $ x $ is $ 3.0 $.\n",
    "- The gradient of $ z $ w.r.t. $ y $ is $ 2.0 + 2 \\cdot 3.0 = 8.0 $.\n",
    "\n",
    "Tensors that require gradients will have their operations tracked by PyTorch's autograd engine, enabling the computation of gradients during backpropagation.\n",
    "\n",
    "\n",
    "<img src=https://learnopencv.com/wp-content/uploads/2024/07/Autograd-Computation-Graph-2-2.png height = 500>\n",
    "\n",
    "\n",
    "The automatic differentiation provided by `torch.autograd` simplifies this process by handling the complex chain rule calculations needed for backpropagation through the entire network.\n",
    "\n",
    "\n",
    "\n",
    "\n",
    "\n",
    "\n",
    "For $\\frac{\\partial z}{\\partial x}$:\n",
    "\n",
    "$$\\frac{\\partial z}{\\partial x} = \\frac{\\partial z}{\\partial p} \\frac{\\partial p}{\\partial x} + \\frac{\\partial z}{\\partial q} \\frac{\\partial q}{\\partial x} = 1 \\cdot y + 1 \\cdot 0 = y$$\n",
    "\n",
    "For $\\frac{\\partial z}{\\partial y}$:\n",
    "\n",
    "$$\\frac{\\partial z}{\\partial y} = \\frac{\\partial z}{\\partial p} \\frac{\\partial p}{\\partial y} + \\frac{\\partial z}{\\partial q} \\frac{\\partial q}{\\partial y} = 1 \\cdot x + 1 \\cdot 2y = x + 2y$$\n",
    "\n",
    "These equations correspond to the chain rule calculations happening behind the scenes, demonstrating how PyTorch's autograd system computes gradients through the computational graph."
   ],
   "id": "89a1d0e938d0e64c"
  },
  {
   "metadata": {
    "ExecuteTime": {
     "end_time": "2025-09-19T08:34:25.371278Z",
     "start_time": "2025-09-19T08:34:25.336890Z"
    }
   },
   "cell_type": "code",
   "source": [
    "# Create tensors with requires_grad=True\n",
    "x = torch.tensor([2.0, 5.0], requires_grad=True)\n",
    "y = torch.tensor([3.0, 7.0], requires_grad=True)\n",
    "\n",
    "# Perform some operations\n",
    "z = x * y + y**2\n",
    "\n",
    "z.retain_grad() # By default intermediate layer weight updation is not shown.\n",
    "\n",
    "# Compute the gradients\n",
    "z_sum = z.sum().backward()\n",
    "\n",
    "\n",
    "print(f\"Gradient of x: {x.grad}\")\n",
    "print(f\"Gradient of y: {y.grad}\")\n",
    "print(f\"Gradient of z: {z.grad}\")\n",
    "print(f\"Result of the operation: z = {z.detach()}\")"
   ],
   "id": "d580bb791f00a0af",
   "outputs": [
    {
     "name": "stdout",
     "output_type": "stream",
     "text": [
      "Gradient of x: tensor([3., 7.])\n",
      "Gradient of y: tensor([ 8., 19.])\n",
      "Gradient of z: tensor([1., 1.])\n",
      "Result of the operation: z = tensor([15., 84.])\n"
     ]
    }
   ],
   "execution_count": 2
  },
  {
   "metadata": {},
   "cell_type": "markdown",
   "source": [
    "## 1.2. Gradient Computation Graph\n",
    "\n",
    "\n",
    "A computation graph is a visual representation of the sequence of operations performed on tensors in a neural network, showing how each operation contributes to the final result. It is crucial for understanding and debugging the flow of data and gradients in deep learning models.\n",
    "\n",
    "[torchviz](https://github.com/szagoruyko/pytorchviz) is a tool used to visualize the computation graph of any PyTorch model.\n",
    "\n",
    "\n",
    "<img src=https://learnopencv.com/wp-content/uploads/2024/07/Autograd-Operators-Graph-1-1.png height = 500 >\n"
   ],
   "id": "723a7e6c6fccad22"
  },
  {
   "metadata": {
    "ExecuteTime": {
     "end_time": "2025-09-19T08:34:26.480552Z",
     "start_time": "2025-09-19T08:34:25.588321Z"
    }
   },
   "cell_type": "code",
   "source": [
    "from torchviz import make_dot\n",
    "\n",
    "# Visualize the computation graph\n",
    "dot = make_dot(z, params={\"x\": x, \"y\": y, \"z\" : z})\n",
    "dot.render(\"grad_computation_graph\", format=\"png\")"
   ],
   "id": "ebce05f9d12baa4e",
   "outputs": [
    {
     "data": {
      "text/plain": [
       "'grad_computation_graph.png'"
      ]
     },
     "execution_count": 3,
     "metadata": {},
     "output_type": "execute_result"
    }
   ],
   "execution_count": 3
  },
  {
   "metadata": {
    "ExecuteTime": {
     "end_time": "2025-09-19T08:34:49.279612Z",
     "start_time": "2025-09-19T08:34:49.082358Z"
    }
   },
   "cell_type": "code",
   "source": [
    "img = plt.imread(\"grad_computation_graph.png\")\n",
    "plt.imshow(img)\n",
    "plt.axis('off')\n",
    "plt.show()"
   ],
   "id": "8e774fe76243c506",
   "outputs": [
    {
     "data": {
      "text/plain": [
       "<Figure size 640x480 with 1 Axes>"
      ],
      "image/png": "[encoded data removed]"
     },
     "metadata": {},
     "output_type": "display_data"
    }
   ],
   "execution_count": 4
  },
  {
   "metadata": {},
   "cell_type": "markdown",
   "source": [
    "## 1.3. Detaching Tensors from Computation Graph\n",
    "\n",
    "The `detach()` method is used to create a new tensor that shares storage with the original tensor but without tracking operations.\n",
    "\n",
    "When you call `detach()`, it returns a new tensor that does not require gradients.\n",
    "\n",
    "This is useful when you want to perform operations on a tensor without affecting the computation graph."
   ],
   "id": "9e137ad7814c894f"
  },
  {
   "metadata": {
    "ExecuteTime": {
     "end_time": "2025-09-19T08:43:49.612261Z",
     "start_time": "2025-09-19T08:43:49.608847Z"
    }
   },
   "cell_type": "code",
   "source": [
    "# Let's detach z from the computation graph\n",
    "print(\"Before detaching z from computation: \", z.requires_grad)\n",
    "z_det = z.detach()\n",
    "print(\"After detaching z from computation: \", z_det.requires_grad)"
   ],
   "id": "9820ea0aa929a070",
   "outputs": [
    {
     "name": "stdout",
     "output_type": "stream",
     "text": [
      "Before detaching z from computation:  True\n",
      "After detaching z from computation:  False\n"
     ]
    }
   ],
   "execution_count": 5
  },
  {
   "metadata": {},
   "cell_type": "markdown",
   "source": "##  1.4. Can Backpropagation be performed when `requires_grad=False`?",
   "id": "cbef8283e540ae2f"
  },
  {
   "metadata": {},
   "cell_type": "markdown",
   "source": [
    "Now the same tensors $x$ and $y$ are created with `requires_grad=False`.\n",
    "\n",
    "When attempting to compute the gradients using `z.backward()`, a **RuntimeError** is raised because the tensors do not require gradients, and thus do not have a `grad_fn`.\n",
    "\n",
    "In this case, since `requires_grad=False` was used, the computation graph is essentially empty, as no gradients will be tracked."
   ],
   "id": "cbd5f49645f2b928"
  },
  {
   "metadata": {
    "ExecuteTime": {
     "end_time": "2025-09-19T08:44:48.607535Z",
     "start_time": "2025-09-19T08:44:48.341797Z"
    }
   },
   "cell_type": "code",
   "source": [
    "x = torch.tensor(2.0, requires_grad=False)\n",
    "y = torch.tensor(3.0, requires_grad=False)\n",
    "\n",
    "# Perform simple operations\n",
    "z = x * y + y**2\n",
    "\n",
    "# Compute the gradients\n",
    "z.backward()"
   ],
   "id": "5192664992909d0b",
   "outputs": [
    {
     "ename": "RuntimeError",
     "evalue": "element 0 of tensors does not require grad and does not have a grad_fn",
     "output_type": "error",
     "traceback": [
      "\u001B[31m---------------------------------------------------------------------------\u001B[39m",
      "\u001B[31mRuntimeError\u001B[39m                              Traceback (most recent call last)",
      "\u001B[36mCell\u001B[39m\u001B[36m \u001B[39m\u001B[32mIn[6]\u001B[39m\u001B[32m, line 8\u001B[39m\n\u001B[32m      5\u001B[39m z = x * y + y**\u001B[32m2\u001B[39m\n\u001B[32m      7\u001B[39m \u001B[38;5;66;03m# Compute the gradients\u001B[39;00m\n\u001B[32m----> \u001B[39m\u001B[32m8\u001B[39m \u001B[43mz\u001B[49m\u001B[43m.\u001B[49m\u001B[43mbackward\u001B[49m\u001B[43m(\u001B[49m\u001B[43m)\u001B[49m\n",
      "\u001B[36mFile \u001B[39m\u001B[32mE:\\py_project\\TorchStudy\\.venv\\Lib\\site-packages\\torch\\_tensor.py:647\u001B[39m, in \u001B[36mTensor.backward\u001B[39m\u001B[34m(self, gradient, retain_graph, create_graph, inputs)\u001B[39m\n\u001B[32m    637\u001B[39m \u001B[38;5;28;01mif\u001B[39;00m has_torch_function_unary(\u001B[38;5;28mself\u001B[39m):\n\u001B[32m    638\u001B[39m     \u001B[38;5;28;01mreturn\u001B[39;00m handle_torch_function(\n\u001B[32m    639\u001B[39m         Tensor.backward,\n\u001B[32m    640\u001B[39m         (\u001B[38;5;28mself\u001B[39m,),\n\u001B[32m   (...)\u001B[39m\u001B[32m    645\u001B[39m         inputs=inputs,\n\u001B[32m    646\u001B[39m     )\n\u001B[32m--> \u001B[39m\u001B[32m647\u001B[39m \u001B[43mtorch\u001B[49m\u001B[43m.\u001B[49m\u001B[43mautograd\u001B[49m\u001B[43m.\u001B[49m\u001B[43mbackward\u001B[49m\u001B[43m(\u001B[49m\n\u001B[32m    648\u001B[39m \u001B[43m    \u001B[49m\u001B[38;5;28;43mself\u001B[39;49m\u001B[43m,\u001B[49m\u001B[43m \u001B[49m\u001B[43mgradient\u001B[49m\u001B[43m,\u001B[49m\u001B[43m \u001B[49m\u001B[43mretain_graph\u001B[49m\u001B[43m,\u001B[49m\u001B[43m \u001B[49m\u001B[43mcreate_graph\u001B[49m\u001B[43m,\u001B[49m\u001B[43m \u001B[49m\u001B[43minputs\u001B[49m\u001B[43m=\u001B[49m\u001B[43minputs\u001B[49m\n\u001B[32m    649\u001B[39m \u001B[43m\u001B[49m\u001B[43m)\u001B[49m\n",
      "\u001B[36mFile \u001B[39m\u001B[32mE:\\py_project\\TorchStudy\\.venv\\Lib\\site-packages\\torch\\autograd\\__init__.py:354\u001B[39m, in \u001B[36mbackward\u001B[39m\u001B[34m(tensors, grad_tensors, retain_graph, create_graph, grad_variables, inputs)\u001B[39m\n\u001B[32m    349\u001B[39m     retain_graph = create_graph\n\u001B[32m    351\u001B[39m \u001B[38;5;66;03m# The reason we repeat the same comment below is that\u001B[39;00m\n\u001B[32m    352\u001B[39m \u001B[38;5;66;03m# some Python versions print out the first line of a multi-line function\u001B[39;00m\n\u001B[32m    353\u001B[39m \u001B[38;5;66;03m# calls in the traceback and some print out the last line\u001B[39;00m\n\u001B[32m--> \u001B[39m\u001B[32m354\u001B[39m \u001B[43m_engine_run_backward\u001B[49m\u001B[43m(\u001B[49m\n\u001B[32m    355\u001B[39m \u001B[43m    \u001B[49m\u001B[43mtensors\u001B[49m\u001B[43m,\u001B[49m\n\u001B[32m    356\u001B[39m \u001B[43m    \u001B[49m\u001B[43mgrad_tensors_\u001B[49m\u001B[43m,\u001B[49m\n\u001B[32m    357\u001B[39m \u001B[43m    \u001B[49m\u001B[43mretain_graph\u001B[49m\u001B[43m,\u001B[49m\n\u001B[32m    358\u001B[39m \u001B[43m    \u001B[49m\u001B[43mcreate_graph\u001B[49m\u001B[43m,\u001B[49m\n\u001B[32m    359\u001B[39m \u001B[43m    \u001B[49m\u001B[43minputs_tuple\u001B[49m\u001B[43m,\u001B[49m\n\u001B[32m    360\u001B[39m \u001B[43m    \u001B[49m\u001B[43mallow_unreachable\u001B[49m\u001B[43m=\u001B[49m\u001B[38;5;28;43;01mTrue\u001B[39;49;00m\u001B[43m,\u001B[49m\n\u001B[32m    361\u001B[39m \u001B[43m    \u001B[49m\u001B[43maccumulate_grad\u001B[49m\u001B[43m=\u001B[49m\u001B[38;5;28;43;01mTrue\u001B[39;49;00m\u001B[43m,\u001B[49m\n\u001B[32m    362\u001B[39m \u001B[43m\u001B[49m\u001B[43m)\u001B[49m\n",
      "\u001B[36mFile \u001B[39m\u001B[32mE:\\py_project\\TorchStudy\\.venv\\Lib\\site-packages\\torch\\autograd\\graph.py:829\u001B[39m, in \u001B[36m_engine_run_backward\u001B[39m\u001B[34m(t_outputs, *args, **kwargs)\u001B[39m\n\u001B[32m    827\u001B[39m     unregister_hooks = _register_logging_hooks_on_whole_graph(t_outputs)\n\u001B[32m    828\u001B[39m \u001B[38;5;28;01mtry\u001B[39;00m:\n\u001B[32m--> \u001B[39m\u001B[32m829\u001B[39m     \u001B[38;5;28;01mreturn\u001B[39;00m \u001B[43mVariable\u001B[49m\u001B[43m.\u001B[49m\u001B[43m_execution_engine\u001B[49m\u001B[43m.\u001B[49m\u001B[43mrun_backward\u001B[49m\u001B[43m(\u001B[49m\u001B[43m  \u001B[49m\u001B[38;5;66;43;03m# Calls into the C++ engine to run the backward pass\u001B[39;49;00m\n\u001B[32m    830\u001B[39m \u001B[43m        \u001B[49m\u001B[43mt_outputs\u001B[49m\u001B[43m,\u001B[49m\u001B[43m \u001B[49m\u001B[43m*\u001B[49m\u001B[43margs\u001B[49m\u001B[43m,\u001B[49m\u001B[43m \u001B[49m\u001B[43m*\u001B[49m\u001B[43m*\u001B[49m\u001B[43mkwargs\u001B[49m\n\u001B[32m    831\u001B[39m \u001B[43m    \u001B[49m\u001B[43m)\u001B[49m  \u001B[38;5;66;03m# Calls into the C++ engine to run the backward pass\u001B[39;00m\n\u001B[32m    832\u001B[39m \u001B[38;5;28;01mfinally\u001B[39;00m:\n\u001B[32m    833\u001B[39m     \u001B[38;5;28;01mif\u001B[39;00m attach_logging_hooks:\n",
      "\u001B[31mRuntimeError\u001B[39m: element 0 of tensors does not require grad and does not have a grad_fn"
     ]
    }
   ],
   "execution_count": 6
  },
  {
   "metadata": {},
   "cell_type": "markdown",
   "source": [
    "# 2. Backpropagation in Neural Networks\n",
    "\n",
    "<img src=https://learnopencv.com/wp-content/uploads/2017/10/gradient-descent-2d-diagram.png>"
   ],
   "id": "9ac9a0eaea678d13"
  },
  {
   "metadata": {},
   "cell_type": "markdown",
   "source": [
    "We have understood the mathematical intuition behind and how **torch.autograd** takes care of automatic differentiation with an example.\n",
    "\n",
    "Then,\n",
    " * The loss is calculate between prediction and target using `loss(predcition,target`)\n",
    " * Then backpropagation is performed using `loss.backward()`\n",
    " * We update the new weights using `optimizer.step()`\n",
    "\n",
    "<img src=https://learnopencv.com/wp-content/uploads/2023/01/keras-linear-regression-weight-update-block-diagram.png>\n",
    "\n",
    "\n",
    "**The Weight Update Formula is:**\n",
    "\n",
    "\n",
    "$$ \\mathbf{w}_{\\text{new}} = \\mathbf{w} - \\eta \\nabla L(\\mathbf{w}) $$\n",
    "\n",
    "The gradient of $ L $ is a vector of partial derivatives:\n",
    "\n",
    "$$ \\nabla L = \\left( \\frac{\\partial L}{\\partial w_1}, \\frac{\\partial L}{\\partial w_2}, \\ldots, \\frac{\\partial L}{\\partial w_n} \\right) $$\n",
    "\n",
    "- **Current Weights $( \\mathbf{w} )$**: These are the weights of the model before the update.\n",
    "- **Learning Rate $( \\eta )$**: A hyperparameter that controls the step size of the weight update. A smaller learning rate makes the training process slower but more precise, while a larger learning rate makes the training process faster but it may sometimes overshoot the optimal solution.\n",
    "- **Gradient of the Loss $( \\nabla L(\\mathbf{w}) )$**: The partial derivatives of the loss function with respect to each weight. This indicates the direction and magnitude of the steepest ascent in the loss function.\n",
    "- **Updated Weights $(\\mathbf{w}_{\\text{new}} )$**: The new weights after applying the gradient descent step.\n",
    "\n",
    "\n",
    "After applying the updates, it's crucial to zero out the gradients. This is typically done using: `optimizer.zero_grad()`"
   ],
   "id": "4125d81b735d45e6"
  },
  {
   "metadata": {},
   "cell_type": "markdown",
   "source": [
    "Interesting, right? This is how the model learns. During training, the model iteratively adjusts its weights and biases to minimize the loss function, which measures the difference between the predicted outputs and the actual targets.\n",
    "\n",
    "This process of forward pass, gradient computation, backward pass, and parameter update is repeated for many iterations (epochs) over the entire dataset. With each iteration, the model's parameters are refined, gradually reducing the loss and improving the model's performance.\n",
    "\n",
    "In our upcoming notebooks we will understand all these concepts with hands on training."
   ],
   "id": "b10c10c0af6de923"
  },
  {
   "metadata": {},
   "cell_type": "markdown",
   "source": [
    "# 3. Conclusion\n",
    "\n",
    "We learnt how the gradients are updated mathematically with a node graph diagrams. We also visualized the computation graph using `torchviz`, providing a clear understanding of how operations are structured in PyTorch. Finally, we understood how weight updates happen during training with code, illustrating the core mechanism of model learning.\n",
    "\n",
    "While this notebook provides a great start, our full course offers detailed explanations, hands-on projects, and expert guidance to help you master PyTorch and deep learning. Join here: [Deep Learning with PyTorch Course](https://opencv.org/university/deep-learning-with-pytorch/)"
   ],
   "id": "6a835955b1b5d595"
  },
  {
   "metadata": {},
   "cell_type": "code",
   "outputs": [],
   "execution_count": null,
   "source": "",
   "id": "c21f09d0834c7245"
  }
 ],
 "metadata": {
  "kernelspec": {
   "display_name": "Python 3",
   "language": "python",
   "name": "python3"
  },
  "language_info": {
   "codemirror_mode": {
    "name": "ipython",
    "version": 2
   },
   "file_extension": ".py",
   "mimetype": "text/x-python",
   "name": "python",
   "nbconvert_exporter": "python",
   "pygments_lexer": "ipython2",
   "version": "2.7.6"
  }
 },
 "nbformat": 4,
 "nbformat_minor": 5
}
