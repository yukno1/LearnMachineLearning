{
 "cells": [
  {
   "metadata": {},
   "cell_type": "markdown",
   "source": [
    "凸性（convexity）在优化算法的设计中起到至关重要的作用，这主要是由于在这种情况下对算法进行分析和测试要容易。\\\n",
    "如果算法在凸性条件设定下的效果很差，那通常我们很难在其他条件下看到好的结果。\\\n",
    "此外，即使深度学习中的优化问题通常是非凸的，它们也经常在局部极小值附近表现出一些凸性。\\\n",
    "这可能会产生一些像 (Izmailov et al., 2018)这样比较有意思的新优化变体。"
   ],
   "id": "580ec8d71bf8476d"
  },
  {
   "cell_type": "code",
   "id": "initial_id",
   "metadata": {
    "collapsed": true,
    "ExecuteTime": {
     "end_time": "2025-05-26T02:36:44.607453Z",
     "start_time": "2025-05-26T02:36:38.473300Z"
    }
   },
   "source": [
    "%matplotlib inline\n",
    "import numpy as np\n",
    "import torch\n",
    "from D2L import d2l"
   ],
   "outputs": [],
   "execution_count": 1
  },
  {
   "metadata": {},
   "cell_type": "markdown",
   "source": "## 1 定义",
   "id": "25e2125a6ed7614"
  },
  {
   "metadata": {},
   "cell_type": "markdown",
   "source": "### 凸集",
   "id": "19f2f88da86fd7a2"
  },
  {
   "metadata": {},
   "cell_type": "markdown",
   "source": [
    "凸集（convex set）是凸性的基础。\\\n",
    "简单地说，如果对于 $\\forall a, b ∈ \\mathcal{X}$，连接a和b的线段也位于 $\\mathcal{X}$ 中，则向量空间中的一个集合 $\\mathcal{X}$ 是凸（convex）的。\\\n",
    "在数学术语上，这意味着对于 $\\forall λ ∈ [0, 1]$，我们得到\n",
    "$$\n",
    "λa+(1-λ)b\\in \\mathcal{X},\\quad a,b\\in\\mathcal{X}\\tag{11.2.1}\n",
    "$$\\\n",
    "图11.2.1里，第一组存在不包含在集合内部的线段，所以该集合是非凸的，而另外两组则没有这样的问题。"
   ],
   "id": "deaadbc46bc76792"
  },
  {
   "metadata": {},
   "cell_type": "markdown",
   "source": "<img src=\"./img/11.2.1.png\">",
   "id": "b819339daf658cdb"
  },
  {
   "metadata": {},
   "cell_type": "markdown",
   "source": [
    "接下来来看一下交集 图11.2.2。\\\n",
    "假设 $\\mathcal{X,Y}$ 是凸集，那么 $\\mathcal{X∩Y}$ 也是凸集的。\\\n",
    "现在考虑 $\\forall a, b ∈ \\mathcal{X∩Y}$，所以连接a和b的线段包含在 $\\mathcal{X,Y}$中。\\\n",
    "鉴于此，它们也需要包含在 $\\mathcal{X∩Y}$ 中，从而证明我们的定理。"
   ],
   "id": "ec5a9bfbf029a59f"
  },
  {
   "metadata": {},
   "cell_type": "markdown",
   "source": "<img src=\"./img/11.2.2.png\">",
   "id": "6c8322312b061bef"
  },
  {
   "metadata": {},
   "cell_type": "markdown",
   "source": [
    "给定凸集 $\\mathcal{X_i}$，它们的交集 $∩_i\\mathcal{X}_i$ 是凸的。\\\n",
    "但是反向是不正确的，考虑两个不相交的集合 $\\mathcal{X∩Y} = ∅$，取 $a ∈ \\mathcal{X}$ 和 $b ∈ \\mathcal{Y}$。\\\n",
    "因为$\\mathcal{X∩Y} = ∅$，在 图11.2.3中连接a和b的线段需要包含一部分既不在X 也不在Y中。\\\n",
    "因此线段也不在X ∪ Y中，因此证明了凸集的并集不一定是凸的，即非凸（nonconvex）的。"
   ],
   "id": "b16b7b606426edec"
  },
  {
   "metadata": {},
   "cell_type": "markdown",
   "source": "<img src=\"./img/11.2.3.png\">",
   "id": "ff67be371787edee"
  },
  {
   "metadata": {},
   "cell_type": "markdown",
   "source": [
    "通常，深度学习中的问题是在凸集上定义的。\\\n",
    "例如，$\\mathbb{R}^d$。\\\n",
    "在某些情况下，我们使用有界长度的变量，例如球的半径定义为 $\\{x|x ∈ \\mathbb{R}^d,∥x∥ ≤ r\\}$。"
   ],
   "id": "2bf2442d3c55c38f"
  },
  {
   "metadata": {},
   "cell_type": "markdown",
   "source": "### 凸函数",
   "id": "1d0d4f9f67e7a4e1"
  },
  {
   "metadata": {},
   "cell_type": "markdown",
   "source": [
    "给定一个凸集X ，如果对于 $\\forall x, x′ ∈ X$ 和所有 $λ ∈ [0, 1]$，函数 $f : X → R$ 是凸的，我们可以得到\n",
    "$$\n",
    "λf(x) + (1 − λ)f (x') ≥ f (λx + (1 − λ)x').\\tag{11.2.2}\n",
    "$$"
   ],
   "id": "b62520aea4a2495e"
  },
  {
   "metadata": {
    "ExecuteTime": {
     "end_time": "2025-05-26T02:37:42.190955Z",
     "start_time": "2025-05-26T02:37:42.027011Z"
    }
   },
   "cell_type": "code",
   "source": [
    "f = lambda x: 0.5 * x**2 # 凸函数\n",
    "g = lambda x: torch.cos(np.pi * x) # 非凸函数\n",
    "h = lambda x: torch.exp(0.5 * x) # 凸函数\n",
    "x, segment = torch.arange(-2, 2, 0.01), torch.tensor([-1.5, 1])\n",
    "d2l.use_svg_display()\n",
    "_, axes = d2l.plt.subplots(1, 3, figsize=(9, 3))\n",
    "for ax, func in zip(axes, [f, g, h]):\n",
    "    d2l.plot([x, segment], [func(x), func(segment)], axes=ax)\n",
    "d2l.plt.show()"
   ],
   "id": "14a41398fcd9bf1a",
   "outputs": [
    {
     "data": {
      "text/plain": [
       "<Figure size 900x300 with 3 Axes>"
      ],
      "image/svg+xml": "<?xml version=\"1.0\" encoding=\"utf-8\" standalone=\"no\"?>\n<!DOCTYPE svg PUBLIC \"-//W3C//DTD SVG 1.1//EN\"\n  \"http://www.w3.org/Graphics/SVG/1.1/DTD/svg11.dtd\">\n<svg xmlns:xlink=\"http://www.w3.org/1999/xlink\" width=\"539.503125pt\" height=\"197.398125pt\" viewBox=\"0 0 539.503125 197.398125\" xmlns=\"http://www.w3.org/2000/svg\" version=\"1.1\">\n <metadata>\n  <rdf:RDF xmlns:dc=\"http://purl.org/dc/elements/1.1/\" xmlns:cc=\"http://creativecommons.org/ns#\" xmlns:rdf=\"http://www.w3.org/1999/02/22-rdf-syntax-ns#\">\n   <cc:Work>\n    <dc:type rdf:resource=\"http://purl.org/dc/dcmitype/StillImage\"/>\n    <dc:date>2025-05-26T10:37:42.150853</dc:date>\n    <dc:format>image/svg+xml</dc:format>\n    <dc:creator>\n     <cc:Agent>\n      <dc:title>Matplotlib v3.10.3, https://matplotlib.org/</dc:title>\n     </cc:Agent>\n    </dc:creator>\n   </cc:Work>\n  </rdf:RDF>\n </metadata>\n <defs>\n  <style type=\"text/css\">*{stroke-linejoin: round; stroke-linecap: butt}</style>\n </defs>\n <g id=\"figure_1\">\n  <g id=\"patch_1\">\n   <path d=\"M 0 197.398125 \nL 539.503125 197.398125 \nL 539.503125 0 \nL 0 0 \nz\n\" style=\"fill: #ffffff\"/>\n  </g>\n  <g id=\"axes_1\">\n   <g id=\"patch_2\">\n    <path d=\"M 30.103125 173.52 \nL 177.809007 173.52 \nL 177.809007 7.2 \nL 30.103125 7.2 \nz\n\" style=\"fill: #ffffff\"/>\n   </g>\n   <g id=\"matplotlib.axis_1\">\n    <g id=\"xtick_1\">\n     <g id=\"line2d_1\">\n      <path d=\"M 36.817029 173.52 \nL 36.817029 7.2 \n\" clip-path=\"url(#pff4887f7ba)\" style=\"fill: none; stroke: #b0b0b0; stroke-width: 0.8; stroke-linecap: square\"/>\n     </g>\n     <g id=\"line2d_2\">\n      <defs>\n       <path id=\"m2f6ec898cc\" d=\"M 0 0 \nL 0 3.5 \n\" style=\"stroke: #000000; stroke-width: 0.8\"/>\n      </defs>\n      <g>\n       <use xlink:href=\"#m2f6ec898cc\" x=\"36.817029\" y=\"173.52\" style=\"stroke: #000000; stroke-width: 0.8\"/>\n      </g>\n     </g>\n     <g id=\"text_1\">\n      <!-- −2 -->\n      <g transform=\"translate(29.445935 188.118438) scale(0.1 -0.1)\">\n       <defs>\n        <path id=\"DejaVuSans-2212\" d=\"M 678 2272 \nL 4684 2272 \nL 4684 1741 \nL 678 1741 \nL 678 2272 \nz\n\" transform=\"scale(0.015625)\"/>\n        <path id=\"DejaVuSans-32\" d=\"M 1228 531 \nL 3431 531 \nL 3431 0 \nL 469 0 \nL 469 531 \nQ 828 903 1448 1529 \nQ 2069 2156 2228 2338 \nQ 2531 2678 2651 2914 \nQ 2772 3150 2772 3378 \nQ 2772 3750 2511 3984 \nQ 2250 4219 1831 4219 \nQ 1534 4219 1204 4116 \nQ 875 4013 500 3803 \nL 500 4441 \nQ 881 4594 1212 4672 \nQ 1544 4750 1819 4750 \nQ 2544 4750 2975 4387 \nQ 3406 4025 3406 3419 \nQ 3406 3131 3298 2873 \nQ 3191 2616 2906 2266 \nQ 2828 2175 2409 1742 \nQ 1991 1309 1228 531 \nz\n\" transform=\"scale(0.015625)\"/>\n       </defs>\n       <use xlink:href=\"#DejaVuSans-2212\"/>\n       <use xlink:href=\"#DejaVuSans-32\" transform=\"translate(83.789062 0)\"/>\n      </g>\n     </g>\n    </g>\n    <g id=\"xtick_2\">\n     <g id=\"line2d_3\">\n      <path d=\"M 104.124334 173.52 \nL 104.124334 7.2 \n\" clip-path=\"url(#pff4887f7ba)\" style=\"fill: none; stroke: #b0b0b0; stroke-width: 0.8; stroke-linecap: square\"/>\n     </g>\n     <g id=\"line2d_4\">\n      <g>\n       <use xlink:href=\"#m2f6ec898cc\" x=\"104.124334\" y=\"173.52\" style=\"stroke: #000000; stroke-width: 0.8\"/>\n      </g>\n     </g>\n     <g id=\"text_2\">\n      <!-- 0 -->\n      <g transform=\"translate(100.943084 188.118438) scale(0.1 -0.1)\">\n       <defs>\n        <path id=\"DejaVuSans-30\" d=\"M 2034 4250 \nQ 1547 4250 1301 3770 \nQ 1056 3291 1056 2328 \nQ 1056 1369 1301 889 \nQ 1547 409 2034 409 \nQ 2525 409 2770 889 \nQ 3016 1369 3016 2328 \nQ 3016 3291 2770 3770 \nQ 2525 4250 2034 4250 \nz\nM 2034 4750 \nQ 2819 4750 3233 4129 \nQ 3647 3509 3647 2328 \nQ 3647 1150 3233 529 \nQ 2819 -91 2034 -91 \nQ 1250 -91 836 529 \nQ 422 1150 422 2328 \nQ 422 3509 836 4129 \nQ 1250 4750 2034 4750 \nz\n\" transform=\"scale(0.015625)\"/>\n       </defs>\n       <use xlink:href=\"#DejaVuSans-30\"/>\n      </g>\n     </g>\n    </g>\n    <g id=\"xtick_3\">\n     <g id=\"line2d_5\">\n      <path d=\"M 171.43164 173.52 \nL 171.43164 7.2 \n\" clip-path=\"url(#pff4887f7ba)\" style=\"fill: none; stroke: #b0b0b0; stroke-width: 0.8; stroke-linecap: square\"/>\n     </g>\n     <g id=\"line2d_6\">\n      <g>\n       <use xlink:href=\"#m2f6ec898cc\" x=\"171.43164\" y=\"173.52\" style=\"stroke: #000000; stroke-width: 0.8\"/>\n      </g>\n     </g>\n     <g id=\"text_3\">\n      <!-- 2 -->\n      <g transform=\"translate(168.25039 188.118438) scale(0.1 -0.1)\">\n       <use xlink:href=\"#DejaVuSans-32\"/>\n      </g>\n     </g>\n    </g>\n   </g>\n   <g id=\"matplotlib.axis_2\">\n    <g id=\"ytick_1\">\n     <g id=\"line2d_7\">\n      <path d=\"M 30.103125 165.96 \nL 177.809007 165.96 \n\" clip-path=\"url(#pff4887f7ba)\" style=\"fill: none; stroke: #b0b0b0; stroke-width: 0.8; stroke-linecap: square\"/>\n     </g>\n     <g id=\"line2d_8\">\n      <defs>\n       <path id=\"m00828e1c1b\" d=\"M 0 0 \nL -3.5 0 \n\" style=\"stroke: #000000; stroke-width: 0.8\"/>\n      </defs>\n      <g>\n       <use xlink:href=\"#m00828e1c1b\" x=\"30.103125\" y=\"165.96\" style=\"stroke: #000000; stroke-width: 0.8\"/>\n      </g>\n     </g>\n     <g id=\"text_4\">\n      <!-- 0.0 -->\n      <g transform=\"translate(7.2 169.759219) scale(0.1 -0.1)\">\n       <defs>\n        <path id=\"DejaVuSans-2e\" d=\"M 684 794 \nL 1344 794 \nL 1344 0 \nL 684 0 \nL 684 794 \nz\n\" transform=\"scale(0.015625)\"/>\n       </defs>\n       <use xlink:href=\"#DejaVuSans-30\"/>\n       <use xlink:href=\"#DejaVuSans-2e\" transform=\"translate(63.623047 0)\"/>\n       <use xlink:href=\"#DejaVuSans-30\" transform=\"translate(95.410156 0)\"/>\n      </g>\n     </g>\n    </g>\n    <g id=\"ytick_2\">\n     <g id=\"line2d_9\">\n      <path d=\"M 30.103125 128.16 \nL 177.809007 128.16 \n\" clip-path=\"url(#pff4887f7ba)\" style=\"fill: none; stroke: #b0b0b0; stroke-width: 0.8; stroke-linecap: square\"/>\n     </g>\n     <g id=\"line2d_10\">\n      <g>\n       <use xlink:href=\"#m00828e1c1b\" x=\"30.103125\" y=\"128.16\" style=\"stroke: #000000; stroke-width: 0.8\"/>\n      </g>\n     </g>\n     <g id=\"text_5\">\n      <!-- 0.5 -->\n      <g transform=\"translate(7.2 131.959219) scale(0.1 -0.1)\">\n       <defs>\n        <path id=\"DejaVuSans-35\" d=\"M 691 4666 \nL 3169 4666 \nL 3169 4134 \nL 1269 4134 \nL 1269 2991 \nQ 1406 3038 1543 3061 \nQ 1681 3084 1819 3084 \nQ 2600 3084 3056 2656 \nQ 3513 2228 3513 1497 \nQ 3513 744 3044 326 \nQ 2575 -91 1722 -91 \nQ 1428 -91 1123 -41 \nQ 819 9 494 109 \nL 494 744 \nQ 775 591 1075 516 \nQ 1375 441 1709 441 \nQ 2250 441 2565 725 \nQ 2881 1009 2881 1497 \nQ 2881 1984 2565 2268 \nQ 2250 2553 1709 2553 \nQ 1456 2553 1204 2497 \nQ 953 2441 691 2322 \nL 691 4666 \nz\n\" transform=\"scale(0.015625)\"/>\n       </defs>\n       <use xlink:href=\"#DejaVuSans-30\"/>\n       <use xlink:href=\"#DejaVuSans-2e\" transform=\"translate(63.623047 0)\"/>\n       <use xlink:href=\"#DejaVuSans-35\" transform=\"translate(95.410156 0)\"/>\n      </g>\n     </g>\n    </g>\n    <g id=\"ytick_3\">\n     <g id=\"line2d_11\">\n      <path d=\"M 30.103125 90.36 \nL 177.809007 90.36 \n\" clip-path=\"url(#pff4887f7ba)\" style=\"fill: none; stroke: #b0b0b0; stroke-width: 0.8; stroke-linecap: square\"/>\n     </g>\n     <g id=\"line2d_12\">\n      <g>\n       <use xlink:href=\"#m00828e1c1b\" x=\"30.103125\" y=\"90.36\" style=\"stroke: #000000; stroke-width: 0.8\"/>\n      </g>\n     </g>\n     <g id=\"text_6\">\n      <!-- 1.0 -->\n      <g transform=\"translate(7.2 94.159219) scale(0.1 -0.1)\">\n       <defs>\n        <path id=\"DejaVuSans-31\" d=\"M 794 531 \nL 1825 531 \nL 1825 4091 \nL 703 3866 \nL 703 4441 \nL 1819 4666 \nL 2450 4666 \nL 2450 531 \nL 3481 531 \nL 3481 0 \nL 794 0 \nL 794 531 \nz\n\" transform=\"scale(0.015625)\"/>\n       </defs>\n       <use xlink:href=\"#DejaVuSans-31\"/>\n       <use xlink:href=\"#DejaVuSans-2e\" transform=\"translate(63.623047 0)\"/>\n       <use xlink:href=\"#DejaVuSans-30\" transform=\"translate(95.410156 0)\"/>\n      </g>\n     </g>\n    </g>\n    <g id=\"ytick_4\">\n     <g id=\"line2d_13\">\n      <path d=\"M 30.103125 52.56 \nL 177.809007 52.56 \n\" clip-path=\"url(#pff4887f7ba)\" style=\"fill: none; stroke: #b0b0b0; stroke-width: 0.8; stroke-linecap: square\"/>\n     </g>\n     <g id=\"line2d_14\">\n      <g>\n       <use xlink:href=\"#m00828e1c1b\" x=\"30.103125\" y=\"52.56\" style=\"stroke: #000000; stroke-width: 0.8\"/>\n      </g>\n     </g>\n     <g id=\"text_7\">\n      <!-- 1.5 -->\n      <g transform=\"translate(7.2 56.359219) scale(0.1 -0.1)\">\n       <use xlink:href=\"#DejaVuSans-31\"/>\n       <use xlink:href=\"#DejaVuSans-2e\" transform=\"translate(63.623047 0)\"/>\n       <use xlink:href=\"#DejaVuSans-35\" transform=\"translate(95.410156 0)\"/>\n      </g>\n     </g>\n    </g>\n    <g id=\"ytick_5\">\n     <g id=\"line2d_15\">\n      <path d=\"M 30.103125 14.76 \nL 177.809007 14.76 \n\" clip-path=\"url(#pff4887f7ba)\" style=\"fill: none; stroke: #b0b0b0; stroke-width: 0.8; stroke-linecap: square\"/>\n     </g>\n     <g id=\"line2d_16\">\n      <g>\n       <use xlink:href=\"#m00828e1c1b\" x=\"30.103125\" y=\"14.76\" style=\"stroke: #000000; stroke-width: 0.8\"/>\n      </g>\n     </g>\n     <g id=\"text_8\">\n      <!-- 2.0 -->\n      <g transform=\"translate(7.2 18.559219) scale(0.1 -0.1)\">\n       <use xlink:href=\"#DejaVuSans-32\"/>\n       <use xlink:href=\"#DejaVuSans-2e\" transform=\"translate(63.623047 0)\"/>\n       <use xlink:href=\"#DejaVuSans-30\" transform=\"translate(95.410156 0)\"/>\n      </g>\n     </g>\n    </g>\n   </g>\n   <g id=\"line2d_17\">\n    <path d=\"M 36.817029 14.76 \nL 40.855467 32.359681 \nL 44.55737 47.53638 \nL 48.259272 61.798321 \nL 51.96117 75.145494 \nL 55.32654 86.48551 \nL 58.691902 97.069496 \nL 62.057268 106.8975 \nL 65.086094 115.096311 \nL 68.114924 122.682777 \nL 71.143756 129.656883 \nL 73.836048 135.342002 \nL 76.528339 140.54328 \nL 79.220631 145.260719 \nL 81.912923 149.494318 \nL 84.26868 152.801821 \nL 86.624435 155.73888 \nL 88.980191 158.305501 \nL 90.999409 160.21062 \nL 93.018628 161.84358 \nL 95.037849 163.20438 \nL 97.057067 164.29302 \nL 99.076287 165.1095 \nL 101.095506 165.65382 \nL 102.778188 165.89952 \nL 104.460871 165.95622 \nL 106.143553 165.82392 \nL 107.826236 165.50262 \nL 109.845455 164.86758 \nL 111.864674 163.96038 \nL 113.883893 162.78102 \nL 115.903113 161.3295 \nL 117.922332 159.60582 \nL 119.941551 157.60998 \nL 122.297305 154.937522 \nL 124.653063 151.894619 \nL 127.008818 148.481279 \nL 129.364574 144.6975 \nL 132.056866 139.91958 \nL 134.749157 134.657821 \nL 137.441449 128.912223 \nL 140.13374 122.682786 \nL 143.16257 115.096324 \nL 146.1914 106.8975 \nL 149.220226 98.086327 \nL 152.585596 87.577918 \nL 155.950958 76.313523 \nL 159.316324 64.29312 \nL 163.018227 50.1975 \nL 166.720129 35.187121 \nL 170.422027 19.261993 \nL 171.095104 16.268222 \nL 171.095104 16.268222 \n\" clip-path=\"url(#pff4887f7ba)\" style=\"fill: none; stroke: #1f77b4; stroke-width: 1.5; stroke-linecap: square\"/>\n   </g>\n   <g id=\"line2d_18\">\n    <path d=\"M 53.643855 80.91 \nL 137.777987 128.16 \n\" clip-path=\"url(#pff4887f7ba)\" style=\"fill: none; stroke-dasharray: 5.55,2.4; stroke-dashoffset: 0; stroke: #bf00bf; stroke-width: 1.5\"/>\n   </g>\n   <g id=\"patch_3\">\n    <path d=\"M 30.103125 173.52 \nL 30.103125 7.2 \n\" style=\"fill: none; stroke: #000000; stroke-width: 0.8; stroke-linejoin: miter; stroke-linecap: square\"/>\n   </g>\n   <g id=\"patch_4\">\n    <path d=\"M 177.809007 173.52 \nL 177.809007 7.2 \n\" style=\"fill: none; stroke: #000000; stroke-width: 0.8; stroke-linejoin: miter; stroke-linecap: square\"/>\n   </g>\n   <g id=\"patch_5\">\n    <path d=\"M 30.103125 173.52 \nL 177.809007 173.52 \n\" style=\"fill: none; stroke: #000000; stroke-width: 0.8; stroke-linejoin: miter; stroke-linecap: square\"/>\n   </g>\n   <g id=\"patch_6\">\n    <path d=\"M 30.103125 7.2 \nL 177.809007 7.2 \n\" style=\"fill: none; stroke: #000000; stroke-width: 0.8; stroke-linejoin: miter; stroke-linecap: square\"/>\n   </g>\n  </g>\n  <g id=\"axes_2\">\n   <g id=\"patch_7\">\n    <path d=\"M 207.350184 173.52 \nL 355.056066 173.52 \nL 355.056066 7.2 \nL 207.350184 7.2 \nz\n\" style=\"fill: #ffffff\"/>\n   </g>\n   <g id=\"matplotlib.axis_3\">\n    <g id=\"xtick_4\">\n     <g id=\"line2d_19\">\n      <path d=\"M 214.064088 173.52 \nL 214.064088 7.2 \n\" clip-path=\"url(#p5ddebdc0b0)\" style=\"fill: none; stroke: #b0b0b0; stroke-width: 0.8; stroke-linecap: square\"/>\n     </g>\n     <g id=\"line2d_20\">\n      <g>\n       <use xlink:href=\"#m2f6ec898cc\" x=\"214.064088\" y=\"173.52\" style=\"stroke: #000000; stroke-width: 0.8\"/>\n      </g>\n     </g>\n     <g id=\"text_9\">\n      <!-- −2 -->\n      <g transform=\"translate(206.692994 188.118438) scale(0.1 -0.1)\">\n       <use xlink:href=\"#DejaVuSans-2212\"/>\n       <use xlink:href=\"#DejaVuSans-32\" transform=\"translate(83.789062 0)\"/>\n      </g>\n     </g>\n    </g>\n    <g id=\"xtick_5\">\n     <g id=\"line2d_21\">\n      <path d=\"M 281.371393 173.52 \nL 281.371393 7.2 \n\" clip-path=\"url(#p5ddebdc0b0)\" style=\"fill: none; stroke: #b0b0b0; stroke-width: 0.8; stroke-linecap: square\"/>\n     </g>\n     <g id=\"line2d_22\">\n      <g>\n       <use xlink:href=\"#m2f6ec898cc\" x=\"281.371393\" y=\"173.52\" style=\"stroke: #000000; stroke-width: 0.8\"/>\n      </g>\n     </g>\n     <g id=\"text_10\">\n      <!-- 0 -->\n      <g transform=\"translate(278.190143 188.118438) scale(0.1 -0.1)\">\n       <use xlink:href=\"#DejaVuSans-30\"/>\n      </g>\n     </g>\n    </g>\n    <g id=\"xtick_6\">\n     <g id=\"line2d_23\">\n      <path d=\"M 348.678699 173.52 \nL 348.678699 7.2 \n\" clip-path=\"url(#p5ddebdc0b0)\" style=\"fill: none; stroke: #b0b0b0; stroke-width: 0.8; stroke-linecap: square\"/>\n     </g>\n     <g id=\"line2d_24\">\n      <g>\n       <use xlink:href=\"#m2f6ec898cc\" x=\"348.678699\" y=\"173.52\" style=\"stroke: #000000; stroke-width: 0.8\"/>\n      </g>\n     </g>\n     <g id=\"text_11\">\n      <!-- 2 -->\n      <g transform=\"translate(345.497449 188.118438) scale(0.1 -0.1)\">\n       <use xlink:href=\"#DejaVuSans-32\"/>\n      </g>\n     </g>\n    </g>\n   </g>\n   <g id=\"matplotlib.axis_4\">\n    <g id=\"ytick_6\">\n     <g id=\"line2d_25\">\n      <path d=\"M 207.350184 165.96 \nL 355.056066 165.96 \n\" clip-path=\"url(#p5ddebdc0b0)\" style=\"fill: none; stroke: #b0b0b0; stroke-width: 0.8; stroke-linecap: square\"/>\n     </g>\n     <g id=\"line2d_26\">\n      <g>\n       <use xlink:href=\"#m00828e1c1b\" x=\"207.350184\" y=\"165.96\" style=\"stroke: #000000; stroke-width: 0.8\"/>\n      </g>\n     </g>\n     <g id=\"text_12\">\n      <!-- −1.0 -->\n      <g transform=\"translate(176.067371 169.759219) scale(0.1 -0.1)\">\n       <use xlink:href=\"#DejaVuSans-2212\"/>\n       <use xlink:href=\"#DejaVuSans-31\" transform=\"translate(83.789062 0)\"/>\n       <use xlink:href=\"#DejaVuSans-2e\" transform=\"translate(147.412109 0)\"/>\n       <use xlink:href=\"#DejaVuSans-30\" transform=\"translate(179.199219 0)\"/>\n      </g>\n     </g>\n    </g>\n    <g id=\"ytick_7\">\n     <g id=\"line2d_27\">\n      <path d=\"M 207.350184 128.16 \nL 355.056066 128.16 \n\" clip-path=\"url(#p5ddebdc0b0)\" style=\"fill: none; stroke: #b0b0b0; stroke-width: 0.8; stroke-linecap: square\"/>\n     </g>\n     <g id=\"line2d_28\">\n      <g>\n       <use xlink:href=\"#m00828e1c1b\" x=\"207.350184\" y=\"128.16\" style=\"stroke: #000000; stroke-width: 0.8\"/>\n      </g>\n     </g>\n     <g id=\"text_13\">\n      <!-- −0.5 -->\n      <g transform=\"translate(176.067371 131.959219) scale(0.1 -0.1)\">\n       <use xlink:href=\"#DejaVuSans-2212\"/>\n       <use xlink:href=\"#DejaVuSans-30\" transform=\"translate(83.789062 0)\"/>\n       <use xlink:href=\"#DejaVuSans-2e\" transform=\"translate(147.412109 0)\"/>\n       <use xlink:href=\"#DejaVuSans-35\" transform=\"translate(179.199219 0)\"/>\n      </g>\n     </g>\n    </g>\n    <g id=\"ytick_8\">\n     <g id=\"line2d_29\">\n      <path d=\"M 207.350184 90.36 \nL 355.056066 90.36 \n\" clip-path=\"url(#p5ddebdc0b0)\" style=\"fill: none; stroke: #b0b0b0; stroke-width: 0.8; stroke-linecap: square\"/>\n     </g>\n     <g id=\"line2d_30\">\n      <g>\n       <use xlink:href=\"#m00828e1c1b\" x=\"207.350184\" y=\"90.36\" style=\"stroke: #000000; stroke-width: 0.8\"/>\n      </g>\n     </g>\n     <g id=\"text_14\">\n      <!-- 0.0 -->\n      <g transform=\"translate(184.447059 94.159219) scale(0.1 -0.1)\">\n       <use xlink:href=\"#DejaVuSans-30\"/>\n       <use xlink:href=\"#DejaVuSans-2e\" transform=\"translate(63.623047 0)\"/>\n       <use xlink:href=\"#DejaVuSans-30\" transform=\"translate(95.410156 0)\"/>\n      </g>\n     </g>\n    </g>\n    <g id=\"ytick_9\">\n     <g id=\"line2d_31\">\n      <path d=\"M 207.350184 52.56 \nL 355.056066 52.56 \n\" clip-path=\"url(#p5ddebdc0b0)\" style=\"fill: none; stroke: #b0b0b0; stroke-width: 0.8; stroke-linecap: square\"/>\n     </g>\n     <g id=\"line2d_32\">\n      <g>\n       <use xlink:href=\"#m00828e1c1b\" x=\"207.350184\" y=\"52.56\" style=\"stroke: #000000; stroke-width: 0.8\"/>\n      </g>\n     </g>\n     <g id=\"text_15\">\n      <!-- 0.5 -->\n      <g transform=\"translate(184.447059 56.359219) scale(0.1 -0.1)\">\n       <use xlink:href=\"#DejaVuSans-30\"/>\n       <use xlink:href=\"#DejaVuSans-2e\" transform=\"translate(63.623047 0)\"/>\n       <use xlink:href=\"#DejaVuSans-35\" transform=\"translate(95.410156 0)\"/>\n      </g>\n     </g>\n    </g>\n    <g id=\"ytick_10\">\n     <g id=\"line2d_33\">\n      <path d=\"M 207.350184 14.76 \nL 355.056066 14.76 \n\" clip-path=\"url(#p5ddebdc0b0)\" style=\"fill: none; stroke: #b0b0b0; stroke-width: 0.8; stroke-linecap: square\"/>\n     </g>\n     <g id=\"line2d_34\">\n      <g>\n       <use xlink:href=\"#m00828e1c1b\" x=\"207.350184\" y=\"14.76\" style=\"stroke: #000000; stroke-width: 0.8\"/>\n      </g>\n     </g>\n     <g id=\"text_16\">\n      <!-- 1.0 -->\n      <g transform=\"translate(184.447059 18.559219) scale(0.1 -0.1)\">\n       <use xlink:href=\"#DejaVuSans-31\"/>\n       <use xlink:href=\"#DejaVuSans-2e\" transform=\"translate(63.623047 0)\"/>\n       <use xlink:href=\"#DejaVuSans-30\" transform=\"translate(95.410156 0)\"/>\n      </g>\n     </g>\n    </g>\n   </g>\n   <g id=\"line2d_35\">\n    <path d=\"M 214.064088 14.76 \nL 214.73716 14.909179 \nL 215.410232 15.356127 \nL 216.083305 16.099077 \nL 216.756381 17.135113 \nL 217.76599 19.229413 \nL 218.775598 21.955074 \nL 219.785207 25.287884 \nL 221.131352 30.624264 \nL 222.477501 36.90271 \nL 224.160182 45.923418 \nL 226.179403 58.171073 \nL 228.871693 76.193931 \nL 235.938961 124.681663 \nL 237.958182 136.69576 \nL 239.640863 145.470019 \nL 240.987008 151.521667 \nL 242.333153 156.608774 \nL 243.342766 159.742252 \nL 244.352374 162.25987 \nL 245.361983 164.139306 \nL 246.035059 165.02924 \nL 246.708132 165.624484 \nL 247.381204 165.922694 \nL 248.054279 165.922694 \nL 248.727351 165.624484 \nL 249.400423 165.02924 \nL 250.073496 164.139306 \nL 250.74657 162.958204 \nL 251.756179 160.651107 \nL 252.765787 157.720098 \nL 253.775398 154.191196 \nL 255.121543 148.610814 \nL 256.46769 142.111763 \nL 258.150371 132.853516 \nL 260.169592 120.384388 \nL 262.861884 102.186453 \nL 269.256078 58.171093 \nL 271.275298 45.923431 \nL 272.95798 36.902728 \nL 274.304126 30.624278 \nL 275.650272 25.287902 \nL 276.996418 20.977748 \nL 278.006028 18.460126 \nL 279.015637 16.580694 \nL 279.688711 15.69076 \nL 280.361784 15.095516 \nL 281.034857 14.797306 \nL 281.70793 14.797306 \nL 282.381003 15.095516 \nL 283.054076 15.69076 \nL 283.727149 16.580694 \nL 284.400222 17.761796 \nL 285.409831 20.068897 \nL 286.419441 22.999906 \nL 287.42905 26.528809 \nL 288.775197 32.109199 \nL 290.121343 38.608237 \nL 291.804026 47.866498 \nL 293.823245 60.335619 \nL 296.515537 78.533561 \nL 302.90973 122.548923 \nL 304.92895 134.79656 \nL 306.611633 143.817272 \nL 307.95778 150.095722 \nL 309.303924 155.432102 \nL 310.650071 159.742256 \nL 311.65968 162.25987 \nL 312.66929 164.139306 \nL 313.342363 165.02924 \nL 314.015435 165.624484 \nL 314.688508 165.922694 \nL 315.361582 165.922694 \nL 316.034654 165.624484 \nL 316.707727 165.02924 \nL 317.380799 164.13931 \nL 318.053872 162.958209 \nL 319.063484 160.651103 \nL 320.073093 157.720094 \nL 321.082702 154.191196 \nL 322.42885 148.610796 \nL 323.774995 142.111749 \nL 325.457676 132.853516 \nL 327.476898 120.384358 \nL 330.169191 102.186414 \nL 336.563383 58.171073 \nL 338.5826 45.923449 \nL 340.265285 36.90271 \nL 341.61143 30.624287 \nL 342.957579 25.287884 \nL 344.303724 20.977748 \nL 345.313333 18.460126 \nL 346.322941 16.58069 \nL 346.996014 15.69076 \nL 347.669086 15.095521 \nL 348.342162 14.797306 \nL 348.342162 14.797306 \n\" clip-path=\"url(#p5ddebdc0b0)\" style=\"fill: none; stroke: #1f77b4; stroke-width: 1.5; stroke-linecap: square\"/>\n   </g>\n   <g id=\"line2d_36\">\n    <path d=\"M 230.890914 90.359999 \nL 315.025046 165.96 \n\" clip-path=\"url(#p5ddebdc0b0)\" style=\"fill: none; stroke-dasharray: 5.55,2.4; stroke-dashoffset: 0; stroke: #bf00bf; stroke-width: 1.5\"/>\n   </g>\n   <g id=\"patch_8\">\n    <path d=\"M 207.350184 173.52 \nL 207.350184 7.2 \n\" style=\"fill: none; stroke: #000000; stroke-width: 0.8; stroke-linejoin: miter; stroke-linecap: square\"/>\n   </g>\n   <g id=\"patch_9\">\n    <path d=\"M 355.056066 173.52 \nL 355.056066 7.2 \n\" style=\"fill: none; stroke: #000000; stroke-width: 0.8; stroke-linejoin: miter; stroke-linecap: square\"/>\n   </g>\n   <g id=\"patch_10\">\n    <path d=\"M 207.350184 173.52 \nL 355.056066 173.52 \n\" style=\"fill: none; stroke: #000000; stroke-width: 0.8; stroke-linejoin: miter; stroke-linecap: square\"/>\n   </g>\n   <g id=\"patch_11\">\n    <path d=\"M 207.350184 7.2 \nL 355.056066 7.2 \n\" style=\"fill: none; stroke: #000000; stroke-width: 0.8; stroke-linejoin: miter; stroke-linecap: square\"/>\n   </g>\n  </g>\n  <g id=\"axes_3\">\n   <g id=\"patch_12\">\n    <path d=\"M 384.597243 173.52 \nL 532.303125 173.52 \nL 532.303125 7.2 \nL 384.597243 7.2 \nz\n\" style=\"fill: #ffffff\"/>\n   </g>\n   <g id=\"matplotlib.axis_5\">\n    <g id=\"xtick_7\">\n     <g id=\"line2d_37\">\n      <path d=\"M 391.311146 173.52 \nL 391.311146 7.2 \n\" clip-path=\"url(#p09b8cf31fc)\" style=\"fill: none; stroke: #b0b0b0; stroke-width: 0.8; stroke-linecap: square\"/>\n     </g>\n     <g id=\"line2d_38\">\n      <g>\n       <use xlink:href=\"#m2f6ec898cc\" x=\"391.311146\" y=\"173.52\" style=\"stroke: #000000; stroke-width: 0.8\"/>\n      </g>\n     </g>\n     <g id=\"text_17\">\n      <!-- −2 -->\n      <g transform=\"translate(383.940053 188.118438) scale(0.1 -0.1)\">\n       <use xlink:href=\"#DejaVuSans-2212\"/>\n       <use xlink:href=\"#DejaVuSans-32\" transform=\"translate(83.789062 0)\"/>\n      </g>\n     </g>\n    </g>\n    <g id=\"xtick_8\">\n     <g id=\"line2d_39\">\n      <path d=\"M 458.618452 173.52 \nL 458.618452 7.2 \n\" clip-path=\"url(#p09b8cf31fc)\" style=\"fill: none; stroke: #b0b0b0; stroke-width: 0.8; stroke-linecap: square\"/>\n     </g>\n     <g id=\"line2d_40\">\n      <g>\n       <use xlink:href=\"#m2f6ec898cc\" x=\"458.618452\" y=\"173.52\" style=\"stroke: #000000; stroke-width: 0.8\"/>\n      </g>\n     </g>\n     <g id=\"text_18\">\n      <!-- 0 -->\n      <g transform=\"translate(455.437202 188.118438) scale(0.1 -0.1)\">\n       <use xlink:href=\"#DejaVuSans-30\"/>\n      </g>\n     </g>\n    </g>\n    <g id=\"xtick_9\">\n     <g id=\"line2d_41\">\n      <path d=\"M 525.925757 173.52 \nL 525.925757 7.2 \n\" clip-path=\"url(#p09b8cf31fc)\" style=\"fill: none; stroke: #b0b0b0; stroke-width: 0.8; stroke-linecap: square\"/>\n     </g>\n     <g id=\"line2d_42\">\n      <g>\n       <use xlink:href=\"#m2f6ec898cc\" x=\"525.925757\" y=\"173.52\" style=\"stroke: #000000; stroke-width: 0.8\"/>\n      </g>\n     </g>\n     <g id=\"text_19\">\n      <!-- 2 -->\n      <g transform=\"translate(522.744507 188.118438) scale(0.1 -0.1)\">\n       <use xlink:href=\"#DejaVuSans-32\"/>\n      </g>\n     </g>\n    </g>\n   </g>\n   <g id=\"matplotlib.axis_6\">\n    <g id=\"ytick_11\">\n     <g id=\"line2d_43\">\n      <path d=\"M 384.597243 157.411453 \nL 532.303125 157.411453 \n\" clip-path=\"url(#p09b8cf31fc)\" style=\"fill: none; stroke: #b0b0b0; stroke-width: 0.8; stroke-linecap: square\"/>\n     </g>\n     <g id=\"line2d_44\">\n      <g>\n       <use xlink:href=\"#m00828e1c1b\" x=\"384.597243\" y=\"157.411453\" style=\"stroke: #000000; stroke-width: 0.8\"/>\n      </g>\n     </g>\n     <g id=\"text_20\">\n      <!-- 0.5 -->\n      <g transform=\"translate(361.694118 161.210672) scale(0.1 -0.1)\">\n       <use xlink:href=\"#DejaVuSans-30\"/>\n       <use xlink:href=\"#DejaVuSans-2e\" transform=\"translate(63.623047 0)\"/>\n       <use xlink:href=\"#DejaVuSans-35\" transform=\"translate(95.410156 0)\"/>\n      </g>\n     </g>\n    </g>\n    <g id=\"ytick_12\">\n     <g id=\"line2d_45\">\n      <path d=\"M 384.597243 125.06014 \nL 532.303125 125.06014 \n\" clip-path=\"url(#p09b8cf31fc)\" style=\"fill: none; stroke: #b0b0b0; stroke-width: 0.8; stroke-linecap: square\"/>\n     </g>\n     <g id=\"line2d_46\">\n      <g>\n       <use xlink:href=\"#m00828e1c1b\" x=\"384.597243\" y=\"125.06014\" style=\"stroke: #000000; stroke-width: 0.8\"/>\n      </g>\n     </g>\n     <g id=\"text_21\">\n      <!-- 1.0 -->\n      <g transform=\"translate(361.694118 128.859359) scale(0.1 -0.1)\">\n       <use xlink:href=\"#DejaVuSans-31\"/>\n       <use xlink:href=\"#DejaVuSans-2e\" transform=\"translate(63.623047 0)\"/>\n       <use xlink:href=\"#DejaVuSans-30\" transform=\"translate(95.410156 0)\"/>\n      </g>\n     </g>\n    </g>\n    <g id=\"ytick_13\">\n     <g id=\"line2d_47\">\n      <path d=\"M 384.597243 92.708827 \nL 532.303125 92.708827 \n\" clip-path=\"url(#p09b8cf31fc)\" style=\"fill: none; stroke: #b0b0b0; stroke-width: 0.8; stroke-linecap: square\"/>\n     </g>\n     <g id=\"line2d_48\">\n      <g>\n       <use xlink:href=\"#m00828e1c1b\" x=\"384.597243\" y=\"92.708827\" style=\"stroke: #000000; stroke-width: 0.8\"/>\n      </g>\n     </g>\n     <g id=\"text_22\">\n      <!-- 1.5 -->\n      <g transform=\"translate(361.694118 96.508046) scale(0.1 -0.1)\">\n       <use xlink:href=\"#DejaVuSans-31\"/>\n       <use xlink:href=\"#DejaVuSans-2e\" transform=\"translate(63.623047 0)\"/>\n       <use xlink:href=\"#DejaVuSans-35\" transform=\"translate(95.410156 0)\"/>\n      </g>\n     </g>\n    </g>\n    <g id=\"ytick_14\">\n     <g id=\"line2d_49\">\n      <path d=\"M 384.597243 60.357514 \nL 532.303125 60.357514 \n\" clip-path=\"url(#p09b8cf31fc)\" style=\"fill: none; stroke: #b0b0b0; stroke-width: 0.8; stroke-linecap: square\"/>\n     </g>\n     <g id=\"line2d_50\">\n      <g>\n       <use xlink:href=\"#m00828e1c1b\" x=\"384.597243\" y=\"60.357514\" style=\"stroke: #000000; stroke-width: 0.8\"/>\n      </g>\n     </g>\n     <g id=\"text_23\">\n      <!-- 2.0 -->\n      <g transform=\"translate(361.694118 64.156733) scale(0.1 -0.1)\">\n       <use xlink:href=\"#DejaVuSans-32\"/>\n       <use xlink:href=\"#DejaVuSans-2e\" transform=\"translate(63.623047 0)\"/>\n       <use xlink:href=\"#DejaVuSans-30\" transform=\"translate(95.410156 0)\"/>\n      </g>\n     </g>\n    </g>\n    <g id=\"ytick_15\">\n     <g id=\"line2d_51\">\n      <path d=\"M 384.597243 28.006201 \nL 532.303125 28.006201 \n\" clip-path=\"url(#p09b8cf31fc)\" style=\"fill: none; stroke: #b0b0b0; stroke-width: 0.8; stroke-linecap: square\"/>\n     </g>\n     <g id=\"line2d_52\">\n      <g>\n       <use xlink:href=\"#m00828e1c1b\" x=\"384.597243\" y=\"28.006201\" style=\"stroke: #000000; stroke-width: 0.8\"/>\n      </g>\n     </g>\n     <g id=\"text_24\">\n      <!-- 2.5 -->\n      <g transform=\"translate(361.694118 31.805419) scale(0.1 -0.1)\">\n       <use xlink:href=\"#DejaVuSans-32\"/>\n       <use xlink:href=\"#DejaVuSans-2e\" transform=\"translate(63.623047 0)\"/>\n       <use xlink:href=\"#DejaVuSans-35\" transform=\"translate(95.410156 0)\"/>\n      </g>\n     </g>\n    </g>\n   </g>\n   <g id=\"line2d_53\">\n    <path d=\"M 391.311146 165.96 \nL 398.041875 163.456644 \nL 404.436075 160.835002 \nL 410.493726 158.110753 \nL 416.21485 155.302677 \nL 421.935969 152.24548 \nL 427.320555 149.120777 \nL 432.705138 145.735825 \nL 437.753187 142.306822 \nL 442.801235 138.610756 \nL 447.849283 134.626827 \nL 452.560795 130.629018 \nL 457.272306 126.341338 \nL 461.983817 121.742767 \nL 466.358792 117.174613 \nL 470.733766 112.29966 \nL 475.108741 107.097315 \nL 479.483717 101.545579 \nL 483.858692 95.620998 \nL 488.233666 89.298533 \nL 492.272105 83.086174 \nL 496.310543 76.489661 \nL 500.348982 69.485237 \nL 504.38742 62.04769 \nL 508.425859 54.15023 \nL 512.464297 45.764427 \nL 516.502732 36.860069 \nL 520.541174 27.405084 \nL 524.579609 17.365457 \nL 525.589221 14.76 \nL 525.589221 14.76 \n\" clip-path=\"url(#p09b8cf31fc)\" style=\"fill: none; stroke: #1f77b4; stroke-width: 1.5; stroke-linecap: square\"/>\n   </g>\n   <g id=\"line2d_54\">\n    <path d=\"M 408.137973 159.199411 \nL 492.272105 83.086174 \n\" clip-path=\"url(#p09b8cf31fc)\" style=\"fill: none; stroke-dasharray: 5.55,2.4; stroke-dashoffset: 0; stroke: #bf00bf; stroke-width: 1.5\"/>\n   </g>\n   <g id=\"patch_13\">\n    <path d=\"M 384.597243 173.52 \nL 384.597243 7.2 \n\" style=\"fill: none; stroke: #000000; stroke-width: 0.8; stroke-linejoin: miter; stroke-linecap: square\"/>\n   </g>\n   <g id=\"patch_14\">\n    <path d=\"M 532.303125 173.52 \nL 532.303125 7.2 \n\" style=\"fill: none; stroke: #000000; stroke-width: 0.8; stroke-linejoin: miter; stroke-linecap: square\"/>\n   </g>\n   <g id=\"patch_15\">\n    <path d=\"M 384.597243 173.52 \nL 532.303125 173.52 \n\" style=\"fill: none; stroke: #000000; stroke-width: 0.8; stroke-linejoin: miter; stroke-linecap: square\"/>\n   </g>\n   <g id=\"patch_16\">\n    <path d=\"M 384.597243 7.2 \nL 532.303125 7.2 \n\" style=\"fill: none; stroke: #000000; stroke-width: 0.8; stroke-linejoin: miter; stroke-linecap: square\"/>\n   </g>\n  </g>\n </g>\n <defs>\n  <clipPath id=\"pff4887f7ba\">\n   <rect x=\"30.103125\" y=\"7.2\" width=\"147.705882\" height=\"166.32\"/>\n  </clipPath>\n  <clipPath id=\"p5ddebdc0b0\">\n   <rect x=\"207.350184\" y=\"7.2\" width=\"147.705882\" height=\"166.32\"/>\n  </clipPath>\n  <clipPath id=\"p09b8cf31fc\">\n   <rect x=\"384.597243\" y=\"7.2\" width=\"147.705882\" height=\"166.32\"/>\n  </clipPath>\n </defs>\n</svg>\n"
     },
     "metadata": {},
     "output_type": "display_data"
    }
   ],
   "execution_count": 3
  },
  {
   "metadata": {},
   "cell_type": "markdown",
   "source": "### 琴生不等式",
   "id": "cc27e289ca4b7908"
  },
  {
   "metadata": {},
   "cell_type": "markdown",
   "source": [
    "凸性定义的一种推广：\n",
    "$$\n",
    "\\sum_i α_if (x_i) ≥ f(\\sum_i α_ix_i),\\quad E_X [f (X)] ≥ f (E_X [X])\\tag{11.2.3}\n",
    "$$\n",
    "其中 $α_i$ 是满足 $\\sum_i α_i=1$ 的非负实数，X是随机变量。\\\n",
    "凸函数的期望不小于期望的凸函数，其中后者通常是一个更简单的表达式。\\\n",
    "为了证明第一个不等式，我们多次将凸性的定义应用于一次求和中的一项。"
   ],
   "id": "f6619217c695b7fa"
  },
  {
   "metadata": {},
   "cell_type": "markdown",
   "source": [
    "詹森不等式的一个常见应用：\\\n",
    "用一个较简单的表达式约束一个较复杂的表达式。\\\n",
    "例如，它可以应用于部分观察到的随机变量的对数似然。\\\n",
    "由于 $∫ P (Y )P (X | Y )dY = P (X)$，所以\n",
    "$$\n",
    "E_{Y ∼P (Y )}[− \\log P (X | Y )] ≥ − \\log P (X),\\tag{11.2.4}\n",
    "$$\n",
    "Y 是典型的未观察到的随机变量，P (Y ) 是它可能如何分布的最佳猜测，P (X)是将 Y 积分后的分布。\\\n",
    "例如，在聚类中 Y 可能是簇标签，而在应用簇标签时，P (X | Y )是生成模型。"
   ],
   "id": "ffca7ac46adb02b9"
  },
  {
   "metadata": {},
   "cell_type": "markdown",
   "source": "## 2 性质",
   "id": "b2641d6f7e988711"
  },
  {
   "metadata": {},
   "cell_type": "markdown",
   "source": "### 局部极小值是全局极小值",
   "id": "26c9a0082a122e5b"
  },
  {
   "metadata": {},
   "cell_type": "markdown",
   "source": [
    "用反证法给出证明。\\\n",
    "假设 $x^∗ ∈ \\mathcal{X}$ 是一个局部最小值，则存在一个很小的正值 $\\delta$，使得当 $x ∈ \\mathcal{X}$ 满足 $0 < |x−x^∗| ≤ \\delta$ 时，有 $f (x^∗) < f (x)$。\\\n",
    "现在假设局部极小值 $x^∗$ 不是 f 的全局极小值：$\\exists x' ∈ \\mathcal{X}$ 使得 $f (x') < f (x^∗)$。\\\n",
    "则 $\\exists λ ∈ [0, 1)$，比如 $λ =1 − \\frac{p}{|x^∗ −x'|}$ ，使得 $0 < |λx^∗ + (1 − λ)x' − x^∗| ≤ \\delta$。\\\n",
    "然而，根据凸性的性质，有\n",
    "$$\n",
    "\\begin{align}\n",
    "f (λx^∗ + (1 − λ)x') &≤ λf (x^∗) + (1 − λ)f (x') \\\\\n",
    "&< λf (x^∗) + (1 − λ)f (x^∗) \\\\\n",
    "&= f (x^∗)\n",
    "\\end{align}\\tag{11.2.5}\n",
    "$$"
   ],
   "id": "c8e28391d8522a4c"
  },
  {
   "metadata": {},
   "cell_type": "markdown",
   "source": [
    "这与 $x^∗$ 是局部最小值相矛盾。因此，$\\not\\exists x' ∈ X$ 满足 $f (x') < f (x^∗)$。\\\n",
    "综上所述，局部最小值 $x^∗$ 也是全局最小值。"
   ],
   "id": "9e5e00d01da970b5"
  },
  {
   "metadata": {
    "ExecuteTime": {
     "end_time": "2025-05-26T02:37:46.749549Z",
     "start_time": "2025-05-26T02:37:46.679945Z"
    }
   },
   "cell_type": "code",
   "source": [
    "f = lambda x: (x - 1) ** 2\n",
    "d2l.set_figsize()\n",
    "d2l.plot([x, segment], [f(x), f(segment)], 'x', 'f(x)')"
   ],
   "id": "e8b578f31999ffe4",
   "outputs": [
    {
     "data": {
      "text/plain": [
       "<Figure size 350x250 with 1 Axes>"
      ],
      "image/svg+xml": "<?xml version=\"1.0\" encoding=\"utf-8\" standalone=\"no\"?>\n<!DOCTYPE svg PUBLIC \"-//W3C//DTD SVG 1.1//EN\"\n  \"http://www.w3.org/Graphics/SVG/1.1/DTD/svg11.dtd\">\n<svg xmlns:xlink=\"http://www.w3.org/1999/xlink\" width=\"236.740625pt\" height=\"183.35625pt\" viewBox=\"0 0 236.740625 183.35625\" xmlns=\"http://www.w3.org/2000/svg\" version=\"1.1\">\n <metadata>\n  <rdf:RDF xmlns:dc=\"http://purl.org/dc/elements/1.1/\" xmlns:cc=\"http://creativecommons.org/ns#\" xmlns:rdf=\"http://www.w3.org/1999/02/22-rdf-syntax-ns#\">\n   <cc:Work>\n    <dc:type rdf:resource=\"http://purl.org/dc/dcmitype/StillImage\"/>\n    <dc:date>2025-05-26T10:37:46.734057</dc:date>\n    <dc:format>image/svg+xml</dc:format>\n    <dc:creator>\n     <cc:Agent>\n      <dc:title>Matplotlib v3.10.3, https://matplotlib.org/</dc:title>\n     </cc:Agent>\n    </dc:creator>\n   </cc:Work>\n  </rdf:RDF>\n </metadata>\n <defs>\n  <style type=\"text/css\">*{stroke-linejoin: round; stroke-linecap: butt}</style>\n </defs>\n <g id=\"figure_1\">\n  <g id=\"patch_1\">\n   <path d=\"M 0 183.35625 \nL 236.740625 183.35625 \nL 236.740625 0 \nL 0 0 \nz\n\" style=\"fill: #ffffff\"/>\n  </g>\n  <g id=\"axes_1\">\n   <g id=\"patch_2\">\n    <path d=\"M 34.240625 145.8 \nL 229.540625 145.8 \nL 229.540625 7.2 \nL 34.240625 7.2 \nz\n\" style=\"fill: #ffffff\"/>\n   </g>\n   <g id=\"matplotlib.axis_1\">\n    <g id=\"xtick_1\">\n     <g id=\"line2d_1\">\n      <path d=\"M 43.117898 145.8 \nL 43.117898 7.2 \n\" clip-path=\"url(#pd920a62808)\" style=\"fill: none; stroke: #b0b0b0; stroke-width: 0.8; stroke-linecap: square\"/>\n     </g>\n     <g id=\"line2d_2\">\n      <defs>\n       <path id=\"m58ed92c2d6\" d=\"M 0 0 \nL 0 3.5 \n\" style=\"stroke: #000000; stroke-width: 0.8\"/>\n      </defs>\n      <g>\n       <use xlink:href=\"#m58ed92c2d6\" x=\"43.117898\" y=\"145.8\" style=\"stroke: #000000; stroke-width: 0.8\"/>\n      </g>\n     </g>\n     <g id=\"text_1\">\n      <!-- −2 -->\n      <g transform=\"translate(35.746804 160.398438) scale(0.1 -0.1)\">\n       <defs>\n        <path id=\"DejaVuSans-2212\" d=\"M 678 2272 \nL 4684 2272 \nL 4684 1741 \nL 678 1741 \nL 678 2272 \nz\n\" transform=\"scale(0.015625)\"/>\n        <path id=\"DejaVuSans-32\" d=\"M 1228 531 \nL 3431 531 \nL 3431 0 \nL 469 0 \nL 469 531 \nQ 828 903 1448 1529 \nQ 2069 2156 2228 2338 \nQ 2531 2678 2651 2914 \nQ 2772 3150 2772 3378 \nQ 2772 3750 2511 3984 \nQ 2250 4219 1831 4219 \nQ 1534 4219 1204 4116 \nQ 875 4013 500 3803 \nL 500 4441 \nQ 881 4594 1212 4672 \nQ 1544 4750 1819 4750 \nQ 2544 4750 2975 4387 \nQ 3406 4025 3406 3419 \nQ 3406 3131 3298 2873 \nQ 3191 2616 2906 2266 \nQ 2828 2175 2409 1742 \nQ 1991 1309 1228 531 \nz\n\" transform=\"scale(0.015625)\"/>\n       </defs>\n       <use xlink:href=\"#DejaVuSans-2212\"/>\n       <use xlink:href=\"#DejaVuSans-32\" transform=\"translate(83.789062 0)\"/>\n      </g>\n     </g>\n    </g>\n    <g id=\"xtick_2\">\n     <g id=\"line2d_3\">\n      <path d=\"M 87.615505 145.8 \nL 87.615505 7.2 \n\" clip-path=\"url(#pd920a62808)\" style=\"fill: none; stroke: #b0b0b0; stroke-width: 0.8; stroke-linecap: square\"/>\n     </g>\n     <g id=\"line2d_4\">\n      <g>\n       <use xlink:href=\"#m58ed92c2d6\" x=\"87.615505\" y=\"145.8\" style=\"stroke: #000000; stroke-width: 0.8\"/>\n      </g>\n     </g>\n     <g id=\"text_2\">\n      <!-- −1 -->\n      <g transform=\"translate(80.244412 160.398438) scale(0.1 -0.1)\">\n       <defs>\n        <path id=\"DejaVuSans-31\" d=\"M 794 531 \nL 1825 531 \nL 1825 4091 \nL 703 3866 \nL 703 4441 \nL 1819 4666 \nL 2450 4666 \nL 2450 531 \nL 3481 531 \nL 3481 0 \nL 794 0 \nL 794 531 \nz\n\" transform=\"scale(0.015625)\"/>\n       </defs>\n       <use xlink:href=\"#DejaVuSans-2212\"/>\n       <use xlink:href=\"#DejaVuSans-31\" transform=\"translate(83.789062 0)\"/>\n      </g>\n     </g>\n    </g>\n    <g id=\"xtick_3\">\n     <g id=\"line2d_5\">\n      <path d=\"M 132.113113 145.8 \nL 132.113113 7.2 \n\" clip-path=\"url(#pd920a62808)\" style=\"fill: none; stroke: #b0b0b0; stroke-width: 0.8; stroke-linecap: square\"/>\n     </g>\n     <g id=\"line2d_6\">\n      <g>\n       <use xlink:href=\"#m58ed92c2d6\" x=\"132.113113\" y=\"145.8\" style=\"stroke: #000000; stroke-width: 0.8\"/>\n      </g>\n     </g>\n     <g id=\"text_3\">\n      <!-- 0 -->\n      <g transform=\"translate(128.931863 160.398438) scale(0.1 -0.1)\">\n       <defs>\n        <path id=\"DejaVuSans-30\" d=\"M 2034 4250 \nQ 1547 4250 1301 3770 \nQ 1056 3291 1056 2328 \nQ 1056 1369 1301 889 \nQ 1547 409 2034 409 \nQ 2525 409 2770 889 \nQ 3016 1369 3016 2328 \nQ 3016 3291 2770 3770 \nQ 2525 4250 2034 4250 \nz\nM 2034 4750 \nQ 2819 4750 3233 4129 \nQ 3647 3509 3647 2328 \nQ 3647 1150 3233 529 \nQ 2819 -91 2034 -91 \nQ 1250 -91 836 529 \nQ 422 1150 422 2328 \nQ 422 3509 836 4129 \nQ 1250 4750 2034 4750 \nz\n\" transform=\"scale(0.015625)\"/>\n       </defs>\n       <use xlink:href=\"#DejaVuSans-30\"/>\n      </g>\n     </g>\n    </g>\n    <g id=\"xtick_4\">\n     <g id=\"line2d_7\">\n      <path d=\"M 176.61072 145.8 \nL 176.61072 7.2 \n\" clip-path=\"url(#pd920a62808)\" style=\"fill: none; stroke: #b0b0b0; stroke-width: 0.8; stroke-linecap: square\"/>\n     </g>\n     <g id=\"line2d_8\">\n      <g>\n       <use xlink:href=\"#m58ed92c2d6\" x=\"176.61072\" y=\"145.8\" style=\"stroke: #000000; stroke-width: 0.8\"/>\n      </g>\n     </g>\n     <g id=\"text_4\">\n      <!-- 1 -->\n      <g transform=\"translate(173.42947 160.398438) scale(0.1 -0.1)\">\n       <use xlink:href=\"#DejaVuSans-31\"/>\n      </g>\n     </g>\n    </g>\n    <g id=\"xtick_5\">\n     <g id=\"line2d_9\">\n      <path d=\"M 221.108328 145.8 \nL 221.108328 7.2 \n\" clip-path=\"url(#pd920a62808)\" style=\"fill: none; stroke: #b0b0b0; stroke-width: 0.8; stroke-linecap: square\"/>\n     </g>\n     <g id=\"line2d_10\">\n      <g>\n       <use xlink:href=\"#m58ed92c2d6\" x=\"221.108328\" y=\"145.8\" style=\"stroke: #000000; stroke-width: 0.8\"/>\n      </g>\n     </g>\n     <g id=\"text_5\">\n      <!-- 2 -->\n      <g transform=\"translate(217.927078 160.398438) scale(0.1 -0.1)\">\n       <use xlink:href=\"#DejaVuSans-32\"/>\n      </g>\n     </g>\n    </g>\n    <g id=\"text_6\">\n     <!-- x -->\n     <g transform=\"translate(128.93125 174.076563) scale(0.1 -0.1)\">\n      <defs>\n       <path id=\"DejaVuSans-78\" d=\"M 3513 3500 \nL 2247 1797 \nL 3578 0 \nL 2900 0 \nL 1881 1375 \nL 863 0 \nL 184 0 \nL 1544 1831 \nL 300 3500 \nL 978 3500 \nL 1906 2253 \nL 2834 3500 \nL 3513 3500 \nz\n\" transform=\"scale(0.015625)\"/>\n      </defs>\n      <use xlink:href=\"#DejaVuSans-78\"/>\n     </g>\n    </g>\n   </g>\n   <g id=\"matplotlib.axis_2\">\n    <g id=\"ytick_1\">\n     <g id=\"line2d_11\">\n      <path d=\"M 34.240625 139.5 \nL 229.540625 139.5 \n\" clip-path=\"url(#pd920a62808)\" style=\"fill: none; stroke: #b0b0b0; stroke-width: 0.8; stroke-linecap: square\"/>\n     </g>\n     <g id=\"line2d_12\">\n      <defs>\n       <path id=\"m8343660e60\" d=\"M 0 0 \nL -3.5 0 \n\" style=\"stroke: #000000; stroke-width: 0.8\"/>\n      </defs>\n      <g>\n       <use xlink:href=\"#m8343660e60\" x=\"34.240625\" y=\"139.5\" style=\"stroke: #000000; stroke-width: 0.8\"/>\n      </g>\n     </g>\n     <g id=\"text_7\">\n      <!-- 0 -->\n      <g transform=\"translate(20.878125 143.299219) scale(0.1 -0.1)\">\n       <use xlink:href=\"#DejaVuSans-30\"/>\n      </g>\n     </g>\n    </g>\n    <g id=\"ytick_2\">\n     <g id=\"line2d_13\">\n      <path d=\"M 34.240625 111.5 \nL 229.540625 111.5 \n\" clip-path=\"url(#pd920a62808)\" style=\"fill: none; stroke: #b0b0b0; stroke-width: 0.8; stroke-linecap: square\"/>\n     </g>\n     <g id=\"line2d_14\">\n      <g>\n       <use xlink:href=\"#m8343660e60\" x=\"34.240625\" y=\"111.5\" style=\"stroke: #000000; stroke-width: 0.8\"/>\n      </g>\n     </g>\n     <g id=\"text_8\">\n      <!-- 2 -->\n      <g transform=\"translate(20.878125 115.299219) scale(0.1 -0.1)\">\n       <use xlink:href=\"#DejaVuSans-32\"/>\n      </g>\n     </g>\n    </g>\n    <g id=\"ytick_3\">\n     <g id=\"line2d_15\">\n      <path d=\"M 34.240625 83.5 \nL 229.540625 83.5 \n\" clip-path=\"url(#pd920a62808)\" style=\"fill: none; stroke: #b0b0b0; stroke-width: 0.8; stroke-linecap: square\"/>\n     </g>\n     <g id=\"line2d_16\">\n      <g>\n       <use xlink:href=\"#m8343660e60\" x=\"34.240625\" y=\"83.5\" style=\"stroke: #000000; stroke-width: 0.8\"/>\n      </g>\n     </g>\n     <g id=\"text_9\">\n      <!-- 4 -->\n      <g transform=\"translate(20.878125 87.299219) scale(0.1 -0.1)\">\n       <defs>\n        <path id=\"DejaVuSans-34\" d=\"M 2419 4116 \nL 825 1625 \nL 2419 1625 \nL 2419 4116 \nz\nM 2253 4666 \nL 3047 4666 \nL 3047 1625 \nL 3713 1625 \nL 3713 1100 \nL 3047 1100 \nL 3047 0 \nL 2419 0 \nL 2419 1100 \nL 313 1100 \nL 313 1709 \nL 2253 4666 \nz\n\" transform=\"scale(0.015625)\"/>\n       </defs>\n       <use xlink:href=\"#DejaVuSans-34\"/>\n      </g>\n     </g>\n    </g>\n    <g id=\"ytick_4\">\n     <g id=\"line2d_17\">\n      <path d=\"M 34.240625 55.5 \nL 229.540625 55.5 \n\" clip-path=\"url(#pd920a62808)\" style=\"fill: none; stroke: #b0b0b0; stroke-width: 0.8; stroke-linecap: square\"/>\n     </g>\n     <g id=\"line2d_18\">\n      <g>\n       <use xlink:href=\"#m8343660e60\" x=\"34.240625\" y=\"55.5\" style=\"stroke: #000000; stroke-width: 0.8\"/>\n      </g>\n     </g>\n     <g id=\"text_10\">\n      <!-- 6 -->\n      <g transform=\"translate(20.878125 59.299219) scale(0.1 -0.1)\">\n       <defs>\n        <path id=\"DejaVuSans-36\" d=\"M 2113 2584 \nQ 1688 2584 1439 2293 \nQ 1191 2003 1191 1497 \nQ 1191 994 1439 701 \nQ 1688 409 2113 409 \nQ 2538 409 2786 701 \nQ 3034 994 3034 1497 \nQ 3034 2003 2786 2293 \nQ 2538 2584 2113 2584 \nz\nM 3366 4563 \nL 3366 3988 \nQ 3128 4100 2886 4159 \nQ 2644 4219 2406 4219 \nQ 1781 4219 1451 3797 \nQ 1122 3375 1075 2522 \nQ 1259 2794 1537 2939 \nQ 1816 3084 2150 3084 \nQ 2853 3084 3261 2657 \nQ 3669 2231 3669 1497 \nQ 3669 778 3244 343 \nQ 2819 -91 2113 -91 \nQ 1303 -91 875 529 \nQ 447 1150 447 2328 \nQ 447 3434 972 4092 \nQ 1497 4750 2381 4750 \nQ 2619 4750 2861 4703 \nQ 3103 4656 3366 4563 \nz\n\" transform=\"scale(0.015625)\"/>\n       </defs>\n       <use xlink:href=\"#DejaVuSans-36\"/>\n      </g>\n     </g>\n    </g>\n    <g id=\"ytick_5\">\n     <g id=\"line2d_19\">\n      <path d=\"M 34.240625 27.5 \nL 229.540625 27.5 \n\" clip-path=\"url(#pd920a62808)\" style=\"fill: none; stroke: #b0b0b0; stroke-width: 0.8; stroke-linecap: square\"/>\n     </g>\n     <g id=\"line2d_20\">\n      <g>\n       <use xlink:href=\"#m8343660e60\" x=\"34.240625\" y=\"27.5\" style=\"stroke: #000000; stroke-width: 0.8\"/>\n      </g>\n     </g>\n     <g id=\"text_11\">\n      <!-- 8 -->\n      <g transform=\"translate(20.878125 31.299219) scale(0.1 -0.1)\">\n       <defs>\n        <path id=\"DejaVuSans-38\" d=\"M 2034 2216 \nQ 1584 2216 1326 1975 \nQ 1069 1734 1069 1313 \nQ 1069 891 1326 650 \nQ 1584 409 2034 409 \nQ 2484 409 2743 651 \nQ 3003 894 3003 1313 \nQ 3003 1734 2745 1975 \nQ 2488 2216 2034 2216 \nz\nM 1403 2484 \nQ 997 2584 770 2862 \nQ 544 3141 544 3541 \nQ 544 4100 942 4425 \nQ 1341 4750 2034 4750 \nQ 2731 4750 3128 4425 \nQ 3525 4100 3525 3541 \nQ 3525 3141 3298 2862 \nQ 3072 2584 2669 2484 \nQ 3125 2378 3379 2068 \nQ 3634 1759 3634 1313 \nQ 3634 634 3220 271 \nQ 2806 -91 2034 -91 \nQ 1263 -91 848 271 \nQ 434 634 434 1313 \nQ 434 1759 690 2068 \nQ 947 2378 1403 2484 \nz\nM 1172 3481 \nQ 1172 3119 1398 2916 \nQ 1625 2713 2034 2713 \nQ 2441 2713 2670 2916 \nQ 2900 3119 2900 3481 \nQ 2900 3844 2670 4047 \nQ 2441 4250 2034 4250 \nQ 1625 4250 1398 4047 \nQ 1172 3844 1172 3481 \nz\n\" transform=\"scale(0.015625)\"/>\n       </defs>\n       <use xlink:href=\"#DejaVuSans-38\"/>\n      </g>\n     </g>\n    </g>\n    <g id=\"text_12\">\n     <!-- f(x) -->\n     <g transform=\"translate(14.798438 85.121094) rotate(-90) scale(0.1 -0.1)\">\n      <defs>\n       <path id=\"DejaVuSans-66\" d=\"M 2375 4863 \nL 2375 4384 \nL 1825 4384 \nQ 1516 4384 1395 4259 \nQ 1275 4134 1275 3809 \nL 1275 3500 \nL 2222 3500 \nL 2222 3053 \nL 1275 3053 \nL 1275 0 \nL 697 0 \nL 697 3053 \nL 147 3053 \nL 147 3500 \nL 697 3500 \nL 697 3744 \nQ 697 4328 969 4595 \nQ 1241 4863 1831 4863 \nL 2375 4863 \nz\n\" transform=\"scale(0.015625)\"/>\n       <path id=\"DejaVuSans-28\" d=\"M 1984 4856 \nQ 1566 4138 1362 3434 \nQ 1159 2731 1159 2009 \nQ 1159 1288 1364 580 \nQ 1569 -128 1984 -844 \nL 1484 -844 \nQ 1016 -109 783 600 \nQ 550 1309 550 2009 \nQ 550 2706 781 3412 \nQ 1013 4119 1484 4856 \nL 1984 4856 \nz\n\" transform=\"scale(0.015625)\"/>\n       <path id=\"DejaVuSans-29\" d=\"M 513 4856 \nL 1013 4856 \nQ 1481 4119 1714 3412 \nQ 1947 2706 1947 2009 \nQ 1947 1309 1714 600 \nQ 1481 -109 1013 -844 \nL 513 -844 \nQ 928 -128 1133 580 \nQ 1338 1288 1338 2009 \nQ 1338 2731 1133 3434 \nQ 928 4138 513 4856 \nz\n\" transform=\"scale(0.015625)\"/>\n      </defs>\n      <use xlink:href=\"#DejaVuSans-66\"/>\n      <use xlink:href=\"#DejaVuSans-28\" transform=\"translate(35.205078 0)\"/>\n      <use xlink:href=\"#DejaVuSans-78\" transform=\"translate(74.21875 0)\"/>\n      <use xlink:href=\"#DejaVuSans-29\" transform=\"translate(133.398438 0)\"/>\n     </g>\n    </g>\n   </g>\n   <g id=\"line2d_21\">\n    <path d=\"M 43.117898 13.5 \nL 48.902586 24.183409 \nL 54.687275 34.393602 \nL 60.471969 44.130608 \nL 65.811677 52.698601 \nL 71.15139 60.863407 \nL 76.491103 68.625 \nL 81.830817 75.983393 \nL 87.17053 82.938599 \nL 92.065267 88.960001 \nL 96.960002 94.642601 \nL 101.854739 99.986395 \nL 106.749477 104.991403 \nL 111.644214 109.657598 \nL 116.093973 113.605599 \nL 120.543735 117.2736 \nL 124.993496 120.661602 \nL 129.443256 123.769602 \nL 133.893017 126.5976 \nL 138.342778 129.1456 \nL 142.792538 131.4136 \nL 146.797323 133.2154 \nL 150.802109 134.7904 \nL 154.806892 136.1386 \nL 158.811678 137.26 \nL 162.816462 138.1546 \nL 166.821248 138.8224 \nL 170.826032 139.2634 \nL 174.830815 139.4776 \nL 178.835599 139.465 \nL 182.840385 139.2256 \nL 186.845171 138.7594 \nL 190.849952 138.066401 \nL 194.854738 137.1466 \nL 198.859524 136 \nL 202.86431 134.626599 \nL 206.869091 133.026401 \nL 210.873877 131.1994 \nL 214.878664 129.1456 \nL 219.32842 126.597602 \nL 220.663352 125.7786 \nL 220.663352 125.7786 \n\" clip-path=\"url(#pd920a62808)\" style=\"fill: none; stroke: #1f77b4; stroke-width: 1.5; stroke-linecap: square\"/>\n   </g>\n   <g id=\"line2d_22\">\n    <path d=\"M 65.366702 52 \nL 176.61072 139.5 \n\" clip-path=\"url(#pd920a62808)\" style=\"fill: none; stroke-dasharray: 5.55,2.4; stroke-dashoffset: 0; stroke: #bf00bf; stroke-width: 1.5\"/>\n   </g>\n   <g id=\"patch_3\">\n    <path d=\"M 34.240625 145.8 \nL 34.240625 7.2 \n\" style=\"fill: none; stroke: #000000; stroke-width: 0.8; stroke-linejoin: miter; stroke-linecap: square\"/>\n   </g>\n   <g id=\"patch_4\">\n    <path d=\"M 229.540625 145.8 \nL 229.540625 7.2 \n\" style=\"fill: none; stroke: #000000; stroke-width: 0.8; stroke-linejoin: miter; stroke-linecap: square\"/>\n   </g>\n   <g id=\"patch_5\">\n    <path d=\"M 34.240625 145.8 \nL 229.540625 145.8 \n\" style=\"fill: none; stroke: #000000; stroke-width: 0.8; stroke-linejoin: miter; stroke-linecap: square\"/>\n   </g>\n   <g id=\"patch_6\">\n    <path d=\"M 34.240625 7.2 \nL 229.540625 7.2 \n\" style=\"fill: none; stroke: #000000; stroke-width: 0.8; stroke-linejoin: miter; stroke-linecap: square\"/>\n   </g>\n  </g>\n </g>\n <defs>\n  <clipPath id=\"pd920a62808\">\n   <rect x=\"34.240625\" y=\"7.2\" width=\"195.3\" height=\"138.6\"/>\n  </clipPath>\n </defs>\n</svg>\n"
     },
     "metadata": {},
     "output_type": "display_data"
    }
   ],
   "execution_count": 4
  },
  {
   "metadata": {},
   "cell_type": "markdown",
   "source": [
    "这意味着如果我们最小化函数，我们就不会“卡住”。\\\n",
    "但是这并不意味着不能有多个全局最小值，或者可能不存在一个全局最小值。\\\n",
    "例如，函数 $f (x) = \\max(|x| − 1, 0)$ 在 $[−1, 1]$ 区间上都是最小值。\\\n",
    "相反，函数 $f (x) = \\exp(x)$ 在 $\\mathbb{R}$ 上没有取得最小值。对于 $x → −∞$，它趋近于0，但是没有 $f (x) = 0$ 的x。"
   ],
   "id": "9ae103ff65730359"
  },
  {
   "metadata": {},
   "cell_type": "markdown",
   "source": "### 凸函数的下水平集是凸的",
   "id": "ca2e37145f9e7786"
  },
  {
   "metadata": {},
   "cell_type": "markdown",
   "source": [
    "通过凸函数的下水平集（below sets）定义凸集。\\\n",
    "具体来说，给定一个定义在凸集 $\\mathcal{X}$ 上的凸函数f ，其任意一个下水平集\n",
    "$$\n",
    "\\mathcal{S}_b:=\\{x|x\\in\\mathcal{X},f(x)\\leq b\\}\\tag{11.2.6}\n",
    "$$\n",
    "是凸的。\\\n",
    "Pf: $\\forall x, x' ∈ \\mathcal{S}_b$，我们需要证明：当 $λ ∈ [0, 1]$ 时，$λx + (1 − λ)x' ∈ \\mathcal{S}_b$。因为 $f (x) ≤b$ 且 $f (x') ≤ b$，所以\n",
    "$$\n",
    "f (λx + (1 − λ)x') ≤ λf (x) + (1 − λ)f (x') ≤ b.\\tag{11.2.7}\n",
    "$$"
   ],
   "id": "f1d3695a70f8a1ae"
  },
  {
   "metadata": {},
   "cell_type": "markdown",
   "source": "### 凸性和二阶导数",
   "id": "c9ce48cca5131abb"
  },
  {
   "metadata": {},
   "cell_type": "markdown",
   "source": [
    "当一个函数的二阶导数 $f :\\mathbb{R}^n → \\mathbb{R}$ 存在时，我们很容易检查这个函数的凸性。\\\n",
    "我们需要做的就是检查 $∇^2f ⪰ 0$，即 $\\forall \\mathbf{x} ∈ \\mathbb{R}^n，\\mathbf{x}^⊤\\mathbf{Hx} ≥ 0$. 例如，函数 $f(\\mathbf{x}) = \\frac{1}{2} ∥\\mathbf{x}∥^2$ 是凸的，因为 $∇^2f = 1$，即其导数是单位矩阵。\\\n",
    "更正式地讲，f 为凸函数 $\\Longleftrightarrow$ 任意二次可微一维函数 $f:\\mathbb{R}^n → \\mathbb{R}$ 是凸的。\\\n",
    "对于任意二次可微多维函数$f :\\mathbb{R}^n → \\mathbb{R}$，它是凸的 $\\leftrightarrow$ 它的Hessian$∇^2f ⪰ 0$。"
   ],
   "id": "8305d823e2d99515"
  },
  {
   "metadata": {},
   "cell_type": "markdown",
   "source": [
    "首先，我们来证明一下一维情况。为了证明凸函数的 $f''(x) ≥ 0$，我们使用：\n",
    "$$\n",
    "\\frac{1}{2} f (x + ε) + \\frac{1}{2} f (x − ε) ≥ f( \\frac{x + ε}{2} + \\frac{x- ε}{2})= f (x).\\tag{11.2.8}\n",
    "$$\n",
    "因为二阶导数是由有限差分的极限给出的，所以遵循\n",
    "$$\n",
    "f''(x) = \\lim_{ε→0} \\frac{f (x + ε) + f (x − ε) − 2f (x)}{ε^2} ≥ 0.\\tag{11.2.9}\n",
    "$$\n",
    "为了证明 $f''≥ 0$ 可以推导f 是凸的，我们使用这样一个事实：$f''≥ 0$ 意味着 $f'$ 非递减。\\\n",
    "假设 $a < x < b$ 是 $\\mathbb{R}$ 中的三个点，其中，$x = (1 − λ)a + λb$ 且 $λ ∈ (0, 1)$. 根据中值定理，$\\exists α ∈ [a, x]，β ∈ [x, b]$，使得\n",
    "$$\n",
    "f'(α) = \\frac{f (x) − f (a)}{x − a},\\quad f'(β) = \\frac{f (b) − f (x)}{b − x}\\tag{11.2.10}\n",
    "$$\n",
    "通过单调性 $f'(β) ≥ f'(α)$，因此\n",
    "$$\n",
    "\\frac{x − a}{b − a} f (b) + \\frac{b − x}{b − a} f (a) ≥ f (x).\\tag{11.2.11}\n",
    "$$\n",
    "由于 $x = (1 − λ)a + λb$，所以\n",
    "$$\n",
    "λf (b) + (1 − λ)f (a) ≥ f ((1 − λ)a + λb),\\tag{11.2.12}\n",
    "$$\n",
    "从而证明了凸性。"
   ],
   "id": "20cee98cf630cf55"
  },
  {
   "metadata": {},
   "cell_type": "markdown",
   "source": [
    "第二，我们需要一个引理证明多维情况：$f : \\mathbb{R}^n → \\mathbb{R}$ 是凸的 $\\Longleftrightarrow\\forall x, y ∈ \\mathbb{R}^n$\n",
    "$$\n",
    "g(z)\\stackrel{\\text{def}}{=}f (z\\mathbf{x} + (1 − z)\\mathbf{y}), z ∈ [0, 1]\\tag{11.2.13}\n",
    "$$\n",
    "是凸的。\\\n",
    "为了证明f 的凸性意味着g是凸的，我们可以证明，$\\forall a,b,λ ∈ [0,1] (0 ≤ λa + (1 − λ)b ≤ 1)$,\n",
    "$$\n",
    "\\begin{align}\n",
    "&g(λa + (1 − λ)b)\\\\\n",
    "=&f ((λa + (1 − λ)b) \\mathbf{x} + (1 − λa − (1 − λ)b) \\mathbf{y})\\\\\n",
    "=&f (λ (a\\mathbf{x} + (1 − a)\\mathbf{y}) + (1 − λ) (b\\mathbf{x} + (1 − b)\\mathbf{y}))\\\\\n",
    "≤&λf (a\\mathbf{x} + (1 − a)\\mathbf{y}) + (1 − λ)f (b\\mathbf{x} + (1 − b)\\mathbf{y})\\\\\n",
    "=&λg(a) + (1 − λ)g(b).\n",
    "\\end{align}\\tag{11.2.14}\n",
    "$$\n",
    "为了证明这一点，我们可以证明对 $\\forall \\lambda\\in[0,1]$:\n",
    "$$\n",
    "\\begin{align}\n",
    "&f(λ (λ\\mathbf{x} + (1 − λ)\\mathbf{y})\\\\\n",
    "=&g(λ · 1 + (1 − λ) · 0)\\\\\n",
    "≤&λg(1) + (1 − λ)g(0)\\\\\n",
    "=&λf(\\mathbf{x}) + (1 − λ)f(\\mathbf{y}).\n",
    "\\end{align}\\tag{11.2.15}\n",
    "$$"
   ],
   "id": "aa0a0f905aec9951"
  },
  {
   "metadata": {},
   "cell_type": "markdown",
   "source": [
    "最后，利用上面的引理和一维情况的结果，我们可以证明多维情况：多维函数 $f : \\mathbb{R}^n → \\mathbb{R}$是凸函数 $\\Longleftrightarrow g(z)\\stackrel{\\text{def}}{=}f (z\\mathbf{x} + (1 − z)\\mathbf{y}), z ∈ [0, 1], \\mathbf{x,y} ∈ \\mathbb{R}^n$ 是凸的。\\\n",
    "根据一维情况，此条成立的条件为，iff $\\forall \\mathbf{x,y} ∈ \\mathbb{R}^n，g'' = (\\mathbf{x-y})^⊤\\mathbf{H(x-y)} ≥ 0\\ (H \\stackrel{\\text{def}}{=} ∇^2f)$。\\\n",
    "这相当于根据半正定矩阵的定义，$\\mathbf{H}⪰ 0$。"
   ],
   "id": "98fbe3e36dba8cfd"
  },
  {
   "metadata": {},
   "cell_type": "markdown",
   "source": "### 11.2.3 约束",
   "id": "7030f34b55078c19"
  },
  {
   "metadata": {},
   "cell_type": "markdown",
   "source": [
    "\n",
    "凸优化的一个很好的特性是能够让我们有效地处理约束（constraints）。即它使我们能够解决以下形式的约\n",
    "束优化（constrained optimization）问题：\n",
    "$$\n",
    "\\begin{align}\n",
    "\\mathop{\\text{minimize}}\\limits_{\\mathbf{x}}f(\\mathbf{x}) \\\\\n",
    "c_i(\\mathbf{x})\\leq 0,\\quad \\forall i\\in\\{1,...,N\\}\n",
    "\\end{align}\\tag{11.2.16}\n",
    "$$\n",
    "f 是目标函数，ci是约束函数。例如第一个约束c1(x) = ∥x∥2 − 1，则参数x被限制为单位球。如果第二个\n",
    "约束c2(x) = v⊤x + b，那么这对应于半空间上所有的x。同时满足这两个约束等于选择一个球的切片作为约\n",
    "束集。"
   ],
   "id": "6438f13518e55d9"
  },
  {
   "metadata": {},
   "cell_type": "markdown",
   "source": "#### 拉格朗日函数",
   "id": "4451cfe473722f17"
  },
  {
   "metadata": {},
   "cell_type": "markdown",
   "source": [
    "通常，求解一个有约束的优化问题是困难的，解决这个问题的一种方法来自物理中相当简单的直觉。\\\n",
    "想象一个球在一个盒子里，球会滚到最低的地方，重力将与盒子两侧对球施加的力平衡。简而言之，目标函数（即\n",
    "重力）的梯度将被约束函数的梯度所抵消（由于墙壁的“推回”作用，需要保持在盒子内）。\\\n",
    "请注意，任何不起作用的约束（即球不接触壁）都将无法对球施加任何力。"
   ],
   "id": "240861f5ee85ac"
  },
  {
   "metadata": {},
   "cell_type": "markdown",
   "source": [
    "这里我们简略拉格朗日函数L的推导，上述推理可以通过以下鞍点优化问题来表示：\n",
    "$$\n",
    "L(\\mathbf{x}, α_1, . . . , α_n) = f(\\mathbf{x}) + \\sum_{i=1}^nα_ic_i(\\mathbf{x}),\\quad α_i ≥ 0.\\tag{11.2.17}\n",
    "$$\n",
    "这里的变量 $α_i(i = 1, . . . , n)$ 是所谓的拉格朗日乘数（Lagrange multipliers），它确保约束被正确地执行。\\\n",
    "选择它们的大小足以确保所有 i 的 $c_i(\\mathbf{x}) ≤ 0$。例如，对于 $c_i(\\mathbf{x}) < 0$ 中任意 $\\mathbf{x}$，我们最终会选择 $α_i = 0$。\\\n",
    "此外，这是一个鞍点（saddlepoint）优化问题。\\\n",
    "在这个问题中，我们想要使L相对于αi最大化（maximize），同时使它相对于x最小化（minimize）。有大量的文献解释如何得出函数L(x, α1, . . . , αn)。我们这里只需要知道L的鞍点是原始约束优化问题的最优解就足够了。"
   ],
   "id": "82367cd0f4e95220"
  },
  {
   "metadata": {},
   "cell_type": "markdown",
   "source": "#### 惩罚",
   "id": "b1a60f1ba6f19094"
  },
  {
   "metadata": {},
   "cell_type": "markdown",
   "source": [
    "一种至少近似地满足约束优化问题的方法是采用拉格朗日函数L。\\\n",
    "除了满足 $c_i(\\mathbf{x}) ≤ 0$ 之外，我们只需将 $α_ic_i(\\mathbf{x})$ 添加到目标函数$f(x)$。这样可以确保不会严重违反约束。\\\n",
    "事实上，我们一直在使用这个技巧。比如权重衰减 4.5节，在目标函数中加入 $λ^2 |w|^2$，以确保w不会增长太大。\\\n",
    "使用约束优化的观点，我们可以看到，对于若干半径r，这将确保 $|w|^2 − r^2 ≤ 0$。\\\n",
    "通过调整λ的值，我们可以改变w的大小。\\\n",
    "通常，添加惩罚是确保近似满足约束的一种好方法。在实践中，这被证明比精确的满意度更可靠。\\\n",
    "此外，对于非凸问题，许多使精确方法在凸情况下的性质（例如，可求最优解）不再成立。"
   ],
   "id": "7db46051780bf8e6"
  },
  {
   "metadata": {},
   "cell_type": "markdown",
   "source": "#### 投影",
   "id": "56190c7d3f30cef8"
  },
  {
   "metadata": {},
   "cell_type": "markdown",
   "source": [
    "满足约束条件的另一种策略是投影（projections）。\\\n",
    "同样，我们之前也遇到过，例如在 8.5节中处理梯度截断时，我们通过\n",
    "$$\n",
    "\\mathbf{g}\\leftarrow\\mathbf{g}\\cdot\\min(1, \\theta/||\\mathbf{g}||),\\tag{11.2.18}\n",
    "$$\n",
    "确保梯度的长度以 $θ$ 为界限。\n",
    "这就是 $\\mathbf{g}$ 在半径为 $θ$ 的球上的投影（projection）。\\\n",
    "更泛化地说，在凸集 $\\mathcal{X}$ 上的投影被定义为\n",
    "$$\n",
    "\\text{Proj}_{\\mathcal{X}} (\\mathbf{x}) = \\arg\\min_{\\mathbf{x}'\\in\\mathcal{X}}||\\mathbf{x}-\\mathbf{x}'||\\tag{11.2.19}\n",
    "$$\n",
    "它是 $\\mathcal{X}$ 中离 $\\mathbf{x}$ 最近的点。\n"
   ],
   "id": "e3731100357afa3c"
  },
  {
   "metadata": {},
   "cell_type": "code",
   "outputs": [],
   "execution_count": null,
   "source": "",
   "id": "fd249e8a57623138"
  }
 ],
 "metadata": {
  "kernelspec": {
   "display_name": "Python 3",
   "language": "python",
   "name": "python3"
  },
  "language_info": {
   "codemirror_mode": {
    "name": "ipython",
    "version": 2
   },
   "file_extension": ".py",
   "mimetype": "text/x-python",
   "name": "python",
   "nbconvert_exporter": "python",
   "pygments_lexer": "ipython2",
   "version": "2.7.6"
  }
 },
 "nbformat": 4,
 "nbformat_minor": 5
}
