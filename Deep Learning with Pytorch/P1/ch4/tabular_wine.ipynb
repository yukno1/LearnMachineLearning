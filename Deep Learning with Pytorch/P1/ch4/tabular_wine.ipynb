{
 "cells": [
  {
   "cell_type": "code",
   "id": "initial_id",
   "metadata": {
    "collapsed": true,
    "ExecuteTime": {
     "end_time": "2025-07-31T03:54:58.878759Z",
     "start_time": "2025-07-31T03:54:56.556651Z"
    }
   },
   "source": [
    "import numpy as np\n",
    "import torch\n",
    "torch.set_printoptions(edgeitems=2, precision=2, linewidth=75)"
   ],
   "outputs": [],
   "execution_count": 1
  },
  {
   "metadata": {
    "ExecuteTime": {
     "end_time": "2025-07-31T03:54:59.503676Z",
     "start_time": "2025-07-31T03:54:59.138030Z"
    }
   },
   "cell_type": "code",
   "source": [
    "import pandas as pd\n",
    "wineq_pd = pd.read_csv('../../data/p1ch4/tabular-wine/winequality-white.csv', sep=';')\n",
    "wineq_pd.head()"
   ],
   "id": "d5bda121ba6e57fc",
   "outputs": [
    {
     "data": {
      "text/plain": [
       "   fixed acidity  volatile acidity  citric acid  residual sugar  chlorides  \\\n",
       "0            7.0              0.27         0.36            20.7      0.045   \n",
       "1            6.3              0.30         0.34             1.6      0.049   \n",
       "2            8.1              0.28         0.40             6.9      0.050   \n",
       "3            7.2              0.23         0.32             8.5      0.058   \n",
       "4            7.2              0.23         0.32             8.5      0.058   \n",
       "\n",
       "   free sulfur dioxide  total sulfur dioxide  density    pH  sulphates  \\\n",
       "0                 45.0                 170.0   1.0010  3.00       0.45   \n",
       "1                 14.0                 132.0   0.9940  3.30       0.49   \n",
       "2                 30.0                  97.0   0.9951  3.26       0.44   \n",
       "3                 47.0                 186.0   0.9956  3.19       0.40   \n",
       "4                 47.0                 186.0   0.9956  3.19       0.40   \n",
       "\n",
       "   alcohol  quality  \n",
       "0      8.8        6  \n",
       "1      9.5        6  \n",
       "2     10.1        6  \n",
       "3      9.9        6  \n",
       "4      9.9        6  "
      ],
      "text/html": [
       "<div>\n",
       "<style scoped>\n",
       "    .dataframe tbody tr th:only-of-type {\n",
       "        vertical-align: middle;\n",
       "    }\n",
       "\n",
       "    .dataframe tbody tr th {\n",
       "        vertical-align: top;\n",
       "    }\n",
       "\n",
       "    .dataframe thead th {\n",
       "        text-align: right;\n",
       "    }\n",
       "</style>\n",
       "<table border=\"1\" class=\"dataframe\">\n",
       "  <thead>\n",
       "    <tr style=\"text-align: right;\">\n",
       "      <th></th>\n",
       "      <th>fixed acidity</th>\n",
       "      <th>volatile acidity</th>\n",
       "      <th>citric acid</th>\n",
       "      <th>residual sugar</th>\n",
       "      <th>chlorides</th>\n",
       "      <th>free sulfur dioxide</th>\n",
       "      <th>total sulfur dioxide</th>\n",
       "      <th>density</th>\n",
       "      <th>pH</th>\n",
       "      <th>sulphates</th>\n",
       "      <th>alcohol</th>\n",
       "      <th>quality</th>\n",
       "    </tr>\n",
       "  </thead>\n",
       "  <tbody>\n",
       "    <tr>\n",
       "      <th>0</th>\n",
       "      <td>7.0</td>\n",
       "      <td>0.27</td>\n",
       "      <td>0.36</td>\n",
       "      <td>20.7</td>\n",
       "      <td>0.045</td>\n",
       "      <td>45.0</td>\n",
       "      <td>170.0</td>\n",
       "      <td>1.0010</td>\n",
       "      <td>3.00</td>\n",
       "      <td>0.45</td>\n",
       "      <td>8.8</td>\n",
       "      <td>6</td>\n",
       "    </tr>\n",
       "    <tr>\n",
       "      <th>1</th>\n",
       "      <td>6.3</td>\n",
       "      <td>0.30</td>\n",
       "      <td>0.34</td>\n",
       "      <td>1.6</td>\n",
       "      <td>0.049</td>\n",
       "      <td>14.0</td>\n",
       "      <td>132.0</td>\n",
       "      <td>0.9940</td>\n",
       "      <td>3.30</td>\n",
       "      <td>0.49</td>\n",
       "      <td>9.5</td>\n",
       "      <td>6</td>\n",
       "    </tr>\n",
       "    <tr>\n",
       "      <th>2</th>\n",
       "      <td>8.1</td>\n",
       "      <td>0.28</td>\n",
       "      <td>0.40</td>\n",
       "      <td>6.9</td>\n",
       "      <td>0.050</td>\n",
       "      <td>30.0</td>\n",
       "      <td>97.0</td>\n",
       "      <td>0.9951</td>\n",
       "      <td>3.26</td>\n",
       "      <td>0.44</td>\n",
       "      <td>10.1</td>\n",
       "      <td>6</td>\n",
       "    </tr>\n",
       "    <tr>\n",
       "      <th>3</th>\n",
       "      <td>7.2</td>\n",
       "      <td>0.23</td>\n",
       "      <td>0.32</td>\n",
       "      <td>8.5</td>\n",
       "      <td>0.058</td>\n",
       "      <td>47.0</td>\n",
       "      <td>186.0</td>\n",
       "      <td>0.9956</td>\n",
       "      <td>3.19</td>\n",
       "      <td>0.40</td>\n",
       "      <td>9.9</td>\n",
       "      <td>6</td>\n",
       "    </tr>\n",
       "    <tr>\n",
       "      <th>4</th>\n",
       "      <td>7.2</td>\n",
       "      <td>0.23</td>\n",
       "      <td>0.32</td>\n",
       "      <td>8.5</td>\n",
       "      <td>0.058</td>\n",
       "      <td>47.0</td>\n",
       "      <td>186.0</td>\n",
       "      <td>0.9956</td>\n",
       "      <td>3.19</td>\n",
       "      <td>0.40</td>\n",
       "      <td>9.9</td>\n",
       "      <td>6</td>\n",
       "    </tr>\n",
       "  </tbody>\n",
       "</table>\n",
       "</div>"
      ]
     },
     "execution_count": 2,
     "metadata": {},
     "output_type": "execute_result"
    }
   ],
   "execution_count": 2
  },
  {
   "metadata": {
    "ExecuteTime": {
     "end_time": "2025-07-31T03:54:59.554620Z",
     "start_time": "2025-07-31T03:54:59.550589Z"
    }
   },
   "cell_type": "code",
   "source": "wineq_pd.shape",
   "id": "613e5874cec87948",
   "outputs": [
    {
     "data": {
      "text/plain": [
       "(4898, 12)"
      ]
     },
     "execution_count": 3,
     "metadata": {},
     "output_type": "execute_result"
    }
   ],
   "execution_count": 3
  },
  {
   "metadata": {
    "ExecuteTime": {
     "end_time": "2025-07-31T03:54:59.654608Z",
     "start_time": "2025-07-31T03:54:59.650288Z"
    }
   },
   "cell_type": "code",
   "source": [
    "col_list = wineq_pd.columns.values.tolist()\n",
    "col_list"
   ],
   "id": "f8112ca500ede889",
   "outputs": [
    {
     "data": {
      "text/plain": [
       "['fixed acidity',\n",
       " 'volatile acidity',\n",
       " 'citric acid',\n",
       " 'residual sugar',\n",
       " 'chlorides',\n",
       " 'free sulfur dioxide',\n",
       " 'total sulfur dioxide',\n",
       " 'density',\n",
       " 'pH',\n",
       " 'sulphates',\n",
       " 'alcohol',\n",
       " 'quality']"
      ]
     },
     "execution_count": 4,
     "metadata": {},
     "output_type": "execute_result"
    }
   ],
   "execution_count": 4
  },
  {
   "metadata": {},
   "cell_type": "markdown",
   "source": [
    "或者\n",
    "```\n",
    "col_list = next(csv.readr(open(win_path), delimiter=';'))\n",
    "```"
   ],
   "id": "5a8c75cf43f86da0"
  },
  {
   "metadata": {
    "ExecuteTime": {
     "end_time": "2025-07-31T03:55:53.919166Z",
     "start_time": "2025-07-31T03:55:53.883659Z"
    }
   },
   "cell_type": "code",
   "source": [
    "wineq = torch.from_numpy(wineq_pd.values).to(torch.float)\n",
    "wineq"
   ],
   "id": "66103c67f8a4d1b2",
   "outputs": [
    {
     "data": {
      "text/plain": [
       "tensor([[ 7.00,  0.27,  ...,  8.80,  6.00],\n",
       "        [ 6.30,  0.30,  ...,  9.50,  6.00],\n",
       "        ...,\n",
       "        [ 5.50,  0.29,  ..., 12.80,  7.00],\n",
       "        [ 6.00,  0.21,  ..., 11.80,  6.00]])"
      ]
     },
     "execution_count": 7,
     "metadata": {},
     "output_type": "execute_result"
    }
   ],
   "execution_count": 7
  },
  {
   "metadata": {
    "ExecuteTime": {
     "end_time": "2025-07-31T03:56:00.087020Z",
     "start_time": "2025-07-31T03:56:00.081025Z"
    }
   },
   "cell_type": "code",
   "source": "wineq.size(), wineq.dtype",
   "id": "32a23c320442de43",
   "outputs": [
    {
     "data": {
      "text/plain": [
       "(torch.Size([4898, 12]), torch.float32)"
      ]
     },
     "execution_count": 8,
     "metadata": {},
     "output_type": "execute_result"
    }
   ],
   "execution_count": 8
  },
  {
   "metadata": {
    "ExecuteTime": {
     "end_time": "2025-07-31T03:56:50.770858Z",
     "start_time": "2025-07-31T03:56:50.760066Z"
    }
   },
   "cell_type": "code",
   "source": [
    "data = wineq[:, :-1]\n",
    "data, data.shape"
   ],
   "id": "14f630ccbbb59c5b",
   "outputs": [
    {
     "data": {
      "text/plain": [
       "(tensor([[ 7.00,  0.27,  ...,  0.45,  8.80],\n",
       "         [ 6.30,  0.30,  ...,  0.49,  9.50],\n",
       "         ...,\n",
       "         [ 5.50,  0.29,  ...,  0.38, 12.80],\n",
       "         [ 6.00,  0.21,  ...,  0.32, 11.80]]),\n",
       " torch.Size([4898, 11]))"
      ]
     },
     "execution_count": 9,
     "metadata": {},
     "output_type": "execute_result"
    }
   ],
   "execution_count": 9
  },
  {
   "metadata": {
    "ExecuteTime": {
     "end_time": "2025-07-31T03:57:42.894091Z",
     "start_time": "2025-07-31T03:57:42.884275Z"
    }
   },
   "cell_type": "code",
   "source": [
    "target = wineq[:, -1].long()\n",
    "target, target.shape"
   ],
   "id": "a49a8405351b2750",
   "outputs": [
    {
     "data": {
      "text/plain": [
       "(tensor([6, 6,  ..., 7, 6]), torch.Size([4898]))"
      ]
     },
     "execution_count": 11,
     "metadata": {},
     "output_type": "execute_result"
    }
   ],
   "execution_count": 11
  },
  {
   "metadata": {
    "ExecuteTime": {
     "end_time": "2025-07-31T04:00:08.304975Z",
     "start_time": "2025-07-31T04:00:08.257234Z"
    }
   },
   "cell_type": "code",
   "source": "target_onehot = torch.zeros(target.shape[0], 10)",
   "id": "a722e7169a58df19",
   "outputs": [],
   "execution_count": 12
  },
  {
   "metadata": {
    "ExecuteTime": {
     "end_time": "2025-07-31T04:00:49.312013Z",
     "start_time": "2025-07-31T04:00:49.306657Z"
    }
   },
   "cell_type": "code",
   "source": [
    "temp = target.unsqueeze(1)\n",
    "temp.shape"
   ],
   "id": "3c7fddabdd1abef0",
   "outputs": [
    {
     "data": {
      "text/plain": [
       "torch.Size([4898, 1])"
      ]
     },
     "execution_count": 15,
     "metadata": {},
     "output_type": "execute_result"
    }
   ],
   "execution_count": 15
  },
  {
   "metadata": {
    "ExecuteTime": {
     "end_time": "2025-07-31T04:01:15.328113Z",
     "start_time": "2025-07-31T04:01:15.315300Z"
    }
   },
   "cell_type": "code",
   "source": "target_onehot.scatter_(1, temp, 1.0)",
   "id": "5a1b19118af88976",
   "outputs": [
    {
     "data": {
      "text/plain": [
       "tensor([[0., 0.,  ..., 0., 0.],\n",
       "        [0., 0.,  ..., 0., 0.],\n",
       "        ...,\n",
       "        [0., 0.,  ..., 0., 0.],\n",
       "        [0., 0.,  ..., 0., 0.]])"
      ]
     },
     "execution_count": 16,
     "metadata": {},
     "output_type": "execute_result"
    }
   ],
   "execution_count": 16
  },
  {
   "metadata": {
    "ExecuteTime": {
     "end_time": "2025-07-31T04:02:18.839806Z",
     "start_time": "2025-07-31T04:02:18.789211Z"
    }
   },
   "cell_type": "code",
   "source": [
    "data_mean = torch.mean(data, dim=0)\n",
    "data_mean"
   ],
   "id": "d9db1dcaf079c1c1",
   "outputs": [
    {
     "data": {
      "text/plain": [
       "tensor([6.85e+00, 2.78e-01, 3.34e-01, 6.39e+00, 4.58e-02, 3.53e+01,\n",
       "        1.38e+02, 9.94e-01, 3.19e+00, 4.90e-01, 1.05e+01])"
      ]
     },
     "execution_count": 17,
     "metadata": {},
     "output_type": "execute_result"
    }
   ],
   "execution_count": 17
  },
  {
   "metadata": {
    "ExecuteTime": {
     "end_time": "2025-07-31T04:03:17.331480Z",
     "start_time": "2025-07-31T04:03:17.318475Z"
    }
   },
   "cell_type": "code",
   "source": [
    "data_std = torch.std(data, dim=0)\n",
    "data_std"
   ],
   "id": "31608d0faa513c9c",
   "outputs": [
    {
     "data": {
      "text/plain": [
       "tensor([8.44e-01, 1.01e-01, 1.21e-01, 5.07e+00, 2.18e-02, 1.70e+01,\n",
       "        4.25e+01, 2.99e-03, 1.51e-01, 1.14e-01, 1.23e+00])"
      ]
     },
     "execution_count": 19,
     "metadata": {},
     "output_type": "execute_result"
    }
   ],
   "execution_count": 19
  },
  {
   "metadata": {
    "ExecuteTime": {
     "end_time": "2025-07-31T04:03:31.314460Z",
     "start_time": "2025-07-31T04:03:31.287594Z"
    }
   },
   "cell_type": "code",
   "source": [
    "data_norm = (data - data_mean) / data_std\n",
    "data_norm"
   ],
   "id": "18c5787f5f6aa298",
   "outputs": [
    {
     "data": {
      "text/plain": [
       "tensor([[ 1.72e-01, -8.18e-02,  ..., -3.49e-01, -1.39e+00],\n",
       "        [-6.57e-01,  2.16e-01,  ...,  1.34e-03, -8.24e-01],\n",
       "        ...,\n",
       "        [-1.61e+00,  1.17e-01,  ..., -9.63e-01,  1.86e+00],\n",
       "        [-1.01e+00, -6.77e-01,  ..., -1.49e+00,  1.04e+00]])"
      ]
     },
     "execution_count": 20,
     "metadata": {},
     "output_type": "execute_result"
    }
   ],
   "execution_count": 20
  },
  {
   "metadata": {
    "ExecuteTime": {
     "end_time": "2025-07-31T04:05:32.924019Z",
     "start_time": "2025-07-31T04:05:32.861975Z"
    }
   },
   "cell_type": "code",
   "source": [
    "bad_data = data[target <= 3]\n",
    "mid_data = data[(target > 3) & (target < 7)]\n",
    "good_data = data[target >= 7]"
   ],
   "id": "2bd9550cf6665043",
   "outputs": [],
   "execution_count": 21
  },
  {
   "metadata": {
    "ExecuteTime": {
     "end_time": "2025-07-31T04:06:00.999462Z",
     "start_time": "2025-07-31T04:06:00.988828Z"
    }
   },
   "cell_type": "code",
   "source": [
    "bad_mean = torch.mean(bad_data, dim=0)\n",
    "mid_mean = torch.mean(mid_data, dim=0)\n",
    "good_mean = torch.mean(good_data, dim=0)\n",
    "bad_mean, mid_mean, good_mean"
   ],
   "id": "aaadd39dc381b7a4",
   "outputs": [
    {
     "data": {
      "text/plain": [
       "(tensor([7.60e+00, 3.33e-01, 3.36e-01, 6.39e+00, 5.43e-02, 5.33e+01,\n",
       "         1.71e+02, 9.95e-01, 3.19e+00, 4.75e-01, 1.03e+01]),\n",
       " tensor([6.89e+00, 2.82e-01, 3.36e-01, 6.71e+00, 4.78e-02, 3.54e+01,\n",
       "         1.42e+02, 9.94e-01, 3.18e+00, 4.87e-01, 1.03e+01]),\n",
       " tensor([6.73e+00, 2.65e-01, 3.26e-01, 5.26e+00, 3.82e-02, 3.46e+01,\n",
       "         1.25e+02, 9.92e-01, 3.22e+00, 5.00e-01, 1.14e+01]))"
      ]
     },
     "execution_count": 22,
     "metadata": {},
     "output_type": "execute_result"
    }
   ],
   "execution_count": 22
  },
  {
   "metadata": {
    "ExecuteTime": {
     "end_time": "2025-07-31T04:13:02.591943Z",
     "start_time": "2025-07-31T04:13:02.583927Z"
    }
   },
   "cell_type": "code",
   "source": [
    "for i, args in enumerate(zip(col_list, bad_mean, mid_mean, good_mean)):\n",
    "    print('{:2} {:20} {:6.2f} {:6.2f} {:6.2f}'.format(i, *args))"
   ],
   "id": "228f2cb876360a55",
   "outputs": [
    {
     "name": "stdout",
     "output_type": "stream",
     "text": [
      " 0 fixed acidity          7.60   6.89   6.73\n",
      " 1 volatile acidity       0.33   0.28   0.27\n",
      " 2 citric acid            0.34   0.34   0.33\n",
      " 3 residual sugar         6.39   6.71   5.26\n",
      " 4 chlorides              0.05   0.05   0.04\n",
      " 5 free sulfur dioxide   53.33  35.42  34.55\n",
      " 6 total sulfur dioxide 170.60 141.83 125.25\n",
      " 7 density                0.99   0.99   0.99\n",
      " 8 pH                     3.19   3.18   3.22\n",
      " 9 sulphates              0.47   0.49   0.50\n",
      "10 alcohol               10.34  10.26  11.42\n"
     ]
    }
   ],
   "execution_count": 23
  },
  {
   "metadata": {
    "ExecuteTime": {
     "end_time": "2025-07-31T04:14:12.708771Z",
     "start_time": "2025-07-31T04:14:12.703566Z"
    }
   },
   "cell_type": "code",
   "source": [
    "total_sulfur_threshold = 141.83\n",
    "total_sulfur_data = data[:, 6]"
   ],
   "id": "f721769f177f3558",
   "outputs": [],
   "execution_count": 25
  },
  {
   "metadata": {
    "ExecuteTime": {
     "end_time": "2025-07-31T04:14:53.485652Z",
     "start_time": "2025-07-31T04:14:53.474522Z"
    }
   },
   "cell_type": "code",
   "source": [
    "predicted_indexes = torch.lt(total_sulfur_data, total_sulfur_threshold)\n",
    "predicted_indexes"
   ],
   "id": "3f649759a46115ee",
   "outputs": [
    {
     "data": {
      "text/plain": [
       "tensor([False,  True,  ...,  True,  True])"
      ]
     },
     "execution_count": 26,
     "metadata": {},
     "output_type": "execute_result"
    }
   ],
   "execution_count": 26
  },
  {
   "metadata": {
    "ExecuteTime": {
     "end_time": "2025-07-31T04:15:31.064828Z",
     "start_time": "2025-07-31T04:15:31.046803Z"
    }
   },
   "cell_type": "code",
   "source": "predicted_indexes.shape, predicted_indexes.dtype, predicted_indexes.sum()",
   "id": "54b088053c3478b7",
   "outputs": [
    {
     "data": {
      "text/plain": [
       "(torch.Size([4898]), torch.bool, tensor(2727))"
      ]
     },
     "execution_count": 27,
     "metadata": {},
     "output_type": "execute_result"
    }
   ],
   "execution_count": 27
  },
  {
   "metadata": {
    "ExecuteTime": {
     "end_time": "2025-07-31T04:16:09.624368Z",
     "start_time": "2025-07-31T04:16:09.616042Z"
    }
   },
   "cell_type": "code",
   "source": [
    "actual_indexes = target > 5\n",
    "actual_indexes.shape, actual_indexes.dtype, actual_indexes.sum()"
   ],
   "id": "7e5f3828311f909c",
   "outputs": [
    {
     "data": {
      "text/plain": [
       "(torch.Size([4898]), torch.bool, tensor(3258))"
      ]
     },
     "execution_count": 28,
     "metadata": {},
     "output_type": "execute_result"
    }
   ],
   "execution_count": 28
  },
  {
   "metadata": {
    "ExecuteTime": {
     "end_time": "2025-07-31T04:17:06.518444Z",
     "start_time": "2025-07-31T04:17:06.513444Z"
    }
   },
   "cell_type": "code",
   "source": [
    "n_matches = torch.sum(actual_indexes & predicted_indexes).item()\n",
    "n_matches"
   ],
   "id": "8999c8a9116d228d",
   "outputs": [
    {
     "data": {
      "text/plain": [
       "2018"
      ]
     },
     "execution_count": 31,
     "metadata": {},
     "output_type": "execute_result"
    }
   ],
   "execution_count": 31
  },
  {
   "metadata": {
    "ExecuteTime": {
     "end_time": "2025-07-31T04:18:22.855405Z",
     "start_time": "2025-07-31T04:18:22.850672Z"
    }
   },
   "cell_type": "code",
   "source": [
    "n_predicted = torch.sum(predicted_indexes).item()\n",
    "n_actual = torch.sum(actual_indexes).item()"
   ],
   "id": "a56e299f38a05b74",
   "outputs": [],
   "execution_count": 32
  },
  {
   "metadata": {
    "ExecuteTime": {
     "end_time": "2025-07-31T04:18:39.004610Z",
     "start_time": "2025-07-31T04:18:38.999522Z"
    }
   },
   "cell_type": "code",
   "source": "n_matches / n_predicted, n_matches / n_actual",
   "id": "28029ade3a106a0",
   "outputs": [
    {
     "data": {
      "text/plain": [
       "(0.74000733406674, 0.6193984039287906)"
      ]
     },
     "execution_count": 33,
     "metadata": {},
     "output_type": "execute_result"
    }
   ],
   "execution_count": 33
  },
  {
   "metadata": {},
   "cell_type": "code",
   "outputs": [],
   "execution_count": null,
   "source": "",
   "id": "c7a53529a126e55d"
  }
 ],
 "metadata": {
  "kernelspec": {
   "display_name": "Python 3",
   "language": "python",
   "name": "python3"
  },
  "language_info": {
   "codemirror_mode": {
    "name": "ipython",
    "version": 2
   },
   "file_extension": ".py",
   "mimetype": "text/x-python",
   "name": "python",
   "nbconvert_exporter": "python",
   "pygments_lexer": "ipython2",
   "version": "2.7.6"
  }
 },
 "nbformat": 4,
 "nbformat_minor": 5
}
