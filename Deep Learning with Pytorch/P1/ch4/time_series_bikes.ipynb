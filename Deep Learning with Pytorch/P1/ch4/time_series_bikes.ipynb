{
 "cells": [
  {
   "cell_type": "code",
   "id": "initial_id",
   "metadata": {
    "collapsed": true,
    "ExecuteTime": {
     "end_time": "2025-07-31T07:05:04.106228Z",
     "start_time": "2025-07-31T07:05:04.102152Z"
    }
   },
   "source": [
    "import numpy as np\n",
    "import torch\n",
    "torch.set_printoptions(edgeitems=2, precision=2, linewidth=75)"
   ],
   "outputs": [],
   "execution_count": 18
  },
  {
   "metadata": {
    "ExecuteTime": {
     "end_time": "2025-07-31T07:05:04.156264Z",
     "start_time": "2025-07-31T07:05:04.127744Z"
    }
   },
   "cell_type": "code",
   "source": [
    "bikes_np = np.loadtxt(\n",
    "    '../../data/p1ch4/bike-sharing-dataset/hour-fixed.csv',\n",
    "    dtype=np.float32,\n",
    "    delimiter=',',\n",
    "    skiprows=1,\n",
    "    converters={1: lambda x: float(x[8:10])})"
   ],
   "id": "d387676406c254ec",
   "outputs": [],
   "execution_count": 19
  },
  {
   "metadata": {
    "ExecuteTime": {
     "end_time": "2025-07-31T07:05:04.175523Z",
     "start_time": "2025-07-31T07:05:04.170584Z"
    }
   },
   "cell_type": "code",
   "source": [
    "bikes = torch.from_numpy(bikes_np)\n",
    "bikes"
   ],
   "id": "b0990dee6cce02ac",
   "outputs": [
    {
     "data": {
      "text/plain": [
       "tensor([[1.00e+00, 1.00e+00,  ..., 1.30e+01, 1.60e+01],\n",
       "        [2.00e+00, 1.00e+00,  ..., 3.20e+01, 4.00e+01],\n",
       "        ...,\n",
       "        [1.74e+04, 3.10e+01,  ..., 4.80e+01, 6.10e+01],\n",
       "        [1.74e+04, 3.10e+01,  ..., 3.70e+01, 4.90e+01]])"
      ]
     },
     "execution_count": 20,
     "metadata": {},
     "output_type": "execute_result"
    }
   ],
   "execution_count": 20
  },
  {
   "metadata": {
    "ExecuteTime": {
     "end_time": "2025-07-31T07:05:04.229939Z",
     "start_time": "2025-07-31T07:05:04.224942Z"
    }
   },
   "cell_type": "code",
   "source": "bikes.shape, bikes.stride()",
   "id": "198a57e718e35531",
   "outputs": [
    {
     "data": {
      "text/plain": [
       "(torch.Size([17520, 17]), (17, 1))"
      ]
     },
     "execution_count": 21,
     "metadata": {},
     "output_type": "execute_result"
    }
   ],
   "execution_count": 21
  },
  {
   "metadata": {
    "ExecuteTime": {
     "end_time": "2025-07-31T07:05:04.352536Z",
     "start_time": "2025-07-31T07:05:04.348292Z"
    }
   },
   "cell_type": "code",
   "source": [
    "daily_bikes = bikes.view(-1, 24, bikes.shape[1])\n",
    "daily_bikes.shape, daily_bikes.stride()"
   ],
   "id": "8e65135dcfa49482",
   "outputs": [
    {
     "data": {
      "text/plain": [
       "(torch.Size([730, 24, 17]), (408, 17, 1))"
      ]
     },
     "execution_count": 22,
     "metadata": {},
     "output_type": "execute_result"
    }
   ],
   "execution_count": 22
  },
  {
   "metadata": {
    "ExecuteTime": {
     "end_time": "2025-07-31T07:05:04.407627Z",
     "start_time": "2025-07-31T07:05:04.403119Z"
    }
   },
   "cell_type": "code",
   "source": [
    "daily_bikes = daily_bikes.transpose(1, 2)\n",
    "daily_bikes.shape"
   ],
   "id": "d828e9853eb85fac",
   "outputs": [
    {
     "data": {
      "text/plain": [
       "torch.Size([730, 17, 24])"
      ]
     },
     "execution_count": 23,
     "metadata": {},
     "output_type": "execute_result"
    }
   ],
   "execution_count": 23
  },
  {
   "metadata": {
    "ExecuteTime": {
     "end_time": "2025-07-31T07:05:04.499544Z",
     "start_time": "2025-07-31T07:05:04.494038Z"
    }
   },
   "cell_type": "code",
   "source": [
    "first_day = bikes[:24].long()\n",
    "weather_onehot = torch.zeros(first_day.shape[0], 4)\n",
    "first_day[:, 9], first_day.shape"
   ],
   "id": "fa17df03c3f2cf2d",
   "outputs": [
    {
     "data": {
      "text/plain": [
       "(tensor([1, 1, 1, 1, 1, 2, 1, 1, 1, 1, 1, 1, 1, 2, 2, 2, 2, 2, 3, 3, 2, 2,\n",
       "         2, 2]),\n",
       " torch.Size([24, 17]))"
      ]
     },
     "execution_count": 24,
     "metadata": {},
     "output_type": "execute_result"
    }
   ],
   "execution_count": 24
  },
  {
   "metadata": {
    "ExecuteTime": {
     "end_time": "2025-07-31T07:05:04.594331Z",
     "start_time": "2025-07-31T07:05:04.588850Z"
    }
   },
   "cell_type": "code",
   "source": [
    "weather_onehot.scatter_(\n",
    "    dim=1,\n",
    "    index=first_day[:, 9].unsqueeze(1).long() - 1,\n",
    "    value=1.0)"
   ],
   "id": "b922db3bd0606ed4",
   "outputs": [
    {
     "data": {
      "text/plain": [
       "tensor([[1., 0., 0., 0.],\n",
       "        [1., 0., 0., 0.],\n",
       "        [1., 0., 0., 0.],\n",
       "        [1., 0., 0., 0.],\n",
       "        [1., 0., 0., 0.],\n",
       "        [0., 1., 0., 0.],\n",
       "        [1., 0., 0., 0.],\n",
       "        [1., 0., 0., 0.],\n",
       "        [1., 0., 0., 0.],\n",
       "        [1., 0., 0., 0.],\n",
       "        [1., 0., 0., 0.],\n",
       "        [1., 0., 0., 0.],\n",
       "        [1., 0., 0., 0.],\n",
       "        [0., 1., 0., 0.],\n",
       "        [0., 1., 0., 0.],\n",
       "        [0., 1., 0., 0.],\n",
       "        [0., 1., 0., 0.],\n",
       "        [0., 1., 0., 0.],\n",
       "        [0., 0., 1., 0.],\n",
       "        [0., 0., 1., 0.],\n",
       "        [0., 1., 0., 0.],\n",
       "        [0., 1., 0., 0.],\n",
       "        [0., 1., 0., 0.],\n",
       "        [0., 1., 0., 0.]])"
      ]
     },
     "execution_count": 25,
     "metadata": {},
     "output_type": "execute_result"
    }
   ],
   "execution_count": 25
  },
  {
   "metadata": {
    "ExecuteTime": {
     "end_time": "2025-07-31T07:05:04.710070Z",
     "start_time": "2025-07-31T07:05:04.704629Z"
    }
   },
   "cell_type": "code",
   "source": "torch.cat((bikes[:24], weather_onehot), 1)[:1]",
   "id": "7f951d592fa7bf9f",
   "outputs": [
    {
     "data": {
      "text/plain": [
       "tensor([[ 1.00,  1.00,  1.00,  0.00,  1.00,  0.00,  0.00,  6.00,  0.00,\n",
       "          1.00,  0.24,  0.29,  0.81,  0.00,  3.00, 13.00, 16.00,  1.00,\n",
       "          0.00,  0.00,  0.00]])"
      ]
     },
     "execution_count": 26,
     "metadata": {},
     "output_type": "execute_result"
    }
   ],
   "execution_count": 26
  },
  {
   "metadata": {
    "ExecuteTime": {
     "end_time": "2025-07-31T07:05:04.816482Z",
     "start_time": "2025-07-31T07:05:04.811302Z"
    }
   },
   "cell_type": "code",
   "source": [
    "daily_weatherr_onehot = torch.zeros(daily_bikes.shape[0], 4, daily_bikes.shape[2])\n",
    "daily_weatherr_onehot.shape"
   ],
   "id": "2da61f01b171f6ea",
   "outputs": [
    {
     "data": {
      "text/plain": [
       "torch.Size([730, 4, 24])"
      ]
     },
     "execution_count": 27,
     "metadata": {},
     "output_type": "execute_result"
    }
   ],
   "execution_count": 27
  },
  {
   "metadata": {
    "ExecuteTime": {
     "end_time": "2025-07-31T07:05:04.924463Z",
     "start_time": "2025-07-31T07:05:04.916173Z"
    }
   },
   "cell_type": "code",
   "source": [
    "daily_weatherr_onehot.scatter_(\n",
    "    1, daily_bikes[:, 9, :].long().unsqueeze(1) - 1, 1.0\n",
    ")\n",
    "daily_weatherr_onehot.shape"
   ],
   "id": "c104efc90d900f2",
   "outputs": [
    {
     "data": {
      "text/plain": [
       "torch.Size([730, 4, 24])"
      ]
     },
     "execution_count": 28,
     "metadata": {},
     "output_type": "execute_result"
    }
   ],
   "execution_count": 28
  },
  {
   "metadata": {
    "ExecuteTime": {
     "end_time": "2025-07-31T07:05:05.014238Z",
     "start_time": "2025-07-31T07:05:05.009214Z"
    }
   },
   "cell_type": "code",
   "source": [
    "daily_bikes = torch.cat((daily_bikes, daily_weatherr_onehot), 1)\n",
    "daily_bikes.shape"
   ],
   "id": "669aa66bd5fb5536",
   "outputs": [
    {
     "data": {
      "text/plain": [
       "torch.Size([730, 21, 24])"
      ]
     },
     "execution_count": 29,
     "metadata": {},
     "output_type": "execute_result"
    }
   ],
   "execution_count": 29
  },
  {
   "metadata": {
    "ExecuteTime": {
     "end_time": "2025-07-31T07:06:22.016473Z",
     "start_time": "2025-07-31T07:06:21.995931Z"
    }
   },
   "cell_type": "code",
   "source": [
    "daily_bikes[:, 9, :] = (daily_bikes[:, 9, :] - 1.0) / 3.0\n",
    "daily_bikes.shape"
   ],
   "id": "b5d52465af891dd0",
   "outputs": [
    {
     "data": {
      "text/plain": [
       "torch.Size([730, 21, 24])"
      ]
     },
     "execution_count": 30,
     "metadata": {},
     "output_type": "execute_result"
    }
   ],
   "execution_count": 30
  },
  {
   "metadata": {
    "ExecuteTime": {
     "end_time": "2025-07-31T07:07:07.306517Z",
     "start_time": "2025-07-31T07:07:07.290514Z"
    }
   },
   "cell_type": "code",
   "source": [
    "temp = daily_bikes[:, 10, :]\n",
    "temp_min = torch.min(temp)\n",
    "temp_max = torch.max(temp)\n",
    "daily_bikes[:, 10, :] = (daily_bikes[:, 10, :] - temp_min) / (temp_max - temp_min)"
   ],
   "id": "473ac897aaf47f10",
   "outputs": [],
   "execution_count": 31
  },
  {
   "metadata": {},
   "cell_type": "code",
   "outputs": [],
   "execution_count": null,
   "source": "",
   "id": "e880d7205be2b1ed"
  }
 ],
 "metadata": {
  "kernelspec": {
   "display_name": "Python 3",
   "language": "python",
   "name": "python3"
  },
  "language_info": {
   "codemirror_mode": {
    "name": "ipython",
    "version": 2
   },
   "file_extension": ".py",
   "mimetype": "text/x-python",
   "name": "python",
   "nbconvert_exporter": "python",
   "pygments_lexer": "ipython2",
   "version": "2.7.6"
  }
 },
 "nbformat": 4,
 "nbformat_minor": 5
}
