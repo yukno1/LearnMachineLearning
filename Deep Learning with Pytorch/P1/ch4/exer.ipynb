{
 "cells": [
  {
   "cell_type": "code",
   "id": "initial_id",
   "metadata": {
    "collapsed": true,
    "ExecuteTime": {
     "end_time": "2025-08-01T11:50:42.226094Z",
     "start_time": "2025-08-01T11:50:38.694492Z"
    }
   },
   "source": [
    "import numpy as np\n",
    "import torch"
   ],
   "outputs": [],
   "execution_count": 2
  },
  {
   "metadata": {},
   "cell_type": "markdown",
   "source": [
    " Q1 Take several pictures of red, blue, and green items with your phone or other digital camera (or download some from the internet, if a camera isn’t available).\n",
    "\n",
    " a Load each image, and convert it to a tensor.\n"
   ],
   "id": "911b28ec214f72db"
  },
  {
   "metadata": {
    "ExecuteTime": {
     "end_time": "2025-08-01T07:52:57.973047Z",
     "start_time": "2025-08-01T07:52:57.957065Z"
    }
   },
   "cell_type": "code",
   "source": [
    "import imageio.v3 as iio\n",
    "\n",
    "img_arr1 = iio.imread('../../data/p1ch4/R.jpeg')\n",
    "img1 = torch.from_numpy(img_arr1)\n",
    "img1 = img1.permute(2, 0, 1)\n",
    "img1.shape"
   ],
   "id": "70dc8ff75edacfd6",
   "outputs": [
    {
     "data": {
      "text/plain": [
       "torch.Size([3, 869, 605])"
      ]
     },
     "execution_count": 5,
     "metadata": {},
     "output_type": "execute_result"
    }
   ],
   "execution_count": 5
  },
  {
   "metadata": {
    "ExecuteTime": {
     "end_time": "2025-08-01T07:53:30.153559Z",
     "start_time": "2025-08-01T07:53:30.116988Z"
    }
   },
   "cell_type": "code",
   "source": [
    "img_arr2 = iio.imread('../../data/p1ch4/B.jpeg')\n",
    "img2 = torch.from_numpy(img_arr2)\n",
    "img2 = img2.permute(2, 0, 1)\n",
    "img2.shape"
   ],
   "id": "bb799c1aae1ad8be",
   "outputs": [
    {
     "data": {
      "text/plain": [
       "torch.Size([3, 854, 1282])"
      ]
     },
     "execution_count": 6,
     "metadata": {},
     "output_type": "execute_result"
    }
   ],
   "execution_count": 6
  },
  {
   "metadata": {},
   "cell_type": "markdown",
   "source": [
    " b For each image tensor, use the .mean() method to get a sense of how bright\n",
    " the image is."
   ],
   "id": "847f23169f0e7e9c"
  },
  {
   "metadata": {
    "ExecuteTime": {
     "end_time": "2025-08-01T07:55:42.929259Z",
     "start_time": "2025-08-01T07:55:42.902574Z"
    }
   },
   "cell_type": "code",
   "source": [
    "img1 = img1.float() / 255.0\n",
    "img2 = img2.float() / 255.0"
   ],
   "id": "ab94d3eebd4a1d3d",
   "outputs": [],
   "execution_count": 9
  },
  {
   "metadata": {
    "ExecuteTime": {
     "end_time": "2025-08-01T07:55:44.222408Z",
     "start_time": "2025-08-01T07:55:44.218362Z"
    }
   },
   "cell_type": "code",
   "source": [
    "mean1 = img1.mean()\n",
    "mean2 = img2.mean()"
   ],
   "id": "47e857a5a5c79657",
   "outputs": [],
   "execution_count": 10
  },
  {
   "metadata": {
    "ExecuteTime": {
     "end_time": "2025-08-01T07:55:50.893394Z",
     "start_time": "2025-08-01T07:55:50.881990Z"
    }
   },
   "cell_type": "code",
   "source": "mean1, mean2",
   "id": "5dacba52f3fdd687",
   "outputs": [
    {
     "data": {
      "text/plain": [
       "(tensor(0.8106), tensor(0.3166))"
      ]
     },
     "execution_count": 11,
     "metadata": {},
     "output_type": "execute_result"
    }
   ],
   "execution_count": 11
  },
  {
   "metadata": {},
   "cell_type": "markdown",
   "source": [
    " c Take the mean of each channel of your images. Can you identify the red,\n",
    " green, and blue items from only the channel averages?"
   ],
   "id": "2323a2ffcac33b31"
  },
  {
   "metadata": {
    "ExecuteTime": {
     "end_time": "2025-08-01T07:57:25.396679Z",
     "start_time": "2025-08-01T07:57:25.391585Z"
    }
   },
   "cell_type": "code",
   "source": [
    "img1_mean_0 = img1[0, :, :].mean()\n",
    "img1_mean_1 = img1[1, :, :].mean()\n",
    "img1_mean_2 = img1[2, :, :].mean()"
   ],
   "id": "d3b78d4b311995c4",
   "outputs": [],
   "execution_count": 13
  },
  {
   "metadata": {
    "ExecuteTime": {
     "end_time": "2025-08-01T11:50:33.670730Z",
     "start_time": "2025-08-01T11:50:33.663686Z"
    }
   },
   "cell_type": "code",
   "source": [
    "with open('model.py', encoding='utf-8') as f:\n",
    "    text = f.read()"
   ],
   "id": "1bf92688a784c9bf",
   "outputs": [],
   "execution_count": 1
  },
  {
   "metadata": {
    "ExecuteTime": {
     "end_time": "2025-08-01T11:51:03.877535Z",
     "start_time": "2025-08-01T11:51:03.870191Z"
    }
   },
   "cell_type": "code",
   "source": [
    "lines = text.split('\\n')\n",
    "len(lines), lines[7]"
   ],
   "id": "8e2b859147dc832",
   "outputs": [
    {
     "data": {
      "text/plain": [
       "(89, '# log.setLevel(logging.WARN)')"
      ]
     },
     "execution_count": 3,
     "metadata": {},
     "output_type": "execute_result"
    }
   ],
   "execution_count": 3
  },
  {
   "metadata": {},
   "cell_type": "code",
   "outputs": [],
   "execution_count": null,
   "source": "",
   "id": "69730d0efe5c206b"
  }
 ],
 "metadata": {
  "kernelspec": {
   "display_name": "Python 3",
   "language": "python",
   "name": "python3"
  },
  "language_info": {
   "codemirror_mode": {
    "name": "ipython",
    "version": 2
   },
   "file_extension": ".py",
   "mimetype": "text/x-python",
   "name": "python",
   "nbconvert_exporter": "python",
   "pygments_lexer": "ipython2",
   "version": "2.7.6"
  }
 },
 "nbformat": 4,
 "nbformat_minor": 5
}
