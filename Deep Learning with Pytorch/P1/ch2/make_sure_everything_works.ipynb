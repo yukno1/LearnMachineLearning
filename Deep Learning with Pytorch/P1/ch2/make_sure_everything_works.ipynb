{
 "cells": [
  {
   "cell_type": "code",
   "id": "initial_id",
   "metadata": {
    "collapsed": true,
    "ExecuteTime": {
     "end_time": "2025-07-28T09:29:12.488390Z",
     "start_time": "2025-07-28T09:29:06.375975Z"
    }
   },
   "source": "import torch",
   "outputs": [],
   "execution_count": 1
  },
  {
   "metadata": {
    "ExecuteTime": {
     "end_time": "2025-07-28T09:29:28.075337Z",
     "start_time": "2025-07-28T09:29:28.068289Z"
    }
   },
   "cell_type": "code",
   "source": "torch.__version__",
   "id": "f1bf7451689ee4b9",
   "outputs": [
    {
     "data": {
      "text/plain": [
       "'2.7.1+cu128'"
      ]
     },
     "execution_count": 2,
     "metadata": {},
     "output_type": "execute_result"
    }
   ],
   "execution_count": 2
  },
  {
   "metadata": {
    "ExecuteTime": {
     "end_time": "2025-07-28T09:29:43.941956Z",
     "start_time": "2025-07-28T09:29:43.895911Z"
    }
   },
   "cell_type": "code",
   "source": [
    "a = torch.ones(3, 3)\n",
    "a"
   ],
   "id": "aa3baec05b68eb39",
   "outputs": [
    {
     "data": {
      "text/plain": [
       "tensor([[1., 1., 1.],\n",
       "        [1., 1., 1.],\n",
       "        [1., 1., 1.]])"
      ]
     },
     "execution_count": 3,
     "metadata": {},
     "output_type": "execute_result"
    }
   ],
   "execution_count": 3
  },
  {
   "metadata": {
    "ExecuteTime": {
     "end_time": "2025-07-28T09:30:03.145416Z",
     "start_time": "2025-07-28T09:30:03.142054Z"
    }
   },
   "cell_type": "code",
   "source": "b = torch.ones(3, 3)",
   "id": "3d2021bbbc953a84",
   "outputs": [],
   "execution_count": 4
  },
  {
   "metadata": {
    "ExecuteTime": {
     "end_time": "2025-07-28T09:30:09.034441Z",
     "start_time": "2025-07-28T09:30:09.026228Z"
    }
   },
   "cell_type": "code",
   "source": "a + b",
   "id": "14e9ca76334b01e8",
   "outputs": [
    {
     "data": {
      "text/plain": [
       "tensor([[2., 2., 2.],\n",
       "        [2., 2., 2.],\n",
       "        [2., 2., 2.]])"
      ]
     },
     "execution_count": 5,
     "metadata": {},
     "output_type": "execute_result"
    }
   ],
   "execution_count": 5
  },
  {
   "metadata": {},
   "cell_type": "markdown",
   "source": "查看有没有显卡，有没有激活",
   "id": "af8ccc0193947821"
  },
  {
   "metadata": {
    "ExecuteTime": {
     "end_time": "2025-07-28T09:30:47.002542Z",
     "start_time": "2025-07-28T09:30:46.930968Z"
    }
   },
   "cell_type": "code",
   "source": "torch.cuda.is_available()",
   "id": "e59a3bfc7a480702",
   "outputs": [
    {
     "data": {
      "text/plain": [
       "True"
      ]
     },
     "execution_count": 6,
     "metadata": {},
     "output_type": "execute_result"
    }
   ],
   "execution_count": 6
  },
  {
   "metadata": {
    "ExecuteTime": {
     "end_time": "2025-07-28T09:31:42.983766Z",
     "start_time": "2025-07-28T09:31:41.580593Z"
    }
   },
   "cell_type": "code",
   "source": [
    "a = a.to('cuda')\n",
    "b = b.to('cuda')\n",
    "a + b"
   ],
   "id": "7d3d2aeedb0ddaa5",
   "outputs": [
    {
     "data": {
      "text/plain": [
       "tensor([[2., 2., 2.],\n",
       "        [2., 2., 2.],\n",
       "        [2., 2., 2.]], device='cuda:0')"
      ]
     },
     "execution_count": 7,
     "metadata": {},
     "output_type": "execute_result"
    }
   ],
   "execution_count": 7
  },
  {
   "metadata": {},
   "cell_type": "code",
   "outputs": [],
   "execution_count": null,
   "source": "",
   "id": "93944c1b77853e45"
  }
 ],
 "metadata": {
  "kernelspec": {
   "display_name": "Python 3",
   "language": "python",
   "name": "python3"
  },
  "language_info": {
   "codemirror_mode": {
    "name": "ipython",
    "version": 2
   },
   "file_extension": ".py",
   "mimetype": "text/x-python",
   "name": "python",
   "nbconvert_exporter": "python",
   "pygments_lexer": "ipython2",
   "version": "2.7.6"
  }
 },
 "nbformat": 4,
 "nbformat_minor": 5
}
