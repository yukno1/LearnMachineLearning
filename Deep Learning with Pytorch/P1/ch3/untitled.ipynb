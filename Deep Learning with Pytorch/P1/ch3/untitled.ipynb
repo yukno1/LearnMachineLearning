{
 "cells": [
  {
   "cell_type": "code",
   "id": "initial_id",
   "metadata": {
    "collapsed": true,
    "ExecuteTime": {
     "end_time": "2025-07-30T06:01:12.788273Z",
     "start_time": "2025-07-30T06:01:10.320099Z"
    }
   },
   "source": "import torch",
   "outputs": [],
   "execution_count": 1
  },
  {
   "metadata": {
    "ExecuteTime": {
     "end_time": "2025-07-30T06:01:12.808150Z",
     "start_time": "2025-07-30T06:01:12.802800Z"
    }
   },
   "cell_type": "code",
   "source": [
    "some_list = list(range(6))\n",
    "some_list"
   ],
   "id": "1dc64968701b7e0e",
   "outputs": [
    {
     "data": {
      "text/plain": [
       "[0, 1, 2, 3, 4, 5]"
      ]
     },
     "execution_count": 2,
     "metadata": {},
     "output_type": "execute_result"
    }
   ],
   "execution_count": 2
  },
  {
   "metadata": {
    "ExecuteTime": {
     "end_time": "2025-07-30T06:01:13.066493Z",
     "start_time": "2025-07-30T06:01:13.057985Z"
    }
   },
   "cell_type": "code",
   "source": [
    "points = torch.tensor([[4.0, 1.0], [5.0, 3.0], [2.0, 1.0]])\n",
    "points"
   ],
   "id": "e81284724d5a791a",
   "outputs": [
    {
     "data": {
      "text/plain": [
       "tensor([[4., 1.],\n",
       "        [5., 3.],\n",
       "        [2., 1.]])"
      ]
     },
     "execution_count": 3,
     "metadata": {},
     "output_type": "execute_result"
    }
   ],
   "execution_count": 3
  },
  {
   "metadata": {
    "ExecuteTime": {
     "end_time": "2025-07-30T06:01:13.181304Z",
     "start_time": "2025-07-30T06:01:13.177051Z"
    }
   },
   "cell_type": "code",
   "source": "points[1:]",
   "id": "16ad8bce59557136",
   "outputs": [
    {
     "data": {
      "text/plain": [
       "tensor([[5., 3.],\n",
       "        [2., 1.]])"
      ]
     },
     "execution_count": 4,
     "metadata": {},
     "output_type": "execute_result"
    }
   ],
   "execution_count": 4
  },
  {
   "metadata": {
    "ExecuteTime": {
     "end_time": "2025-07-30T06:01:13.622260Z",
     "start_time": "2025-07-30T06:01:13.617301Z"
    }
   },
   "cell_type": "code",
   "source": "points[1:,1]",
   "id": "d9f2045a91eb4afb",
   "outputs": [
    {
     "data": {
      "text/plain": [
       "tensor([3., 1.])"
      ]
     },
     "execution_count": 5,
     "metadata": {},
     "output_type": "execute_result"
    }
   ],
   "execution_count": 5
  },
  {
   "metadata": {
    "ExecuteTime": {
     "end_time": "2025-07-30T06:01:13.768393Z",
     "start_time": "2025-07-30T06:01:13.763736Z"
    }
   },
   "cell_type": "code",
   "source": "points[None]",
   "id": "3eeff2b32f649053",
   "outputs": [
    {
     "data": {
      "text/plain": [
       "tensor([[[4., 1.],\n",
       "         [5., 3.],\n",
       "         [2., 1.]]])"
      ]
     },
     "execution_count": 6,
     "metadata": {},
     "output_type": "execute_result"
    }
   ],
   "execution_count": 6
  },
  {
   "metadata": {
    "ExecuteTime": {
     "end_time": "2025-07-30T06:01:13.819519Z",
     "start_time": "2025-07-30T06:01:13.814059Z"
    }
   },
   "cell_type": "code",
   "source": [
    "points = torch.ones(3, 4)\n",
    "points_np = points.numpy()\n",
    "points_np"
   ],
   "id": "197f040385cdce67",
   "outputs": [
    {
     "data": {
      "text/plain": [
       "array([[1., 1., 1., 1.],\n",
       "       [1., 1., 1., 1.],\n",
       "       [1., 1., 1., 1.]], dtype=float32)"
      ]
     },
     "execution_count": 7,
     "metadata": {},
     "output_type": "execute_result"
    }
   ],
   "execution_count": 7
  },
  {
   "metadata": {
    "ExecuteTime": {
     "end_time": "2025-07-30T06:10:25.339727Z",
     "start_time": "2025-07-30T06:10:25.333727Z"
    }
   },
   "cell_type": "code",
   "source": [
    "points = torch.from_numpy(points_np)\n",
    "points"
   ],
   "id": "2e8542d2c7ef452b",
   "outputs": [
    {
     "data": {
      "text/plain": [
       "tensor([[1., 1., 1., 1.],\n",
       "        [1., 1., 1., 1.],\n",
       "        [1., 1., 1., 1.]])"
      ]
     },
     "execution_count": 37,
     "metadata": {},
     "output_type": "execute_result"
    }
   ],
   "execution_count": 37
  },
  {
   "metadata": {
    "ExecuteTime": {
     "end_time": "2025-07-30T06:01:13.959727Z",
     "start_time": "2025-07-30T06:01:13.952398Z"
    }
   },
   "cell_type": "code",
   "source": "torch.save(points, '../../data/p1ch3/ourpoints.t')",
   "id": "723ad785febbd764",
   "outputs": [],
   "execution_count": 9
  },
  {
   "metadata": {},
   "cell_type": "markdown",
   "source": "write binary",
   "id": "a4cd1a830628f5a6"
  },
  {
   "metadata": {
    "ExecuteTime": {
     "end_time": "2025-07-30T06:01:14.060693Z",
     "start_time": "2025-07-30T06:01:14.056309Z"
    }
   },
   "cell_type": "code",
   "source": [
    "with open('../../data/p1ch3/ourpoints.t', 'wb') as f:\n",
    "    torch.save(points, f)"
   ],
   "id": "3905cfcee3b3fa3",
   "outputs": [],
   "execution_count": 10
  },
  {
   "metadata": {
    "ExecuteTime": {
     "end_time": "2025-07-30T06:01:14.111402Z",
     "start_time": "2025-07-30T06:01:14.106293Z"
    }
   },
   "cell_type": "code",
   "source": [
    "a = torch.load('../../data/p1ch3/ourpoints.t')\n",
    "a"
   ],
   "id": "e85cd42137c534b1",
   "outputs": [
    {
     "data": {
      "text/plain": [
       "tensor([[1., 1., 1., 1.],\n",
       "        [1., 1., 1., 1.],\n",
       "        [1., 1., 1., 1.]])"
      ]
     },
     "execution_count": 11,
     "metadata": {},
     "output_type": "execute_result"
    }
   ],
   "execution_count": 11
  },
  {
   "metadata": {
    "ExecuteTime": {
     "end_time": "2025-07-30T06:01:14.188961Z",
     "start_time": "2025-07-30T06:01:14.182497Z"
    }
   },
   "cell_type": "code",
   "source": [
    "with open('../../data/p1ch3/ourpoints.t', 'rb') as f:\n",
    "    a = torch.load(f)\n",
    "\n",
    "a"
   ],
   "id": "9a683c2256103dc3",
   "outputs": [
    {
     "data": {
      "text/plain": [
       "tensor([[1., 1., 1., 1.],\n",
       "        [1., 1., 1., 1.],\n",
       "        [1., 1., 1., 1.]])"
      ]
     },
     "execution_count": 12,
     "metadata": {},
     "output_type": "execute_result"
    }
   ],
   "execution_count": 12
  },
  {
   "metadata": {
    "ExecuteTime": {
     "end_time": "2025-07-30T06:01:14.382220Z",
     "start_time": "2025-07-30T06:01:14.295265Z"
    }
   },
   "cell_type": "code",
   "source": "import h5py",
   "id": "fb8152a5b09be00",
   "outputs": [],
   "execution_count": 13
  },
  {
   "metadata": {
    "ExecuteTime": {
     "end_time": "2025-07-30T06:02:51.715054Z",
     "start_time": "2025-07-30T06:02:51.709056Z"
    }
   },
   "cell_type": "code",
   "source": [
    "f = h5py.File('../../data/p1ch3/ourpoints.hdf5', 'w')\n",
    "dset = f.create_dataset('coords', data=points.numpy())\n",
    "f.close()"
   ],
   "id": "5d116f1e6b77aa0",
   "outputs": [],
   "execution_count": 14
  },
  {
   "metadata": {
    "ExecuteTime": {
     "end_time": "2025-07-30T06:08:43.130848Z",
     "start_time": "2025-07-30T06:08:43.125847Z"
    }
   },
   "cell_type": "code",
   "source": [
    "f = h5py.File('../../data/p1ch3/ourpoints.hdf5', 'r')\n",
    "dset = f['coords']\n",
    "dset"
   ],
   "id": "ebb3812e6a718984",
   "outputs": [
    {
     "data": {
      "text/plain": [
       "<HDF5 dataset \"coords\": shape (3, 4), type \"<f4\">"
      ]
     },
     "execution_count": 25,
     "metadata": {},
     "output_type": "execute_result"
    }
   ],
   "execution_count": 25
  },
  {
   "metadata": {
    "ExecuteTime": {
     "end_time": "2025-07-30T06:08:44.437716Z",
     "start_time": "2025-07-30T06:08:44.432730Z"
    }
   },
   "cell_type": "code",
   "source": [
    "last_points = dset[-2:]\n",
    "last_points"
   ],
   "id": "bdb353313dfba5ec",
   "outputs": [
    {
     "data": {
      "text/plain": [
       "array([[1., 1., 1., 1.],\n",
       "       [1., 1., 1., 1.]], dtype=float32)"
      ]
     },
     "execution_count": 26,
     "metadata": {},
     "output_type": "execute_result"
    }
   ],
   "execution_count": 26
  },
  {
   "metadata": {
    "ExecuteTime": {
     "end_time": "2025-07-30T06:08:48.058531Z",
     "start_time": "2025-07-30T06:08:48.054152Z"
    }
   },
   "cell_type": "code",
   "source": [
    "points = torch.from_numpy(last_points)\n",
    "f.close()\n",
    "points"
   ],
   "id": "98a4029bd5c08e53",
   "outputs": [
    {
     "data": {
      "text/plain": [
       "tensor([[1., 1., 1., 1.],\n",
       "        [1., 1., 1., 1.]])"
      ]
     },
     "execution_count": 27,
     "metadata": {},
     "output_type": "execute_result"
    }
   ],
   "execution_count": 27
  },
  {
   "metadata": {
    "ExecuteTime": {
     "end_time": "2025-07-30T06:10:26.937543Z",
     "start_time": "2025-07-30T06:10:26.933609Z"
    }
   },
   "cell_type": "code",
   "source": "points = torch.tensor([[4.0, 1.0], [5.0, 3.0], [2.0, 1.0]])",
   "id": "ee05e89e0c595ff8",
   "outputs": [],
   "execution_count": 38
  },
  {
   "metadata": {
    "ExecuteTime": {
     "end_time": "2025-07-30T06:10:24.281624Z",
     "start_time": "2025-07-30T06:10:24.277577Z"
    }
   },
   "cell_type": "code",
   "source": "points_gpu = torch.tensor([[4.0, 1.0], [5.0, 3.0], [2.0, 1.0]], device='cuda')",
   "id": "57c03cba586f41a0",
   "outputs": [],
   "execution_count": 36
  },
  {
   "metadata": {
    "ExecuteTime": {
     "end_time": "2025-07-30T06:10:37.840497Z",
     "start_time": "2025-07-30T06:10:37.836495Z"
    }
   },
   "cell_type": "code",
   "source": "points = points.to('cuda')",
   "id": "fa98d78d140fef3f",
   "outputs": [],
   "execution_count": 39
  },
  {
   "metadata": {
    "ExecuteTime": {
     "end_time": "2025-07-30T06:11:31.507434Z",
     "start_time": "2025-07-30T06:11:31.431928Z"
    }
   },
   "cell_type": "code",
   "source": "points + points_gpu",
   "id": "4fb78066871fd854",
   "outputs": [
    {
     "data": {
      "text/plain": [
       "tensor([[ 8.,  2.],\n",
       "        [10.,  6.],\n",
       "        [ 4.,  2.]], device='cuda:0')"
      ]
     },
     "execution_count": 41,
     "metadata": {},
     "output_type": "execute_result"
    }
   ],
   "execution_count": 41
  },
  {
   "metadata": {},
   "cell_type": "code",
   "outputs": [],
   "execution_count": null,
   "source": "",
   "id": "93825469e2cc1acb"
  }
 ],
 "metadata": {
  "kernelspec": {
   "display_name": "Python 3",
   "language": "python",
   "name": "python3"
  },
  "language_info": {
   "codemirror_mode": {
    "name": "ipython",
    "version": 2
   },
   "file_extension": ".py",
   "mimetype": "text/x-python",
   "name": "python",
   "nbconvert_exporter": "python",
   "pygments_lexer": "ipython2",
   "version": "2.7.6"
  }
 },
 "nbformat": 4,
 "nbformat_minor": 5
}
