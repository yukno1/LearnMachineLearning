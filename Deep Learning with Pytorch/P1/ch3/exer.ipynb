{
 "cells": [
  {
   "metadata": {},
   "cell_type": "markdown",
   "source": "Q1: create a tensor `a` from `list(range(9))`. Predict and then check the size, offset, and stride.",
   "id": "1bfeb5bc50946428"
  },
  {
   "cell_type": "code",
   "id": "initial_id",
   "metadata": {
    "collapsed": true,
    "ExecuteTime": {
     "end_time": "2025-07-30T12:34:50.881977Z",
     "start_time": "2025-07-30T12:34:47.041851Z"
    }
   },
   "source": "import torch",
   "outputs": [],
   "execution_count": 1
  },
  {
   "metadata": {
    "ExecuteTime": {
     "end_time": "2025-07-30T12:35:04.057294Z",
     "start_time": "2025-07-30T12:35:04.047387Z"
    }
   },
   "cell_type": "code",
   "source": [
    "a = torch.tensor(list(range(9)))\n",
    "a"
   ],
   "id": "a54b67901e6c8140",
   "outputs": [
    {
     "data": {
      "text/plain": [
       "tensor([0, 1, 2, 3, 4, 5, 6, 7, 8])"
      ]
     },
     "execution_count": 3,
     "metadata": {},
     "output_type": "execute_result"
    }
   ],
   "execution_count": 3
  },
  {
   "metadata": {
    "ExecuteTime": {
     "end_time": "2025-07-30T12:35:28.874862Z",
     "start_time": "2025-07-30T12:35:28.869500Z"
    }
   },
   "cell_type": "code",
   "source": "a.size(), a.storage_offset(), a.stride()",
   "id": "36b9a82aded164ce",
   "outputs": [
    {
     "data": {
      "text/plain": [
       "(torch.Size([9]), 0, (1,))"
      ]
     },
     "execution_count": 4,
     "metadata": {},
     "output_type": "execute_result"
    }
   ],
   "execution_count": 4
  },
  {
   "metadata": {},
   "cell_type": "markdown",
   "source": "a: Create a new tensor using `b = a.view(3, 3)`. When does `view` do? Check that `a` and `b` share the same storage.",
   "id": "5c7ede4292e89db6"
  },
  {
   "metadata": {
    "ExecuteTime": {
     "end_time": "2025-07-30T12:36:22.661246Z",
     "start_time": "2025-07-30T12:36:22.653864Z"
    }
   },
   "cell_type": "code",
   "source": [
    "b = a.view(3, 3)\n",
    "b"
   ],
   "id": "92db83610006d423",
   "outputs": [
    {
     "data": {
      "text/plain": [
       "tensor([[0, 1, 2],\n",
       "        [3, 4, 5],\n",
       "        [6, 7, 8]])"
      ]
     },
     "execution_count": 6,
     "metadata": {},
     "output_type": "execute_result"
    }
   ],
   "execution_count": 6
  },
  {
   "metadata": {
    "ExecuteTime": {
     "end_time": "2025-07-30T12:37:24.962171Z",
     "start_time": "2025-07-30T12:37:24.910824Z"
    }
   },
   "cell_type": "code",
   "source": "b.storage()",
   "id": "17516b1a1bc69f88",
   "outputs": [
    {
     "name": "stderr",
     "output_type": "stream",
     "text": [
      "C:\\Users\\31987\\AppData\\Local\\Temp\\ipykernel_26112\\1362296067.py:1: UserWarning: TypedStorage is deprecated. It will be removed in the future and UntypedStorage will be the only storage class. This should only matter to you if you are using storages directly.  To access UntypedStorage directly, use tensor.untyped_storage() instead of tensor.storage()\n",
      "  b.storage()\n"
     ]
    },
    {
     "data": {
      "text/plain": [
       " 0\n",
       " 1\n",
       " 2\n",
       " 3\n",
       " 4\n",
       " 5\n",
       " 6\n",
       " 7\n",
       " 8\n",
       "[torch.storage.TypedStorage(dtype=torch.int64, device=cpu) of size 9]"
      ]
     },
     "execution_count": 7,
     "metadata": {},
     "output_type": "execute_result"
    }
   ],
   "execution_count": 7
  },
  {
   "metadata": {
    "ExecuteTime": {
     "end_time": "2025-07-30T12:39:13.138891Z",
     "start_time": "2025-07-30T12:39:13.132897Z"
    }
   },
   "cell_type": "code",
   "source": "id(a.storage()), id(b.storage())",
   "id": "8f57a64b86c87875",
   "outputs": [
    {
     "data": {
      "text/plain": [
       "(2405200894896, 2405200894896)"
      ]
     },
     "execution_count": 21,
     "metadata": {},
     "output_type": "execute_result"
    }
   ],
   "execution_count": 21
  },
  {
   "metadata": {
    "ExecuteTime": {
     "end_time": "2025-07-30T12:39:20.185433Z",
     "start_time": "2025-07-30T12:39:20.180406Z"
    }
   },
   "cell_type": "code",
   "source": "id(a.storage()) == id(b.storage())",
   "id": "e4014261a1e4c83",
   "outputs": [
    {
     "data": {
      "text/plain": [
       "True"
      ]
     },
     "execution_count": 34,
     "metadata": {},
     "output_type": "execute_result"
    }
   ],
   "execution_count": 34
  },
  {
   "metadata": {},
   "cell_type": "markdown",
   "source": "有时一样，有时不一样",
   "id": "a11106d9dbba2780"
  },
  {
   "metadata": {},
   "cell_type": "markdown",
   "source": "b: Create a tensor `c = b[1:,1:]`. Predict and then check the size, offset, and stride.",
   "id": "a8083e5d2269e4fa"
  },
  {
   "metadata": {
    "ExecuteTime": {
     "end_time": "2025-07-30T12:41:51.543305Z",
     "start_time": "2025-07-30T12:41:51.526278Z"
    }
   },
   "cell_type": "code",
   "source": [
    "c = b[1:,1:]\n",
    "c"
   ],
   "id": "e1fd30558f584af3",
   "outputs": [
    {
     "data": {
      "text/plain": [
       "tensor([[4, 5],\n",
       "        [7, 8]])"
      ]
     },
     "execution_count": 35,
     "metadata": {},
     "output_type": "execute_result"
    }
   ],
   "execution_count": 35
  },
  {
   "metadata": {
    "ExecuteTime": {
     "end_time": "2025-07-30T12:42:59.493205Z",
     "start_time": "2025-07-30T12:42:59.485185Z"
    }
   },
   "cell_type": "code",
   "source": "c.storage()",
   "id": "cb97708d6c637751",
   "outputs": [
    {
     "data": {
      "text/plain": [
       " 0\n",
       " 1\n",
       " 2\n",
       " 3\n",
       " 4\n",
       " 5\n",
       " 6\n",
       " 7\n",
       " 8\n",
       "[torch.storage.TypedStorage(dtype=torch.int64, device=cpu) of size 9]"
      ]
     },
     "execution_count": 37,
     "metadata": {},
     "output_type": "execute_result"
    }
   ],
   "execution_count": 37
  },
  {
   "metadata": {
    "ExecuteTime": {
     "end_time": "2025-07-30T12:42:29.839337Z",
     "start_time": "2025-07-30T12:42:29.833430Z"
    }
   },
   "cell_type": "code",
   "source": "c.size(), c.storage_offset(), c.stride()",
   "id": "161496ecc9fd14ef",
   "outputs": [
    {
     "data": {
      "text/plain": [
       "(torch.Size([2, 2]), 4, (3, 1))"
      ]
     },
     "execution_count": 36,
     "metadata": {},
     "output_type": "execute_result"
    }
   ],
   "execution_count": 36
  },
  {
   "metadata": {},
   "cell_type": "markdown",
   "source": "Q2: Pick a mathematical operation like cosine or square root. Can you find a corresponding function in the torch library?",
   "id": "3d0149a525a5b3da"
  },
  {
   "metadata": {
    "ExecuteTime": {
     "end_time": "2025-07-30T12:45:31.264256Z",
     "start_time": "2025-07-30T12:45:31.219810Z"
    }
   },
   "cell_type": "code",
   "source": "a = a.to(float)",
   "id": "408d5e1fc83c2595",
   "outputs": [],
   "execution_count": 38
  },
  {
   "metadata": {
    "ExecuteTime": {
     "end_time": "2025-07-30T12:45:37.245281Z",
     "start_time": "2025-07-30T12:45:37.197550Z"
    }
   },
   "cell_type": "code",
   "source": "torch.cos(a)",
   "id": "df9f7a026f3f7e71",
   "outputs": [
    {
     "data": {
      "text/plain": [
       "tensor([ 1.0000,  0.5403, -0.4161, -0.9900, -0.6536,  0.2837,  0.9602,  0.7539,\n",
       "        -0.1455], dtype=torch.float64)"
      ]
     },
     "execution_count": 39,
     "metadata": {},
     "output_type": "execute_result"
    }
   ],
   "execution_count": 39
  },
  {
   "metadata": {
    "ExecuteTime": {
     "end_time": "2025-07-30T12:45:47.384205Z",
     "start_time": "2025-07-30T12:45:47.343087Z"
    }
   },
   "cell_type": "code",
   "source": "torch.sqrt(a)",
   "id": "1a11d3483014c23c",
   "outputs": [
    {
     "data": {
      "text/plain": [
       "tensor([0.0000, 1.0000, 1.4142, 1.7321, 2.0000, 2.2361, 2.4495, 2.6458, 2.8284],\n",
       "       dtype=torch.float64)"
      ]
     },
     "execution_count": 40,
     "metadata": {},
     "output_type": "execute_result"
    }
   ],
   "execution_count": 40
  },
  {
   "metadata": {},
   "cell_type": "code",
   "outputs": [],
   "execution_count": null,
   "source": "",
   "id": "c28cf5efb93c3f63"
  }
 ],
 "metadata": {
  "kernelspec": {
   "display_name": "Python 3",
   "language": "python",
   "name": "python3"
  },
  "language_info": {
   "codemirror_mode": {
    "name": "ipython",
    "version": 2
   },
   "file_extension": ".py",
   "mimetype": "text/x-python",
   "name": "python",
   "nbconvert_exporter": "python",
   "pygments_lexer": "ipython2",
   "version": "2.7.6"
  }
 },
 "nbformat": 4,
 "nbformat_minor": 5
}
