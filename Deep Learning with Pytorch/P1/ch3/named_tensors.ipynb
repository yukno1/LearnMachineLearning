{
 "cells": [
  {
   "cell_type": "code",
   "id": "initial_id",
   "metadata": {
    "collapsed": true,
    "ExecuteTime": {
     "end_time": "2025-07-30T06:12:59.578552Z",
     "start_time": "2025-07-30T06:12:57.570124Z"
    }
   },
   "source": "import torch",
   "outputs": [],
   "execution_count": 1
  },
  {
   "metadata": {
    "ExecuteTime": {
     "end_time": "2025-07-30T06:15:15.861136Z",
     "start_time": "2025-07-30T06:15:15.857137Z"
    }
   },
   "cell_type": "code",
   "source": "_ = torch.tensor([0.2126, 0.7152, 0.0722], names=['c'])",
   "id": "dab1d5738615ffc5",
   "outputs": [],
   "execution_count": 4
  },
  {
   "metadata": {
    "ExecuteTime": {
     "end_time": "2025-07-30T06:16:03.917942Z",
     "start_time": "2025-07-30T06:16:03.914057Z"
    }
   },
   "cell_type": "code",
   "source": [
    "img_t = torch.randn(3, 5, 5)\n",
    "weights = torch.tensor([0.2126, 0.7152, 0.0722])"
   ],
   "id": "8893920e617e221e",
   "outputs": [],
   "execution_count": 6
  },
  {
   "metadata": {
    "ExecuteTime": {
     "end_time": "2025-07-30T06:16:29.088711Z",
     "start_time": "2025-07-30T06:16:29.084705Z"
    }
   },
   "cell_type": "code",
   "source": "batch_t = torch.randn(2, 3, 5, 5)",
   "id": "f2db6b401f4677",
   "outputs": [],
   "execution_count": 7
  },
  {
   "metadata": {
    "ExecuteTime": {
     "end_time": "2025-07-30T06:17:48.485437Z",
     "start_time": "2025-07-30T06:17:48.478932Z"
    }
   },
   "cell_type": "code",
   "source": [
    "img_gray_naive = img_t.mean(-3)\n",
    "img_gray_naive.size()"
   ],
   "id": "bc802ddca950185c",
   "outputs": [
    {
     "data": {
      "text/plain": [
       "torch.Size([5, 5])"
      ]
     },
     "execution_count": 9,
     "metadata": {},
     "output_type": "execute_result"
    }
   ],
   "execution_count": 9
  },
  {
   "metadata": {
    "ExecuteTime": {
     "end_time": "2025-07-30T06:18:21.930149Z",
     "start_time": "2025-07-30T06:18:21.925904Z"
    }
   },
   "cell_type": "code",
   "source": [
    "batch_gray_naive = batch_t.mean(-3)\n",
    "batch_gray_naive.size()"
   ],
   "id": "1f5965e9deeb21e9",
   "outputs": [
    {
     "data": {
      "text/plain": [
       "torch.Size([2, 5, 5])"
      ]
     },
     "execution_count": 10,
     "metadata": {},
     "output_type": "execute_result"
    }
   ],
   "execution_count": 10
  },
  {
   "metadata": {
    "ExecuteTime": {
     "end_time": "2025-07-30T06:19:11.027614Z",
     "start_time": "2025-07-30T06:19:11.023636Z"
    }
   },
   "cell_type": "code",
   "source": "weights = torch.tensor([0.2126, 0.7152, 0.0722])",
   "id": "a326bb22df81169d",
   "outputs": [],
   "execution_count": 11
  },
  {
   "metadata": {
    "ExecuteTime": {
     "end_time": "2025-07-30T06:19:34.129069Z",
     "start_time": "2025-07-30T06:19:34.123068Z"
    }
   },
   "cell_type": "code",
   "source": [
    "unsqueezed_weights = weights.unsqueeze(-1).unsqueeze(-1)\n",
    "unsqueezed_weights.size()"
   ],
   "id": "3853c099641dd141",
   "outputs": [
    {
     "data": {
      "text/plain": [
       "torch.Size([3, 1, 1])"
      ]
     },
     "execution_count": 12,
     "metadata": {},
     "output_type": "execute_result"
    }
   ],
   "execution_count": 12
  },
  {
   "metadata": {
    "ExecuteTime": {
     "end_time": "2025-07-30T06:20:29.991153Z",
     "start_time": "2025-07-30T06:20:29.974945Z"
    }
   },
   "cell_type": "code",
   "source": [
    "img_weights = (img_t * unsqueezed_weights)\n",
    "img_weights.size()"
   ],
   "id": "44b8d76ccfdbeaa7",
   "outputs": [
    {
     "data": {
      "text/plain": [
       "torch.Size([3, 5, 5])"
      ]
     },
     "execution_count": 13,
     "metadata": {},
     "output_type": "execute_result"
    }
   ],
   "execution_count": 13
  },
  {
   "metadata": {
    "ExecuteTime": {
     "end_time": "2025-07-30T06:21:18.117245Z",
     "start_time": "2025-07-30T06:21:18.113165Z"
    }
   },
   "cell_type": "code",
   "source": [
    "batch_weights = (batch_t * unsqueezed_weights)\n",
    "batch_weights.size()"
   ],
   "id": "8ab5271296f2938c",
   "outputs": [
    {
     "data": {
      "text/plain": [
       "torch.Size([2, 3, 5, 5])"
      ]
     },
     "execution_count": 14,
     "metadata": {},
     "output_type": "execute_result"
    }
   ],
   "execution_count": 14
  },
  {
   "metadata": {
    "ExecuteTime": {
     "end_time": "2025-07-30T06:22:03.604003Z",
     "start_time": "2025-07-30T06:22:03.590062Z"
    }
   },
   "cell_type": "code",
   "source": [
    "img_gray_weighted = img_weights.sum(-3)\n",
    "batch_gray_weighted = batch_weights.sum(-3)"
   ],
   "id": "af247975a44a20b0",
   "outputs": [],
   "execution_count": 15
  },
  {
   "metadata": {
    "ExecuteTime": {
     "end_time": "2025-07-30T06:23:55.819320Z",
     "start_time": "2025-07-30T06:23:55.775691Z"
    }
   },
   "cell_type": "code",
   "source": [
    "img_gray_weighted_fancy = torch.einsum('...chw,c->...hw', img_t, weights)\n",
    "img_gray_weighted_fancy.size()"
   ],
   "id": "8709bec15970e1b7",
   "outputs": [
    {
     "data": {
      "text/plain": [
       "torch.Size([5, 5])"
      ]
     },
     "execution_count": 16,
     "metadata": {},
     "output_type": "execute_result"
    }
   ],
   "execution_count": 16
  },
  {
   "metadata": {
    "ExecuteTime": {
     "end_time": "2025-07-30T06:24:40.210102Z",
     "start_time": "2025-07-30T06:24:40.191555Z"
    }
   },
   "cell_type": "code",
   "source": [
    "batch_gray_weighted_fancy = torch.einsum('...chw,c->...hw', batch_t, weights)\n",
    "batch_gray_weighted_fancy.size()"
   ],
   "id": "2fafe0f33b74402e",
   "outputs": [
    {
     "data": {
      "text/plain": [
       "torch.Size([2, 5, 5])"
      ]
     },
     "execution_count": 17,
     "metadata": {},
     "output_type": "execute_result"
    }
   ],
   "execution_count": 17
  },
  {
   "metadata": {
    "ExecuteTime": {
     "end_time": "2025-07-30T06:25:22.415039Z",
     "start_time": "2025-07-30T06:25:22.409613Z"
    }
   },
   "cell_type": "code",
   "source": [
    "weights_named = torch.tensor([0.2126, 0.7152, 0.0722], names=['channels'])\n",
    "weights_named"
   ],
   "id": "e46e8c10724e37d0",
   "outputs": [
    {
     "data": {
      "text/plain": [
       "tensor([0.2126, 0.7152, 0.0722], names=('channels',))"
      ]
     },
     "execution_count": 19,
     "metadata": {},
     "output_type": "execute_result"
    }
   ],
   "execution_count": 19
  },
  {
   "metadata": {
    "ExecuteTime": {
     "end_time": "2025-07-30T06:26:18.689273Z",
     "start_time": "2025-07-30T06:26:18.676944Z"
    }
   },
   "cell_type": "code",
   "source": [
    "img_named = img_t.refine_names(..., 'channels', 'rows', 'columns')\n",
    "batch_named = batch_t.refine_names(..., 'channels', 'rows', 'columns')"
   ],
   "id": "2f7630cbfb6820c",
   "outputs": [],
   "execution_count": 20
  },
  {
   "metadata": {
    "ExecuteTime": {
     "end_time": "2025-07-30T06:26:39.256750Z",
     "start_time": "2025-07-30T06:26:39.251973Z"
    }
   },
   "cell_type": "code",
   "source": "img_named",
   "id": "fcea96228a6edd75",
   "outputs": [
    {
     "data": {
      "text/plain": [
       "tensor([[[ 0.0081,  0.5150,  1.2660,  2.1733, -0.0683],\n",
       "         [ 0.6512,  0.5253, -0.3723,  0.5116,  0.0820],\n",
       "         [-2.0917, -0.3977,  0.5630,  2.5430, -0.6648],\n",
       "         [-0.5076, -0.6024, -0.9987,  1.9710,  1.2189],\n",
       "         [ 0.5588, -0.3962,  0.3204, -0.7718,  0.6789]],\n",
       "\n",
       "        [[ 0.5043, -0.4461,  0.7903,  0.4151, -0.5630],\n",
       "         [ 0.8580,  0.7048, -0.0706, -0.7413,  0.5129],\n",
       "         [-2.1539,  1.4260, -2.3368, -0.6770, -1.1215],\n",
       "         [-0.0143, -1.0816,  0.4368,  0.3366, -0.3172],\n",
       "         [ 0.0543, -0.5328, -0.8046, -0.8650,  0.0028]],\n",
       "\n",
       "        [[-1.0791,  2.2771, -0.0250, -1.0190,  2.4036],\n",
       "         [-2.6009,  1.8268, -0.5834, -0.2618,  0.4581],\n",
       "         [ 0.5052,  0.7184,  0.2182, -1.4999, -0.9711],\n",
       "         [ 0.9351, -2.1090, -0.0479,  0.1919, -0.6953],\n",
       "         [ 0.9191,  0.1636, -0.1076,  0.3728,  0.1868]]],\n",
       "       names=('channels', 'rows', 'columns'))"
      ]
     },
     "execution_count": 21,
     "metadata": {},
     "output_type": "execute_result"
    }
   ],
   "execution_count": 21
  },
  {
   "metadata": {
    "ExecuteTime": {
     "end_time": "2025-07-30T06:30:17.889162Z",
     "start_time": "2025-07-30T06:30:17.876159Z"
    }
   },
   "cell_type": "code",
   "source": [
    "weights_aligned = weights_named.align_as(img_named)\n",
    "weights_aligned"
   ],
   "id": "826d7543562bb16",
   "outputs": [
    {
     "data": {
      "text/plain": [
       "tensor([[[0.2126]],\n",
       "\n",
       "        [[0.7152]],\n",
       "\n",
       "        [[0.0722]]], names=('channels', 'rows', 'columns'))"
      ]
     },
     "execution_count": 23,
     "metadata": {},
     "output_type": "execute_result"
    }
   ],
   "execution_count": 23
  },
  {
   "metadata": {
    "ExecuteTime": {
     "end_time": "2025-07-30T06:30:59.213292Z",
     "start_time": "2025-07-30T06:30:59.207829Z"
    }
   },
   "cell_type": "code",
   "source": "img_named * weights_aligned",
   "id": "e9bf277840e88a09",
   "outputs": [
    {
     "data": {
      "text/plain": [
       "tensor([[[ 0.0017,  0.1095,  0.2692,  0.4620, -0.0145],\n",
       "         [ 0.1384,  0.1117, -0.0791,  0.1088,  0.0174],\n",
       "         [-0.4447, -0.0846,  0.1197,  0.5406, -0.1413],\n",
       "         [-0.1079, -0.1281, -0.2123,  0.4190,  0.2591],\n",
       "         [ 0.1188, -0.0842,  0.0681, -0.1641,  0.1443]],\n",
       "\n",
       "        [[ 0.3607, -0.3191,  0.5652,  0.2969, -0.4026],\n",
       "         [ 0.6136,  0.5041, -0.0505, -0.5302,  0.3669],\n",
       "         [-1.5404,  1.0199, -1.6713, -0.4842, -0.8021],\n",
       "         [-0.0102, -0.7736,  0.3124,  0.2407, -0.2269],\n",
       "         [ 0.0389, -0.3811, -0.5755, -0.6186,  0.0020]],\n",
       "\n",
       "        [[-0.0779,  0.1644, -0.0018, -0.0736,  0.1735],\n",
       "         [-0.1878,  0.1319, -0.0421, -0.0189,  0.0331],\n",
       "         [ 0.0365,  0.0519,  0.0158, -0.1083, -0.0701],\n",
       "         [ 0.0675, -0.1523, -0.0035,  0.0139, -0.0502],\n",
       "         [ 0.0664,  0.0118, -0.0078,  0.0269,  0.0135]]],\n",
       "       names=('channels', 'rows', 'columns'))"
      ]
     },
     "execution_count": 24,
     "metadata": {},
     "output_type": "execute_result"
    }
   ],
   "execution_count": 24
  },
  {
   "metadata": {
    "ExecuteTime": {
     "end_time": "2025-07-30T06:32:52.410268Z",
     "start_time": "2025-07-30T06:32:52.365210Z"
    }
   },
   "cell_type": "code",
   "source": [
    "try:\n",
    "    gray_named = (img_named[..., 3] * weights_named).sum('channels')\n",
    "except Exception as e:\n",
    "    print(e)"
   ],
   "id": "623de9d143443e8c",
   "outputs": [
    {
     "name": "stdout",
     "output_type": "stream",
     "text": [
      "Error when attempting to broadcast dims ['channels', 'rows'] and dims ['channels']: dim 'rows' and dim 'channels' are at the same position from the right but do not match.\n"
     ]
    }
   ],
   "execution_count": 25
  },
  {
   "metadata": {
    "ExecuteTime": {
     "end_time": "2025-07-30T06:33:38.820995Z",
     "start_time": "2025-07-30T06:33:38.803158Z"
    }
   },
   "cell_type": "code",
   "source": [
    "gray_plain = gray_named.rename(None)\n",
    "gray_plain.size(), gray_plain.names"
   ],
   "id": "76b8f16e731af429",
   "outputs": [
    {
     "ename": "NameError",
     "evalue": "name 'gray_named' is not defined",
     "output_type": "error",
     "traceback": [
      "\u001B[31m---------------------------------------------------------------------------\u001B[39m",
      "\u001B[31mNameError\u001B[39m                                 Traceback (most recent call last)",
      "\u001B[36mCell\u001B[39m\u001B[36m \u001B[39m\u001B[32mIn[26]\u001B[39m\u001B[32m, line 1\u001B[39m\n\u001B[32m----> \u001B[39m\u001B[32m1\u001B[39m gray_plain = \u001B[43mgray_named\u001B[49m.rename(\u001B[38;5;28;01mNone\u001B[39;00m)\n\u001B[32m      2\u001B[39m gray_plain.size(), gray_plain.names\n",
      "\u001B[31mNameError\u001B[39m: name 'gray_named' is not defined"
     ]
    }
   ],
   "execution_count": 26
  },
  {
   "metadata": {},
   "cell_type": "code",
   "outputs": [],
   "execution_count": null,
   "source": "",
   "id": "2b5083ff70b4afdc"
  }
 ],
 "metadata": {
  "kernelspec": {
   "display_name": "Python 3",
   "language": "python",
   "name": "python3"
  },
  "language_info": {
   "codemirror_mode": {
    "name": "ipython",
    "version": 2
   },
   "file_extension": ".py",
   "mimetype": "text/x-python",
   "name": "python",
   "nbconvert_exporter": "python",
   "pygments_lexer": "ipython2",
   "version": "2.7.6"
  }
 },
 "nbformat": 4,
 "nbformat_minor": 5
}
