{
 "cells": [
  {
   "cell_type": "code",
   "id": "initial_id",
   "metadata": {
    "collapsed": true,
    "ExecuteTime": {
     "end_time": "2025-07-29T07:48:11.871431Z",
     "start_time": "2025-07-29T07:48:11.866972Z"
    }
   },
   "source": "import torch",
   "outputs": [],
   "execution_count": 40
  },
  {
   "metadata": {
    "ExecuteTime": {
     "end_time": "2025-07-29T07:48:11.890585Z",
     "start_time": "2025-07-29T07:48:11.885442Z"
    }
   },
   "cell_type": "code",
   "source": [
    "a = torch.ones(3)\n",
    "a"
   ],
   "id": "347d31fcb9bd9b94",
   "outputs": [
    {
     "data": {
      "text/plain": [
       "tensor([1., 1., 1.])"
      ]
     },
     "execution_count": 41,
     "metadata": {},
     "output_type": "execute_result"
    }
   ],
   "execution_count": 41
  },
  {
   "metadata": {
    "ExecuteTime": {
     "end_time": "2025-07-29T07:48:11.906521Z",
     "start_time": "2025-07-29T07:48:11.901502Z"
    }
   },
   "cell_type": "code",
   "source": "a[2]",
   "id": "50d0e6960b4a7305",
   "outputs": [
    {
     "data": {
      "text/plain": [
       "tensor(1.)"
      ]
     },
     "execution_count": 42,
     "metadata": {},
     "output_type": "execute_result"
    }
   ],
   "execution_count": 42
  },
  {
   "metadata": {
    "ExecuteTime": {
     "end_time": "2025-07-29T07:48:11.922541Z",
     "start_time": "2025-07-29T07:48:11.917541Z"
    }
   },
   "cell_type": "code",
   "source": "float(a[1])",
   "id": "19a14304574778a",
   "outputs": [
    {
     "data": {
      "text/plain": [
       "1.0"
      ]
     },
     "execution_count": 43,
     "metadata": {},
     "output_type": "execute_result"
    }
   ],
   "execution_count": 43
  },
  {
   "metadata": {
    "ExecuteTime": {
     "end_time": "2025-07-29T07:48:11.938633Z",
     "start_time": "2025-07-29T07:48:11.933171Z"
    }
   },
   "cell_type": "code",
   "source": [
    "points = torch.Tensor([4, 1, 5, 3, 2, 1])\n",
    "points"
   ],
   "id": "c832846ff95198e5",
   "outputs": [
    {
     "data": {
      "text/plain": [
       "tensor([4., 1., 5., 3., 2., 1.])"
      ]
     },
     "execution_count": 44,
     "metadata": {},
     "output_type": "execute_result"
    }
   ],
   "execution_count": 44
  },
  {
   "metadata": {
    "ExecuteTime": {
     "end_time": "2025-07-29T07:48:11.955660Z",
     "start_time": "2025-07-29T07:48:11.950153Z"
    }
   },
   "cell_type": "code",
   "source": [
    "points = points.reshape(3, 2)\n",
    "points"
   ],
   "id": "1d121b37d25681ed",
   "outputs": [
    {
     "data": {
      "text/plain": [
       "tensor([[4., 1.],\n",
       "        [5., 3.],\n",
       "        [2., 1.]])"
      ]
     },
     "execution_count": 45,
     "metadata": {},
     "output_type": "execute_result"
    }
   ],
   "execution_count": 45
  },
  {
   "metadata": {
    "ExecuteTime": {
     "end_time": "2025-07-29T07:48:12.071764Z",
     "start_time": "2025-07-29T07:48:12.066761Z"
    }
   },
   "cell_type": "code",
   "source": "points[0, 0]",
   "id": "2fd403eda46376e0",
   "outputs": [
    {
     "data": {
      "text/plain": [
       "tensor(4.)"
      ]
     },
     "execution_count": 46,
     "metadata": {},
     "output_type": "execute_result"
    }
   ],
   "execution_count": 46
  },
  {
   "metadata": {
    "ExecuteTime": {
     "end_time": "2025-07-29T07:48:12.152716Z",
     "start_time": "2025-07-29T07:48:12.147576Z"
    }
   },
   "cell_type": "code",
   "source": "points[0][0]",
   "id": "95311164a4ed531b",
   "outputs": [
    {
     "data": {
      "text/plain": [
       "tensor(4.)"
      ]
     },
     "execution_count": 47,
     "metadata": {},
     "output_type": "execute_result"
    }
   ],
   "execution_count": 47
  },
  {
   "metadata": {
    "ExecuteTime": {
     "end_time": "2025-07-29T07:48:12.214129Z",
     "start_time": "2025-07-29T07:48:12.209287Z"
    }
   },
   "cell_type": "code",
   "source": "(points.storage())",
   "id": "426efa433421a5bc",
   "outputs": [
    {
     "data": {
      "text/plain": [
       " 4.0\n",
       " 1.0\n",
       " 5.0\n",
       " 3.0\n",
       " 2.0\n",
       " 1.0\n",
       "[torch.storage.TypedStorage(dtype=torch.float32, device=cpu) of size 6]"
      ]
     },
     "execution_count": 48,
     "metadata": {},
     "output_type": "execute_result"
    }
   ],
   "execution_count": 48
  },
  {
   "metadata": {
    "ExecuteTime": {
     "end_time": "2025-07-29T07:48:12.236551Z",
     "start_time": "2025-07-29T07:48:12.231550Z"
    }
   },
   "cell_type": "code",
   "source": [
    "second_point = points[1]\n",
    "second_point"
   ],
   "id": "7230b1e3432a9ae3",
   "outputs": [
    {
     "data": {
      "text/plain": [
       "tensor([5., 3.])"
      ]
     },
     "execution_count": 49,
     "metadata": {},
     "output_type": "execute_result"
    }
   ],
   "execution_count": 49
  },
  {
   "metadata": {
    "ExecuteTime": {
     "end_time": "2025-07-29T07:48:12.255080Z",
     "start_time": "2025-07-29T07:48:12.250079Z"
    }
   },
   "cell_type": "code",
   "source": "second_point.storage_offset()",
   "id": "e803eaa86edf4035",
   "outputs": [
    {
     "data": {
      "text/plain": [
       "2"
      ]
     },
     "execution_count": 50,
     "metadata": {},
     "output_type": "execute_result"
    }
   ],
   "execution_count": 50
  },
  {
   "metadata": {
    "ExecuteTime": {
     "end_time": "2025-07-29T07:48:12.290834Z",
     "start_time": "2025-07-29T07:48:12.286461Z"
    }
   },
   "cell_type": "code",
   "source": "second_point.size()",
   "id": "d4ade1fd0c47d1b0",
   "outputs": [
    {
     "data": {
      "text/plain": [
       "torch.Size([2])"
      ]
     },
     "execution_count": 51,
     "metadata": {},
     "output_type": "execute_result"
    }
   ],
   "execution_count": 51
  },
  {
   "metadata": {
    "ExecuteTime": {
     "end_time": "2025-07-29T07:48:12.314083Z",
     "start_time": "2025-07-29T07:48:12.310060Z"
    }
   },
   "cell_type": "code",
   "source": "id(second_point)",
   "id": "fd8664679ca431ab",
   "outputs": [
    {
     "data": {
      "text/plain": [
       "2510140911568"
      ]
     },
     "execution_count": 52,
     "metadata": {},
     "output_type": "execute_result"
    }
   ],
   "execution_count": 52
  },
  {
   "metadata": {
    "ExecuteTime": {
     "end_time": "2025-07-29T07:48:12.331706Z",
     "start_time": "2025-07-29T07:48:12.326622Z"
    }
   },
   "cell_type": "code",
   "source": "id(points[1])",
   "id": "8c2ed698b88c053d",
   "outputs": [
    {
     "data": {
      "text/plain": [
       "2510140112352"
      ]
     },
     "execution_count": 53,
     "metadata": {},
     "output_type": "execute_result"
    }
   ],
   "execution_count": 53
  },
  {
   "metadata": {
    "ExecuteTime": {
     "end_time": "2025-07-29T07:48:12.434533Z",
     "start_time": "2025-07-29T07:48:12.410096Z"
    }
   },
   "cell_type": "code",
   "source": [
    "another_point = points[1].clone()\n",
    "id(another_point)"
   ],
   "id": "99f34ef6ad4c55bb",
   "outputs": [
    {
     "data": {
      "text/plain": [
       "2510140924672"
      ]
     },
     "execution_count": 54,
     "metadata": {},
     "output_type": "execute_result"
    }
   ],
   "execution_count": 54
  },
  {
   "metadata": {
    "ExecuteTime": {
     "end_time": "2025-07-29T07:48:43.416498Z",
     "start_time": "2025-07-29T07:48:43.408996Z"
    }
   },
   "cell_type": "code",
   "source": "another_point",
   "id": "5e7e68470165abe6",
   "outputs": [
    {
     "data": {
      "text/plain": [
       "tensor([5., 3.])"
      ]
     },
     "execution_count": 55,
     "metadata": {},
     "output_type": "execute_result"
    }
   ],
   "execution_count": 55
  },
  {
   "metadata": {
    "ExecuteTime": {
     "end_time": "2025-07-29T07:49:38.972804Z",
     "start_time": "2025-07-29T07:49:38.968521Z"
    }
   },
   "cell_type": "code",
   "source": "points.stride()",
   "id": "79d17676f4c6baca",
   "outputs": [
    {
     "data": {
      "text/plain": [
       "(2, 1)"
      ]
     },
     "execution_count": 56,
     "metadata": {},
     "output_type": "execute_result"
    }
   ],
   "execution_count": 56
  },
  {
   "metadata": {},
   "cell_type": "markdown",
   "source": [
    "points 3行2列\n",
    "\n",
    "按照storage里的顺序\n",
    "\n",
    "在维度0内跳转，每行跳2个元素\n",
    "\n",
    "在维度1内，每次跳1个元素"
   ],
   "id": "abbcfb6fdbeeaa78"
  },
  {
   "metadata": {
    "ExecuteTime": {
     "end_time": "2025-07-29T07:51:29.947998Z",
     "start_time": "2025-07-29T07:51:29.875186Z"
    }
   },
   "cell_type": "code",
   "source": [
    "points_t = points.t()\n",
    "points_t"
   ],
   "id": "bf1ce6c9e3461d3e",
   "outputs": [
    {
     "data": {
      "text/plain": [
       "tensor([[4., 5., 2.],\n",
       "        [1., 3., 1.]])"
      ]
     },
     "execution_count": 57,
     "metadata": {},
     "output_type": "execute_result"
    }
   ],
   "execution_count": 57
  },
  {
   "metadata": {
    "ExecuteTime": {
     "end_time": "2025-07-29T07:52:15.011065Z",
     "start_time": "2025-07-29T07:52:15.005837Z"
    }
   },
   "cell_type": "code",
   "source": "id(points)",
   "id": "c47d387c0c0d904a",
   "outputs": [
    {
     "data": {
      "text/plain": [
       "2510140106512"
      ]
     },
     "execution_count": 59,
     "metadata": {},
     "output_type": "execute_result"
    }
   ],
   "execution_count": 59
  },
  {
   "metadata": {
    "ExecuteTime": {
     "end_time": "2025-07-29T07:51:43.334893Z",
     "start_time": "2025-07-29T07:51:43.328590Z"
    }
   },
   "cell_type": "code",
   "source": "id(points_t)",
   "id": "bbbdf8ecf07c3e2f",
   "outputs": [
    {
     "data": {
      "text/plain": [
       "2510140026592"
      ]
     },
     "execution_count": 58,
     "metadata": {},
     "output_type": "execute_result"
    }
   ],
   "execution_count": 58
  },
  {
   "metadata": {
    "ExecuteTime": {
     "end_time": "2025-07-29T07:53:14.249348Z",
     "start_time": "2025-07-29T07:53:14.244993Z"
    }
   },
   "cell_type": "code",
   "source": "points_t.storage()",
   "id": "aae2f8e1ccf671f3",
   "outputs": [
    {
     "data": {
      "text/plain": [
       " 4.0\n",
       " 1.0\n",
       " 5.0\n",
       " 3.0\n",
       " 2.0\n",
       " 1.0\n",
       "[torch.storage.TypedStorage(dtype=torch.float32, device=cpu) of size 6]"
      ]
     },
     "execution_count": 60,
     "metadata": {},
     "output_type": "execute_result"
    }
   ],
   "execution_count": 60
  },
  {
   "metadata": {
    "ExecuteTime": {
     "end_time": "2025-07-29T07:53:23.573898Z",
     "start_time": "2025-07-29T07:53:23.568501Z"
    }
   },
   "cell_type": "code",
   "source": "points_t.stride()",
   "id": "482cc2e88a8029a9",
   "outputs": [
    {
     "data": {
      "text/plain": [
       "(1, 2)"
      ]
     },
     "execution_count": 61,
     "metadata": {},
     "output_type": "execute_result"
    }
   ],
   "execution_count": 61
  },
  {
   "metadata": {
    "ExecuteTime": {
     "end_time": "2025-07-29T07:55:48.439907Z",
     "start_time": "2025-07-29T07:55:48.435543Z"
    }
   },
   "cell_type": "code",
   "source": [
    "some_t = torch.ones(3, 4, 5)\n",
    "some_t.stride()"
   ],
   "id": "c6517c2659bd97c0",
   "outputs": [
    {
     "data": {
      "text/plain": [
       "(20, 5, 1)"
      ]
     },
     "execution_count": 62,
     "metadata": {},
     "output_type": "execute_result"
    }
   ],
   "execution_count": 62
  },
  {
   "metadata": {
    "ExecuteTime": {
     "end_time": "2025-07-29T07:56:09.278388Z",
     "start_time": "2025-07-29T07:56:09.270183Z"
    }
   },
   "cell_type": "code",
   "source": [
    "transpose_t = some_t.transpose(0, 2)\n",
    "transpose_t.size()"
   ],
   "id": "9393f9e23167dacf",
   "outputs": [
    {
     "data": {
      "text/plain": [
       "torch.Size([5, 4, 3])"
      ]
     },
     "execution_count": 63,
     "metadata": {},
     "output_type": "execute_result"
    }
   ],
   "execution_count": 63
  },
  {
   "metadata": {
    "ExecuteTime": {
     "end_time": "2025-07-29T07:56:16.649573Z",
     "start_time": "2025-07-29T07:56:16.645572Z"
    }
   },
   "cell_type": "code",
   "source": "transpose_t.stride()",
   "id": "3fd5a2cae7eae24f",
   "outputs": [
    {
     "data": {
      "text/plain": [
       "(1, 5, 20)"
      ]
     },
     "execution_count": 64,
     "metadata": {},
     "output_type": "execute_result"
    }
   ],
   "execution_count": 64
  },
  {
   "metadata": {},
   "cell_type": "markdown",
   "source": "是否按内存中顺序",
   "id": "db4a88b8b59109a4"
  },
  {
   "metadata": {
    "ExecuteTime": {
     "end_time": "2025-07-29T07:56:49.515397Z",
     "start_time": "2025-07-29T07:56:49.505966Z"
    }
   },
   "cell_type": "code",
   "source": "points_t.is_contiguous()",
   "id": "9ca3ee43a310b81e",
   "outputs": [
    {
     "data": {
      "text/plain": [
       "False"
      ]
     },
     "execution_count": 65,
     "metadata": {},
     "output_type": "execute_result"
    }
   ],
   "execution_count": 65
  },
  {
   "metadata": {
    "ExecuteTime": {
     "end_time": "2025-07-29T07:56:58.762541Z",
     "start_time": "2025-07-29T07:56:58.757542Z"
    }
   },
   "cell_type": "code",
   "source": "points.is_contiguous()",
   "id": "95d14880f7b427ed",
   "outputs": [
    {
     "data": {
      "text/plain": [
       "True"
      ]
     },
     "execution_count": 66,
     "metadata": {},
     "output_type": "execute_result"
    }
   ],
   "execution_count": 66
  },
  {
   "metadata": {},
   "cell_type": "code",
   "outputs": [],
   "execution_count": null,
   "source": "",
   "id": "770149a5c390ec7f"
  }
 ],
 "metadata": {
  "kernelspec": {
   "display_name": "Python 3",
   "language": "python",
   "name": "python3"
  },
  "language_info": {
   "codemirror_mode": {
    "name": "ipython",
    "version": 2
   },
   "file_extension": ".py",
   "mimetype": "text/x-python",
   "name": "python",
   "nbconvert_exporter": "python",
   "pygments_lexer": "ipython2",
   "version": "2.7.6"
  }
 },
 "nbformat": 4,
 "nbformat_minor": 5
}
