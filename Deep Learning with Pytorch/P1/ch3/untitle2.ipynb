{
 "cells": [
  {
   "cell_type": "code",
   "id": "initial_id",
   "metadata": {
    "collapsed": true,
    "ExecuteTime": {
     "end_time": "2025-07-30T05:32:56.638648Z",
     "start_time": "2025-07-30T05:32:53.368258Z"
    }
   },
   "source": "import torch",
   "outputs": [],
   "execution_count": 1
  },
  {
   "metadata": {
    "ExecuteTime": {
     "end_time": "2025-07-30T05:34:18.669079Z",
     "start_time": "2025-07-30T05:34:18.613240Z"
    }
   },
   "cell_type": "code",
   "source": [
    "double_points = torch.ones(10, 2, dtype=torch.double)\n",
    "\n",
    "short_points = torch.tensor([[1, 2], [3, 4]], dtype=torch.short)"
   ],
   "id": "8ec676f13016bf49",
   "outputs": [],
   "execution_count": 2
  },
  {
   "metadata": {
    "ExecuteTime": {
     "end_time": "2025-07-30T05:34:34.298258Z",
     "start_time": "2025-07-30T05:34:34.291557Z"
    }
   },
   "cell_type": "code",
   "source": "double_points.dtype, short_points.dtype",
   "id": "692b29f802a11867",
   "outputs": [
    {
     "data": {
      "text/plain": [
       "(torch.float64, torch.int16)"
      ]
     },
     "execution_count": 3,
     "metadata": {},
     "output_type": "execute_result"
    }
   ],
   "execution_count": 3
  },
  {
   "metadata": {
    "ExecuteTime": {
     "end_time": "2025-07-30T05:35:51.160254Z",
     "start_time": "2025-07-30T05:35:51.111393Z"
    }
   },
   "cell_type": "code",
   "source": [
    "double_points = torch.zeros(10, 2).double()\n",
    "\n",
    "short_points = torch.ones(10, 2).short()"
   ],
   "id": "4edd4d8d4375c1bb",
   "outputs": [],
   "execution_count": 4
  },
  {
   "metadata": {
    "ExecuteTime": {
     "end_time": "2025-07-30T05:36:03.263623Z",
     "start_time": "2025-07-30T05:36:03.259997Z"
    }
   },
   "cell_type": "code",
   "source": "double_points.dtype, short_points.dtype",
   "id": "f926f9fc0790eb71",
   "outputs": [
    {
     "data": {
      "text/plain": [
       "(torch.float64, torch.int16)"
      ]
     },
     "execution_count": 5,
     "metadata": {},
     "output_type": "execute_result"
    }
   ],
   "execution_count": 5
  },
  {
   "metadata": {
    "ExecuteTime": {
     "end_time": "2025-07-30T05:36:34.344611Z",
     "start_time": "2025-07-30T05:36:34.341177Z"
    }
   },
   "cell_type": "code",
   "source": [
    "double_points = torch.zeros(10, 2).to(torch.double)\n",
    "\n",
    "short_points = torch.ones(10, 2).to(torch.short)"
   ],
   "id": "e43433f8c08b1c33",
   "outputs": [],
   "execution_count": 6
  },
  {
   "metadata": {
    "ExecuteTime": {
     "end_time": "2025-07-30T05:36:40.662142Z",
     "start_time": "2025-07-30T05:36:40.656842Z"
    }
   },
   "cell_type": "code",
   "source": "double_points.dtype, short_points.dtype",
   "id": "d5d2c5dd80068abd",
   "outputs": [
    {
     "data": {
      "text/plain": [
       "(torch.float64, torch.int16)"
      ]
     },
     "execution_count": 7,
     "metadata": {},
     "output_type": "execute_result"
    }
   ],
   "execution_count": 7
  },
  {
   "metadata": {
    "ExecuteTime": {
     "end_time": "2025-07-30T05:37:30.962692Z",
     "start_time": "2025-07-30T05:37:30.958051Z"
    }
   },
   "cell_type": "code",
   "source": [
    "points_64 = torch.rand(5, dtype=torch.double)\n",
    "points_64"
   ],
   "id": "61aba2a5439ae759",
   "outputs": [
    {
     "data": {
      "text/plain": [
       "tensor([0.3949, 0.3217, 0.9123, 0.9806, 0.9197], dtype=torch.float64)"
      ]
     },
     "execution_count": 9,
     "metadata": {},
     "output_type": "execute_result"
    }
   ],
   "execution_count": 9
  },
  {
   "metadata": {
    "ExecuteTime": {
     "end_time": "2025-07-30T05:38:27.571601Z",
     "start_time": "2025-07-30T05:38:27.567764Z"
    }
   },
   "cell_type": "code",
   "source": [
    "points_short = points_64.to(torch.short)\n",
    "points_short"
   ],
   "id": "7f3b228a92d613a5",
   "outputs": [
    {
     "data": {
      "text/plain": [
       "tensor([0, 0, 0, 0, 0], dtype=torch.int16)"
      ]
     },
     "execution_count": 11,
     "metadata": {},
     "output_type": "execute_result"
    }
   ],
   "execution_count": 11
  },
  {
   "metadata": {},
   "cell_type": "markdown",
   "source": "只取整数部分",
   "id": "5ea91362f48ee27a"
  },
  {
   "metadata": {
    "ExecuteTime": {
     "end_time": "2025-07-30T05:39:25.243268Z",
     "start_time": "2025-07-30T05:39:25.221368Z"
    }
   },
   "cell_type": "code",
   "source": "points_64 * points_short",
   "id": "ed4fdec57074dcfc",
   "outputs": [
    {
     "data": {
      "text/plain": [
       "tensor([0., 0., 0., 0., 0.], dtype=torch.float64)"
      ]
     },
     "execution_count": 12,
     "metadata": {},
     "output_type": "execute_result"
    }
   ],
   "execution_count": 12
  },
  {
   "metadata": {},
   "cell_type": "code",
   "outputs": [],
   "execution_count": null,
   "source": "",
   "id": "804a962acd9cc0a3"
  }
 ],
 "metadata": {
  "kernelspec": {
   "display_name": "Python 3",
   "language": "python",
   "name": "python3"
  },
  "language_info": {
   "codemirror_mode": {
    "name": "ipython",
    "version": 2
   },
   "file_extension": ".py",
   "mimetype": "text/x-python",
   "name": "python",
   "nbconvert_exporter": "python",
   "pygments_lexer": "ipython2",
   "version": "2.7.6"
  }
 },
 "nbformat": 4,
 "nbformat_minor": 5
}
