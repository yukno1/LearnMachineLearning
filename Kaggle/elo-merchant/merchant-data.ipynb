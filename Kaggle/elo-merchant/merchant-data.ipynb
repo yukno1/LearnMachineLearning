{
 "cells": [
  {
   "metadata": {
    "ExecuteTime": {
     "end_time": "2025-08-25T15:30:16.463537Z",
     "start_time": "2025-08-25T15:30:16.460537Z"
    }
   },
   "cell_type": "code",
   "source": [
    "import numpy as np\n",
    "import pandas as pd"
   ],
   "id": "1072807efa4c1101",
   "outputs": [],
   "execution_count": 1
  },
  {
   "metadata": {},
   "cell_type": "markdown",
   "source": [
    "## 三、 商户数据解读与探索\n",
    "\n",
    "对官方的商户数据与信用卡交易数据进行分析和清洗。\n",
    "\n",
    "historical_transaction是某个时间点以前的信用卡消费记录；\n",
    "\n",
    "new_merchant_transaction是某个时间点之后的\n",
    "\n",
    "merchangts是商户的属性\n",
    "\n",
    "主办方给的拓展信息：信用卡交易记录和商户相关数据。同时包含了训练集、、测试集中所有信用卡的部分记录"
   ],
   "id": "77720417faad1af2"
  },
  {
   "metadata": {},
   "cell_type": "markdown",
   "source": [
    "- 规律一致性分析的实际应用\n",
    "\n",
    "可得出许多可用于后续指导建模的意见。\n",
    "\n",
    "基本结论：\n",
    "1. 如果分布非常一致，则说明取自同一整体，训练集和测试集一致性较高，模型效果上限较高，建模时应更加依靠特征工程和模型建模技巧\n",
    "2. 如果不太一致，模型预测效果受限，且容易过拟合，实际建模时多考虑交叉验证等防止过拟合，和trick的使用"
   ],
   "id": "8ffa2c91343d48cd"
  },
  {
   "metadata": {},
   "cell_type": "markdown",
   "source": [
    "一般数据解读、探索、初步清洗时同步的。\n",
    "\n",
    "解读：快速获得基本信息，通过比对官方的字段解释，快速了解字段基本含义\n",
    "\n",
    "探索：快速了解数据集的基本数据情况，主要包括\n",
    "- 数据正确性校验，\n",
    "    - id 是否一致；\n",
    "    - 字段排布和数据字典所列举的字段是否一致\n",
    "    - 字段类型是否合规\n",
    "        - python不支持直接代入object类，要转成int或plot\n",
    "- 数据质量分析。\n",
    "快速了解各字段基本情况：数据类型、是否数据不一致、重复值、缺失值等。\n",
    "\n",
    "清洗：\n",
    "- 在建模/特征工程前进行必要的调整，以确保后续操作可执行，包括字段类型调整、重复值处理、缺失值处理等。\n",
    "- 清理时可以先简单的缺失值填补，后续建模时可根据实际建模结果来调整填补策略。\n",
    "\n",
    "<img src=\"./data preprocessing.png\">"
   ],
   "id": "bba735ab47d41d08"
  },
  {
   "metadata": {},
   "cell_type": "markdown",
   "source": [
    "## 1. 数据解读\n",
    "相对较小的商户信息表"
   ],
   "id": "e92c33b96f8dcfab"
  },
  {
   "metadata": {
    "ExecuteTime": {
     "end_time": "2025-08-25T15:30:17.009485Z",
     "start_time": "2025-08-25T15:30:16.482236Z"
    }
   },
   "cell_type": "code",
   "source": "merchant = pd.read_csv('../data/competitions/elo-merchant-category-recommendation/merchants.csv', header=0)",
   "id": "decca3c039d043ae",
   "outputs": [],
   "execution_count": 2
  },
  {
   "metadata": {
    "ExecuteTime": {
     "end_time": "2025-08-25T15:30:17.578870Z",
     "start_time": "2025-08-25T15:30:17.559838Z"
    }
   },
   "cell_type": "code",
   "source": "merchant.head(5)",
   "id": "db70bd8b806758a8",
   "outputs": [
    {
     "data": {
      "text/plain": [
       "       merchant_id  merchant_group_id  merchant_category_id  subsector_id  \\\n",
       "0  M_ID_838061e48c               8353                   792             9   \n",
       "1  M_ID_9339d880ad               3184                   840            20   \n",
       "2  M_ID_e726bbae1e                447                   690             1   \n",
       "3  M_ID_a70e9c5f81               5026                   792             9   \n",
       "4  M_ID_64456c37ce               2228                   222            21   \n",
       "\n",
       "   numerical_1  numerical_2 category_1 most_recent_sales_range  \\\n",
       "0    -0.057471    -0.057471          N                       E   \n",
       "1    -0.057471    -0.057471          N                       E   \n",
       "2    -0.057471    -0.057471          N                       E   \n",
       "3    -0.057471    -0.057471          Y                       E   \n",
       "4    -0.057471    -0.057471          Y                       E   \n",
       "\n",
       "  most_recent_purchases_range  avg_sales_lag3  ...  avg_sales_lag6  \\\n",
       "0                           E           -0.40  ...           -2.25   \n",
       "1                           E           -0.72  ...           -0.74   \n",
       "2                           E          -82.13  ...          -82.13   \n",
       "3                           E             NaN  ...             NaN   \n",
       "4                           E             NaN  ...             NaN   \n",
       "\n",
       "   avg_purchases_lag6  active_months_lag6  avg_sales_lag12  \\\n",
       "0           18.666667                   6            -2.32   \n",
       "1            1.291667                   6            -0.57   \n",
       "2          260.000000                   2           -82.13   \n",
       "3            4.666667                   6              NaN   \n",
       "4            0.361111                   6              NaN   \n",
       "\n",
       "   avg_purchases_lag12  active_months_lag12  category_4  city_id state_id  \\\n",
       "0            13.916667                   12           N      242        9   \n",
       "1             1.687500                   12           N       22       16   \n",
       "2           260.000000                    2           N       -1        5   \n",
       "3             3.833333                   12           Y       -1       -1   \n",
       "4             0.347222                   12           Y       -1       -1   \n",
       "\n",
       "   category_2  \n",
       "0         1.0  \n",
       "1         1.0  \n",
       "2         5.0  \n",
       "3         NaN  \n",
       "4         NaN  \n",
       "\n",
       "[5 rows x 22 columns]"
      ],
      "text/html": [
       "<div>\n",
       "<style scoped>\n",
       "    .dataframe tbody tr th:only-of-type {\n",
       "        vertical-align: middle;\n",
       "    }\n",
       "\n",
       "    .dataframe tbody tr th {\n",
       "        vertical-align: top;\n",
       "    }\n",
       "\n",
       "    .dataframe thead th {\n",
       "        text-align: right;\n",
       "    }\n",
       "</style>\n",
       "<table border=\"1\" class=\"dataframe\">\n",
       "  <thead>\n",
       "    <tr style=\"text-align: right;\">\n",
       "      <th></th>\n",
       "      <th>merchant_id</th>\n",
       "      <th>merchant_group_id</th>\n",
       "      <th>merchant_category_id</th>\n",
       "      <th>subsector_id</th>\n",
       "      <th>numerical_1</th>\n",
       "      <th>numerical_2</th>\n",
       "      <th>category_1</th>\n",
       "      <th>most_recent_sales_range</th>\n",
       "      <th>most_recent_purchases_range</th>\n",
       "      <th>avg_sales_lag3</th>\n",
       "      <th>...</th>\n",
       "      <th>avg_sales_lag6</th>\n",
       "      <th>avg_purchases_lag6</th>\n",
       "      <th>active_months_lag6</th>\n",
       "      <th>avg_sales_lag12</th>\n",
       "      <th>avg_purchases_lag12</th>\n",
       "      <th>active_months_lag12</th>\n",
       "      <th>category_4</th>\n",
       "      <th>city_id</th>\n",
       "      <th>state_id</th>\n",
       "      <th>category_2</th>\n",
       "    </tr>\n",
       "  </thead>\n",
       "  <tbody>\n",
       "    <tr>\n",
       "      <th>0</th>\n",
       "      <td>M_ID_838061e48c</td>\n",
       "      <td>8353</td>\n",
       "      <td>792</td>\n",
       "      <td>9</td>\n",
       "      <td>-0.057471</td>\n",
       "      <td>-0.057471</td>\n",
       "      <td>N</td>\n",
       "      <td>E</td>\n",
       "      <td>E</td>\n",
       "      <td>-0.40</td>\n",
       "      <td>...</td>\n",
       "      <td>-2.25</td>\n",
       "      <td>18.666667</td>\n",
       "      <td>6</td>\n",
       "      <td>-2.32</td>\n",
       "      <td>13.916667</td>\n",
       "      <td>12</td>\n",
       "      <td>N</td>\n",
       "      <td>242</td>\n",
       "      <td>9</td>\n",
       "      <td>1.0</td>\n",
       "    </tr>\n",
       "    <tr>\n",
       "      <th>1</th>\n",
       "      <td>M_ID_9339d880ad</td>\n",
       "      <td>3184</td>\n",
       "      <td>840</td>\n",
       "      <td>20</td>\n",
       "      <td>-0.057471</td>\n",
       "      <td>-0.057471</td>\n",
       "      <td>N</td>\n",
       "      <td>E</td>\n",
       "      <td>E</td>\n",
       "      <td>-0.72</td>\n",
       "      <td>...</td>\n",
       "      <td>-0.74</td>\n",
       "      <td>1.291667</td>\n",
       "      <td>6</td>\n",
       "      <td>-0.57</td>\n",
       "      <td>1.687500</td>\n",
       "      <td>12</td>\n",
       "      <td>N</td>\n",
       "      <td>22</td>\n",
       "      <td>16</td>\n",
       "      <td>1.0</td>\n",
       "    </tr>\n",
       "    <tr>\n",
       "      <th>2</th>\n",
       "      <td>M_ID_e726bbae1e</td>\n",
       "      <td>447</td>\n",
       "      <td>690</td>\n",
       "      <td>1</td>\n",
       "      <td>-0.057471</td>\n",
       "      <td>-0.057471</td>\n",
       "      <td>N</td>\n",
       "      <td>E</td>\n",
       "      <td>E</td>\n",
       "      <td>-82.13</td>\n",
       "      <td>...</td>\n",
       "      <td>-82.13</td>\n",
       "      <td>260.000000</td>\n",
       "      <td>2</td>\n",
       "      <td>-82.13</td>\n",
       "      <td>260.000000</td>\n",
       "      <td>2</td>\n",
       "      <td>N</td>\n",
       "      <td>-1</td>\n",
       "      <td>5</td>\n",
       "      <td>5.0</td>\n",
       "    </tr>\n",
       "    <tr>\n",
       "      <th>3</th>\n",
       "      <td>M_ID_a70e9c5f81</td>\n",
       "      <td>5026</td>\n",
       "      <td>792</td>\n",
       "      <td>9</td>\n",
       "      <td>-0.057471</td>\n",
       "      <td>-0.057471</td>\n",
       "      <td>Y</td>\n",
       "      <td>E</td>\n",
       "      <td>E</td>\n",
       "      <td>NaN</td>\n",
       "      <td>...</td>\n",
       "      <td>NaN</td>\n",
       "      <td>4.666667</td>\n",
       "      <td>6</td>\n",
       "      <td>NaN</td>\n",
       "      <td>3.833333</td>\n",
       "      <td>12</td>\n",
       "      <td>Y</td>\n",
       "      <td>-1</td>\n",
       "      <td>-1</td>\n",
       "      <td>NaN</td>\n",
       "    </tr>\n",
       "    <tr>\n",
       "      <th>4</th>\n",
       "      <td>M_ID_64456c37ce</td>\n",
       "      <td>2228</td>\n",
       "      <td>222</td>\n",
       "      <td>21</td>\n",
       "      <td>-0.057471</td>\n",
       "      <td>-0.057471</td>\n",
       "      <td>Y</td>\n",
       "      <td>E</td>\n",
       "      <td>E</td>\n",
       "      <td>NaN</td>\n",
       "      <td>...</td>\n",
       "      <td>NaN</td>\n",
       "      <td>0.361111</td>\n",
       "      <td>6</td>\n",
       "      <td>NaN</td>\n",
       "      <td>0.347222</td>\n",
       "      <td>12</td>\n",
       "      <td>Y</td>\n",
       "      <td>-1</td>\n",
       "      <td>-1</td>\n",
       "      <td>NaN</td>\n",
       "    </tr>\n",
       "  </tbody>\n",
       "</table>\n",
       "<p>5 rows × 22 columns</p>\n",
       "</div>"
      ]
     },
     "execution_count": 3,
     "metadata": {},
     "output_type": "execute_result"
    }
   ],
   "execution_count": 3
  },
  {
   "metadata": {
    "ExecuteTime": {
     "end_time": "2025-08-25T15:30:17.816148Z",
     "start_time": "2025-08-25T15:30:17.761693Z"
    }
   },
   "cell_type": "code",
   "source": "merchant.info()",
   "id": "f91412811c9f025e",
   "outputs": [
    {
     "name": "stdout",
     "output_type": "stream",
     "text": [
      "<class 'pandas.core.frame.DataFrame'>\n",
      "RangeIndex: 334696 entries, 0 to 334695\n",
      "Data columns (total 22 columns):\n",
      " #   Column                       Non-Null Count   Dtype  \n",
      "---  ------                       --------------   -----  \n",
      " 0   merchant_id                  334696 non-null  object \n",
      " 1   merchant_group_id            334696 non-null  int64  \n",
      " 2   merchant_category_id         334696 non-null  int64  \n",
      " 3   subsector_id                 334696 non-null  int64  \n",
      " 4   numerical_1                  334696 non-null  float64\n",
      " 5   numerical_2                  334696 non-null  float64\n",
      " 6   category_1                   334696 non-null  object \n",
      " 7   most_recent_sales_range      334696 non-null  object \n",
      " 8   most_recent_purchases_range  334696 non-null  object \n",
      " 9   avg_sales_lag3               334683 non-null  float64\n",
      " 10  avg_purchases_lag3           334696 non-null  float64\n",
      " 11  active_months_lag3           334696 non-null  int64  \n",
      " 12  avg_sales_lag6               334683 non-null  float64\n",
      " 13  avg_purchases_lag6           334696 non-null  float64\n",
      " 14  active_months_lag6           334696 non-null  int64  \n",
      " 15  avg_sales_lag12              334683 non-null  float64\n",
      " 16  avg_purchases_lag12          334696 non-null  float64\n",
      " 17  active_months_lag12          334696 non-null  int64  \n",
      " 18  category_4                   334696 non-null  object \n",
      " 19  city_id                      334696 non-null  int64  \n",
      " 20  state_id                     334696 non-null  int64  \n",
      " 21  category_2                   322809 non-null  float64\n",
      "dtypes: float64(9), int64(8), object(5)\n",
      "memory usage: 56.2+ MB\n"
     ]
    }
   ],
   "execution_count": 4
  },
  {
   "metadata": {},
   "cell_type": "markdown",
   "source": "基本字段解释",
   "id": "dc81ec3f2d57d360"
  },
  {
   "metadata": {
    "ExecuteTime": {
     "end_time": "2025-08-25T15:30:18.315053Z",
     "start_time": "2025-08-25T15:30:17.924739Z"
    }
   },
   "cell_type": "code",
   "source": [
    "df = pd.read_excel('../data/competitions/elo-merchant-category-recommendation/Data_Dictionary.xlsx', header=2,\n",
    "                   sheet_name='merchant')\n",
    "df"
   ],
   "id": "328f829f899289b3",
   "outputs": [
    {
     "data": {
      "text/plain": [
       "                        Columns  \\\n",
       "0                   merchant_id   \n",
       "1             merchant_group_id   \n",
       "2          merchant_category_id   \n",
       "3                  subsector_id   \n",
       "4                   numerical_1   \n",
       "5                   numerical_2   \n",
       "6                    category_1   \n",
       "7       most_recent_sales_range   \n",
       "8   most_recent_purchases_range   \n",
       "9                avg_sales_lag3   \n",
       "10           avg_purchases_lag3   \n",
       "11           active_months_lag3   \n",
       "12               avg_sales_lag6   \n",
       "13           avg_purchases_lag6   \n",
       "14           active_months_lag6   \n",
       "15              avg_sales_lag12   \n",
       "16          avg_purchases_lag12   \n",
       "17          active_months_lag12   \n",
       "18                   category_4   \n",
       "19                      city_id   \n",
       "20                     state_id   \n",
       "21                   category_2   \n",
       "\n",
       "                                          Description  \n",
       "0                          Unique merchant identifier  \n",
       "1                        Merchant group (anonymized )  \n",
       "2   Unique identifier for merchant category (anony...  \n",
       "3               Merchant category group (anonymized )  \n",
       "4                                  anonymized measure  \n",
       "5                                  anonymized measure  \n",
       "6                                 anonymized category  \n",
       "7   Range of revenue (monetary units) in last acti...  \n",
       "8   Range of quantity of transactions in last acti...  \n",
       "9   Monthly average of revenue in last 3 months di...  \n",
       "10  Monthly average of transactions in last 3 mont...  \n",
       "11     Quantity of active months within last 3 months  \n",
       "12  Monthly average of revenue in last 6 months di...  \n",
       "13  Monthly average of transactions in last 6 mont...  \n",
       "14     Quantity of active months within last 6 months  \n",
       "15  Monthly average of revenue in last 12 months d...  \n",
       "16  Monthly average of transactions in last 12 mon...  \n",
       "17    Quantity of active months within last 12 months  \n",
       "18                                anonymized category  \n",
       "19                      City identifier (anonymized )  \n",
       "20                     State identifier (anonymized )  \n",
       "21                                anonymized category  "
      ],
      "text/html": [
       "<div>\n",
       "<style scoped>\n",
       "    .dataframe tbody tr th:only-of-type {\n",
       "        vertical-align: middle;\n",
       "    }\n",
       "\n",
       "    .dataframe tbody tr th {\n",
       "        vertical-align: top;\n",
       "    }\n",
       "\n",
       "    .dataframe thead th {\n",
       "        text-align: right;\n",
       "    }\n",
       "</style>\n",
       "<table border=\"1\" class=\"dataframe\">\n",
       "  <thead>\n",
       "    <tr style=\"text-align: right;\">\n",
       "      <th></th>\n",
       "      <th>Columns</th>\n",
       "      <th>Description</th>\n",
       "    </tr>\n",
       "  </thead>\n",
       "  <tbody>\n",
       "    <tr>\n",
       "      <th>0</th>\n",
       "      <td>merchant_id</td>\n",
       "      <td>Unique merchant identifier</td>\n",
       "    </tr>\n",
       "    <tr>\n",
       "      <th>1</th>\n",
       "      <td>merchant_group_id</td>\n",
       "      <td>Merchant group (anonymized )</td>\n",
       "    </tr>\n",
       "    <tr>\n",
       "      <th>2</th>\n",
       "      <td>merchant_category_id</td>\n",
       "      <td>Unique identifier for merchant category (anony...</td>\n",
       "    </tr>\n",
       "    <tr>\n",
       "      <th>3</th>\n",
       "      <td>subsector_id</td>\n",
       "      <td>Merchant category group (anonymized )</td>\n",
       "    </tr>\n",
       "    <tr>\n",
       "      <th>4</th>\n",
       "      <td>numerical_1</td>\n",
       "      <td>anonymized measure</td>\n",
       "    </tr>\n",
       "    <tr>\n",
       "      <th>5</th>\n",
       "      <td>numerical_2</td>\n",
       "      <td>anonymized measure</td>\n",
       "    </tr>\n",
       "    <tr>\n",
       "      <th>6</th>\n",
       "      <td>category_1</td>\n",
       "      <td>anonymized category</td>\n",
       "    </tr>\n",
       "    <tr>\n",
       "      <th>7</th>\n",
       "      <td>most_recent_sales_range</td>\n",
       "      <td>Range of revenue (monetary units) in last acti...</td>\n",
       "    </tr>\n",
       "    <tr>\n",
       "      <th>8</th>\n",
       "      <td>most_recent_purchases_range</td>\n",
       "      <td>Range of quantity of transactions in last acti...</td>\n",
       "    </tr>\n",
       "    <tr>\n",
       "      <th>9</th>\n",
       "      <td>avg_sales_lag3</td>\n",
       "      <td>Monthly average of revenue in last 3 months di...</td>\n",
       "    </tr>\n",
       "    <tr>\n",
       "      <th>10</th>\n",
       "      <td>avg_purchases_lag3</td>\n",
       "      <td>Monthly average of transactions in last 3 mont...</td>\n",
       "    </tr>\n",
       "    <tr>\n",
       "      <th>11</th>\n",
       "      <td>active_months_lag3</td>\n",
       "      <td>Quantity of active months within last 3 months</td>\n",
       "    </tr>\n",
       "    <tr>\n",
       "      <th>12</th>\n",
       "      <td>avg_sales_lag6</td>\n",
       "      <td>Monthly average of revenue in last 6 months di...</td>\n",
       "    </tr>\n",
       "    <tr>\n",
       "      <th>13</th>\n",
       "      <td>avg_purchases_lag6</td>\n",
       "      <td>Monthly average of transactions in last 6 mont...</td>\n",
       "    </tr>\n",
       "    <tr>\n",
       "      <th>14</th>\n",
       "      <td>active_months_lag6</td>\n",
       "      <td>Quantity of active months within last 6 months</td>\n",
       "    </tr>\n",
       "    <tr>\n",
       "      <th>15</th>\n",
       "      <td>avg_sales_lag12</td>\n",
       "      <td>Monthly average of revenue in last 12 months d...</td>\n",
       "    </tr>\n",
       "    <tr>\n",
       "      <th>16</th>\n",
       "      <td>avg_purchases_lag12</td>\n",
       "      <td>Monthly average of transactions in last 12 mon...</td>\n",
       "    </tr>\n",
       "    <tr>\n",
       "      <th>17</th>\n",
       "      <td>active_months_lag12</td>\n",
       "      <td>Quantity of active months within last 12 months</td>\n",
       "    </tr>\n",
       "    <tr>\n",
       "      <th>18</th>\n",
       "      <td>category_4</td>\n",
       "      <td>anonymized category</td>\n",
       "    </tr>\n",
       "    <tr>\n",
       "      <th>19</th>\n",
       "      <td>city_id</td>\n",
       "      <td>City identifier (anonymized )</td>\n",
       "    </tr>\n",
       "    <tr>\n",
       "      <th>20</th>\n",
       "      <td>state_id</td>\n",
       "      <td>State identifier (anonymized )</td>\n",
       "    </tr>\n",
       "    <tr>\n",
       "      <th>21</th>\n",
       "      <td>category_2</td>\n",
       "      <td>anonymized category</td>\n",
       "    </tr>\n",
       "  </tbody>\n",
       "</table>\n",
       "</div>"
      ]
     },
     "execution_count": 5,
     "metadata": {},
     "output_type": "execute_result"
    }
   ],
   "execution_count": 5
  },
  {
   "metadata": {},
   "cell_type": "markdown",
   "source": [
    "| 1                           | 2                                                                                              |\n",
    "|-----------------------------|------------------------------------------------------------------------------------------------|\n",
    "| merchant_id                 | Unique merchant identifier                                                                     |\n",
    "| merchant_group_id           | Merchant group (anonymized )                                                                   |\n",
    "| merchant_category_id        | Unique identifier for merchant category (anonymized )                                          |\n",
    "| subsector_id                | Merchant category group (anonymized )                                                          |\n",
    "| numerical_1                 | anonymized measure                                                                             |\n",
    "| numerical_2                 | anonymized measure                                                                             |\n",
    "| category_1                  | anonymized category                                                                            |\n",
    "| most_recent_sales_range     | Range of revenue (monetary units) in last active month --> A > B > C > D > E                   |\n",
    "| most_recent_purchases_range | Range of quantity of transactions in last active month --> A > B > C > D > E                   |\n",
    "| avg_sales_lag3              | Monthly average of revenue in last 3 months divided by revenue in last active month            |\n",
    "| avg_purchases_lag3          | Monthly average of transactions in last 3 months divided by transactions in last active month  |\n",
    "| active_months_lag3          | Quantity of active months within last 3 months                                                 |\n",
    "| avg_sales_lag6              | Monthly average of revenue in last 6 months divided by revenue in last active month            |\n",
    "| avg_purchases_lag6          | Monthly average of transactions in last 6 months divided by transactions in last active month  |\n",
    "| active_months_lag6          | Quantity of active months within last 6 months                                                 |\n",
    "| avg_sales_lag12             | Monthly average of revenue in last 12 months divided by revenue in last active month           |\n",
    "| avg_purchases_lag12         | Monthly average of transactions in last 12 months divided by transactions in last active month |\n",
    "| active_months_lag12         | Quantity of active months within last 12 months                                                |\n",
    "| category_4                  | anonymized category                                                                            |\n",
    "| city_id                     | City identifier (anonymized )                                                                  |\n",
    "| state_id                    | State identifier (anonymized )                                                                 |\n",
    "| category_2                  | anonymized category                                                                            |\n"
   ],
   "id": "aef09f00778d18dc"
  },
  {
   "metadata": {},
   "cell_type": "markdown",
   "source": [
    "most rescent sales range, 没有告诉什么叫活跃，可以认为是营收状况；是离散、有序的\n",
    "\n",
    "一般，机器学习不区分离散型变量的细分。实际上，有两个类别：\n",
    "- 有序型：数字有顺序的含义\n",
    "- 名义变量：如，男=1，女=0，这时没有1>0\n",
    "\n",
    "有时会把有序变量看成连续变量"
   ],
   "id": "4ebe8e470755f468"
  },
  {
   "metadata": {},
   "cell_type": "markdown",
   "source": "提供了商户属性（类别，商品种类等），同时也提供了商户近期的交易数据",
   "id": "ccf3e790afd3f64d"
  },
  {
   "metadata": {},
   "cell_type": "markdown",
   "source": [
    "avg_purchases_lag：月平均交易量除以上个活跃月份\n",
    "\n",
    "近期与长期的对比"
   ],
   "id": "319653b64b96c944"
  },
  {
   "metadata": {},
   "cell_type": "markdown",
   "source": "## 2. 数据探索",
   "id": "a7d3c07bb6309f65"
  },
  {
   "metadata": {},
   "cell_type": "markdown",
   "source": [
    "- 正确性校验\n",
    "商户id出现次数"
   ],
   "id": "d3bbe1d81472c41e"
  },
  {
   "metadata": {
    "ExecuteTime": {
     "end_time": "2025-08-25T15:30:18.414409Z",
     "start_time": "2025-08-25T15:30:18.358240Z"
    }
   },
   "cell_type": "code",
   "source": "print(merchant.shape, merchant['merchant_id'].nunique())",
   "id": "7efa8ade89f445d2",
   "outputs": [
    {
     "name": "stdout",
     "output_type": "stream",
     "text": [
      "(334696, 22) 334633\n"
     ]
    }
   ],
   "execution_count": 6
  },
  {
   "metadata": {},
   "cell_type": "markdown",
   "source": [
    "不是一个id对应一条数据，存在一个商户有多条记录。\n",
    "\n",
    "由于商户特征较多，可验证商户数据特征是否和数据字典中特征一致："
   ],
   "id": "23365e9adce8e4d4"
  },
  {
   "metadata": {
    "ExecuteTime": {
     "end_time": "2025-08-25T15:30:18.490352Z",
     "start_time": "2025-08-25T15:30:18.485345Z"
    }
   },
   "cell_type": "code",
   "source": "print(pd.Series(merchant.columns.tolist()).sort_values().values == pd.Series(df['Columns'].tolist()).sort_values().values)",
   "id": "20ab25509f0edce9",
   "outputs": [
    {
     "name": "stdout",
     "output_type": "stream",
     "text": [
      "[ True  True  True  True  True  True  True  True  True  True  True  True\n",
      "  True  True  True  True  True  True  True  True  True  True]\n"
     ]
    }
   ],
   "execution_count": 7
  },
  {
   "metadata": {},
   "cell_type": "markdown",
   "source": "商户特征一致",
   "id": "6730b754d73fe85e"
  },
  {
   "metadata": {},
   "cell_type": "markdown",
   "source": "- 缺失值分析",
   "id": "522939d6bd0eff70"
  },
  {
   "metadata": {
    "ExecuteTime": {
     "end_time": "2025-08-25T15:30:18.581969Z",
     "start_time": "2025-08-25T15:30:18.538546Z"
    }
   },
   "cell_type": "code",
   "source": "merchant.isnull().sum()",
   "id": "b9374fa76e91d200",
   "outputs": [
    {
     "data": {
      "text/plain": [
       "merchant_id                        0\n",
       "merchant_group_id                  0\n",
       "merchant_category_id               0\n",
       "subsector_id                       0\n",
       "numerical_1                        0\n",
       "numerical_2                        0\n",
       "category_1                         0\n",
       "most_recent_sales_range            0\n",
       "most_recent_purchases_range        0\n",
       "avg_sales_lag3                    13\n",
       "avg_purchases_lag3                 0\n",
       "active_months_lag3                 0\n",
       "avg_sales_lag6                    13\n",
       "avg_purchases_lag6                 0\n",
       "active_months_lag6                 0\n",
       "avg_sales_lag12                   13\n",
       "avg_purchases_lag12                0\n",
       "active_months_lag12                0\n",
       "category_4                         0\n",
       "city_id                            0\n",
       "state_id                           0\n",
       "category_2                     11887\n",
       "dtype: int64"
      ]
     },
     "execution_count": 8,
     "metadata": {},
     "output_type": "execute_result"
    }
   ],
   "execution_count": 8
  },
  {
   "metadata": {},
   "cell_type": "markdown",
   "source": [
    "缺失列为avg_lag，是近期与长期的比。\n",
    "\n",
    "有可能这13个是新商户，且可能相同的13家商户，都不到3个月"
   ],
   "id": "5d3b48314b8c0a14"
  },
  {
   "metadata": {},
   "cell_type": "markdown",
   "source": "另一个为category_2，是匿名字段",
   "id": "c7fe5ba2fcf0b6a4"
  },
  {
   "metadata": {},
   "cell_type": "markdown",
   "source": "## 3. 数据预处理",
   "id": "e6bd365ea36cfeca"
  },
  {
   "metadata": {},
   "cell_type": "markdown",
   "source": [
    "- 离散/连续字段标注\n",
    "    - 商户数据集同时存在分类变量和离散变量，因此可以首先根据字段的说明对不同属性特征进行统一划分："
   ],
   "id": "35a07f9ae9cc2dc3"
  },
  {
   "metadata": {
    "ExecuteTime": {
     "end_time": "2025-08-25T15:30:18.756269Z",
     "start_time": "2025-08-25T15:30:18.752332Z"
    }
   },
   "cell_type": "code",
   "source": [
    "category_cols = ['merchant_id', 'merchant_group_id', 'merchant_category_id', 'subsector_id', 'category_1', 'most_recent_sales_range', 'most_recent_purchases_range', 'category_4', 'city_id', 'state_id', 'category_2'\n",
    "]\n",
    "numeric_cols = ['numerical_1', 'numerical_2', 'avg_sales_lag3', 'avg_purchases_lag3', 'active_months_lag3', 'avg_sales_lag6', 'avg_purchases_lag6', 'active_months_lag6', 'avg_sales_lag12', 'avg_purchases_lag12', 'active_months_lag12']\n",
    "\n",
    "# 检验特征是否划分完全\n",
    "assert len(category_cols) + len(numeric_cols) == merchant.shape[1]"
   ],
   "id": "5bde4ba72d42936f",
   "outputs": [],
   "execution_count": 9
  },
  {
   "metadata": {},
   "cell_type": "markdown",
   "source": [
    "可能有情况是：有些变量可以看作连续型，也可以是离散型\n",
    "\n",
    "在预处理时，可以先统一划分成离散型，到建模阶段可以再调整"
   ],
   "id": "15db8d058b97b9b1"
  },
  {
   "metadata": {},
   "cell_type": "markdown",
   "source": [
    "- 离散变量数据情况\n",
    "    - 简单查看"
   ],
   "id": "a4adadb8e2555deb"
  },
  {
   "metadata": {
    "ExecuteTime": {
     "end_time": "2025-08-25T15:30:19.005740Z",
     "start_time": "2025-08-25T15:30:18.863419Z"
    }
   },
   "cell_type": "code",
   "source": [
    "# 查看取值水平\n",
    "merchant[category_cols].nunique()"
   ],
   "id": "d576b0fec9919113",
   "outputs": [
    {
     "data": {
      "text/plain": [
       "merchant_id                    334633\n",
       "merchant_group_id              109391\n",
       "merchant_category_id              324\n",
       "subsector_id                       41\n",
       "category_1                          2\n",
       "most_recent_sales_range             5\n",
       "most_recent_purchases_range         5\n",
       "category_4                          2\n",
       "city_id                           271\n",
       "state_id                           25\n",
       "category_2                          5\n",
       "dtype: int64"
      ]
     },
     "execution_count": 10,
     "metadata": {},
     "output_type": "execute_result"
    }
   ],
   "execution_count": 10
  },
  {
   "metadata": {},
   "cell_type": "markdown",
   "source": "匿名字段category_1，category_2，取值水平不同",
   "id": "4445326a78aea0bc"
  },
  {
   "metadata": {
    "ExecuteTime": {
     "end_time": "2025-08-25T15:30:19.074369Z",
     "start_time": "2025-08-25T15:30:19.051302Z"
    }
   },
   "cell_type": "code",
   "source": [
    "# 查看分类变量目前的类型\n",
    "merchant[category_cols].dtypes"
   ],
   "id": "d8a61eba207bc79b",
   "outputs": [
    {
     "data": {
      "text/plain": [
       "merchant_id                     object\n",
       "merchant_group_id                int64\n",
       "merchant_category_id             int64\n",
       "subsector_id                     int64\n",
       "category_1                      object\n",
       "most_recent_sales_range         object\n",
       "most_recent_purchases_range     object\n",
       "category_4                      object\n",
       "city_id                          int64\n",
       "state_id                         int64\n",
       "category_2                     float64\n",
       "dtype: object"
      ]
     },
     "execution_count": 11,
     "metadata": {},
     "output_type": "execute_result"
    }
   ],
   "execution_count": 11
  },
  {
   "metadata": {},
   "cell_type": "markdown",
   "source": "未来要对object类进行处理",
   "id": "f044cf68e4ff4611"
  },
  {
   "metadata": {
    "ExecuteTime": {
     "end_time": "2025-08-25T15:30:19.223815Z",
     "start_time": "2025-08-25T15:30:19.165206Z"
    }
   },
   "cell_type": "code",
   "source": [
    "# 查看离散变量的缺失值情况\n",
    "merchant[category_cols].isnull().sum()"
   ],
   "id": "dc177a19251c87d9",
   "outputs": [
    {
     "data": {
      "text/plain": [
       "merchant_id                        0\n",
       "merchant_group_id                  0\n",
       "merchant_category_id               0\n",
       "subsector_id                       0\n",
       "category_1                         0\n",
       "most_recent_sales_range            0\n",
       "most_recent_purchases_range        0\n",
       "category_4                         0\n",
       "city_id                            0\n",
       "state_id                           0\n",
       "category_2                     11887\n",
       "dtype: int64"
      ]
     },
     "execution_count": 12,
     "metadata": {},
     "output_type": "execute_result"
    }
   ],
   "execution_count": 12
  },
  {
   "metadata": {},
   "cell_type": "markdown",
   "source": [
    "- 离散变量的缺失值标注\n",
    "    - category_2存在较多缺失值，由于该分类取值水平为1-5，因此，可先将缺失值标记为-1："
   ],
   "id": "fe4279a5b6c163b3"
  },
  {
   "metadata": {
    "ExecuteTime": {
     "end_time": "2025-08-25T15:30:19.390188Z",
     "start_time": "2025-08-25T15:30:19.381668Z"
    }
   },
   "cell_type": "code",
   "source": "merchant['category_2'].unique()",
   "id": "e5af136a7e4c1bf5",
   "outputs": [
    {
     "data": {
      "text/plain": [
       "array([ 1.,  5., nan,  2.,  3.,  4.])"
      ]
     },
     "execution_count": 13,
     "metadata": {},
     "output_type": "execute_result"
    }
   ],
   "execution_count": 13
  },
  {
   "metadata": {
    "ExecuteTime": {
     "end_time": "2025-08-25T15:30:19.564817Z",
     "start_time": "2025-08-25T15:30:19.558278Z"
    }
   },
   "cell_type": "code",
   "source": "merchant['category_2'] = merchant['category_2'].fillna(-1)",
   "id": "ce225f90558561e4",
   "outputs": [],
   "execution_count": 14
  },
  {
   "metadata": {},
   "cell_type": "markdown",
   "source": [
    "接下来处理object类\n",
    "\n",
    "python没有算法可以处理"
   ],
   "id": "55e62657bfeceb52"
  },
  {
   "metadata": {},
   "cell_type": "markdown",
   "source": "如果是名义变量可以直接one-hot编码",
   "id": "911b77aa3f2d2fba"
  },
  {
   "metadata": {},
   "cell_type": "markdown",
   "source": [
    "- 离散变量字典编码\n",
    "\n",
    "将object类对象按照sort顺序进行数值化（整数）编码。\n",
    "\n",
    "例如原始category_1取值为Y/N，通过sort排序后N在Y前，因此重新编码时为0，Y为1。\n",
    "\n",
    "注意点：\n",
    "- 编码过程会对原始的对象类型先进行排序\n",
    "    - 当对开卡月份排序时，会存在有些月份没有的情况，比如2、5、7、10，排序时就会变成1、2、3、4，与月份数字的含义不同，背景信息缺失。特别是处理时序数据时，而且需要更复杂的方法"
   ],
   "id": "7f6b22cec0c6cdd5"
  },
  {
   "metadata": {},
   "cell_type": "markdown",
   "source": [
    "严格来说，变量类型有3类：连续型、名义型、有序型。\n",
    "\n",
    "名义变量没有大小的意义"
   ],
   "id": "99fd7fccacfe0bed"
  },
  {
   "metadata": {
    "ExecuteTime": {
     "end_time": "2025-08-25T15:30:19.661057Z",
     "start_time": "2025-08-25T15:30:19.657921Z"
    }
   },
   "cell_type": "code",
   "source": [
    "# 字典编码函数\n",
    "def change_object_cols(se):\n",
    "    value = se.unique().tolist()\n",
    "    value.sort()\n",
    "    return se.map(pd.Series(range(len(value)), index=value)).values"
   ],
   "id": "eb2ef1b9f4ee3132",
   "outputs": [],
   "execution_count": 15
  },
  {
   "metadata": {},
   "cell_type": "markdown",
   "source": "测试函数效果",
   "id": "3ba89bab2a3b6141"
  },
  {
   "metadata": {
    "ExecuteTime": {
     "end_time": "2025-08-25T15:30:19.696873Z",
     "start_time": "2025-08-25T15:30:19.691937Z"
    }
   },
   "cell_type": "code",
   "source": "merchant['category_1']",
   "id": "fc9e62a1710c1c",
   "outputs": [
    {
     "data": {
      "text/plain": [
       "0         N\n",
       "1         N\n",
       "2         N\n",
       "3         Y\n",
       "4         Y\n",
       "         ..\n",
       "334691    N\n",
       "334692    Y\n",
       "334693    N\n",
       "334694    Y\n",
       "334695    N\n",
       "Name: category_1, Length: 334696, dtype: object"
      ]
     },
     "execution_count": 16,
     "metadata": {},
     "output_type": "execute_result"
    }
   ],
   "execution_count": 16
  },
  {
   "metadata": {
    "ExecuteTime": {
     "end_time": "2025-08-25T15:30:19.783994Z",
     "start_time": "2025-08-25T15:30:19.757571Z"
    }
   },
   "cell_type": "code",
   "source": "change_object_cols(merchant['category_1'])",
   "id": "1e4effedd6afe8bd",
   "outputs": [
    {
     "data": {
      "text/plain": [
       "array([0, 0, 0, ..., 0, 1, 0])"
      ]
     },
     "execution_count": 17,
     "metadata": {},
     "output_type": "execute_result"
    }
   ],
   "execution_count": 17
  },
  {
   "metadata": {},
   "cell_type": "markdown",
   "source": "对merchant对象中的四个object类型列进行类别转化：",
   "id": "b1d9e60bdc480771"
  },
  {
   "metadata": {
    "ExecuteTime": {
     "end_time": "2025-08-25T15:30:19.978832Z",
     "start_time": "2025-08-25T15:30:19.906803Z"
    }
   },
   "cell_type": "code",
   "source": [
    "for col in ['category_1', 'most_recent_sales_range', 'most_recent_purchases_range', 'category_4']:\n",
    "    change_object_cols(merchant[col])"
   ],
   "id": "aca901efde1017f7",
   "outputs": [],
   "execution_count": 18
  },
  {
   "metadata": {},
   "cell_type": "markdown",
   "source": "现在这些列都是int类型，可以代入进行建模",
   "id": "2655bd2c0307342c"
  },
  {
   "metadata": {},
   "cell_type": "markdown",
   "source": "- 连续变量的数据探索",
   "id": "e3fbd3e7bd74025f"
  },
  {
   "metadata": {
    "ExecuteTime": {
     "end_time": "2025-08-25T15:30:20.015564Z",
     "start_time": "2025-08-25T15:30:19.994063Z"
    }
   },
   "cell_type": "code",
   "source": [
    "# 查看连续变量的类型\n",
    "merchant[numeric_cols].dtypes"
   ],
   "id": "3111cc66c0b726c4",
   "outputs": [
    {
     "data": {
      "text/plain": [
       "numerical_1            float64\n",
       "numerical_2            float64\n",
       "avg_sales_lag3         float64\n",
       "avg_purchases_lag3     float64\n",
       "active_months_lag3       int64\n",
       "avg_sales_lag6         float64\n",
       "avg_purchases_lag6     float64\n",
       "active_months_lag6       int64\n",
       "avg_sales_lag12        float64\n",
       "avg_purchases_lag12    float64\n",
       "active_months_lag12      int64\n",
       "dtype: object"
      ]
     },
     "execution_count": 19,
     "metadata": {},
     "output_type": "execute_result"
    }
   ],
   "execution_count": 19
  },
  {
   "metadata": {
    "ExecuteTime": {
     "end_time": "2025-08-25T15:30:20.090776Z",
     "start_time": "2025-08-25T15:30:20.068929Z"
    }
   },
   "cell_type": "code",
   "source": [
    "# 连续变量的缺失情况\n",
    "merchant[numeric_cols].isnull().sum()"
   ],
   "id": "be381e178495626d",
   "outputs": [
    {
     "data": {
      "text/plain": [
       "numerical_1             0\n",
       "numerical_2             0\n",
       "avg_sales_lag3         13\n",
       "avg_purchases_lag3      0\n",
       "active_months_lag3      0\n",
       "avg_sales_lag6         13\n",
       "avg_purchases_lag6      0\n",
       "active_months_lag6      0\n",
       "avg_sales_lag12        13\n",
       "avg_purchases_lag12     0\n",
       "active_months_lag12     0\n",
       "dtype: int64"
      ]
     },
     "execution_count": 20,
     "metadata": {},
     "output_type": "execute_result"
    }
   ],
   "execution_count": 20
  },
  {
   "metadata": {},
   "cell_type": "markdown",
   "source": [
    "可能是某13个商户\n",
    "\n",
    "考虑到merchant数据集有30多万条，13条缺失不算什么，因此可以使用均值填充，没有必要使用更高级的方法，因为影响不大。"
   ],
   "id": "d112301eca391967"
  },
  {
   "metadata": {
    "ExecuteTime": {
     "end_time": "2025-08-25T15:30:20.378043Z",
     "start_time": "2025-08-25T15:30:20.192907Z"
    }
   },
   "cell_type": "code",
   "source": [
    "# 连续变量整体情况\n",
    "merchant[numeric_cols].describe()"
   ],
   "id": "bc61107e4f2772f",
   "outputs": [
    {
     "name": "stderr",
     "output_type": "stream",
     "text": [
      "E:\\py_project\\StudyTorch\\.venv\\Lib\\site-packages\\pandas\\core\\nanops.py:1016: RuntimeWarning: invalid value encountered in subtract\n",
      "  sqr = _ensure_numeric((avg - values) ** 2)\n",
      "E:\\py_project\\StudyTorch\\.venv\\Lib\\site-packages\\pandas\\core\\nanops.py:1016: RuntimeWarning: invalid value encountered in subtract\n",
      "  sqr = _ensure_numeric((avg - values) ** 2)\n",
      "E:\\py_project\\StudyTorch\\.venv\\Lib\\site-packages\\pandas\\core\\nanops.py:1016: RuntimeWarning: invalid value encountered in subtract\n",
      "  sqr = _ensure_numeric((avg - values) ** 2)\n"
     ]
    },
    {
     "data": {
      "text/plain": [
       "         numerical_1    numerical_2  avg_sales_lag3  avg_purchases_lag3  \\\n",
       "count  334696.000000  334696.000000   334683.000000        3.346960e+05   \n",
       "mean        0.011476       0.008103       13.832993                 inf   \n",
       "std         1.098154       1.070497     2395.489999                 NaN   \n",
       "min        -0.057471      -0.057471      -82.130000        3.334953e-01   \n",
       "25%        -0.057471      -0.057471        0.880000        9.236499e-01   \n",
       "50%        -0.057471      -0.057471        1.000000        1.016667e+00   \n",
       "75%        -0.047556      -0.047556        1.160000        1.146522e+00   \n",
       "max       183.735111     182.079322   851844.640000                 inf   \n",
       "\n",
       "       active_months_lag3  avg_sales_lag6  avg_purchases_lag6  \\\n",
       "count       334696.000000    3.346830e+05        3.346960e+05   \n",
       "mean             2.994108    2.165079e+01                 inf   \n",
       "std              0.095247    3.947108e+03                 NaN   \n",
       "min              1.000000   -8.213000e+01        1.670447e-01   \n",
       "25%              3.000000    8.500000e-01        9.022475e-01   \n",
       "50%              3.000000    1.010000e+00        1.026961e+00   \n",
       "75%              3.000000    1.230000e+00        1.215575e+00   \n",
       "max              3.000000    1.513959e+06                 inf   \n",
       "\n",
       "       active_months_lag6  avg_sales_lag12  avg_purchases_lag12  \\\n",
       "count       334696.000000     3.346830e+05         3.346960e+05   \n",
       "mean             5.947397     2.522771e+01                  inf   \n",
       "std              0.394936     5.251842e+03                  NaN   \n",
       "min              1.000000    -8.213000e+01         9.832954e-02   \n",
       "25%              6.000000     8.500000e-01         8.983333e-01   \n",
       "50%              6.000000     1.020000e+00         1.043361e+00   \n",
       "75%              6.000000     1.290000e+00         1.266480e+00   \n",
       "max              6.000000     2.567408e+06                  inf   \n",
       "\n",
       "       active_months_lag12  \n",
       "count        334696.000000  \n",
       "mean             11.599335  \n",
       "std               1.520138  \n",
       "min               1.000000  \n",
       "25%              12.000000  \n",
       "50%              12.000000  \n",
       "75%              12.000000  \n",
       "max              12.000000  "
      ],
      "text/html": [
       "<div>\n",
       "<style scoped>\n",
       "    .dataframe tbody tr th:only-of-type {\n",
       "        vertical-align: middle;\n",
       "    }\n",
       "\n",
       "    .dataframe tbody tr th {\n",
       "        vertical-align: top;\n",
       "    }\n",
       "\n",
       "    .dataframe thead th {\n",
       "        text-align: right;\n",
       "    }\n",
       "</style>\n",
       "<table border=\"1\" class=\"dataframe\">\n",
       "  <thead>\n",
       "    <tr style=\"text-align: right;\">\n",
       "      <th></th>\n",
       "      <th>numerical_1</th>\n",
       "      <th>numerical_2</th>\n",
       "      <th>avg_sales_lag3</th>\n",
       "      <th>avg_purchases_lag3</th>\n",
       "      <th>active_months_lag3</th>\n",
       "      <th>avg_sales_lag6</th>\n",
       "      <th>avg_purchases_lag6</th>\n",
       "      <th>active_months_lag6</th>\n",
       "      <th>avg_sales_lag12</th>\n",
       "      <th>avg_purchases_lag12</th>\n",
       "      <th>active_months_lag12</th>\n",
       "    </tr>\n",
       "  </thead>\n",
       "  <tbody>\n",
       "    <tr>\n",
       "      <th>count</th>\n",
       "      <td>334696.000000</td>\n",
       "      <td>334696.000000</td>\n",
       "      <td>334683.000000</td>\n",
       "      <td>3.346960e+05</td>\n",
       "      <td>334696.000000</td>\n",
       "      <td>3.346830e+05</td>\n",
       "      <td>3.346960e+05</td>\n",
       "      <td>334696.000000</td>\n",
       "      <td>3.346830e+05</td>\n",
       "      <td>3.346960e+05</td>\n",
       "      <td>334696.000000</td>\n",
       "    </tr>\n",
       "    <tr>\n",
       "      <th>mean</th>\n",
       "      <td>0.011476</td>\n",
       "      <td>0.008103</td>\n",
       "      <td>13.832993</td>\n",
       "      <td>inf</td>\n",
       "      <td>2.994108</td>\n",
       "      <td>2.165079e+01</td>\n",
       "      <td>inf</td>\n",
       "      <td>5.947397</td>\n",
       "      <td>2.522771e+01</td>\n",
       "      <td>inf</td>\n",
       "      <td>11.599335</td>\n",
       "    </tr>\n",
       "    <tr>\n",
       "      <th>std</th>\n",
       "      <td>1.098154</td>\n",
       "      <td>1.070497</td>\n",
       "      <td>2395.489999</td>\n",
       "      <td>NaN</td>\n",
       "      <td>0.095247</td>\n",
       "      <td>3.947108e+03</td>\n",
       "      <td>NaN</td>\n",
       "      <td>0.394936</td>\n",
       "      <td>5.251842e+03</td>\n",
       "      <td>NaN</td>\n",
       "      <td>1.520138</td>\n",
       "    </tr>\n",
       "    <tr>\n",
       "      <th>min</th>\n",
       "      <td>-0.057471</td>\n",
       "      <td>-0.057471</td>\n",
       "      <td>-82.130000</td>\n",
       "      <td>3.334953e-01</td>\n",
       "      <td>1.000000</td>\n",
       "      <td>-8.213000e+01</td>\n",
       "      <td>1.670447e-01</td>\n",
       "      <td>1.000000</td>\n",
       "      <td>-8.213000e+01</td>\n",
       "      <td>9.832954e-02</td>\n",
       "      <td>1.000000</td>\n",
       "    </tr>\n",
       "    <tr>\n",
       "      <th>25%</th>\n",
       "      <td>-0.057471</td>\n",
       "      <td>-0.057471</td>\n",
       "      <td>0.880000</td>\n",
       "      <td>9.236499e-01</td>\n",
       "      <td>3.000000</td>\n",
       "      <td>8.500000e-01</td>\n",
       "      <td>9.022475e-01</td>\n",
       "      <td>6.000000</td>\n",
       "      <td>8.500000e-01</td>\n",
       "      <td>8.983333e-01</td>\n",
       "      <td>12.000000</td>\n",
       "    </tr>\n",
       "    <tr>\n",
       "      <th>50%</th>\n",
       "      <td>-0.057471</td>\n",
       "      <td>-0.057471</td>\n",
       "      <td>1.000000</td>\n",
       "      <td>1.016667e+00</td>\n",
       "      <td>3.000000</td>\n",
       "      <td>1.010000e+00</td>\n",
       "      <td>1.026961e+00</td>\n",
       "      <td>6.000000</td>\n",
       "      <td>1.020000e+00</td>\n",
       "      <td>1.043361e+00</td>\n",
       "      <td>12.000000</td>\n",
       "    </tr>\n",
       "    <tr>\n",
       "      <th>75%</th>\n",
       "      <td>-0.047556</td>\n",
       "      <td>-0.047556</td>\n",
       "      <td>1.160000</td>\n",
       "      <td>1.146522e+00</td>\n",
       "      <td>3.000000</td>\n",
       "      <td>1.230000e+00</td>\n",
       "      <td>1.215575e+00</td>\n",
       "      <td>6.000000</td>\n",
       "      <td>1.290000e+00</td>\n",
       "      <td>1.266480e+00</td>\n",
       "      <td>12.000000</td>\n",
       "    </tr>\n",
       "    <tr>\n",
       "      <th>max</th>\n",
       "      <td>183.735111</td>\n",
       "      <td>182.079322</td>\n",
       "      <td>851844.640000</td>\n",
       "      <td>inf</td>\n",
       "      <td>3.000000</td>\n",
       "      <td>1.513959e+06</td>\n",
       "      <td>inf</td>\n",
       "      <td>6.000000</td>\n",
       "      <td>2.567408e+06</td>\n",
       "      <td>inf</td>\n",
       "      <td>12.000000</td>\n",
       "    </tr>\n",
       "  </tbody>\n",
       "</table>\n",
       "</div>"
      ]
     },
     "execution_count": 21,
     "metadata": {},
     "output_type": "execute_result"
    }
   ],
   "execution_count": 21
  },
  {
   "metadata": {},
   "cell_type": "markdown",
   "source": "由于连续型变量存在部分缺失值，且部分连续变量还存在无穷值inf，需要进行简单处理。",
   "id": "346d05febd7fe1d7"
  },
  {
   "metadata": {},
   "cell_type": "markdown",
   "source": "inf也是不合规的数据，不能用来建模",
   "id": "e6ec4503eb3f3406"
  },
  {
   "metadata": {},
   "cell_type": "markdown",
   "source": [
    "- 无穷值处理\n",
    "    - 采用天花板盖帽法，将inf改为该列的最大显式数值。"
   ],
   "id": "7d947768e8a2473b"
  },
  {
   "metadata": {
    "ExecuteTime": {
     "end_time": "2025-08-25T15:30:20.444554Z",
     "start_time": "2025-08-25T15:30:20.440413Z"
    }
   },
   "cell_type": "code",
   "source": "import numpy as np",
   "id": "9d7506651493d2e1",
   "outputs": [],
   "execution_count": 22
  },
  {
   "metadata": {
    "ExecuteTime": {
     "end_time": "2025-08-25T15:30:20.526291Z",
     "start_time": "2025-08-25T15:30:20.503836Z"
    }
   },
   "cell_type": "code",
   "source": [
    "inf_cols = ['avg_purchases_lag3', 'avg_purchases_lag6', 'avg_purchases_lag12']\n",
    "merchant[inf_cols] = merchant[inf_cols].replace(np.inf, merchant[inf_cols].replace(np.inf, -99).max().max())"
   ],
   "id": "e663fa8f0fa7be0a",
   "outputs": [],
   "execution_count": 23
  },
  {
   "metadata": {
    "ExecuteTime": {
     "end_time": "2025-08-25T15:30:20.778706Z",
     "start_time": "2025-08-25T15:30:20.585502Z"
    }
   },
   "cell_type": "code",
   "source": "merchant[numeric_cols].describe()",
   "id": "db34d1304760fe1e",
   "outputs": [
    {
     "data": {
      "text/plain": [
       "         numerical_1    numerical_2  avg_sales_lag3  avg_purchases_lag3  \\\n",
       "count  334696.000000  334696.000000   334683.000000       334696.000000   \n",
       "mean        0.011476       0.008103       13.832993            2.145143   \n",
       "std         1.098154       1.070497     2395.489999          213.955844   \n",
       "min        -0.057471      -0.057471      -82.130000            0.333495   \n",
       "25%        -0.057471      -0.057471        0.880000            0.923650   \n",
       "50%        -0.057471      -0.057471        1.000000            1.016667   \n",
       "75%        -0.047556      -0.047556        1.160000            1.146522   \n",
       "max       183.735111     182.079322   851844.640000        61851.333333   \n",
       "\n",
       "       active_months_lag3  avg_sales_lag6  avg_purchases_lag6  \\\n",
       "count       334696.000000    3.346830e+05       334696.000000   \n",
       "mean             2.994108    2.165079e+01            2.441947   \n",
       "std              0.095247    3.947108e+03          209.439373   \n",
       "min              1.000000   -8.213000e+01            0.167045   \n",
       "25%              3.000000    8.500000e-01            0.902247   \n",
       "50%              3.000000    1.010000e+00            1.026961   \n",
       "75%              3.000000    1.230000e+00            1.215575   \n",
       "max              3.000000    1.513959e+06        61851.333333   \n",
       "\n",
       "       active_months_lag6  avg_sales_lag12  avg_purchases_lag12  \\\n",
       "count       334696.000000     3.346830e+05        334696.000000   \n",
       "mean             5.947397     2.522771e+01             2.633572   \n",
       "std              0.394936     5.251842e+03           205.206198   \n",
       "min              1.000000    -8.213000e+01             0.098330   \n",
       "25%              6.000000     8.500000e-01             0.898333   \n",
       "50%              6.000000     1.020000e+00             1.043361   \n",
       "75%              6.000000     1.290000e+00             1.266480   \n",
       "max              6.000000     2.567408e+06         61851.333333   \n",
       "\n",
       "       active_months_lag12  \n",
       "count        334696.000000  \n",
       "mean             11.599335  \n",
       "std               1.520138  \n",
       "min               1.000000  \n",
       "25%              12.000000  \n",
       "50%              12.000000  \n",
       "75%              12.000000  \n",
       "max              12.000000  "
      ],
      "text/html": [
       "<div>\n",
       "<style scoped>\n",
       "    .dataframe tbody tr th:only-of-type {\n",
       "        vertical-align: middle;\n",
       "    }\n",
       "\n",
       "    .dataframe tbody tr th {\n",
       "        vertical-align: top;\n",
       "    }\n",
       "\n",
       "    .dataframe thead th {\n",
       "        text-align: right;\n",
       "    }\n",
       "</style>\n",
       "<table border=\"1\" class=\"dataframe\">\n",
       "  <thead>\n",
       "    <tr style=\"text-align: right;\">\n",
       "      <th></th>\n",
       "      <th>numerical_1</th>\n",
       "      <th>numerical_2</th>\n",
       "      <th>avg_sales_lag3</th>\n",
       "      <th>avg_purchases_lag3</th>\n",
       "      <th>active_months_lag3</th>\n",
       "      <th>avg_sales_lag6</th>\n",
       "      <th>avg_purchases_lag6</th>\n",
       "      <th>active_months_lag6</th>\n",
       "      <th>avg_sales_lag12</th>\n",
       "      <th>avg_purchases_lag12</th>\n",
       "      <th>active_months_lag12</th>\n",
       "    </tr>\n",
       "  </thead>\n",
       "  <tbody>\n",
       "    <tr>\n",
       "      <th>count</th>\n",
       "      <td>334696.000000</td>\n",
       "      <td>334696.000000</td>\n",
       "      <td>334683.000000</td>\n",
       "      <td>334696.000000</td>\n",
       "      <td>334696.000000</td>\n",
       "      <td>3.346830e+05</td>\n",
       "      <td>334696.000000</td>\n",
       "      <td>334696.000000</td>\n",
       "      <td>3.346830e+05</td>\n",
       "      <td>334696.000000</td>\n",
       "      <td>334696.000000</td>\n",
       "    </tr>\n",
       "    <tr>\n",
       "      <th>mean</th>\n",
       "      <td>0.011476</td>\n",
       "      <td>0.008103</td>\n",
       "      <td>13.832993</td>\n",
       "      <td>2.145143</td>\n",
       "      <td>2.994108</td>\n",
       "      <td>2.165079e+01</td>\n",
       "      <td>2.441947</td>\n",
       "      <td>5.947397</td>\n",
       "      <td>2.522771e+01</td>\n",
       "      <td>2.633572</td>\n",
       "      <td>11.599335</td>\n",
       "    </tr>\n",
       "    <tr>\n",
       "      <th>std</th>\n",
       "      <td>1.098154</td>\n",
       "      <td>1.070497</td>\n",
       "      <td>2395.489999</td>\n",
       "      <td>213.955844</td>\n",
       "      <td>0.095247</td>\n",
       "      <td>3.947108e+03</td>\n",
       "      <td>209.439373</td>\n",
       "      <td>0.394936</td>\n",
       "      <td>5.251842e+03</td>\n",
       "      <td>205.206198</td>\n",
       "      <td>1.520138</td>\n",
       "    </tr>\n",
       "    <tr>\n",
       "      <th>min</th>\n",
       "      <td>-0.057471</td>\n",
       "      <td>-0.057471</td>\n",
       "      <td>-82.130000</td>\n",
       "      <td>0.333495</td>\n",
       "      <td>1.000000</td>\n",
       "      <td>-8.213000e+01</td>\n",
       "      <td>0.167045</td>\n",
       "      <td>1.000000</td>\n",
       "      <td>-8.213000e+01</td>\n",
       "      <td>0.098330</td>\n",
       "      <td>1.000000</td>\n",
       "    </tr>\n",
       "    <tr>\n",
       "      <th>25%</th>\n",
       "      <td>-0.057471</td>\n",
       "      <td>-0.057471</td>\n",
       "      <td>0.880000</td>\n",
       "      <td>0.923650</td>\n",
       "      <td>3.000000</td>\n",
       "      <td>8.500000e-01</td>\n",
       "      <td>0.902247</td>\n",
       "      <td>6.000000</td>\n",
       "      <td>8.500000e-01</td>\n",
       "      <td>0.898333</td>\n",
       "      <td>12.000000</td>\n",
       "    </tr>\n",
       "    <tr>\n",
       "      <th>50%</th>\n",
       "      <td>-0.057471</td>\n",
       "      <td>-0.057471</td>\n",
       "      <td>1.000000</td>\n",
       "      <td>1.016667</td>\n",
       "      <td>3.000000</td>\n",
       "      <td>1.010000e+00</td>\n",
       "      <td>1.026961</td>\n",
       "      <td>6.000000</td>\n",
       "      <td>1.020000e+00</td>\n",
       "      <td>1.043361</td>\n",
       "      <td>12.000000</td>\n",
       "    </tr>\n",
       "    <tr>\n",
       "      <th>75%</th>\n",
       "      <td>-0.047556</td>\n",
       "      <td>-0.047556</td>\n",
       "      <td>1.160000</td>\n",
       "      <td>1.146522</td>\n",
       "      <td>3.000000</td>\n",
       "      <td>1.230000e+00</td>\n",
       "      <td>1.215575</td>\n",
       "      <td>6.000000</td>\n",
       "      <td>1.290000e+00</td>\n",
       "      <td>1.266480</td>\n",
       "      <td>12.000000</td>\n",
       "    </tr>\n",
       "    <tr>\n",
       "      <th>max</th>\n",
       "      <td>183.735111</td>\n",
       "      <td>182.079322</td>\n",
       "      <td>851844.640000</td>\n",
       "      <td>61851.333333</td>\n",
       "      <td>3.000000</td>\n",
       "      <td>1.513959e+06</td>\n",
       "      <td>61851.333333</td>\n",
       "      <td>6.000000</td>\n",
       "      <td>2.567408e+06</td>\n",
       "      <td>61851.333333</td>\n",
       "      <td>12.000000</td>\n",
       "    </tr>\n",
       "  </tbody>\n",
       "</table>\n",
       "</div>"
      ]
     },
     "execution_count": 24,
     "metadata": {},
     "output_type": "execute_result"
    }
   ],
   "execution_count": 24
  },
  {
   "metadata": {},
   "cell_type": "markdown",
   "source": [
    "- 缺失值处理\n",
    "    - 缺失值处理方法有很多。该数据集缺失数据较少，先简单采用均值进行填补处理，后续根据需要进行优化。"
   ],
   "id": "c5ba19f41ab9979a"
  },
  {
   "metadata": {
    "ExecuteTime": {
     "end_time": "2025-08-25T15:30:20.860055Z",
     "start_time": "2025-08-25T15:30:20.824956Z"
    }
   },
   "cell_type": "code",
   "source": [
    "for col in numeric_cols:\n",
    "    merchant[col] = merchant[col].fillna(merchant[col].mean())"
   ],
   "id": "fb1eac795f286155",
   "outputs": [],
   "execution_count": 25
  },
  {
   "metadata": {
    "ExecuteTime": {
     "end_time": "2025-08-25T15:30:21.135986Z",
     "start_time": "2025-08-25T15:30:20.969122Z"
    }
   },
   "cell_type": "code",
   "source": "merchant[numeric_cols].describe()",
   "id": "93368a7aef3604e4",
   "outputs": [
    {
     "data": {
      "text/plain": [
       "         numerical_1    numerical_2  avg_sales_lag3  avg_purchases_lag3  \\\n",
       "count  334696.000000  334696.000000   334696.000000       334696.000000   \n",
       "mean        0.011476       0.008103       13.832993            2.145143   \n",
       "std         1.098154       1.070497     2395.443476          213.955844   \n",
       "min        -0.057471      -0.057471      -82.130000            0.333495   \n",
       "25%        -0.057471      -0.057471        0.880000            0.923650   \n",
       "50%        -0.057471      -0.057471        1.000000            1.016667   \n",
       "75%        -0.047556      -0.047556        1.160000            1.146522   \n",
       "max       183.735111     182.079322   851844.640000        61851.333333   \n",
       "\n",
       "       active_months_lag3  avg_sales_lag6  avg_purchases_lag6  \\\n",
       "count       334696.000000    3.346960e+05       334696.000000   \n",
       "mean             2.994108    2.165079e+01            2.441947   \n",
       "std              0.095247    3.947031e+03          209.439373   \n",
       "min              1.000000   -8.213000e+01            0.167045   \n",
       "25%              3.000000    8.500000e-01            0.902247   \n",
       "50%              3.000000    1.010000e+00            1.026961   \n",
       "75%              3.000000    1.230000e+00            1.215575   \n",
       "max              3.000000    1.513959e+06        61851.333333   \n",
       "\n",
       "       active_months_lag6  avg_sales_lag12  avg_purchases_lag12  \\\n",
       "count       334696.000000     3.346960e+05        334696.000000   \n",
       "mean             5.947397     2.522771e+01             2.633572   \n",
       "std              0.394936     5.251740e+03           205.206198   \n",
       "min              1.000000    -8.213000e+01             0.098330   \n",
       "25%              6.000000     8.500000e-01             0.898333   \n",
       "50%              6.000000     1.020000e+00             1.043361   \n",
       "75%              6.000000     1.290000e+00             1.266480   \n",
       "max              6.000000     2.567408e+06         61851.333333   \n",
       "\n",
       "       active_months_lag12  \n",
       "count        334696.000000  \n",
       "mean             11.599335  \n",
       "std               1.520138  \n",
       "min               1.000000  \n",
       "25%              12.000000  \n",
       "50%              12.000000  \n",
       "75%              12.000000  \n",
       "max              12.000000  "
      ],
      "text/html": [
       "<div>\n",
       "<style scoped>\n",
       "    .dataframe tbody tr th:only-of-type {\n",
       "        vertical-align: middle;\n",
       "    }\n",
       "\n",
       "    .dataframe tbody tr th {\n",
       "        vertical-align: top;\n",
       "    }\n",
       "\n",
       "    .dataframe thead th {\n",
       "        text-align: right;\n",
       "    }\n",
       "</style>\n",
       "<table border=\"1\" class=\"dataframe\">\n",
       "  <thead>\n",
       "    <tr style=\"text-align: right;\">\n",
       "      <th></th>\n",
       "      <th>numerical_1</th>\n",
       "      <th>numerical_2</th>\n",
       "      <th>avg_sales_lag3</th>\n",
       "      <th>avg_purchases_lag3</th>\n",
       "      <th>active_months_lag3</th>\n",
       "      <th>avg_sales_lag6</th>\n",
       "      <th>avg_purchases_lag6</th>\n",
       "      <th>active_months_lag6</th>\n",
       "      <th>avg_sales_lag12</th>\n",
       "      <th>avg_purchases_lag12</th>\n",
       "      <th>active_months_lag12</th>\n",
       "    </tr>\n",
       "  </thead>\n",
       "  <tbody>\n",
       "    <tr>\n",
       "      <th>count</th>\n",
       "      <td>334696.000000</td>\n",
       "      <td>334696.000000</td>\n",
       "      <td>334696.000000</td>\n",
       "      <td>334696.000000</td>\n",
       "      <td>334696.000000</td>\n",
       "      <td>3.346960e+05</td>\n",
       "      <td>334696.000000</td>\n",
       "      <td>334696.000000</td>\n",
       "      <td>3.346960e+05</td>\n",
       "      <td>334696.000000</td>\n",
       "      <td>334696.000000</td>\n",
       "    </tr>\n",
       "    <tr>\n",
       "      <th>mean</th>\n",
       "      <td>0.011476</td>\n",
       "      <td>0.008103</td>\n",
       "      <td>13.832993</td>\n",
       "      <td>2.145143</td>\n",
       "      <td>2.994108</td>\n",
       "      <td>2.165079e+01</td>\n",
       "      <td>2.441947</td>\n",
       "      <td>5.947397</td>\n",
       "      <td>2.522771e+01</td>\n",
       "      <td>2.633572</td>\n",
       "      <td>11.599335</td>\n",
       "    </tr>\n",
       "    <tr>\n",
       "      <th>std</th>\n",
       "      <td>1.098154</td>\n",
       "      <td>1.070497</td>\n",
       "      <td>2395.443476</td>\n",
       "      <td>213.955844</td>\n",
       "      <td>0.095247</td>\n",
       "      <td>3.947031e+03</td>\n",
       "      <td>209.439373</td>\n",
       "      <td>0.394936</td>\n",
       "      <td>5.251740e+03</td>\n",
       "      <td>205.206198</td>\n",
       "      <td>1.520138</td>\n",
       "    </tr>\n",
       "    <tr>\n",
       "      <th>min</th>\n",
       "      <td>-0.057471</td>\n",
       "      <td>-0.057471</td>\n",
       "      <td>-82.130000</td>\n",
       "      <td>0.333495</td>\n",
       "      <td>1.000000</td>\n",
       "      <td>-8.213000e+01</td>\n",
       "      <td>0.167045</td>\n",
       "      <td>1.000000</td>\n",
       "      <td>-8.213000e+01</td>\n",
       "      <td>0.098330</td>\n",
       "      <td>1.000000</td>\n",
       "    </tr>\n",
       "    <tr>\n",
       "      <th>25%</th>\n",
       "      <td>-0.057471</td>\n",
       "      <td>-0.057471</td>\n",
       "      <td>0.880000</td>\n",
       "      <td>0.923650</td>\n",
       "      <td>3.000000</td>\n",
       "      <td>8.500000e-01</td>\n",
       "      <td>0.902247</td>\n",
       "      <td>6.000000</td>\n",
       "      <td>8.500000e-01</td>\n",
       "      <td>0.898333</td>\n",
       "      <td>12.000000</td>\n",
       "    </tr>\n",
       "    <tr>\n",
       "      <th>50%</th>\n",
       "      <td>-0.057471</td>\n",
       "      <td>-0.057471</td>\n",
       "      <td>1.000000</td>\n",
       "      <td>1.016667</td>\n",
       "      <td>3.000000</td>\n",
       "      <td>1.010000e+00</td>\n",
       "      <td>1.026961</td>\n",
       "      <td>6.000000</td>\n",
       "      <td>1.020000e+00</td>\n",
       "      <td>1.043361</td>\n",
       "      <td>12.000000</td>\n",
       "    </tr>\n",
       "    <tr>\n",
       "      <th>75%</th>\n",
       "      <td>-0.047556</td>\n",
       "      <td>-0.047556</td>\n",
       "      <td>1.160000</td>\n",
       "      <td>1.146522</td>\n",
       "      <td>3.000000</td>\n",
       "      <td>1.230000e+00</td>\n",
       "      <td>1.215575</td>\n",
       "      <td>6.000000</td>\n",
       "      <td>1.290000e+00</td>\n",
       "      <td>1.266480</td>\n",
       "      <td>12.000000</td>\n",
       "    </tr>\n",
       "    <tr>\n",
       "      <th>max</th>\n",
       "      <td>183.735111</td>\n",
       "      <td>182.079322</td>\n",
       "      <td>851844.640000</td>\n",
       "      <td>61851.333333</td>\n",
       "      <td>3.000000</td>\n",
       "      <td>1.513959e+06</td>\n",
       "      <td>61851.333333</td>\n",
       "      <td>6.000000</td>\n",
       "      <td>2.567408e+06</td>\n",
       "      <td>61851.333333</td>\n",
       "      <td>12.000000</td>\n",
       "    </tr>\n",
       "  </tbody>\n",
       "</table>\n",
       "</div>"
      ]
     },
     "execution_count": 26,
     "metadata": {},
     "output_type": "execute_result"
    }
   ],
   "execution_count": 26
  },
  {
   "metadata": {},
   "cell_type": "markdown",
   "source": "至此完成了商户数据的预处理。",
   "id": "dd4f560148ed2c9b"
  },
  {
   "metadata": {},
   "cell_type": "markdown",
   "source": [
    "# 二、信用卡交易数据解读与探索\n",
    "\n",
    "交易数据是最大的数据集"
   ],
   "id": "2bea96fa11e9e3a4"
  },
  {
   "metadata": {},
   "cell_type": "markdown",
   "source": [
    "## 1.数据解读与验证\n",
    "\n",
    "先解释数据集，简单验证数据集正确性。\n",
    "\n",
    "信用卡交易记录：historical_transactions和new_merchant_transactions。\n",
    "\n",
    "字段类似，记录不同时间区间"
   ],
   "id": "d61475ccd415a197"
  },
  {
   "metadata": {},
   "cell_type": "markdown",
   "source": [
    "- historical_transactions\n",
    "    - 记录信用卡在特定商户、3个月内的消费记录。约有2.6G，并非必要建模字段，但能提取有效信息。"
   ],
   "id": "96dad43084568957"
  },
  {
   "metadata": {
    "ExecuteTime": {
     "end_time": "2025-08-25T15:31:31.137137Z",
     "start_time": "2025-08-25T15:30:21.173241Z"
    }
   },
   "cell_type": "code",
   "source": "history_transaction = pd.read_csv('../data/competitions/elo-merchant-category-recommendation/historical_transactions.csv', header=0)",
   "id": "4303af44acf98313",
   "outputs": [],
   "execution_count": 27
  },
  {
   "metadata": {
    "ExecuteTime": {
     "end_time": "2025-08-25T15:31:31.539466Z",
     "start_time": "2025-08-25T15:31:31.499959Z"
    }
   },
   "cell_type": "code",
   "source": "history_transaction.head(5)",
   "id": "78fbb6a99d26ae62",
   "outputs": [
    {
     "data": {
      "text/plain": [
       "  authorized_flag          card_id  city_id category_1  installments  \\\n",
       "0               Y  C_ID_4e6213e9bc       88          N             0   \n",
       "1               Y  C_ID_4e6213e9bc       88          N             0   \n",
       "2               Y  C_ID_4e6213e9bc       88          N             0   \n",
       "3               Y  C_ID_4e6213e9bc       88          N             0   \n",
       "4               Y  C_ID_4e6213e9bc       88          N             0   \n",
       "\n",
       "  category_3  merchant_category_id      merchant_id  month_lag  \\\n",
       "0          A                    80  M_ID_e020e9b302         -8   \n",
       "1          A                   367  M_ID_86ec983688         -7   \n",
       "2          A                    80  M_ID_979ed661fc         -6   \n",
       "3          A                   560  M_ID_e6d5ae8ea6         -5   \n",
       "4          A                    80  M_ID_e020e9b302        -11   \n",
       "\n",
       "   purchase_amount        purchase_date  category_2  state_id  subsector_id  \n",
       "0        -0.703331  2017-06-25 15:33:07         1.0        16            37  \n",
       "1        -0.733128  2017-07-15 12:10:45         1.0        16            16  \n",
       "2        -0.720386  2017-08-09 22:04:29         1.0        16            37  \n",
       "3        -0.735352  2017-09-02 10:06:26         1.0        16            34  \n",
       "4        -0.722865  2017-03-10 01:14:19         1.0        16            37  "
      ],
      "text/html": [
       "<div>\n",
       "<style scoped>\n",
       "    .dataframe tbody tr th:only-of-type {\n",
       "        vertical-align: middle;\n",
       "    }\n",
       "\n",
       "    .dataframe tbody tr th {\n",
       "        vertical-align: top;\n",
       "    }\n",
       "\n",
       "    .dataframe thead th {\n",
       "        text-align: right;\n",
       "    }\n",
       "</style>\n",
       "<table border=\"1\" class=\"dataframe\">\n",
       "  <thead>\n",
       "    <tr style=\"text-align: right;\">\n",
       "      <th></th>\n",
       "      <th>authorized_flag</th>\n",
       "      <th>card_id</th>\n",
       "      <th>city_id</th>\n",
       "      <th>category_1</th>\n",
       "      <th>installments</th>\n",
       "      <th>category_3</th>\n",
       "      <th>merchant_category_id</th>\n",
       "      <th>merchant_id</th>\n",
       "      <th>month_lag</th>\n",
       "      <th>purchase_amount</th>\n",
       "      <th>purchase_date</th>\n",
       "      <th>category_2</th>\n",
       "      <th>state_id</th>\n",
       "      <th>subsector_id</th>\n",
       "    </tr>\n",
       "  </thead>\n",
       "  <tbody>\n",
       "    <tr>\n",
       "      <th>0</th>\n",
       "      <td>Y</td>\n",
       "      <td>C_ID_4e6213e9bc</td>\n",
       "      <td>88</td>\n",
       "      <td>N</td>\n",
       "      <td>0</td>\n",
       "      <td>A</td>\n",
       "      <td>80</td>\n",
       "      <td>M_ID_e020e9b302</td>\n",
       "      <td>-8</td>\n",
       "      <td>-0.703331</td>\n",
       "      <td>2017-06-25 15:33:07</td>\n",
       "      <td>1.0</td>\n",
       "      <td>16</td>\n",
       "      <td>37</td>\n",
       "    </tr>\n",
       "    <tr>\n",
       "      <th>1</th>\n",
       "      <td>Y</td>\n",
       "      <td>C_ID_4e6213e9bc</td>\n",
       "      <td>88</td>\n",
       "      <td>N</td>\n",
       "      <td>0</td>\n",
       "      <td>A</td>\n",
       "      <td>367</td>\n",
       "      <td>M_ID_86ec983688</td>\n",
       "      <td>-7</td>\n",
       "      <td>-0.733128</td>\n",
       "      <td>2017-07-15 12:10:45</td>\n",
       "      <td>1.0</td>\n",
       "      <td>16</td>\n",
       "      <td>16</td>\n",
       "    </tr>\n",
       "    <tr>\n",
       "      <th>2</th>\n",
       "      <td>Y</td>\n",
       "      <td>C_ID_4e6213e9bc</td>\n",
       "      <td>88</td>\n",
       "      <td>N</td>\n",
       "      <td>0</td>\n",
       "      <td>A</td>\n",
       "      <td>80</td>\n",
       "      <td>M_ID_979ed661fc</td>\n",
       "      <td>-6</td>\n",
       "      <td>-0.720386</td>\n",
       "      <td>2017-08-09 22:04:29</td>\n",
       "      <td>1.0</td>\n",
       "      <td>16</td>\n",
       "      <td>37</td>\n",
       "    </tr>\n",
       "    <tr>\n",
       "      <th>3</th>\n",
       "      <td>Y</td>\n",
       "      <td>C_ID_4e6213e9bc</td>\n",
       "      <td>88</td>\n",
       "      <td>N</td>\n",
       "      <td>0</td>\n",
       "      <td>A</td>\n",
       "      <td>560</td>\n",
       "      <td>M_ID_e6d5ae8ea6</td>\n",
       "      <td>-5</td>\n",
       "      <td>-0.735352</td>\n",
       "      <td>2017-09-02 10:06:26</td>\n",
       "      <td>1.0</td>\n",
       "      <td>16</td>\n",
       "      <td>34</td>\n",
       "    </tr>\n",
       "    <tr>\n",
       "      <th>4</th>\n",
       "      <td>Y</td>\n",
       "      <td>C_ID_4e6213e9bc</td>\n",
       "      <td>88</td>\n",
       "      <td>N</td>\n",
       "      <td>0</td>\n",
       "      <td>A</td>\n",
       "      <td>80</td>\n",
       "      <td>M_ID_e020e9b302</td>\n",
       "      <td>-11</td>\n",
       "      <td>-0.722865</td>\n",
       "      <td>2017-03-10 01:14:19</td>\n",
       "      <td>1.0</td>\n",
       "      <td>16</td>\n",
       "      <td>37</td>\n",
       "    </tr>\n",
       "  </tbody>\n",
       "</table>\n",
       "</div>"
      ]
     },
     "execution_count": 28,
     "metadata": {},
     "output_type": "execute_result"
    }
   ],
   "execution_count": 28
  },
  {
   "metadata": {
    "ExecuteTime": {
     "end_time": "2025-08-25T15:31:31.781039Z",
     "start_time": "2025-08-25T15:31:31.724522Z"
    }
   },
   "cell_type": "code",
   "source": "history_transaction.info()",
   "id": "2a9a3b904be54e6",
   "outputs": [
    {
     "name": "stdout",
     "output_type": "stream",
     "text": [
      "<class 'pandas.core.frame.DataFrame'>\n",
      "RangeIndex: 29112361 entries, 0 to 29112360\n",
      "Data columns (total 14 columns):\n",
      " #   Column                Dtype  \n",
      "---  ------                -----  \n",
      " 0   authorized_flag       object \n",
      " 1   card_id               object \n",
      " 2   city_id               int64  \n",
      " 3   category_1            object \n",
      " 4   installments          int64  \n",
      " 5   category_3            object \n",
      " 6   merchant_category_id  int64  \n",
      " 7   merchant_id           object \n",
      " 8   month_lag             int64  \n",
      " 9   purchase_amount       float64\n",
      " 10  purchase_date         object \n",
      " 11  category_2            float64\n",
      " 12  state_id              int64  \n",
      " 13  subsector_id          int64  \n",
      "dtypes: float64(2), int64(6), object(6)\n",
      "memory usage: 3.0+ GB\n"
     ]
    }
   ],
   "execution_count": 29
  },
  {
   "metadata": {},
   "cell_type": "markdown",
   "source": "将近3千万条数据，14个字段",
   "id": "cfec726a09c3eb37"
  },
  {
   "metadata": {
    "ExecuteTime": {
     "end_time": "2025-08-25T15:31:32.069881Z",
     "start_time": "2025-08-25T15:31:31.998876Z"
    }
   },
   "cell_type": "code",
   "source": "pd.read_excel('../data/competitions/elo-merchant-category-recommendation/Data Dictionary.xlsx', header=2, sheet_name='history')",
   "id": "964dab3ba0b14d37",
   "outputs": [
    {
     "data": {
      "text/plain": [
       "                 Columns                                       Description\n",
       "0                card_id                                   Card identifier\n",
       "1              month_lag                       month lag to reference date\n",
       "2          purchase_date                                     Purchase date\n",
       "3        authorized_flag                     Y' if approved, 'N' if denied\n",
       "4             category_3                               anonymized category\n",
       "5           installments                number of installments of purchase\n",
       "6             category_1                               anonymized category\n",
       "7   merchant_category_id        Merchant category identifier (anonymized )\n",
       "8           subsector_id  Merchant category group identifier (anonymized )\n",
       "9            merchant_id                  Merchant identifier (anonymized)\n",
       "10       purchase_amount                        Normalized purchase amount\n",
       "11               city_id                     City identifier (anonymized )\n",
       "12              state_id                    State identifier (anonymized )\n",
       "13            category_2                               anonymized category"
      ],
      "text/html": [
       "<div>\n",
       "<style scoped>\n",
       "    .dataframe tbody tr th:only-of-type {\n",
       "        vertical-align: middle;\n",
       "    }\n",
       "\n",
       "    .dataframe tbody tr th {\n",
       "        vertical-align: top;\n",
       "    }\n",
       "\n",
       "    .dataframe thead th {\n",
       "        text-align: right;\n",
       "    }\n",
       "</style>\n",
       "<table border=\"1\" class=\"dataframe\">\n",
       "  <thead>\n",
       "    <tr style=\"text-align: right;\">\n",
       "      <th></th>\n",
       "      <th>Columns</th>\n",
       "      <th>Description</th>\n",
       "    </tr>\n",
       "  </thead>\n",
       "  <tbody>\n",
       "    <tr>\n",
       "      <th>0</th>\n",
       "      <td>card_id</td>\n",
       "      <td>Card identifier</td>\n",
       "    </tr>\n",
       "    <tr>\n",
       "      <th>1</th>\n",
       "      <td>month_lag</td>\n",
       "      <td>month lag to reference date</td>\n",
       "    </tr>\n",
       "    <tr>\n",
       "      <th>2</th>\n",
       "      <td>purchase_date</td>\n",
       "      <td>Purchase date</td>\n",
       "    </tr>\n",
       "    <tr>\n",
       "      <th>3</th>\n",
       "      <td>authorized_flag</td>\n",
       "      <td>Y' if approved, 'N' if denied</td>\n",
       "    </tr>\n",
       "    <tr>\n",
       "      <th>4</th>\n",
       "      <td>category_3</td>\n",
       "      <td>anonymized category</td>\n",
       "    </tr>\n",
       "    <tr>\n",
       "      <th>5</th>\n",
       "      <td>installments</td>\n",
       "      <td>number of installments of purchase</td>\n",
       "    </tr>\n",
       "    <tr>\n",
       "      <th>6</th>\n",
       "      <td>category_1</td>\n",
       "      <td>anonymized category</td>\n",
       "    </tr>\n",
       "    <tr>\n",
       "      <th>7</th>\n",
       "      <td>merchant_category_id</td>\n",
       "      <td>Merchant category identifier (anonymized )</td>\n",
       "    </tr>\n",
       "    <tr>\n",
       "      <th>8</th>\n",
       "      <td>subsector_id</td>\n",
       "      <td>Merchant category group identifier (anonymized )</td>\n",
       "    </tr>\n",
       "    <tr>\n",
       "      <th>9</th>\n",
       "      <td>merchant_id</td>\n",
       "      <td>Merchant identifier (anonymized)</td>\n",
       "    </tr>\n",
       "    <tr>\n",
       "      <th>10</th>\n",
       "      <td>purchase_amount</td>\n",
       "      <td>Normalized purchase amount</td>\n",
       "    </tr>\n",
       "    <tr>\n",
       "      <th>11</th>\n",
       "      <td>city_id</td>\n",
       "      <td>City identifier (anonymized )</td>\n",
       "    </tr>\n",
       "    <tr>\n",
       "      <th>12</th>\n",
       "      <td>state_id</td>\n",
       "      <td>State identifier (anonymized )</td>\n",
       "    </tr>\n",
       "    <tr>\n",
       "      <th>13</th>\n",
       "      <td>category_2</td>\n",
       "      <td>anonymized category</td>\n",
       "    </tr>\n",
       "  </tbody>\n",
       "</table>\n",
       "</div>"
      ]
     },
     "execution_count": 30,
     "metadata": {},
     "output_type": "execute_result"
    }
   ],
   "execution_count": 30
  },
  {
   "metadata": {},
   "cell_type": "markdown",
   "source": [
    "authorized_flag：官方没解释授权什么。\n",
    "\n",
    "是否公开；是否授权交易；特殊商家等。忽略背景进行建模"
   ],
   "id": "16dfa8d3aa749ff4"
  },
  {
   "metadata": {},
   "cell_type": "markdown",
   "source": "merchant_category_id 是商户组别的id",
   "id": "30a13e5bd454baed"
  },
  {
   "metadata": {},
   "cell_type": "markdown",
   "source": [
    "- new_merchant_tansactions: 近期交易信息\n",
    "\n",
    "2018年2月后的交易信息。\n",
    "\n",
    "字段一致"
   ],
   "id": "ba695751342cd779"
  },
  {
   "metadata": {
    "ExecuteTime": {
     "end_time": "2025-08-25T15:31:34.659032Z",
     "start_time": "2025-08-25T15:31:32.161650Z"
    }
   },
   "cell_type": "code",
   "source": "new_transaction = pd.read_csv('../data/competitions/elo-merchant-category-recommendation/new_merchant_transactions.csv', header=0)",
   "id": "452eb8915c9bd685",
   "outputs": [],
   "execution_count": 31
  },
  {
   "metadata": {
    "ExecuteTime": {
     "end_time": "2025-08-25T15:31:34.731014Z",
     "start_time": "2025-08-25T15:31:34.718882Z"
    }
   },
   "cell_type": "code",
   "source": "new_transaction.head(5)",
   "id": "97fea5543cc2e073",
   "outputs": [
    {
     "data": {
      "text/plain": [
       "  authorized_flag          card_id  city_id category_1  installments  \\\n",
       "0               Y  C_ID_415bb3a509      107          N             1   \n",
       "1               Y  C_ID_415bb3a509      140          N             1   \n",
       "2               Y  C_ID_415bb3a509      330          N             1   \n",
       "3               Y  C_ID_415bb3a509       -1          Y             1   \n",
       "4               Y  C_ID_ef55cf8d4b       -1          Y             1   \n",
       "\n",
       "  category_3  merchant_category_id      merchant_id  month_lag  \\\n",
       "0          B                   307  M_ID_b0c793002c          1   \n",
       "1          B                   307  M_ID_88920c89e8          1   \n",
       "2          B                   507  M_ID_ad5237ef6b          2   \n",
       "3          B                   661  M_ID_9e84cda3b1          1   \n",
       "4          B                   166  M_ID_3c86fa3831          1   \n",
       "\n",
       "   purchase_amount        purchase_date  category_2  state_id  subsector_id  \n",
       "0        -0.557574  2018-03-11 14:57:36         1.0         9            19  \n",
       "1        -0.569580  2018-03-19 18:53:37         1.0         9            19  \n",
       "2        -0.551037  2018-04-26 14:08:44         1.0         9            14  \n",
       "3        -0.671925  2018-03-07 09:43:21         NaN        -1             8  \n",
       "4        -0.659904  2018-03-22 21:07:53         NaN        -1            29  "
      ],
      "text/html": [
       "<div>\n",
       "<style scoped>\n",
       "    .dataframe tbody tr th:only-of-type {\n",
       "        vertical-align: middle;\n",
       "    }\n",
       "\n",
       "    .dataframe tbody tr th {\n",
       "        vertical-align: top;\n",
       "    }\n",
       "\n",
       "    .dataframe thead th {\n",
       "        text-align: right;\n",
       "    }\n",
       "</style>\n",
       "<table border=\"1\" class=\"dataframe\">\n",
       "  <thead>\n",
       "    <tr style=\"text-align: right;\">\n",
       "      <th></th>\n",
       "      <th>authorized_flag</th>\n",
       "      <th>card_id</th>\n",
       "      <th>city_id</th>\n",
       "      <th>category_1</th>\n",
       "      <th>installments</th>\n",
       "      <th>category_3</th>\n",
       "      <th>merchant_category_id</th>\n",
       "      <th>merchant_id</th>\n",
       "      <th>month_lag</th>\n",
       "      <th>purchase_amount</th>\n",
       "      <th>purchase_date</th>\n",
       "      <th>category_2</th>\n",
       "      <th>state_id</th>\n",
       "      <th>subsector_id</th>\n",
       "    </tr>\n",
       "  </thead>\n",
       "  <tbody>\n",
       "    <tr>\n",
       "      <th>0</th>\n",
       "      <td>Y</td>\n",
       "      <td>C_ID_415bb3a509</td>\n",
       "      <td>107</td>\n",
       "      <td>N</td>\n",
       "      <td>1</td>\n",
       "      <td>B</td>\n",
       "      <td>307</td>\n",
       "      <td>M_ID_b0c793002c</td>\n",
       "      <td>1</td>\n",
       "      <td>-0.557574</td>\n",
       "      <td>2018-03-11 14:57:36</td>\n",
       "      <td>1.0</td>\n",
       "      <td>9</td>\n",
       "      <td>19</td>\n",
       "    </tr>\n",
       "    <tr>\n",
       "      <th>1</th>\n",
       "      <td>Y</td>\n",
       "      <td>C_ID_415bb3a509</td>\n",
       "      <td>140</td>\n",
       "      <td>N</td>\n",
       "      <td>1</td>\n",
       "      <td>B</td>\n",
       "      <td>307</td>\n",
       "      <td>M_ID_88920c89e8</td>\n",
       "      <td>1</td>\n",
       "      <td>-0.569580</td>\n",
       "      <td>2018-03-19 18:53:37</td>\n",
       "      <td>1.0</td>\n",
       "      <td>9</td>\n",
       "      <td>19</td>\n",
       "    </tr>\n",
       "    <tr>\n",
       "      <th>2</th>\n",
       "      <td>Y</td>\n",
       "      <td>C_ID_415bb3a509</td>\n",
       "      <td>330</td>\n",
       "      <td>N</td>\n",
       "      <td>1</td>\n",
       "      <td>B</td>\n",
       "      <td>507</td>\n",
       "      <td>M_ID_ad5237ef6b</td>\n",
       "      <td>2</td>\n",
       "      <td>-0.551037</td>\n",
       "      <td>2018-04-26 14:08:44</td>\n",
       "      <td>1.0</td>\n",
       "      <td>9</td>\n",
       "      <td>14</td>\n",
       "    </tr>\n",
       "    <tr>\n",
       "      <th>3</th>\n",
       "      <td>Y</td>\n",
       "      <td>C_ID_415bb3a509</td>\n",
       "      <td>-1</td>\n",
       "      <td>Y</td>\n",
       "      <td>1</td>\n",
       "      <td>B</td>\n",
       "      <td>661</td>\n",
       "      <td>M_ID_9e84cda3b1</td>\n",
       "      <td>1</td>\n",
       "      <td>-0.671925</td>\n",
       "      <td>2018-03-07 09:43:21</td>\n",
       "      <td>NaN</td>\n",
       "      <td>-1</td>\n",
       "      <td>8</td>\n",
       "    </tr>\n",
       "    <tr>\n",
       "      <th>4</th>\n",
       "      <td>Y</td>\n",
       "      <td>C_ID_ef55cf8d4b</td>\n",
       "      <td>-1</td>\n",
       "      <td>Y</td>\n",
       "      <td>1</td>\n",
       "      <td>B</td>\n",
       "      <td>166</td>\n",
       "      <td>M_ID_3c86fa3831</td>\n",
       "      <td>1</td>\n",
       "      <td>-0.659904</td>\n",
       "      <td>2018-03-22 21:07:53</td>\n",
       "      <td>NaN</td>\n",
       "      <td>-1</td>\n",
       "      <td>29</td>\n",
       "    </tr>\n",
       "  </tbody>\n",
       "</table>\n",
       "</div>"
      ]
     },
     "execution_count": 32,
     "metadata": {},
     "output_type": "execute_result"
    }
   ],
   "execution_count": 32
  },
  {
   "metadata": {
    "ExecuteTime": {
     "end_time": "2025-08-25T15:31:35.385125Z",
     "start_time": "2025-08-25T15:31:35.379306Z"
    }
   },
   "cell_type": "code",
   "source": "new_transaction.info()",
   "id": "bc19c71ec813132a",
   "outputs": [
    {
     "name": "stdout",
     "output_type": "stream",
     "text": [
      "<class 'pandas.core.frame.DataFrame'>\n",
      "RangeIndex: 1963031 entries, 0 to 1963030\n",
      "Data columns (total 14 columns):\n",
      " #   Column                Dtype  \n",
      "---  ------                -----  \n",
      " 0   authorized_flag       object \n",
      " 1   card_id               object \n",
      " 2   city_id               int64  \n",
      " 3   category_1            object \n",
      " 4   installments          int64  \n",
      " 5   category_3            object \n",
      " 6   merchant_category_id  int64  \n",
      " 7   merchant_id           object \n",
      " 8   month_lag             int64  \n",
      " 9   purchase_amount       float64\n",
      " 10  purchase_date         object \n",
      " 11  category_2            float64\n",
      " 12  state_id              int64  \n",
      " 13  subsector_id          int64  \n",
      "dtypes: float64(2), int64(6), object(6)\n",
      "memory usage: 209.7+ MB\n"
     ]
    }
   ],
   "execution_count": 33
  },
  {
   "metadata": {},
   "cell_type": "markdown",
   "source": [
    "- 对比merchant数据集\n",
    "\n",
    "先查看有哪些字段一致"
   ],
   "id": "4d1a3f3389e592e4"
  },
  {
   "metadata": {
    "ExecuteTime": {
     "end_time": "2025-08-25T15:31:35.435396Z",
     "start_time": "2025-08-25T15:31:35.430977Z"
    }
   },
   "cell_type": "code",
   "source": [
    "duplicate_cols = []\n",
    "\n",
    "for col in merchant.columns:\n",
    "    if col in new_transaction.columns:\n",
    "        duplicate_cols.append(col)\n",
    "\n",
    "print(duplicate_cols)"
   ],
   "id": "80ad15decd464e60",
   "outputs": [
    {
     "name": "stdout",
     "output_type": "stream",
     "text": [
      "['merchant_id', 'merchant_category_id', 'subsector_id', 'category_1', 'city_id', 'state_id', 'category_2']\n"
     ]
    }
   ],
   "execution_count": 34
  },
  {
   "metadata": {},
   "cell_type": "markdown",
   "source": "交易记录中的merchant_id不唯一：",
   "id": "eddebca7f7b70455"
  },
  {
   "metadata": {
    "ExecuteTime": {
     "end_time": "2025-08-25T15:31:36.111139Z",
     "start_time": "2025-08-25T15:31:35.517437Z"
    }
   },
   "cell_type": "code",
   "source": [
    "# 取出和商户数据表重复字段并去重\n",
    "new_transaction[duplicate_cols].drop_duplicates().shape"
   ],
   "id": "62b9094049ad4a66",
   "outputs": [
    {
     "data": {
      "text/plain": [
       "(291242, 7)"
      ]
     },
     "execution_count": 35,
     "metadata": {},
     "output_type": "execute_result"
    }
   ],
   "execution_count": 35
  },
  {
   "metadata": {},
   "cell_type": "markdown",
   "source": "后续拼接表时，主键只能有1个，card_id。",
   "id": "7077c654603a8ce9"
  },
  {
   "metadata": {
    "ExecuteTime": {
     "end_time": "2025-08-25T15:31:36.311235Z",
     "start_time": "2025-08-25T15:31:36.130388Z"
    }
   },
   "cell_type": "code",
   "source": [
    "# 商户id去重\n",
    "new_transaction['merchant_id'].nunique()"
   ],
   "id": "3692440713f84b7b",
   "outputs": [
    {
     "data": {
      "text/plain": [
       "226129"
      ]
     },
     "execution_count": 36,
     "metadata": {},
     "output_type": "execute_result"
    }
   ],
   "execution_count": 36
  },
  {
   "metadata": {},
   "cell_type": "markdown",
   "source": [
    "原因可能是商铺在经营过程中动态变化。\n",
    "\n",
    "因此，后续建模时，优先使用交易记录表的相应记录。"
   ],
   "id": "2782626088b87196"
  },
  {
   "metadata": {},
   "cell_type": "markdown",
   "source": "## 2. 数据预处理",
   "id": "bf5e11c33e48d37"
  },
  {
   "metadata": {},
   "cell_type": "markdown",
   "source": [
    "- 连续/离散字段标注\n",
    "\n",
    "该数据集存在一个时间列，将其单独归为一类：\n",
    "\n",
    "也可以看成离散型，但如果想从时序关系中提取更多信息，需要单独划为一列"
   ],
   "id": "98ce7588a44e3365"
  },
  {
   "metadata": {
    "ExecuteTime": {
     "end_time": "2025-08-25T15:31:36.341439Z",
     "start_time": "2025-08-25T15:31:36.335250Z"
    }
   },
   "cell_type": "code",
   "source": [
    "category_cols = ['authorized_flag', 'card_id', 'city_id', 'category_1', 'category_3', 'merchant_category_id', 'merchant_id', 'category_2', 'subsector_id', 'state_id']\n",
    "numeric_cols = ['installments', 'month_alg', 'purchase_amount']\n",
    "time_cols =['purchase_date']\n",
    "\n",
    "assert len(numeric_cols) + len(category_cols) + len(time_cols) == new_transaction.shape[1]"
   ],
   "id": "b49026a9371b9ef6",
   "outputs": [],
   "execution_count": 37
  },
  {
   "metadata": {},
   "cell_type": "markdown",
   "source": "- 字段类型转化/缺失值填补",
   "id": "c945db9937631ce3"
  },
  {
   "metadata": {
    "ExecuteTime": {
     "end_time": "2025-08-25T15:31:36.443146Z",
     "start_time": "2025-08-25T15:31:36.364449Z"
    }
   },
   "cell_type": "code",
   "source": [
    "# 查看分类变量的类别\n",
    "new_transaction[category_cols].dtypes"
   ],
   "id": "81f594acf5711397",
   "outputs": [
    {
     "data": {
      "text/plain": [
       "authorized_flag          object\n",
       "card_id                  object\n",
       "city_id                   int64\n",
       "category_1               object\n",
       "category_3               object\n",
       "merchant_category_id      int64\n",
       "merchant_id              object\n",
       "category_2              float64\n",
       "subsector_id              int64\n",
       "state_id                  int64\n",
       "dtype: object"
      ]
     },
     "execution_count": 38,
     "metadata": {},
     "output_type": "execute_result"
    }
   ],
   "execution_count": 38
  },
  {
   "metadata": {
    "ExecuteTime": {
     "end_time": "2025-08-25T15:31:36.768942Z",
     "start_time": "2025-08-25T15:31:36.480834Z"
    }
   },
   "cell_type": "code",
   "source": "new_transaction[category_cols].isnull().sum()",
   "id": "46ac20f3821693bc",
   "outputs": [
    {
     "data": {
      "text/plain": [
       "authorized_flag              0\n",
       "card_id                      0\n",
       "city_id                      0\n",
       "category_1                   0\n",
       "category_3               55922\n",
       "merchant_category_id         0\n",
       "merchant_id              26216\n",
       "category_2              111745\n",
       "subsector_id                 0\n",
       "state_id                     0\n",
       "dtype: int64"
      ]
     },
     "execution_count": 39,
     "metadata": {},
     "output_type": "execute_result"
    }
   ],
   "execution_count": 39
  },
  {
   "metadata": {},
   "cell_type": "markdown",
   "source": [
    "对object对象进行字典编码（id除外）\n",
    "\n",
    "缺失值可以用众数填补（因为缺失的不多），这里用-1填补："
   ],
   "id": "e4864133861e004a"
  },
  {
   "metadata": {
    "ExecuteTime": {
     "end_time": "2025-08-25T15:31:37.545980Z",
     "start_time": "2025-08-25T15:31:36.829047Z"
    }
   },
   "cell_type": "code",
   "source": [
    "for col in ['category_3', 'authorized_flag', 'category_1']:\n",
    "    new_transaction[col] = change_object_cols(new_transaction[col].fillna(-1).astype(str))\n",
    "\n",
    "new_transaction[category_cols] = new_transaction[category_cols].fillna(-1)"
   ],
   "id": "e3f64621dbaa6f8d",
   "outputs": [],
   "execution_count": 40
  },
  {
   "metadata": {},
   "cell_type": "markdown",
   "source": "同时进行字典编码和对缺失值进行标记（不是填补为-1）",
   "id": "6fb9e90d8b543fc1"
  },
  {
   "metadata": {
    "ExecuteTime": {
     "end_time": "2025-08-25T15:32:02.394548Z",
     "start_time": "2025-08-25T15:32:02.309345Z"
    }
   },
   "cell_type": "code",
   "source": "new_transaction[category_cols].dtypes",
   "id": "9b005ccbd3e80118",
   "outputs": [
    {
     "data": {
      "text/plain": [
       "authorized_flag           int64\n",
       "card_id                  object\n",
       "city_id                   int64\n",
       "category_1                int64\n",
       "category_3                int64\n",
       "merchant_category_id      int64\n",
       "merchant_id              object\n",
       "category_2              float64\n",
       "subsector_id              int64\n",
       "state_id                  int64\n",
       "dtype: object"
      ]
     },
     "execution_count": 41,
     "metadata": {},
     "output_type": "execute_result"
    }
   ],
   "execution_count": 41
  },
  {
   "metadata": {},
   "cell_type": "markdown",
   "source": "# 三、数据清洗后数据生成",
   "id": "18328353eda6f0b2"
  },
  {
   "metadata": {},
   "cell_type": "markdown",
   "source": [
    "## 1. 回顾商户数据、交易数据清洗流程\n",
    "简单总结："
   ],
   "id": "a58427970db7b866"
  },
  {
   "metadata": {},
   "cell_type": "markdown",
   "source": [
    "### 商户数据 merchants.csv\n",
    "- 划分连续字段和离散字段\n",
    "- 对字符型离散字段进行字典排序编码\n",
    "- 对缺失值处理，统一使用 -1 进行缺失值补充，本质上是一种标注\n",
    "- 对连续型字段的无穷值进行处理，用该列的最大值进行替换\n",
    "- 去除重复数据"
   ],
   "id": "cf6b502b3c14e6be"
  },
  {
   "metadata": {},
   "cell_type": "markdown",
   "source": [
    "### 交易数据 new_merchant_transactions.csv 和 historical_transactions.csv\n",
    "- 划分字段类型，分为离散字段、连续字段、时间字段\n",
    "- 和商户数据的处理方法一样，对字符型离散字段进行字典排序，对缺失值进行统一填充\n",
    "- 对新生成的购买欲分离散字段进行字段排序编码\n",
    "- 最后对多表进行拼接，并且通过 month_lag 字段是否大于0来进行区分"
   ],
   "id": "67b04358636e3b22"
  },
  {
   "metadata": {},
   "cell_type": "markdown",
   "source": [
    "## 2. 创建清洗后数据\n",
    "结合训练集和测试集的清洗流程，在此统一执行所有数据的数据清洗工作，并将其保存为本地文件，方便后续特征工程及算法建模过程使用"
   ],
   "id": "968ecc3128264ea2"
  },
  {
   "metadata": {
    "ExecuteTime": {
     "end_time": "2025-08-25T15:31:37.597633Z",
     "start_time": "2025-08-25T15:31:37.595719Z"
    }
   },
   "cell_type": "code",
   "source": "",
   "id": "d197386a58e8fb9a",
   "outputs": [],
   "execution_count": null
  }
 ],
 "metadata": {
  "kernelspec": {
   "display_name": "Python 3",
   "language": "python",
   "name": "python3"
  },
  "language_info": {
   "codemirror_mode": {
    "name": "ipython",
    "version": 2
   },
   "file_extension": ".py",
   "mimetype": "text/x-python",
   "name": "python",
   "nbconvert_exporter": "python",
   "pygments_lexer": "ipython2",
   "version": "2.7.6"
  }
 },
 "nbformat": 4,
 "nbformat_minor": 5
}
