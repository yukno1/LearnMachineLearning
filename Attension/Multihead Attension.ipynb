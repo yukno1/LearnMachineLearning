{
 "cells": [
  {
   "metadata": {},
   "cell_type": "markdown",
   "source": [
    "在实践中，当给定相同的查询、键和值的集合时，我们希望模型可以基于相同的注意力机制学习到不同的行为，然后将不同的行为作为知识组合起来，捕获序列内各种范围的依赖关系（例如，短距离依赖和长距离依赖关系）。\\\n",
    "因此，允许注意力机制组合使用查询、键和值的不同子空间表示（representation subspaces）可能是有益的。"
   ],
   "id": "102effadf5b2876d"
  },
  {
   "metadata": {},
   "cell_type": "markdown",
   "source": [
    "为此，与其只使用单独一个注意力汇聚，我们可以用独立学习得到的h组不同的线性投影（linear projections）来变换查询、键和值。\\\n",
    "然后，这h组变换后的查询、键和值将并行地送到注意力汇聚中。\\\n",
    "最后，将这h个注意力汇聚的输出拼接在一起，并且通过另一个可以学习的线性投影进行变换，以产生最终输出。\\\n",
    "这种设计被称为多头注意力（multihead attention）(Vaswani et al., 2017)。\\\n",
    "对于h个注意力汇聚输出，每一个注意力汇聚都被称作一个头（head）。\\\n",
    "<img src=\"./img/10.5.1.png\">\n"
   ],
   "id": "3bdcd3b1ec9becfb"
  },
  {
   "metadata": {},
   "cell_type": "markdown",
   "source": "10.5.1 模型",
   "id": "92fbabdefbc57edb"
  },
  {
   "metadata": {},
   "cell_type": "markdown",
   "source": "",
   "id": "529eca6d0664b777"
  },
  {
   "metadata": {},
   "cell_type": "markdown",
   "source": [
    "$$\n",
    "\\begin{aligned}\n",
    "f(x) &= \\int_{-\\infty}^\\infty \\hat f(\\xi) e^{2 \\pi i \\xi x} \\, d\\xi \\\\\n",
    "\\frac{\\partial u}{\\partial t} &= \\nabla \\cdot (D \\nabla u)\n",
    "\\end{aligned}\n",
    "$$"
   ],
   "id": "7caa7b970df2fa1b"
  },
  {
   "metadata": {},
   "cell_type": "markdown",
   "source": [
    "在实现多头注意力之前，让我们用数学语言将这个模型形式化地描述出来。给定查询q ∈ Rdq 、键$$ 和\n",
    "值v ∈ Rdv ，每个注意力头hi（i = 1, . . . , h）的计算方法为："
   ],
   "id": "e9fea01c29336099"
  },
  {
   "cell_type": "code",
   "execution_count": null,
   "id": "initial_id",
   "metadata": {
    "collapsed": true
   },
   "outputs": [],
   "source": [
    ""
   ]
  }
 ],
 "metadata": {
  "kernelspec": {
   "display_name": "Python 3",
   "language": "python",
   "name": "python3"
  },
  "language_info": {
   "codemirror_mode": {
    "name": "ipython",
    "version": 2
   },
   "file_extension": ".py",
   "mimetype": "text/x-python",
   "name": "python",
   "nbconvert_exporter": "python",
   "pygments_lexer": "ipython2",
   "version": "2.7.6"
  }
 },
 "nbformat": 4,
 "nbformat_minor": 5
}
