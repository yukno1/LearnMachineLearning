{
 "cells": [
  {
   "cell_type": "code",
   "id": "initial_id",
   "metadata": {
    "collapsed": true,
    "ExecuteTime": {
     "end_time": "2025-08-25T05:54:22.857676Z",
     "start_time": "2025-08-25T05:54:22.645632Z"
    }
   },
   "source": "import cv2",
   "outputs": [],
   "execution_count": 1
  },
  {
   "metadata": {
    "ExecuteTime": {
     "end_time": "2025-08-25T06:00:52.707297Z",
     "start_time": "2025-08-25T06:00:52.678255Z"
    }
   },
   "cell_type": "code",
   "source": "img = cv2.imread('./Resources/lena.png')",
   "id": "8405875ed9f8345c",
   "outputs": [],
   "execution_count": 6
  },
  {
   "metadata": {
    "ExecuteTime": {
     "end_time": "2025-08-25T06:00:57.331339Z",
     "start_time": "2025-08-25T06:00:53.929082Z"
    }
   },
   "cell_type": "code",
   "source": [
    "cv2.imshow('lena', img)\n",
    "cv2.waitKey(0)"
   ],
   "id": "342729e5e42998fd",
   "outputs": [
    {
     "data": {
      "text/plain": [
       "-1"
      ]
     },
     "execution_count": 7,
     "metadata": {},
     "output_type": "execute_result"
    }
   ],
   "execution_count": 7
  },
  {
   "metadata": {},
   "cell_type": "code",
   "outputs": [],
   "execution_count": null,
   "source": "",
   "id": "e80c28e47be9b4e7"
  }
 ],
 "metadata": {
  "kernelspec": {
   "display_name": "Python 3",
   "language": "python",
   "name": "python3"
  },
  "language_info": {
   "codemirror_mode": {
    "name": "ipython",
    "version": 2
   },
   "file_extension": ".py",
   "mimetype": "text/x-python",
   "name": "python",
   "nbconvert_exporter": "python",
   "pygments_lexer": "ipython2",
   "version": "2.7.6"
  }
 },
 "nbformat": 4,
 "nbformat_minor": 5
}
