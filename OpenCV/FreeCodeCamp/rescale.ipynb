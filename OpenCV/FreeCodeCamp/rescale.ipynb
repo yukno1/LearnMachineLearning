{
 "cells": [
  {
   "metadata": {
    "ExecuteTime": {
     "end_time": "2025-08-25T06:28:54.746003Z",
     "start_time": "2025-08-25T06:28:54.578750Z"
    }
   },
   "cell_type": "code",
   "source": "import cv2 as cv",
   "id": "c5a7d149ff203a34",
   "outputs": [],
   "execution_count": 2
  },
  {
   "metadata": {},
   "cell_type": "markdown",
   "source": [
    "usually to prevent computational strain\n",
    "\n",
    "modify height and width\n",
    "\n",
    "Generally, best practice to downscale or change width and height of video to a smaller value\n",
    "\n",
    "b/c while most camera (e.g., webcam) not support going higher than its max cap.\n",
    "    e.g., a 720p camera not able to shoot 1080p or higher\n",
    "\n",
    "To rescale, create a fn called `rescaleFrame`"
   ],
   "id": "b2663ce3284f4dcf"
  },
  {
   "cell_type": "code",
   "id": "initial_id",
   "metadata": {
    "collapsed": true,
    "ExecuteTime": {
     "end_time": "2025-08-25T06:27:59.400112Z",
     "start_time": "2025-08-25T06:27:59.396865Z"
    }
   },
   "source": [
    "def rescaleFrame(frame, scale=0.75):\n",
    "    width = int(frame.shape[1] * scale)\n",
    "    height = int(frame.shape[0] * scale)\n",
    "    dimensions = (width, height)\n",
    "\n",
    "    return cv.resize(frame, dimensions, interpolation=cv.INTER_AREA)"
   ],
   "outputs": [],
   "execution_count": 3
  },
  {
   "metadata": {
    "ExecuteTime": {
     "end_time": "2025-08-25T06:28:10.817115Z",
     "start_time": "2025-08-25T06:27:59.411891Z"
    }
   },
   "cell_type": "code",
   "source": [
    "capture = cv.VideoCapture('./Resources/Videos/dog.mp4')\n",
    "\n",
    "while True:\n",
    "    isTrue, frame = capture.read()\n",
    "\n",
    "    frame_resized = rescaleFrame(frame)\n",
    "\n",
    "    cv.imshow('Video', frame)\n",
    "    cv.imshow('Resized', frame_resized)\n",
    "\n",
    "    if cv.waitKey(20) and 0xFF == ord('d'):\n",
    "        break\n",
    "\n",
    "capture.release()\n",
    "cv.destroyAllWindows()"
   ],
   "id": "e1d25b2c738fec13",
   "outputs": [
    {
     "ename": "AttributeError",
     "evalue": "'NoneType' object has no attribute 'shape'",
     "output_type": "error",
     "traceback": [
      "\u001B[31m---------------------------------------------------------------------------\u001B[39m",
      "\u001B[31mAttributeError\u001B[39m                            Traceback (most recent call last)",
      "\u001B[36mCell\u001B[39m\u001B[36m \u001B[39m\u001B[32mIn[4]\u001B[39m\u001B[32m, line 6\u001B[39m\n\u001B[32m      3\u001B[39m \u001B[38;5;28;01mwhile\u001B[39;00m \u001B[38;5;28;01mTrue\u001B[39;00m:\n\u001B[32m      4\u001B[39m     isTrue, frame = capture.read()\n\u001B[32m----> \u001B[39m\u001B[32m6\u001B[39m     frame_resized = \u001B[43mrescaleFrame\u001B[49m\u001B[43m(\u001B[49m\u001B[43mframe\u001B[49m\u001B[43m)\u001B[49m\n\u001B[32m      8\u001B[39m     cv.imshow(\u001B[33m'\u001B[39m\u001B[33mVideo\u001B[39m\u001B[33m'\u001B[39m, frame)\n\u001B[32m      9\u001B[39m     cv.imshow(\u001B[33m'\u001B[39m\u001B[33mResized\u001B[39m\u001B[33m'\u001B[39m, frame_resized)\n",
      "\u001B[36mCell\u001B[39m\u001B[36m \u001B[39m\u001B[32mIn[3]\u001B[39m\u001B[32m, line 2\u001B[39m, in \u001B[36mrescaleFrame\u001B[39m\u001B[34m(frame, scale)\u001B[39m\n\u001B[32m      1\u001B[39m \u001B[38;5;28;01mdef\u001B[39;00m\u001B[38;5;250m \u001B[39m\u001B[34mrescaleFrame\u001B[39m(frame, scale=\u001B[32m0.75\u001B[39m):\n\u001B[32m----> \u001B[39m\u001B[32m2\u001B[39m     width = \u001B[38;5;28mint\u001B[39m(\u001B[43mframe\u001B[49m\u001B[43m.\u001B[49m\u001B[43mshape\u001B[49m[\u001B[32m1\u001B[39m] * scale)\n\u001B[32m      3\u001B[39m     height = \u001B[38;5;28mint\u001B[39m(frame.shape[\u001B[32m0\u001B[39m] * scale)\n\u001B[32m      4\u001B[39m     dimensions = (width, height)\n",
      "\u001B[31mAttributeError\u001B[39m: 'NoneType' object has no attribute 'shape'"
     ]
    }
   ],
   "execution_count": 4
  },
  {
   "metadata": {
    "ExecuteTime": {
     "end_time": "2025-08-25T06:28:57.332053Z",
     "start_time": "2025-08-25T06:28:57.253427Z"
    }
   },
   "cell_type": "code",
   "source": [
    "img = cv.imread('./Resources/Photos/cat.jpg')\n",
    "cv.imshow('Original', img)"
   ],
   "id": "daff99767d928472",
   "outputs": [],
   "execution_count": 3
  },
  {
   "metadata": {},
   "cell_type": "code",
   "outputs": [],
   "execution_count": null,
   "source": "",
   "id": "43ec57f58da69c3c"
  }
 ],
 "metadata": {
  "kernelspec": {
   "display_name": "Python 3",
   "language": "python",
   "name": "python3"
  },
  "language_info": {
   "codemirror_mode": {
    "name": "ipython",
    "version": 2
   },
   "file_extension": ".py",
   "mimetype": "text/x-python",
   "name": "python",
   "nbconvert_exporter": "python",
   "pygments_lexer": "ipython2",
   "version": "2.7.6"
  }
 },
 "nbformat": 4,
 "nbformat_minor": 5
}
