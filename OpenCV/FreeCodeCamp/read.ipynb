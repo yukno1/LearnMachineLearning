{
 "cells": [
  {
   "cell_type": "code",
   "id": "initial_id",
   "metadata": {
    "collapsed": true,
    "ExecuteTime": {
     "end_time": "2025-08-10T05:22:05.701457Z",
     "start_time": "2025-08-10T05:22:05.120482Z"
    }
   },
   "source": "import cv2 as cv",
   "outputs": [],
   "execution_count": 1
  },
  {
   "metadata": {},
   "cell_type": "markdown",
   "source": "take path to an img and return a matrix of pixels",
   "id": "a6ba3699e9e467dd"
  },
  {
   "metadata": {
    "ExecuteTime": {
     "end_time": "2025-08-08T11:13:58.723436Z",
     "start_time": "2025-08-08T11:13:58.714190Z"
    }
   },
   "cell_type": "code",
   "source": [
    "img = cv.imread('./Resources/Photos/cat.jpg')\n",
    "img.shape"
   ],
   "id": "474919c48512191c",
   "outputs": [
    {
     "data": {
      "text/plain": [
       "(427, 640, 3)"
      ]
     },
     "execution_count": 3,
     "metadata": {},
     "output_type": "execute_result"
    }
   ],
   "execution_count": 3
  },
  {
   "metadata": {},
   "cell_type": "markdown",
   "source": "to show img, pass the name of window and matrix want to show",
   "id": "8b17f703984e18ca"
  },
  {
   "metadata": {
    "ExecuteTime": {
     "end_time": "2025-08-08T11:13:58.825994Z",
     "start_time": "2025-08-08T11:13:58.747989Z"
    }
   },
   "cell_type": "code",
   "source": "cv.imshow('Cat', img)",
   "id": "664cc5c90e103e9c",
   "outputs": [],
   "execution_count": 4
  },
  {
   "metadata": {},
   "cell_type": "markdown",
   "source": "since img close instantly",
   "id": "ede76e5910f3655f"
  },
  {
   "metadata": {
    "ExecuteTime": {
     "end_time": "2025-08-08T11:13:58.842161Z",
     "start_time": "2025-08-08T11:13:58.839797Z"
    }
   },
   "cell_type": "code",
   "source": "cv.waitKey(0)",
   "id": "679a0c1052e92fdf",
   "outputs": [],
   "execution_count": null
  },
  {
   "metadata": {},
   "cell_type": "markdown",
   "source": "opencv has no built-in fn to handle img greater than screen",
   "id": "4d76eaa1ad794e1a"
  },
  {
   "metadata": {},
   "cell_type": "markdown",
   "source": "reading video",
   "id": "32558fb3b58d3f32"
  },
  {
   "metadata": {},
   "cell_type": "markdown",
   "source": [
    "create a capture var, pass the path of video file, or int like 0 ,1, 2, ... if using webcam or camera connection to computer.\n",
    "\n",
    "webcam referred to as 0,"
   ],
   "id": "d204414aac0dbb6f"
  },
  {
   "metadata": {
    "ExecuteTime": {
     "end_time": "2025-08-10T05:22:46.112332Z",
     "start_time": "2025-08-10T05:22:45.965400Z"
    }
   },
   "cell_type": "code",
   "source": "capture = cv.VideoCapture('./Resources/Videos/dog.mp4')",
   "id": "1b4c431118ccd9",
   "outputs": [],
   "execution_count": 2
  },
  {
   "metadata": {},
   "cell_type": "markdown",
   "source": "use a loop, read frame by frame",
   "id": "d1c12396c7c361b2"
  },
  {
   "metadata": {
    "ExecuteTime": {
     "end_time": "2025-08-10T05:23:01.167006Z",
     "start_time": "2025-08-10T05:22:49.501036Z"
    }
   },
   "cell_type": "code",
   "source": [
    "while True:\n",
    "    isTrue, frame = capture.read()\n",
    "    cv.imshow('Video', frame)\n",
    "\n",
    "    if cv.waitKey(20) and 0xFF == ord('d'):\n",
    "        break\n",
    "\n",
    "capture.release()\n",
    "cv.destroyAllWindows()"
   ],
   "id": "e13b6f539e35729a",
   "outputs": [
    {
     "ename": "error",
     "evalue": "OpenCV(4.12.0) D:\\a\\opencv-python\\opencv-python\\opencv\\modules\\highgui\\src\\window.cpp:973: error: (-215:Assertion failed) size.width>0 && size.height>0 in function 'cv::imshow'\n",
     "output_type": "error",
     "traceback": [
      "\u001B[31m---------------------------------------------------------------------------\u001B[39m",
      "\u001B[31merror\u001B[39m                                     Traceback (most recent call last)",
      "\u001B[36mCell\u001B[39m\u001B[36m \u001B[39m\u001B[32mIn[3]\u001B[39m\u001B[32m, line 3\u001B[39m\n\u001B[32m      1\u001B[39m \u001B[38;5;28;01mwhile\u001B[39;00m \u001B[38;5;28;01mTrue\u001B[39;00m:\n\u001B[32m      2\u001B[39m     isTrue, frame = capture.read()\n\u001B[32m----> \u001B[39m\u001B[32m3\u001B[39m     \u001B[43mcv\u001B[49m\u001B[43m.\u001B[49m\u001B[43mimshow\u001B[49m\u001B[43m(\u001B[49m\u001B[33;43m'\u001B[39;49m\u001B[33;43mVideo\u001B[39;49m\u001B[33;43m'\u001B[39;49m\u001B[43m,\u001B[49m\u001B[43m \u001B[49m\u001B[43mframe\u001B[49m\u001B[43m)\u001B[49m\n\u001B[32m      5\u001B[39m     \u001B[38;5;28;01mif\u001B[39;00m cv.waitKey(\u001B[32m20\u001B[39m) \u001B[38;5;129;01mand\u001B[39;00m \u001B[32m0xFF\u001B[39m == \u001B[38;5;28mord\u001B[39m(\u001B[33m'\u001B[39m\u001B[33md\u001B[39m\u001B[33m'\u001B[39m):\n\u001B[32m      6\u001B[39m         \u001B[38;5;28;01mbreak\u001B[39;00m\n",
      "\u001B[31merror\u001B[39m: OpenCV(4.12.0) D:\\a\\opencv-python\\opencv-python\\opencv\\modules\\highgui\\src\\window.cpp:973: error: (-215:Assertion failed) size.width>0 && size.height>0 in function 'cv::imshow'\n"
     ]
    }
   ],
   "execution_count": 3
  },
  {
   "metadata": {},
   "cell_type": "markdown",
   "source": "-215 insertion error， in most cases, means opencv can't find file in the location, b/c ran out of frame",
   "id": "d16d7cfeefade5ab"
  }
 ],
 "metadata": {
  "kernelspec": {
   "display_name": "Python 3",
   "language": "python",
   "name": "python3"
  },
  "language_info": {
   "codemirror_mode": {
    "name": "ipython",
    "version": 2
   },
   "file_extension": ".py",
   "mimetype": "text/x-python",
   "name": "python",
   "nbconvert_exporter": "python",
   "pygments_lexer": "ipython2",
   "version": "2.7.6"
  }
 },
 "nbformat": 4,
 "nbformat_minor": 5
}
