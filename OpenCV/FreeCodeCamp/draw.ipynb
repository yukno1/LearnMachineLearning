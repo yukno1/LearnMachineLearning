{
 "cells": [
  {
   "cell_type": "code",
   "id": "initial_id",
   "metadata": {
    "collapsed": true,
    "ExecuteTime": {
     "end_time": "2025-08-25T06:38:36.735290Z",
     "start_time": "2025-08-25T06:38:36.583193Z"
    }
   },
   "source": [
    "import cv2 as cv\n",
    "import numpy as np"
   ],
   "outputs": [],
   "execution_count": 1
  },
  {
   "metadata": {
    "ExecuteTime": {
     "end_time": "2025-08-25T06:39:15.129016Z",
     "start_time": "2025-08-25T06:39:15.124109Z"
    }
   },
   "cell_type": "code",
   "source": "img = cv.imread('Resources/Photos/cat.jpg')",
   "id": "6dc0a02cb6abf73c",
   "outputs": [],
   "execution_count": 2
  },
  {
   "metadata": {
    "ExecuteTime": {
     "end_time": "2025-08-25T06:44:41.996245Z",
     "start_time": "2025-08-25T06:44:41.993359Z"
    }
   },
   "cell_type": "code",
   "source": "blank = np.zeros((500, 500, 3), dtype=\"uint8\")",
   "id": "6962c2c1a71a5c1a",
   "outputs": [],
   "execution_count": 7
  },
  {
   "metadata": {},
   "cell_type": "markdown",
   "source": "uint8 is datatype of an image",
   "id": "9a816406c906245d"
  },
  {
   "metadata": {},
   "cell_type": "markdown",
   "source": "## 1. paint img a certain color",
   "id": "80b72c9302573403"
  },
  {
   "metadata": {
    "ExecuteTime": {
     "end_time": "2025-08-25T06:42:29.461186Z",
     "start_time": "2025-08-25T06:42:27.300305Z"
    }
   },
   "cell_type": "code",
   "source": [
    "blank[:] = 0, 255, 0\n",
    "cv.imshow(\"Green\", blank)\n",
    "cv.waitKey(0)"
   ],
   "id": "76bde961fda0366c",
   "outputs": [
    {
     "data": {
      "text/plain": [
       "-1"
      ]
     },
     "execution_count": 5,
     "metadata": {},
     "output_type": "execute_result"
    }
   ],
   "execution_count": 5
  },
  {
   "metadata": {},
   "cell_type": "markdown",
   "source": "color certain portion of img by giving a range of pixels",
   "id": "5917b14507bf350c"
  },
  {
   "metadata": {
    "ExecuteTime": {
     "end_time": "2025-08-25T06:44:45.929146Z",
     "start_time": "2025-08-25T06:44:44.728557Z"
    }
   },
   "cell_type": "code",
   "source": [
    "blank[200:300, 300:400] = 0, 255, 0\n",
    "cv.imshow(\"Green\", blank)\n",
    "cv.waitKey(0)"
   ],
   "id": "568a9f868a754220",
   "outputs": [
    {
     "data": {
      "text/plain": [
       "-1"
      ]
     },
     "execution_count": 8,
     "metadata": {},
     "output_type": "execute_result"
    }
   ],
   "execution_count": 8
  },
  {
   "metadata": {},
   "cell_type": "markdown",
   "source": "## 2. draw a rectangle",
   "id": "285b16889745f510"
  },
  {
   "metadata": {
    "ExecuteTime": {
     "end_time": "2025-08-25T06:47:12.107404Z",
     "start_time": "2025-08-25T06:47:10.245937Z"
    }
   },
   "cell_type": "code",
   "source": [
    "blank = np.zeros((500, 500, 3), dtype=\"uint8\")\n",
    "cv.rectangle(blank, (0, 0), (250, 250), (0, 0, 255), thickness=2)\n",
    "cv.imshow(\"Rectangle\", blank)\n",
    "cv.waitKey(0)"
   ],
   "id": "fa852514972f6e9a",
   "outputs": [
    {
     "data": {
      "text/plain": [
       "-1"
      ]
     },
     "execution_count": 9,
     "metadata": {},
     "output_type": "execute_result"
    }
   ],
   "execution_count": 9
  },
  {
   "metadata": {},
   "cell_type": "markdown",
   "source": [
    "if `thickness=cv.FILLED` will fill the rect\n",
    "\n",
    "also `thickness=-1`"
   ],
   "id": "fe1e13cd5b78e648"
  },
  {
   "metadata": {},
   "cell_type": "markdown",
   "source": "instead of passing numbers",
   "id": "6f66866bf196b073"
  },
  {
   "metadata": {
    "ExecuteTime": {
     "end_time": "2025-08-25T06:50:21.720366Z",
     "start_time": "2025-08-25T06:50:19.198436Z"
    }
   },
   "cell_type": "code",
   "source": [
    "blank = np.zeros((500, 500, 3), dtype=\"uint8\")\n",
    "cv.rectangle(blank, (0, 0), (blank.shape[1]//2, blank.shape[0]//2), (0, 0, 255), thickness=2)\n",
    "cv.imshow(\"Rectangle\", blank)\n",
    "cv.waitKey(0)"
   ],
   "id": "9938c56d0106a1cf",
   "outputs": [
    {
     "data": {
      "text/plain": [
       "-1"
      ]
     },
     "execution_count": 10,
     "metadata": {},
     "output_type": "execute_result"
    }
   ],
   "execution_count": 10
  },
  {
   "metadata": {},
   "cell_type": "markdown",
   "source": "## 3. draw circle",
   "id": "eb345cb0a2cac3df"
  },
  {
   "metadata": {
    "ExecuteTime": {
     "end_time": "2025-08-25T06:52:22.851292Z",
     "start_time": "2025-08-25T06:52:20.588934Z"
    }
   },
   "cell_type": "code",
   "source": [
    "blank = np.zeros((500, 500, 3), dtype=\"uint8\")\n",
    "cv.circle(blank, (blank.shape[1]//2, blank.shape[0]//2), 40, (0, 0, 255), thickness=2)\n",
    "cv.imshow(\"Circle\", blank)\n",
    "cv.waitKey(0)"
   ],
   "id": "9e2d7667d344caf4",
   "outputs": [
    {
     "data": {
      "text/plain": [
       "-1"
      ]
     },
     "execution_count": 11,
     "metadata": {},
     "output_type": "execute_result"
    }
   ],
   "execution_count": 11
  },
  {
   "metadata": {},
   "cell_type": "markdown",
   "source": "## 4. draw line",
   "id": "3148efe7f687d4a1"
  },
  {
   "metadata": {
    "ExecuteTime": {
     "end_time": "2025-08-25T06:53:32.217262Z",
     "start_time": "2025-08-25T06:53:30.650749Z"
    }
   },
   "cell_type": "code",
   "source": [
    "blank = np.zeros((500, 500, 3), dtype=\"uint8\")\n",
    "cv.line(blank, (0, 0), (blank.shape[1]//2, blank.shape[0]//2), (0, 0, 255), thickness=2)\n",
    "cv.imshow(\"Rectangle\", blank)\n",
    "cv.waitKey(0)"
   ],
   "id": "5ea991234e099bf5",
   "outputs": [
    {
     "data": {
      "text/plain": [
       "-1"
      ]
     },
     "execution_count": 12,
     "metadata": {},
     "output_type": "execute_result"
    }
   ],
   "execution_count": 12
  },
  {
   "metadata": {},
   "cell_type": "markdown",
   "source": "## 5. write text on img",
   "id": "63d9578a38434541"
  },
  {
   "metadata": {
    "ExecuteTime": {
     "end_time": "2025-08-25T06:59:11.301006Z",
     "start_time": "2025-08-25T06:59:07.836618Z"
    }
   },
   "cell_type": "code",
   "source": [
    "blank = np.zeros((500, 500, 3), dtype=\"uint8\")\n",
    "cv.putText(blank, 'Hello', (225, 225), cv.FONT_HERSHEY_TRIPLEX, 1.0, (0, 255, 0), thickness=2)\n",
    "cv.imshow(\"Rectangle\", blank)\n",
    "cv.waitKey(0)"
   ],
   "id": "132973ba3613fcf7",
   "outputs": [
    {
     "data": {
      "text/plain": [
       "-1"
      ]
     },
     "execution_count": 13,
     "metadata": {},
     "output_type": "execute_result"
    }
   ],
   "execution_count": 13
  }
 ],
 "metadata": {
  "kernelspec": {
   "display_name": "Python 3",
   "language": "python",
   "name": "python3"
  },
  "language_info": {
   "codemirror_mode": {
    "name": "ipython",
    "version": 2
   },
   "file_extension": ".py",
   "mimetype": "text/x-python",
   "name": "python",
   "nbconvert_exporter": "python",
   "pygments_lexer": "ipython2",
   "version": "2.7.6"
  }
 },
 "nbformat": 4,
 "nbformat_minor": 5
}
