{
 "cells": [
  {
   "cell_type": "markdown",
   "id": "de5c9d3b",
   "metadata": {},
   "source": [
    "## 5.1 Evaluating generative text models"
   ]
  },
  {
   "cell_type": "markdown",
   "id": "9689c017",
   "metadata": {},
   "source": [
    "### 5.1.1 Using GPT to generate text"
   ]
  },
  {
   "cell_type": "markdown",
   "id": "00db62dd",
   "metadata": {},
   "source": [
    "GPT-2 used tensorflow, but tensorflow is not so popular nowadays"
   ]
  },
  {
   "cell_type": "code",
   "id": "e360fddf",
   "metadata": {
    "ExecuteTime": {
     "end_time": "2025-05-25T04:17:07.061473Z",
     "start_time": "2025-05-25T04:17:04.083443Z"
    }
   },
   "source": [
    "from modules import GPTModel\n",
    "import torch"
   ],
   "outputs": [],
   "execution_count": 1
  },
  {
   "cell_type": "code",
   "id": "a171e36f",
   "metadata": {
    "ExecuteTime": {
     "end_time": "2025-05-25T04:17:07.082206Z",
     "start_time": "2025-05-25T04:17:07.078092Z"
    }
   },
   "source": [
    "GPT_CONFIG_124M = {\n",
    "    \"vocab_size\": 50257,    # Vocabulary size\n",
    "    \"context_length\": 256, # Context length\n",
    "    \"emb_dim\": 768,         # Embedding dimension\n",
    "    \"n_heads\": 12,          # Number of attention heads\n",
    "    \"n_layers\": 12,         # Number of layers\n",
    "    \"drop_rate\": 0.1,       # Dropout rate\n",
    "    \"qkv_bias\": False       # Query-Key-Value bias\n",
    "}"
   ],
   "outputs": [],
   "execution_count": 2
  },
  {
   "cell_type": "code",
   "id": "79e20a91",
   "metadata": {
    "ExecuteTime": {
     "end_time": "2025-05-25T04:17:07.794898Z",
     "start_time": "2025-05-25T04:17:07.100433Z"
    }
   },
   "source": [
    "torch.manual_seed(123)\n",
    "model = GPTModel(GPT_CONFIG_124M)\n",
    "model.eval(); # eval disables all random numbers\n",
    "# e.g., dropout, don't want random behaviour during inference\n",
    "# semicomma disables output\n",
    "# opposite of eval is train"
   ],
   "outputs": [],
   "execution_count": 3
  },
  {
   "cell_type": "code",
   "id": "ba24c731",
   "metadata": {
    "ExecuteTime": {
     "end_time": "2025-05-25T04:17:07.808700Z",
     "start_time": "2025-05-25T04:17:07.803151Z"
    }
   },
   "source": [
    "import tiktoken\n",
    "from modules import generate_text_simple\n",
    "\n",
    "def text_to_token_ids(text, tokenizer):\n",
    "    encoded = tokenizer.encode(text, allowed_special={'<|endoftext|>'})\n",
    "    encoded_tensor = torch.tensor(encoded).unsqueeze(0) # add batch dimension\n",
    "    return encoded_tensor\n"
   ],
   "outputs": [],
   "execution_count": 4
  },
  {
   "cell_type": "code",
   "id": "6d19b888",
   "metadata": {
    "ExecuteTime": {
     "end_time": "2025-05-25T04:17:08.014626Z",
     "start_time": "2025-05-25T04:17:07.821733Z"
    }
   },
   "source": [
    "start_context = \"Every effort moves you\"\n",
    "tokenizer = tiktoken.get_encoding(\"gpt2\")\n",
    "\n",
    "token_ids = text_to_token_ids(start_context, tokenizer)\n",
    "token_ids"
   ],
   "outputs": [
    {
     "data": {
      "text/plain": [
       "tensor([[6109, 3626, 6100,  345]])"
      ]
     },
     "execution_count": 5,
     "metadata": {},
     "output_type": "execute_result"
    }
   ],
   "execution_count": 5
  },
  {
   "cell_type": "code",
   "id": "360ac0c2",
   "metadata": {
    "ExecuteTime": {
     "end_time": "2025-05-25T04:17:08.067591Z",
     "start_time": "2025-05-25T04:17:08.061727Z"
    }
   },
   "source": [
    "def token_ids_to_text(token_ids, tokenizer):\n",
    "    flat = token_ids.squeeze(0) # remove batch dimension\n",
    "    return tokenizer.decode(flat.tolist())\n",
    "\n",
    "token_ids_to_text(token_ids, tokenizer)"
   ],
   "outputs": [
    {
     "data": {
      "text/plain": [
       "'Every effort moves you'"
      ]
     },
     "execution_count": 6,
     "metadata": {},
     "output_type": "execute_result"
    }
   ],
   "execution_count": 6
  },
  {
   "cell_type": "code",
   "id": "7f80eef8",
   "metadata": {
    "ExecuteTime": {
     "end_time": "2025-05-25T04:17:08.521853Z",
     "start_time": "2025-05-25T04:17:08.102420Z"
    }
   },
   "source": [
    "token_ids = generate_text_simple(\n",
    "    model=model,\n",
    "    idx=text_to_token_ids(start_context, tokenizer),\n",
    "    max_new_tokens=10,\n",
    "    context_size=GPT_CONFIG_124M[\"context_length\"]\n",
    ")"
   ],
   "outputs": [],
   "execution_count": 7
  },
  {
   "cell_type": "code",
   "id": "7c4165b4",
   "metadata": {
    "ExecuteTime": {
     "end_time": "2025-05-25T04:17:08.533883Z",
     "start_time": "2025-05-25T04:17:08.529744Z"
    }
   },
   "source": [
    "token_ids # 4 input + 10 new"
   ],
   "outputs": [
    {
     "data": {
      "text/plain": [
       "tensor([[ 6109,  3626,  6100,   345, 34245,  5139,  2492, 25405, 17434, 17853,\n",
       "          5308,  3398, 13174, 43071]])"
      ]
     },
     "execution_count": 8,
     "metadata": {},
     "output_type": "execute_result"
    }
   ],
   "execution_count": 8
  },
  {
   "cell_type": "code",
   "id": "a98b8ba2",
   "metadata": {
    "ExecuteTime": {
     "end_time": "2025-05-25T04:17:08.572844Z",
     "start_time": "2025-05-25T04:17:08.568528Z"
    }
   },
   "source": [
    "token_ids_to_text(token_ids, tokenizer)"
   ],
   "outputs": [
    {
     "data": {
      "text/plain": [
       "'Every effort moves you rentingetic wasnم refres RexMeCHicular stren'"
      ]
     },
     "execution_count": 9,
     "metadata": {},
     "output_type": "execute_result"
    }
   ],
   "execution_count": 9
  },
  {
   "cell_type": "markdown",
   "id": "3892a639",
   "metadata": {},
   "source": [
    "Before training, need a numeric way of visualization\\\n",
    "How to quantify?\\\n",
    "How to meassure how good it is?"
   ]
  },
  {
   "cell_type": "markdown",
   "id": "3e940f36",
   "metadata": {},
   "source": [
    "### 5.1.2 Calculating the text generation loss: cross-entropy and perplexity"
   ]
  },
  {
   "cell_type": "code",
   "id": "7de037fc",
   "metadata": {
    "ExecuteTime": {
     "end_time": "2025-05-25T04:17:08.628912Z",
     "start_time": "2025-05-25T04:17:08.625458Z"
    }
   },
   "source": [
    "inputs = torch.tensor([[16833, 3626, 6100],   # [\"every effort moves\",\n",
    "                       [40,    1107, 588]])   #  \"I really like\"]\n",
    "\n",
    "targets = torch.tensor([[3626, 6100, 345  ],  # [\" effort moves you\",\n",
    "                        [1107,  588, 11311]]) #  \" really like chocolate\"]"
   ],
   "outputs": [],
   "execution_count": 10
  },
  {
   "cell_type": "markdown",
   "id": "936ca194",
   "metadata": {},
   "source": [
    "target is shifted by 1 token"
   ]
  },
  {
   "cell_type": "code",
   "id": "6382b271",
   "metadata": {
    "ExecuteTime": {
     "end_time": "2025-05-25T04:17:08.698883Z",
     "start_time": "2025-05-25T04:17:08.655321Z"
    }
   },
   "source": [
    "with torch.no_grad():\n",
    "    logits = model(inputs)"
   ],
   "outputs": [],
   "execution_count": 11
  },
  {
   "cell_type": "code",
   "id": "8dec4cda",
   "metadata": {
    "ExecuteTime": {
     "end_time": "2025-05-25T04:17:08.713848Z",
     "start_time": "2025-05-25T04:17:08.708219Z"
    }
   },
   "source": [
    "logits.shape"
   ],
   "outputs": [
    {
     "data": {
      "text/plain": [
       "torch.Size([2, 3, 50257])"
      ]
     },
     "execution_count": 12,
     "metadata": {},
     "output_type": "execute_result"
    }
   ],
   "execution_count": 12
  },
  {
   "cell_type": "markdown",
   "id": "02477c74",
   "metadata": {},
   "source": [
    "2 - rows; 3 - tokens each; 50257 - vocab size"
   ]
  },
  {
   "cell_type": "code",
   "id": "90f3f527",
   "metadata": {
    "ExecuteTime": {
     "end_time": "2025-05-25T04:17:08.752111Z",
     "start_time": "2025-05-25T04:17:08.747242Z"
    }
   },
   "source": [
    "probas = torch.softmax(logits, dim=-1)\n",
    "\n",
    "probas.shape"
   ],
   "outputs": [
    {
     "data": {
      "text/plain": [
       "torch.Size([2, 3, 50257])"
      ]
     },
     "execution_count": 13,
     "metadata": {},
     "output_type": "execute_result"
    }
   ],
   "execution_count": 13
  },
  {
   "cell_type": "code",
   "id": "27a65eef",
   "metadata": {
    "ExecuteTime": {
     "end_time": "2025-05-25T04:17:08.800131Z",
     "start_time": "2025-05-25T04:17:08.795824Z"
    }
   },
   "source": [
    "token_ids = torch.argmax(probas, dim=-1, keepdim=True)\n",
    "print(\"Token IDs:\\n\", token_ids)"
   ],
   "outputs": [
    {
     "name": "stdout",
     "output_type": "stream",
     "text": [
      "Token IDs:\n",
      " tensor([[[16657],\n",
      "         [  339],\n",
      "         [42826]],\n",
      "\n",
      "        [[49906],\n",
      "         [29669],\n",
      "         [41751]]])\n"
     ]
    }
   ],
   "execution_count": 14
  },
  {
   "cell_type": "code",
   "id": "0eb0c7fa",
   "metadata": {
    "ExecuteTime": {
     "end_time": "2025-05-25T04:17:08.851523Z",
     "start_time": "2025-05-25T04:17:08.845204Z"
    }
   },
   "source": [
    "print(f\"Targets batch 1: {token_ids_to_text(targets[0], tokenizer)}\")\n",
    "print(f\"Outputs batch 1: {token_ids_to_text(token_ids[0].flatten(), tokenizer)}\")"
   ],
   "outputs": [
    {
     "name": "stdout",
     "output_type": "stream",
     "text": [
      "Targets batch 1:  effort moves you\n",
      "Outputs batch 1:  Armed heNetflix\n"
     ]
    }
   ],
   "execution_count": 15
  },
  {
   "cell_type": "code",
   "id": "3a0e3bea",
   "metadata": {
    "ExecuteTime": {
     "end_time": "2025-05-25T04:17:08.907518Z",
     "start_time": "2025-05-25T04:17:08.893907Z"
    }
   },
   "source": [
    "text_idx = 0\n",
    "target_probas_1 = probas[text_idx, [0, 1, 2], targets[text_idx]]\n",
    "print(\"Text 1:\", target_probas_1)"
   ],
   "outputs": [
    {
     "name": "stdout",
     "output_type": "stream",
     "text": [
      "Text 1: tensor([7.4541e-05, 3.1061e-05, 1.1563e-05])\n"
     ]
    }
   ],
   "execution_count": 16
  },
  {
   "cell_type": "code",
   "id": "65dbdd48",
   "metadata": {
    "ExecuteTime": {
     "end_time": "2025-05-25T04:17:08.949098Z",
     "start_time": "2025-05-25T04:17:08.944576Z"
    }
   },
   "source": [
    "text_idx = 1\n",
    "target_probas_2 = probas[text_idx, [0, 1, 2], targets[text_idx]]\n",
    "print(\"Text 2:\", target_probas_2)"
   ],
   "outputs": [
    {
     "name": "stdout",
     "output_type": "stream",
     "text": [
      "Text 2: tensor([1.0337e-05, 5.6776e-05, 4.7559e-06])\n"
     ]
    }
   ],
   "execution_count": 17
  },
  {
   "cell_type": "markdown",
   "id": "283643c2",
   "metadata": {},
   "source": [
    "ouput of probabilities\\\n",
    "ideally, want to train them to approach 90%, i.e., model learns to associate generated probability corresponding to text targets to be very large"
   ]
  },
  {
   "cell_type": "code",
   "id": "9e4d8207",
   "metadata": {
    "ExecuteTime": {
     "end_time": "2025-05-25T04:17:09.000014Z",
     "start_time": "2025-05-25T04:17:08.994595Z"
    }
   },
   "source": [
    "# Compute logarithm of all token probabilities\n",
    "log_probas = torch.log(torch.cat((target_probas_1, target_probas_2))) # concate so it's easy to apply same computation\n",
    "print(log_probas)"
   ],
   "outputs": [
    {
     "name": "stdout",
     "output_type": "stream",
     "text": [
      "tensor([ -9.5042, -10.3796, -11.3677, -11.4798,  -9.7764, -12.2561])\n"
     ]
    }
   ],
   "execution_count": 18
  },
  {
   "cell_type": "markdown",
   "id": "0eae1c60",
   "metadata": {},
   "source": [
    "The final cross-entropy loss (negative log probability)"
   ]
  },
  {
   "cell_type": "code",
   "id": "fab0859e",
   "metadata": {
    "ExecuteTime": {
     "end_time": "2025-05-25T04:17:09.034758Z",
     "start_time": "2025-05-25T04:17:09.029921Z"
    }
   },
   "source": [
    "-1*torch.mean(log_probas)"
   ],
   "outputs": [
    {
     "data": {
      "text/plain": [
       "tensor(10.7940)"
      ]
     },
     "execution_count": 19,
     "metadata": {},
     "output_type": "execute_result"
    }
   ],
   "execution_count": 19
  },
  {
   "cell_type": "code",
   "id": "b5a13ce8",
   "metadata": {
    "ExecuteTime": {
     "end_time": "2025-05-25T04:17:09.078755Z",
     "start_time": "2025-05-25T04:17:09.074435Z"
    }
   },
   "source": [
    "logits.shape"
   ],
   "outputs": [
    {
     "data": {
      "text/plain": [
       "torch.Size([2, 3, 50257])"
      ]
     },
     "execution_count": 20,
     "metadata": {},
     "output_type": "execute_result"
    }
   ],
   "execution_count": 20
  },
  {
   "cell_type": "code",
   "id": "9039fa77",
   "metadata": {
    "ExecuteTime": {
     "end_time": "2025-05-25T04:17:09.113115Z",
     "start_time": "2025-05-25T04:17:09.108752Z"
    }
   },
   "source": [
    "logits_flat = logits.flatten(0, 1)\n",
    "logits_flat.shape"
   ],
   "outputs": [
    {
     "data": {
      "text/plain": [
       "torch.Size([6, 50257])"
      ]
     },
     "execution_count": 21,
     "metadata": {},
     "output_type": "execute_result"
    }
   ],
   "execution_count": 21
  },
  {
   "cell_type": "code",
   "id": "2664c6eb",
   "metadata": {
    "ExecuteTime": {
     "end_time": "2025-05-25T04:17:09.143245Z",
     "start_time": "2025-05-25T04:17:09.139136Z"
    }
   },
   "source": [
    "targets_flat = targets.flatten()\n",
    "targets_flat.shape"
   ],
   "outputs": [
    {
     "data": {
      "text/plain": [
       "torch.Size([6])"
      ]
     },
     "execution_count": 22,
     "metadata": {},
     "output_type": "execute_result"
    }
   ],
   "execution_count": 22
  },
  {
   "cell_type": "code",
   "id": "317d77e9",
   "metadata": {
    "ExecuteTime": {
     "end_time": "2025-05-25T04:17:09.167330Z",
     "start_time": "2025-05-25T04:17:09.159492Z"
    }
   },
   "source": [
    "loss = torch.nn.functional.cross_entropy(logits_flat, targets_flat)\n",
    "loss"
   ],
   "outputs": [
    {
     "data": {
      "text/plain": [
       "tensor(10.7940)"
      ]
     },
     "execution_count": 23,
     "metadata": {},
     "output_type": "execute_result"
    }
   ],
   "execution_count": 23
  },
  {
   "cell_type": "markdown",
   "id": "7c0e9d75",
   "metadata": {},
   "source": [
    "Perplexity"
   ]
  },
  {
   "cell_type": "code",
   "id": "1dcb9862",
   "metadata": {
    "ExecuteTime": {
     "end_time": "2025-05-25T04:17:09.182989Z",
     "start_time": "2025-05-25T04:17:09.178473Z"
    }
   },
   "source": [
    "perplexity = torch.exp(loss)\n",
    "print(perplexity)"
   ],
   "outputs": [
    {
     "name": "stdout",
     "output_type": "stream",
     "text": [
      "tensor(48725.8203)\n"
     ]
    }
   ],
   "execution_count": 24
  },
  {
   "cell_type": "markdown",
   "id": "947a50c8",
   "metadata": {},
   "source": [
    "describe how unsure;\\\n",
    "can be understood as the effective vocabulary size that the model is uncertain about at each step (in example, model is sure about no word)"
   ]
  },
  {
   "cell_type": "markdown",
   "id": "2fbdcd68",
   "metadata": {},
   "source": [
    "### 5.1.3 Calculating the training and validation set losses"
   ]
  },
  {
   "cell_type": "code",
   "id": "7cdc978b",
   "metadata": {
    "ExecuteTime": {
     "end_time": "2025-05-25T04:17:09.237321Z",
     "start_time": "2025-05-25T04:17:09.232683Z"
    }
   },
   "source": [
    "import os\n",
    "import urllib.request\n",
    "\n",
    "file_path = \"the-verdict.txt\"\n",
    "url = \"https://raw.githubusercontent.com/rasbt/LLMs-from-scratch/main/ch02/01_main-chapter-code/the-verdict.txt\"\n",
    "\n",
    "if not os.path.exists(file_path):\n",
    "    with urllib.request.urlopen(url) as response:\n",
    "        text_data = response.read().decode('utf-8')\n",
    "    with open(file_path, \"w\", encoding=\"utf-8\") as file:\n",
    "        file.write(text_data)\n",
    "else:\n",
    "    with open(file_path, \"r\", encoding=\"utf-8\") as file:\n",
    "        text_data = file.read()"
   ],
   "outputs": [],
   "execution_count": 25
  },
  {
   "cell_type": "code",
   "id": "4d03017d",
   "metadata": {
    "ExecuteTime": {
     "end_time": "2025-05-25T04:17:09.270604Z",
     "start_time": "2025-05-25T04:17:09.264335Z"
    }
   },
   "source": [
    "total_characters = len(text_data)\n",
    "total_tokens = len(tokenizer.encode(text_data))\n",
    "\n",
    "print(\"Characters:\", total_characters)\n",
    "print(\"Tokens:\", total_tokens)"
   ],
   "outputs": [
    {
     "name": "stdout",
     "output_type": "stream",
     "text": [
      "Characters: 20479\n",
      "Tokens: 5145\n"
     ]
    }
   ],
   "execution_count": 26
  },
  {
   "cell_type": "markdown",
   "id": "13b4efe6",
   "metadata": {},
   "source": [
    "Now divide it into a training set and a small validation set (evaluation and check if overfitting);\\\n",
    "Then divide set into boxes with size of context_length;\n",
    "then subdivide boxes into batches, batches are shuffled"
   ]
  },
  {
   "cell_type": "code",
   "id": "7940a2aa",
   "metadata": {
    "ExecuteTime": {
     "end_time": "2025-05-25T04:17:09.296200Z",
     "start_time": "2025-05-25T04:17:09.287067Z"
    }
   },
   "source": [
    "from modules import create_dataloader_v1\n",
    "# Alternatively:\n",
    "# from llms_from_scratch.ch02 import create_dataloader_v1\n",
    "\n",
    "# Train/validation ratio\n",
    "train_ratio = 0.90 # 10% for validation\n",
    "split_idx = int(train_ratio * len(text_data))\n",
    "train_data = text_data[:split_idx]\n",
    "val_data = text_data[split_idx:]\n",
    "\n",
    "\n",
    "torch.manual_seed(123)\n",
    "\n",
    "train_loader = create_dataloader_v1(\n",
    "    train_data,\n",
    "    batch_size=2,\n",
    "    max_length=GPT_CONFIG_124M[\"context_length\"],\n",
    "    stride=GPT_CONFIG_124M[\"context_length\"],\n",
    "    drop_last=True,\n",
    "    shuffle=True,\n",
    "    num_workers=0\n",
    ")\n",
    "\n",
    "val_loader = create_dataloader_v1(\n",
    "    val_data,\n",
    "    batch_size=2,\n",
    "    max_length=GPT_CONFIG_124M[\"context_length\"],\n",
    "    stride=GPT_CONFIG_124M[\"context_length\"],\n",
    "    drop_last=False,\n",
    "    shuffle=False,\n",
    "    num_workers=0\n",
    ")"
   ],
   "outputs": [],
   "execution_count": 27
  },
  {
   "cell_type": "code",
   "id": "f891c9d0",
   "metadata": {
    "ExecuteTime": {
     "end_time": "2025-05-25T04:17:09.337312Z",
     "start_time": "2025-05-25T04:17:09.324965Z"
    }
   },
   "source": [
    "print(\"Train loader:\")\n",
    "for x, y in train_loader:\n",
    "    pass\n",
    "print(x.shape, y.shape) # to make sure no error\n",
    "\n",
    "print(\"\\nValidation loader:\")\n",
    "for x, y in val_loader:\n",
    "    pass\n",
    "print(x.shape, y.shape)"
   ],
   "outputs": [
    {
     "name": "stdout",
     "output_type": "stream",
     "text": [
      "Train loader:\n",
      "torch.Size([2, 256]) torch.Size([2, 256])\n",
      "\n",
      "Validation loader:\n",
      "torch.Size([2, 256]) torch.Size([2, 256])\n"
     ]
    }
   ],
   "execution_count": 28
  },
  {
   "cell_type": "code",
   "id": "38efbcf4",
   "metadata": {
    "ExecuteTime": {
     "end_time": "2025-05-25T04:17:09.353300Z",
     "start_time": "2025-05-25T04:17:09.348432Z"
    }
   },
   "source": [
    "train_tokens = 0\n",
    "for input_batch, target_batch in train_loader:\n",
    "    train_tokens += input_batch.numel()\n",
    "\n",
    "val_tokens = 0\n",
    "for input_batch, target_batch in val_loader:\n",
    "    val_tokens += input_batch.numel()\n",
    "\n",
    "print(\"Training tokens:\", train_tokens)\n",
    "print(\"Validation tokens:\", val_tokens)\n",
    "print(\"All tokens:\", train_tokens + val_tokens)"
   ],
   "outputs": [
    {
     "name": "stdout",
     "output_type": "stream",
     "text": [
      "Training tokens: 4608\n",
      "Validation tokens: 512\n",
      "All tokens: 5120\n"
     ]
    }
   ],
   "execution_count": 29
  },
  {
   "cell_type": "markdown",
   "id": "380137d4",
   "metadata": {},
   "source": [
    "last 25 tokens are dropped\\\n",
    "each batch is of same size so won't have weird loss spikes during trining"
   ]
  },
  {
   "cell_type": "code",
   "id": "c4160746",
   "metadata": {
    "ExecuteTime": {
     "end_time": "2025-05-25T04:17:09.385608Z",
     "start_time": "2025-05-25T04:17:09.380505Z"
    }
   },
   "source": [
    "def calc_loss_batch(input_batch, target_batch, model, device):\n",
    "    input_batch, target_batch = input_batch.to(device), target_batch.to(device)\n",
    "    logits = model(input_batch)\n",
    "    loss = torch.nn.functional.cross_entropy(logits.flatten(0, 1), target_batch.flatten())\n",
    "    return loss\n",
    "\n",
    "\n",
    "def calc_loss_loader(data_loader, model, device, num_batches=None):\n",
    "    total_loss = 0.\n",
    "    if len(data_loader) == 0:\n",
    "        return float(\"nan\")\n",
    "    elif num_batches is None:\n",
    "        num_batches = len(data_loader)\n",
    "    else:\n",
    "        # Reduce the number of batches to match the total number of batches in the data loader\n",
    "        # if num_batches exceeds the number of batches in the data loader\n",
    "        num_batches = min(num_batches, len(data_loader))\n",
    "    for i, (input_batch, target_batch) in enumerate(data_loader):\n",
    "        if i < num_batches:\n",
    "            loss = calc_loss_batch(input_batch, target_batch, model, device)\n",
    "            total_loss += loss.item()\n",
    "        else:\n",
    "            break\n",
    "    return total_loss / num_batches"
   ],
   "outputs": [],
   "execution_count": 30
  },
  {
   "cell_type": "code",
   "id": "c865b367",
   "metadata": {
    "ExecuteTime": {
     "end_time": "2025-05-25T04:17:09.451678Z",
     "start_time": "2025-05-25T04:17:09.411346Z"
    }
   },
   "source": [
    "torch.cuda.is_available()"
   ],
   "outputs": [
    {
     "data": {
      "text/plain": [
       "True"
      ]
     },
     "execution_count": 31,
     "metadata": {},
     "output_type": "execute_result"
    }
   ],
   "execution_count": 31
  },
  {
   "cell_type": "code",
   "id": "d0f033de",
   "metadata": {
    "ExecuteTime": {
     "end_time": "2025-05-25T04:17:10.382712Z",
     "start_time": "2025-05-25T04:17:09.461005Z"
    }
   },
   "source": [
    "device = torch.device(\"cuda\" if torch.cuda.is_available() else \"cpu\")\n",
    "\n",
    "\n",
    "model.to(device) # no assignment model = model.to(device) necessary for nn.Module classes\n",
    "\n",
    "\n",
    "torch.manual_seed(123) # For reproducibility due to the shuffling in the data loader\n",
    "\n",
    "with torch.no_grad(): # Disable gradient tracking for efficiency because we are not training, yet\n",
    "    train_loss = calc_loss_loader(train_loader, model, device)\n",
    "    val_loss = calc_loss_loader(val_loader, model, device)\n",
    "\n",
    "print(\"Training loss:\", train_loss)\n",
    "print(\"Validation loss:\", val_loss)"
   ],
   "outputs": [
    {
     "name": "stdout",
     "output_type": "stream",
     "text": [
      "Training loss: 10.987583584255642\n",
      "Validation loss: 10.98110580444336\n"
     ]
    }
   ],
   "execution_count": 32
  },
  {
   "cell_type": "markdown",
   "id": "be842a54",
   "metadata": {},
   "source": [
    "## 5.2 Training an LLM"
   ]
  },
  {
   "cell_type": "code",
   "id": "f989515a",
   "metadata": {
    "ExecuteTime": {
     "end_time": "2025-05-25T04:17:10.408522Z",
     "start_time": "2025-05-25T04:17:10.402575Z"
    }
   },
   "source": [
    "def train_model_simple(model, train_loader, val_loader, optimizer, device, num_epochs,\n",
    "                       eval_freq, eval_iter, start_context, tokenizer):\n",
    "    # Initialize lists to track losses and tokens seen\n",
    "    train_losses, val_losses, track_tokens_seen = [], [], []\n",
    "    tokens_seen, global_step = 0, -1\n",
    "\n",
    "    # Main training loop\n",
    "    for epoch in range(num_epochs):\n",
    "        model.train()  # Set model to training mode\n",
    "        \n",
    "        for input_batch, target_batch in train_loader:\n",
    "            optimizer.zero_grad() # Reset loss gradients from previous batch iteration\n",
    "            loss = calc_loss_batch(input_batch, target_batch, model, device)\n",
    "            loss.backward() # Calculate loss gradients\n",
    "            optimizer.step() # Update model weights using loss gradients\n",
    "            tokens_seen += input_batch.numel()\n",
    "            global_step += 1\n",
    "\n",
    "            # Optional evaluation step\n",
    "            if global_step % eval_freq == 0:\n",
    "                train_loss, val_loss = evaluate_model(\n",
    "                    model, train_loader, val_loader, device, eval_iter)\n",
    "                train_losses.append(train_loss)\n",
    "                val_losses.append(val_loss)\n",
    "                track_tokens_seen.append(tokens_seen)\n",
    "                print(f\"Ep {epoch+1} (Step {global_step:06d}): \"\n",
    "                      f\"Train loss {train_loss:.3f}, Val loss {val_loss:.3f}\")\n",
    "\n",
    "        # Print a sample text after each epoch\n",
    "        generate_and_print_sample(\n",
    "            model, tokenizer, device, start_context\n",
    "        )\n",
    "\n",
    "    return train_losses, val_losses, track_tokens_seen\n",
    "\n",
    "\n",
    "def evaluate_model(model, train_loader, val_loader, device, eval_iter):\n",
    "    model.eval()\n",
    "    with torch.no_grad():\n",
    "        train_loss = calc_loss_loader(train_loader, model, device, num_batches=eval_iter)\n",
    "        val_loss = calc_loss_loader(val_loader, model, device, num_batches=eval_iter)\n",
    "    model.train()\n",
    "    return train_loss, val_loss\n",
    "\n",
    "\n",
    "def generate_and_print_sample(model, tokenizer, device, start_context):\n",
    "    model.eval()\n",
    "    context_size = model.pos_emb.weight.shape[0]\n",
    "    encoded = text_to_token_ids(start_context, tokenizer).to(device) # encode sample to token ids\n",
    "    with torch.no_grad():\n",
    "        token_ids = generate_text_simple(\n",
    "            model=model, idx=encoded,\n",
    "            max_new_tokens=50, context_size=context_size\n",
    "        )\n",
    "    decoded_text = token_ids_to_text(token_ids, tokenizer) # translate to text\n",
    "    print(decoded_text.replace(\"\\n\", \" \"))  # Compact print format\n",
    "    model.train()"
   ],
   "outputs": [],
   "execution_count": 33
  },
  {
   "cell_type": "code",
   "id": "e01f60bc",
   "metadata": {
    "ExecuteTime": {
     "end_time": "2025-05-25T04:17:12.752962Z",
     "start_time": "2025-05-25T04:17:10.436813Z"
    }
   },
   "source": [
    "torch.manual_seed(123)\n",
    "model = GPTModel(GPT_CONFIG_124M)\n",
    "model.to(device)\n",
    "optimizer = torch.optim.AdamW(model.parameters(), lr=0.0004, weight_decay=0.1)"
   ],
   "outputs": [],
   "execution_count": 34
  },
  {
   "cell_type": "markdown",
   "id": "d2208411",
   "metadata": {},
   "source": [
    "In reality, when training a real new network, like Gemma3, deepseek, they train on 14, 15 trillion tokens\\\n",
    "since the novel is short, 1 epoch is not enough to learn\\\n",
    "normally train 1 or 1.5 epoch max"
   ]
  },
  {
   "cell_type": "code",
   "id": "31362186",
   "metadata": {
    "ExecuteTime": {
     "end_time": "2025-05-25T04:17:33.555454Z",
     "start_time": "2025-05-25T04:17:12.762203Z"
    }
   },
   "source": [
    "num_epochs = 10\n",
    "train_losses, val_losses, tokens_seen = train_model_simple(\n",
    "    model, train_loader, val_loader, optimizer, device,\n",
    "    num_epochs=num_epochs, eval_freq=5, eval_iter=5,\n",
    "    start_context=\"Every effort moves you\", tokenizer=tokenizer\n",
    ")"
   ],
   "outputs": [
    {
     "name": "stdout",
     "output_type": "stream",
     "text": [
      "Ep 1 (Step 000000): Train loss 9.823, Val loss 9.932\n",
      "Ep 1 (Step 000005): Train loss 8.065, Val loss 8.336\n",
      "Every effort moves you,,,,,,,,,,,,.                                     \n",
      "Ep 2 (Step 000010): Train loss 6.621, Val loss 7.051\n",
      "Ep 2 (Step 000015): Train loss 6.043, Val loss 6.599\n",
      "Every effort moves you, and,, and,, and,,,, and, and,,,,,,,,, and,,,, the,,,, and,, and,,, the, and,,,,,,\n",
      "Ep 3 (Step 000020): Train loss 5.547, Val loss 6.485\n",
      "Ep 3 (Step 000025): Train loss 5.450, Val loss 6.397\n",
      "Every effort moves you, and to the to the of the to the, and I had. Gis, and, and, and, and, and, and I had, and, and, and, and, and, and, and, and, and,\n",
      "Ep 4 (Step 000030): Train loss 4.982, Val loss 6.301\n",
      "Ep 4 (Step 000035): Train loss 4.755, Val loss 6.296\n",
      "Every effort moves you, and I had been the of the picture to the picture.                                     \n",
      "Ep 5 (Step 000040): Train loss 4.162, Val loss 6.182\n",
      "Every effort moves you know the                                                \n",
      "Ep 6 (Step 000045): Train loss 3.742, Val loss 6.175\n",
      "Ep 6 (Step 000050): Train loss 3.213, Val loss 6.189\n",
      "Every effort moves you know the fact, and I felt--I had the fact a little of a little to my work, and in fact, and in the picture.      \"--and it, and, and down, and he was his\n",
      "Ep 7 (Step 000055): Train loss 3.143, Val loss 6.172\n",
      "Ep 7 (Step 000060): Train loss 2.422, Val loss 6.136\n",
      "Every effort moves you know the picture.  I glanced after him, and I was one of the house.\"   \"I didn't you know. I was his pictures.  \"--and I was a little a little the room, I was\n",
      "Ep 8 (Step 000065): Train loss 1.963, Val loss 6.178\n",
      "Ep 8 (Step 000070): Train loss 1.639, Val loss 6.230\n",
      "Every effort moves you?\"  \"Yes--I glanced after him, and uncertain.  \"Once, when I looked up, I had been. Gisburn--as Jack himself, as once one had been the donkey. \"There were days when I\n",
      "Ep 9 (Step 000075): Train loss 1.286, Val loss 6.227\n",
      "Ep 9 (Step 000080): Train loss 0.987, Val loss 6.249\n",
      "Every effort moves you know,\" was one of the picture for nothing--I told Mrs. \"--and I was a year after Jack's resolve had been his eyes; then I looked at the donkey--and I saw that, and down the room, I had\n",
      "Ep 10 (Step 000085): Train loss 0.727, Val loss 6.356\n",
      "Every effort moves you?\"  \"Yes--quite insensible to the irony. She wanted him vindicated--and by me!\"  He laughed again, and threw back his head to look up at the sketch of the donkey. \"There were days when I\n"
     ]
    }
   ],
   "execution_count": 35
  },
  {
   "cell_type": "code",
   "id": "46cc9578",
   "metadata": {
    "ExecuteTime": {
     "end_time": "2025-05-25T04:17:34.874585Z",
     "start_time": "2025-05-25T04:17:33.568755Z"
    }
   },
   "source": [
    "import matplotlib.pyplot as plt\n",
    "from matplotlib.ticker import MaxNLocator\n",
    "\n",
    "\n",
    "def plot_losses(epochs_seen, tokens_seen, train_losses, val_losses):\n",
    "    fig, ax1 = plt.subplots(figsize=(5, 3))\n",
    "\n",
    "    # Plot training and validation loss against epochs\n",
    "    ax1.plot(epochs_seen, train_losses, label=\"Training loss\")\n",
    "    ax1.plot(epochs_seen, val_losses, linestyle=\"-.\", label=\"Validation loss\")\n",
    "    ax1.set_xlabel(\"Epochs\")\n",
    "    ax1.set_ylabel(\"Loss\")\n",
    "    ax1.legend(loc=\"upper right\")\n",
    "    ax1.xaxis.set_major_locator(MaxNLocator(integer=True))  # only show integer labels on x-axis\n",
    "\n",
    "    # Create a second x-axis for tokens seen\n",
    "    ax2 = ax1.twiny()  # Create a second x-axis that shares the same y-axis\n",
    "    ax2.plot(tokens_seen, train_losses, alpha=0)  # Invisible plot for aligning ticks\n",
    "    ax2.set_xlabel(\"Tokens seen\")\n",
    "\n",
    "    fig.tight_layout()  # Adjust layout to make room\n",
    "    plt.savefig(\"loss-plot.pdf\")\n",
    "    plt.show()\n",
    "\n",
    "epochs_tensor = torch.linspace(0, num_epochs, len(train_losses))\n",
    "plot_losses(epochs_tensor, tokens_seen, train_losses, val_losses)"
   ],
   "outputs": [
    {
     "data": {
      "text/plain": [
       "<Figure size 500x300 with 2 Axes>"
      ],
      "image/png": "[encoded data removed]"
     },
     "metadata": {},
     "output_type": "display_data"
    }
   ],
   "execution_count": 36
  },
  {
   "metadata": {},
   "cell_type": "markdown",
   "source": "## 5.3 Decoding strategies to control randomness",
   "id": "77277295e4c68048"
  },
  {
   "metadata": {},
   "cell_type": "markdown",
   "source": "sampling strategy: top K or top P sampling and temperature scaling",
   "id": "f6517bf584e7d871"
  },
  {
   "metadata": {},
   "cell_type": "markdown",
   "source": "generate text simple just make model to remember words",
   "id": "6dd80bef5d5ed21"
  },
  {
   "metadata": {
    "ExecuteTime": {
     "end_time": "2025-05-25T05:25:19.298933Z",
     "start_time": "2025-05-25T05:25:16.016176Z"
    }
   },
   "cell_type": "code",
   "source": [
    "model.to(\"cpu\")\n",
    "model.eval()\n",
    "\n",
    "tokenizer = tiktoken.get_encoding(\"gpt2\")\n",
    "\n",
    "token_ids = generate_text_simple(\n",
    "    model=model,\n",
    "    idx=text_to_token_ids(\"Every effort moves you\", tokenizer),\n",
    "    max_new_tokens=25,\n",
    "    context_size=GPT_CONFIG_124M[\"context_length\"]\n",
    ")\n",
    "\n",
    "print(\"Output text:\\n\", token_ids_to_text(token_ids, tokenizer))"
   ],
   "id": "cea8f4bd56c0134",
   "outputs": [
    {
     "name": "stdout",
     "output_type": "stream",
     "text": [
      "Output text:\n",
      " Every effort moves you?\"\n",
      "\n",
      "\"Yes--quite insensible to the irony. She wanted him vindicated--and by me!\"\n",
      "\n",
      "\n"
     ]
    }
   ],
   "execution_count": 38
  },
  {
   "metadata": {},
   "cell_type": "markdown",
   "source": "### 5.3.1 Temperature scaling",
   "id": "194c5d6900cc5689"
  },
  {
   "metadata": {
    "ExecuteTime": {
     "end_time": "2025-05-25T05:26:30.757985Z",
     "start_time": "2025-05-25T05:26:30.749465Z"
    }
   },
   "cell_type": "code",
   "source": [
    "vocab = {\n",
    "    \"closer\": 0,\n",
    "    \"every\": 1,\n",
    "    \"effort\": 2,\n",
    "    \"forward\": 3,\n",
    "    \"inches\": 4,\n",
    "    \"moves\": 5,\n",
    "    \"pizza\": 6,\n",
    "    \"toward\": 7,\n",
    "    \"you\": 8,\n",
    "}"
   ],
   "id": "b1abdc5749bb8a",
   "outputs": [],
   "execution_count": 39
  },
  {
   "metadata": {
    "ExecuteTime": {
     "end_time": "2025-05-25T05:27:11.698398Z",
     "start_time": "2025-05-25T05:27:11.677186Z"
    }
   },
   "cell_type": "code",
   "source": [
    "inverse_vocab = {v: k for k, v in vocab.items()}\n",
    "inverse_vocab"
   ],
   "id": "d8c09f6c54d791ec",
   "outputs": [
    {
     "data": {
      "text/plain": [
       "{0: 'closer',\n",
       " 1: 'every',\n",
       " 2: 'effort',\n",
       " 3: 'forward',\n",
       " 4: 'inches',\n",
       " 5: 'moves',\n",
       " 6: 'pizza',\n",
       " 7: 'toward',\n",
       " 8: 'you'}"
      ]
     },
     "execution_count": 40,
     "metadata": {},
     "output_type": "execute_result"
    }
   ],
   "execution_count": 40
  },
  {
   "metadata": {
    "ExecuteTime": {
     "end_time": "2025-05-25T05:28:04.060226Z",
     "start_time": "2025-05-25T05:28:04.056617Z"
    }
   },
   "cell_type": "code",
   "source": [
    "# Suppose input is \"every effort moves you\", and the LLM\n",
    "# returns the following logits for the next token:\n",
    "next_token_logits = torch.tensor(\n",
    "    [4.51, 0.89, -1.90, 6.75, 1.63, -1.62, -1.89, 6.28, 1.79]\n",
    ")\n",
    "# deliberately given"
   ],
   "id": "1d31526e6435f582",
   "outputs": [],
   "execution_count": 41
  },
  {
   "metadata": {
    "ExecuteTime": {
     "end_time": "2025-05-25T05:58:11.206529Z",
     "start_time": "2025-05-25T05:58:11.201457Z"
    }
   },
   "cell_type": "code",
   "source": "probas = torch.softmax(next_token_logits, dim=-1)",
   "id": "cb02f1aabc87f7da",
   "outputs": [],
   "execution_count": 42
  },
  {
   "metadata": {
    "ExecuteTime": {
     "end_time": "2025-05-25T05:58:36.062861Z",
     "start_time": "2025-05-25T05:58:36.040770Z"
    }
   },
   "cell_type": "code",
   "source": [
    "next_token_id = torch.argmax(probas).item()\n",
    "next_token_id"
   ],
   "id": "55b567c2fa2fff1a",
   "outputs": [
    {
     "data": {
      "text/plain": [
       "3"
      ]
     },
     "execution_count": 43,
     "metadata": {},
     "output_type": "execute_result"
    }
   ],
   "execution_count": 43
  },
  {
   "metadata": {
    "ExecuteTime": {
     "end_time": "2025-05-25T05:59:09.763994Z",
     "start_time": "2025-05-25T05:59:09.758496Z"
    }
   },
   "cell_type": "code",
   "source": "inverse_vocab[next_token_id]",
   "id": "17f86a57d61764b8",
   "outputs": [
    {
     "data": {
      "text/plain": [
       "'forward'"
      ]
     },
     "execution_count": 45,
     "metadata": {},
     "output_type": "execute_result"
    }
   ],
   "execution_count": 45
  },
  {
   "metadata": {},
   "cell_type": "markdown",
   "source": "not always most likely, but randomly",
   "id": "d8cff1d1891752d8"
  },
  {
   "metadata": {
    "ExecuteTime": {
     "end_time": "2025-05-25T06:03:15.649456Z",
     "start_time": "2025-05-25T06:03:15.644865Z"
    }
   },
   "cell_type": "code",
   "source": [
    "# torch.manual_seed(123)\n",
    "next_token_id = torch.multinomial(probas, num_samples=1).item()\n",
    "inverse_vocab[next_token_id]"
   ],
   "id": "f18a9bf8ebdc5832",
   "outputs": [
    {
     "data": {
      "text/plain": [
       "'toward'"
      ]
     },
     "execution_count": 61,
     "metadata": {},
     "output_type": "execute_result"
    }
   ],
   "execution_count": 61
  },
  {
   "metadata": {
    "ExecuteTime": {
     "end_time": "2025-05-25T06:03:45.189883Z",
     "start_time": "2025-05-25T06:03:45.142038Z"
    }
   },
   "cell_type": "code",
   "source": [
    "def print_sampled_tokens(probas):\n",
    "    torch.manual_seed(123) # Manual seed for reproducibility\n",
    "    sample = [torch.multinomial(probas, num_samples=1).item() for i in range(1_000)]\n",
    "    sampled_ids = torch.bincount(torch.tensor(sample), minlength=len(probas))\n",
    "    for i, freq in enumerate(sampled_ids):\n",
    "        print(f\"{freq} x {inverse_vocab[i]}\")\n",
    "\n",
    "print_sampled_tokens(probas)"
   ],
   "id": "aa5830067ef6c0e4",
   "outputs": [
    {
     "name": "stdout",
     "output_type": "stream",
     "text": [
      "73 x closer\n",
      "0 x every\n",
      "0 x effort\n",
      "582 x forward\n",
      "2 x inches\n",
      "0 x moves\n",
      "0 x pizza\n",
      "343 x toward\n",
      "0 x you\n"
     ]
    }
   ],
   "execution_count": 62
  },
  {
   "metadata": {},
   "cell_type": "markdown",
   "source": [
    "temperature scaling\\\n",
    "modify the distribution"
   ],
   "id": "b95ef308ccf8bb16"
  },
  {
   "metadata": {
    "ExecuteTime": {
     "end_time": "2025-05-25T06:04:43.110390Z",
     "start_time": "2025-05-25T06:04:43.107492Z"
    }
   },
   "cell_type": "code",
   "source": [
    "def softmax_with_temperature(logits, temperature):\n",
    "    scaled_logits = logits / temperature\n",
    "    return torch.softmax(scaled_logits, dim=0)"
   ],
   "id": "62371328a1e640a2",
   "outputs": [],
   "execution_count": 63
  },
  {
   "metadata": {
    "ExecuteTime": {
     "end_time": "2025-05-25T06:05:57.607107Z",
     "start_time": "2025-05-25T06:05:57.603391Z"
    }
   },
   "cell_type": "code",
   "source": "temperatures = [1, 0.1, 5]",
   "id": "6c0b597eb6afc999",
   "outputs": [],
   "execution_count": 65
  },
  {
   "metadata": {
    "ExecuteTime": {
     "end_time": "2025-05-25T06:06:27.737227Z",
     "start_time": "2025-05-25T06:06:27.732652Z"
    }
   },
   "cell_type": "code",
   "source": "scaled_probas = [softmax_with_temperature(next_token_logits, T) for T in temperatures]",
   "id": "2f3b1c5394f648ab",
   "outputs": [],
   "execution_count": 66
  },
  {
   "metadata": {
    "ExecuteTime": {
     "end_time": "2025-05-25T06:07:11.464773Z",
     "start_time": "2025-05-25T06:07:11.184366Z"
    }
   },
   "cell_type": "code",
   "source": [
    "# Plotting\n",
    "x = torch.arange(len(vocab))\n",
    "bar_width = 0.15\n",
    "\n",
    "fig, ax = plt.subplots(figsize=(5, 3))\n",
    "for i, T in enumerate(temperatures):\n",
    "    rects = ax.bar(x + i * bar_width, scaled_probas[i], bar_width, label=f'Temperature = {T}')\n",
    "\n",
    "ax.set_ylabel('Probability')\n",
    "ax.set_xticks(x)\n",
    "ax.set_xticklabels(vocab.keys(), rotation=90)\n",
    "ax.legend()\n",
    "\n",
    "plt.tight_layout()\n",
    "plt.savefig(\"temperature-plot.pdf\")\n",
    "plt.show()"
   ],
   "id": "548727bc6e4e8591",
   "outputs": [
    {
     "data": {
      "text/plain": [
       "<Figure size 500x300 with 1 Axes>"
      ],
      "image/png": "[encoded data removed]"
     },
     "metadata": {},
     "output_type": "display_data"
    }
   ],
   "execution_count": 67
  },
  {
   "metadata": {},
   "cell_type": "markdown",
   "source": "### 5.3.2 Top-k sampling",
   "id": "b83a7b969aebe377"
  },
  {
   "metadata": {},
   "cell_type": "markdown",
   "source": [
    "only leave the k token with highest probability, mask out other with -inf\\\n",
    "so llm will not generate nonsense\\\n",
    "a hyperparameter\n",
    "reality, 50, 100, 500"
   ],
   "id": "df56b74608307be6"
  },
  {
   "metadata": {
    "ExecuteTime": {
     "end_time": "2025-05-25T06:28:33.917154Z",
     "start_time": "2025-05-25T06:28:33.838446Z"
    }
   },
   "cell_type": "code",
   "source": [
    "top_k = 3\n",
    "top_logits, top_pos = torch.topk(next_token_logits, top_k)\n",
    "print(top_logits, top_pos)"
   ],
   "id": "2c5d58bfe456c49d",
   "outputs": [
    {
     "name": "stdout",
     "output_type": "stream",
     "text": [
      "tensor([6.7500, 6.2800, 4.5100]) tensor([3, 7, 0])\n"
     ]
    }
   ],
   "execution_count": 68
  },
  {
   "metadata": {
    "ExecuteTime": {
     "end_time": "2025-05-25T06:28:52.418259Z",
     "start_time": "2025-05-25T06:28:52.408795Z"
    }
   },
   "cell_type": "code",
   "source": "next_token_logits",
   "id": "b9c73b58946c98d0",
   "outputs": [
    {
     "data": {
      "text/plain": [
       "tensor([ 4.5100,  0.8900, -1.9000,  6.7500,  1.6300, -1.6200, -1.8900,  6.2800,\n",
       "         1.7900])"
      ]
     },
     "execution_count": 70,
     "metadata": {},
     "output_type": "execute_result"
    }
   ],
   "execution_count": 70
  },
  {
   "metadata": {
    "ExecuteTime": {
     "end_time": "2025-05-25T06:31:57.338544Z",
     "start_time": "2025-05-25T06:31:57.332465Z"
    }
   },
   "cell_type": "code",
   "source": [
    "new_logits = torch.where(\n",
    "    condition=(next_token_logits < top_logits[-1]),\n",
    "    input=torch.tensor(float(\"-inf\")),\n",
    "    other=next_token_logits,\n",
    ")\n",
    "new_logits"
   ],
   "id": "cdd43e7b3ee8fcd6",
   "outputs": [
    {
     "data": {
      "text/plain": [
       "tensor([4.5100,   -inf,   -inf, 6.7500,   -inf,   -inf,   -inf, 6.2800,   -inf])"
      ]
     },
     "execution_count": 71,
     "metadata": {},
     "output_type": "execute_result"
    }
   ],
   "execution_count": 71
  },
  {
   "metadata": {
    "ExecuteTime": {
     "end_time": "2025-05-25T06:32:56.227269Z",
     "start_time": "2025-05-25T06:32:56.222272Z"
    }
   },
   "cell_type": "code",
   "source": "torch.softmax(new_logits, dim=-1)",
   "id": "9d9842c7baa5aab",
   "outputs": [
    {
     "data": {
      "text/plain": [
       "tensor([0.0615, 0.0000, 0.0000, 0.5775, 0.0000, 0.0000, 0.0000, 0.3610, 0.0000])"
      ]
     },
     "execution_count": 72,
     "metadata": {},
     "output_type": "execute_result"
    }
   ],
   "execution_count": 72
  },
  {
   "metadata": {},
   "cell_type": "markdown",
   "source": "### 5.3.3 Modifying the text generation function",
   "id": "4d07eac7c41fec4f"
  },
  {
   "metadata": {
    "ExecuteTime": {
     "end_time": "2025-05-25T06:50:10.099516Z",
     "start_time": "2025-05-25T06:50:10.095329Z"
    }
   },
   "cell_type": "code",
   "source": [
    "def generate(model, idx, max_new_tokens, context_size, temperature=0.0, top_k=None, eos_id=None):\n",
    "    for _ in range(max_new_tokens):\n",
    "        idx_cond = idx[:, -context_size:] # truncating\n",
    "\n",
    "        with torch.no_grad(): # pytorch always builds cal. graph at background\n",
    "            logits = model(idx_cond)\n",
    "        logits = logits[:, -1, :] # last row\n",
    "\n",
    "        if top_k != None:\n",
    "            top_logits, _ = torch.topk(logits, top_k)\n",
    "            min_val = top_logits[:, -1]\n",
    "            new_logits = torch.where(\n",
    "                condition=(next_token_logits < min_val),\n",
    "                input=torch.tensor(float(\"-inf\")),\n",
    "                other=next_token_logits,\n",
    "            )\n",
    "\n",
    "        if temperature > 0.0:\n",
    "            logits = logits / temperature\n",
    "            probas = torch.softmax(logits, dim=-1)\n",
    "            idx_next = torch.multinomial(probas, num_samples=1)\n",
    "        else:\n",
    "            idx_next = torch.argmax(logits, dim=-1, keepdim=True)\n",
    "\n",
    "        if idx_next == eos_id:\n",
    "            break\n",
    "\n",
    "        idx = torch.cat((idx, idx_next), dim=1)\n",
    "    return idx"
   ],
   "id": "11eca6db5a285ae",
   "outputs": [],
   "execution_count": 82
  },
  {
   "metadata": {
    "ExecuteTime": {
     "end_time": "2025-05-25T06:50:11.352760Z",
     "start_time": "2025-05-25T06:50:10.581252Z"
    }
   },
   "cell_type": "code",
   "source": [
    "torch.manual_seed(123)\n",
    "\n",
    "token_ids = generate(\n",
    "    model=model,\n",
    "    idx=text_to_token_ids(\"Every effort moves you\", tokenizer),\n",
    "    max_new_tokens=15,\n",
    "    context_size=GPT_CONFIG_124M[\"context_length\"],\n",
    "    top_k=25,\n",
    "    temperature=1.4\n",
    ")\n",
    "\n",
    "print(\"Output text:\\n\", token_ids_to_text(token_ids, tokenizer))"
   ],
   "id": "8655aa40ff114642",
   "outputs": [
    {
     "name": "stdout",
     "output_type": "stream",
     "text": [
      "Output text:\n",
      " Every effort moves youenegger rendering GroundTemp aTweet laterbanks sanctions不 redu portraitition added placed\n"
     ]
    }
   ],
   "execution_count": 83
  },
  {
   "metadata": {},
   "cell_type": "markdown",
   "source": "in reality, with model card suggests some settings for top-k, top-p, temperature",
   "id": "acac213856d7e7d6"
  },
  {
   "metadata": {},
   "cell_type": "markdown",
   "source": "## 5.4 Loading and saving model weights in PyTorch",
   "id": "a06834dd11d7b1d9"
  },
  {
   "metadata": {
    "ExecuteTime": {
     "end_time": "2025-05-25T06:53:54.231713Z",
     "start_time": "2025-05-25T06:53:52.374824Z"
    }
   },
   "cell_type": "code",
   "source": "torch.save(model.state_dict(), \"model.pth\")",
   "id": "e61eef7c479d5149",
   "outputs": [],
   "execution_count": 85
  },
  {
   "metadata": {},
   "cell_type": "markdown",
   "source": [
    "only save parameters, not architecture\\\n",
    "postfix is random, pth is just a convention"
   ],
   "id": "3564dff036badc14"
  },
  {
   "metadata": {},
   "cell_type": "code",
   "outputs": [],
   "execution_count": null,
   "source": [
    "# load weights\n",
    "# device = torch.device(\"cuda\" if torch.cuda.is_available() else \"cpu\")\n",
    "# model.load_state_dict(torch.load(\"model.pth\", map_location=device))"
   ],
   "id": "bb2a1460f635995"
  },
  {
   "metadata": {},
   "cell_type": "markdown",
   "source": "## 5.5 Loading pretrained weights from OpenAI",
   "id": "29464e888d4b5c6a"
  },
  {
   "metadata": {
    "ExecuteTime": {
     "end_time": "2025-05-26T06:24:36.083830Z",
     "start_time": "2025-05-26T06:22:51.716841Z"
    }
   },
   "cell_type": "code",
   "source": [
    "BASE_CONFIG = {\n",
    "    \"vocab_size\": 50257,    # Vocabulary size\n",
    "    \"context_length\": 1024, # Context length\n",
    "    \"drop_rate\": 0.0,       # Dropout rate\n",
    "    \"qkv_bias\": True        # Query-key-value bias\n",
    "}\n",
    "\n",
    "model_configs = {\n",
    "    \"gpt2-small (124M)\": {\"emb_dim\": 768, \"n_layers\": 12, \"n_heads\": 12},\n",
    "    \"gpt2-medium (355M)\": {\"emb_dim\": 1024, \"n_layers\": 24, \"n_heads\": 16},\n",
    "    \"gpt2-large (774M)\": {\"emb_dim\": 1280, \"n_layers\": 36, \"n_heads\": 20},\n",
    "    \"gpt2-xl (1558M)\": {\"emb_dim\": 1600, \"n_layers\": 48, \"n_heads\": 25},\n",
    "}\n",
    "\n",
    "\n",
    "CHOOSE_MODEL = \"gpt2-small (124M)\"\n",
    "BASE_CONFIG.update(model_configs[CHOOSE_MODEL])\n",
    "\n",
    "file_name = \"gpt2-small-124M.pth\"\n",
    "# file_name = \"gpt2-medium-355M.pth\"\n",
    "# file_name = \"gpt2-large-774M.pth\"\n",
    "# file_name = \"gpt2-xl-1558M.pth\"\n",
    "\n",
    "import os\n",
    "import urllib.request\n",
    "\n",
    "url = f\"https://huggingface.co/rasbt/gpt2-from-scratch-pytorch/resolve/main/{file_name}\"\n",
    "\n",
    "if not os.path.exists(file_name):\n",
    "    urllib.request.urlretrieve(url, file_name)\n",
    "    print(f\"Downloaded to {file_name}\")\n",
    "\n",
    "import torch\n",
    "from modules import GPTModel\n",
    "# For llms_from_scratch installation instructions, see:\n",
    "# https://github.com/rasbt/LLMs-from-scratch/tree/main/pkg\n",
    "\n",
    "\n",
    "gpt = GPTModel(BASE_CONFIG)\n",
    "gpt.load_state_dict(torch.load(file_name, weights_only=True))\n",
    "gpt.eval()\n",
    "\n",
    "device = torch.device(\"cuda\" if torch.cuda.is_available() else \"cpu\")\n",
    "gpt.to(device);"
   ],
   "id": "86a0ea68f7cc8d89",
   "outputs": [
    {
     "name": "stdout",
     "output_type": "stream",
     "text": [
      "Downloaded to gpt2-small-124M.pth\n"
     ]
    }
   ],
   "execution_count": 1
  },
  {
   "metadata": {},
   "cell_type": "markdown",
   "source": "no other llm uses bias",
   "id": "10ff38bdc0f36886"
  },
  {
   "metadata": {
    "ExecuteTime": {
     "end_time": "2025-05-26T06:41:58.914704Z",
     "start_time": "2025-05-26T06:41:58.816952Z"
    }
   },
   "cell_type": "code",
   "source": [
    "import tiktoken\n",
    "from modules import generate, text_to_token_ids, token_ids_to_text\n",
    "\n",
    "\n",
    "torch.manual_seed(123)\n",
    "\n",
    "tokenizer = tiktoken.get_encoding(\"gpt2\")\n",
    "\n",
    "token_ids = generate(\n",
    "    model=gpt.to(device),\n",
    "    idx=text_to_token_ids(\"Every effort moves\", tokenizer).to(device),\n",
    "    max_new_tokens=30,\n",
    "    context_size=BASE_CONFIG[\"context_length\"],\n",
    "    top_k=1,\n",
    "    temperature=1.0\n",
    ")\n",
    "\n",
    "print(\"Output text:\\n\", token_ids_to_text(token_ids, tokenizer))"
   ],
   "id": "240fc28631ad7082",
   "outputs": [
    {
     "ename": "ImportError",
     "evalue": "cannot import name 'generate' from 'modules' (E:\\py_project\\TorchStudy\\LLM-from-scratch\\GPT-2-from-scratch\\modules.py)",
     "output_type": "error",
     "traceback": [
      "\u001B[31m---------------------------------------------------------------------------\u001B[39m",
      "\u001B[31mImportError\u001B[39m                               Traceback (most recent call last)",
      "\u001B[36mCell\u001B[39m\u001B[36m \u001B[39m\u001B[32mIn[2]\u001B[39m\u001B[32m, line 2\u001B[39m\n\u001B[32m      1\u001B[39m \u001B[38;5;28;01mimport\u001B[39;00m\u001B[38;5;250m \u001B[39m\u001B[34;01mtiktoken\u001B[39;00m\n\u001B[32m----> \u001B[39m\u001B[32m2\u001B[39m \u001B[38;5;28;01mfrom\u001B[39;00m\u001B[38;5;250m \u001B[39m\u001B[34;01mmodules\u001B[39;00m\u001B[38;5;250m \u001B[39m\u001B[38;5;28;01mimport\u001B[39;00m generate, text_to_token_ids, token_ids_to_text\n\u001B[32m      5\u001B[39m torch.manual_seed(\u001B[32m123\u001B[39m)\n\u001B[32m      7\u001B[39m tokenizer = tiktoken.get_encoding(\u001B[33m\"\u001B[39m\u001B[33mgpt2\u001B[39m\u001B[33m\"\u001B[39m)\n",
      "\u001B[31mImportError\u001B[39m: cannot import name 'generate' from 'modules' (E:\\py_project\\TorchStudy\\LLM-from-scratch\\GPT-2-from-scratch\\modules.py)"
     ]
    }
   ],
   "execution_count": 2
  },
  {
   "metadata": {},
   "cell_type": "code",
   "outputs": [],
   "execution_count": null,
   "source": "",
   "id": "1699f178ad243de4"
  }
 ],
 "metadata": {
  "kernelspec": {
   "display_name": "Python 3",
   "language": "python",
   "name": "python3"
  },
  "language_info": {
   "codemirror_mode": {
    "name": "ipython",
    "version": 3
   },
   "file_extension": ".py",
   "mimetype": "text/x-python",
   "name": "python",
   "nbconvert_exporter": "python",
   "pygments_lexer": "ipython3",
   "version": "3.12.1"
  }
 },
 "nbformat": 4,
 "nbformat_minor": 5
}
