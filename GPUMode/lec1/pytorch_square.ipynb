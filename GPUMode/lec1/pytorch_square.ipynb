{
 "cells": [
  {
   "metadata": {},
   "cell_type": "markdown",
   "source": [
    "What is element-wise square in pytorch?\n",
    "\n",
    "go over every element\n",
    "\n",
    "example for point-wise operation, which is important in ML, e.g., softmax, sin, cos"
   ],
   "id": "206a7ced89e61464"
  },
  {
   "cell_type": "code",
   "id": "initial_id",
   "metadata": {
    "collapsed": true,
    "ExecuteTime": {
     "end_time": "2025-08-03T15:10:51.779925Z",
     "start_time": "2025-08-03T15:10:51.050415Z"
    }
   },
   "source": [
    "import torch\n",
    "\n",
    "a = torch.tensor([1., 2., 3.])\n",
    "\n",
    "print(torch.square(a))\n",
    "print(a ** 2)\n",
    "print(a * a)\n",
    "\n",
    "def time_pytorch_function(func, input):\n",
    "    # CUDA IS ASYNC so can't use python time module\n",
    "    start = torch.cuda.Event(enable_timing=True)\n",
    "    end = torch.cuda.Event(enable_timing=True)\n",
    "\n",
    "    # Warmup\n",
    "    for _ in range(5):\n",
    "        func(input)\n",
    "\n",
    "    start.record()\n",
    "    func(input)\n",
    "    end.record()\n",
    "    torch.cuda.synchronize()\n",
    "    return start.elapsed_time(end)\n",
    "\n",
    "b = torch.randn(10000, 10000).cuda()\n",
    "\n",
    "def square_2(a):\n",
    "    return a * a\n",
    "\n",
    "def square_3(a):\n",
    "    return a ** 2"
   ],
   "outputs": [
    {
     "name": "stdout",
     "output_type": "stream",
     "text": [
      "tensor([1., 4., 9.])\n",
      "tensor([1., 4., 9.])\n",
      "tensor([1., 4., 9.])\n"
     ]
    }
   ],
   "execution_count": 6
  },
  {
   "metadata": {},
   "cell_type": "markdown",
   "source": "compare torch.square() with a * a",
   "id": "c17a89e103d06b8f"
  },
  {
   "metadata": {},
   "cell_type": "markdown",
   "source": [
    "For profiling cuda:\n",
    "\n",
    "**cuda is async**\n",
    "\n",
    "if using python time module, just meassures the overhead that it takes to launch a kernel, not how much time kernel actually run"
   ],
   "id": "653e7dd36097462a"
  },
  {
   "metadata": {
    "ExecuteTime": {
     "end_time": "2025-08-03T15:11:15.144397Z",
     "start_time": "2025-08-03T15:11:14.789758Z"
    }
   },
   "cell_type": "code",
   "source": [
    "time_pytorch_function(torch.square, b)\n",
    "time_pytorch_function(square_2, b)\n",
    "time_pytorch_function(square_3, b)\n",
    "\n",
    "print(\"=============\")\n",
    "print(\"Profiling torch.square\")\n",
    "print(\"=============\")\n",
    "\n",
    "# Now profile each function using pytorch profiler\n",
    "with torch.profiler.profile() as prof:\n",
    "    torch.square(b)\n",
    "\n",
    "print(prof.key_averages().table(sort_by=\"cuda_time_total\", row_limit=10))\n",
    "\n",
    "print(\"=============\")\n",
    "print(\"Profiling a * a\")\n",
    "print(\"=============\")\n",
    "\n",
    "with torch.profiler.profile() as prof:\n",
    "    square_2(b)\n",
    "\n",
    "print(prof.key_averages().table(sort_by=\"cuda_time_total\", row_limit=10))\n",
    "\n",
    "print(\"=============\")\n",
    "print(\"Profiling a ** 2\")\n",
    "print(\"=============\")\n",
    "\n",
    "with torch.profiler.profile() as prof:\n",
    "    square_3(b)\n",
    "\n",
    "print(prof.key_averages().table(sort_by=\"cuda_time_total\", row_limit=10))"
   ],
   "id": "945469d8dd3afd1f",
   "outputs": [
    {
     "name": "stdout",
     "output_type": "stream",
     "text": [
      "=============\n",
      "Profiling torch.square\n",
      "=============\n",
      "---------------------------  ------------  ------------  ------------  ------------  ------------  ------------  \n",
      "                       Name    Self CPU %      Self CPU   CPU total %     CPU total  CPU time avg    # of Calls  \n",
      "---------------------------  ------------  ------------  ------------  ------------  ------------  ------------  \n",
      "               aten::square         0.15%       6.100us        40.98%       1.724ms       1.724ms             1  \n",
      "                  aten::pow         1.92%      80.600us        40.83%       1.718ms       1.718ms             1  \n",
      "          aten::result_type         0.04%       1.600us         0.04%       1.600us       1.600us             1  \n",
      "                   aten::to         0.03%       1.300us         0.03%       1.300us       1.300us             1  \n",
      "    Activity Buffer Request        21.57%     907.300us        21.57%     907.300us     907.300us             1  \n",
      "           cudaLaunchKernel        17.28%     726.700us        17.28%     726.700us     726.700us             1  \n",
      "      cudaDeviceSynchronize        59.02%       2.483ms        59.02%       2.483ms       2.483ms             1  \n",
      "---------------------------  ------------  ------------  ------------  ------------  ------------  ------------  \n",
      "Self CPU time total: 4.206ms\n",
      "\n",
      "=============\n",
      "Profiling a * a\n",
      "=============\n",
      "---------------------------  ------------  ------------  ------------  ------------  ------------  ------------  \n",
      "                       Name    Self CPU %      Self CPU   CPU total %     CPU total  CPU time avg    # of Calls  \n",
      "---------------------------  ------------  ------------  ------------  ------------  ------------  ------------  \n",
      "                  aten::mul         1.13%      43.100us        31.43%       1.194ms       1.194ms             1  \n",
      "    Activity Buffer Request        21.85%     830.500us        21.85%     830.500us     830.500us             1  \n",
      "           cudaLaunchKernel         8.44%     320.900us         8.44%     320.900us     320.900us             1  \n",
      "      cudaDeviceSynchronize        68.57%       2.606ms        68.57%       2.606ms       2.606ms             1  \n",
      "---------------------------  ------------  ------------  ------------  ------------  ------------  ------------  \n",
      "Self CPU time total: 3.801ms\n",
      "\n",
      "=============\n",
      "Profiling a ** 2\n",
      "=============\n",
      "---------------------------  ------------  ------------  ------------  ------------  ------------  ------------  \n",
      "                       Name    Self CPU %      Self CPU   CPU total %     CPU total  CPU time avg    # of Calls  \n",
      "---------------------------  ------------  ------------  ------------  ------------  ------------  ------------  \n",
      "                  aten::pow         1.25%      46.100us        31.51%       1.165ms       1.165ms             1  \n",
      "          aten::result_type         0.03%       1.200us         0.03%       1.200us       1.200us             1  \n",
      "                   aten::to         0.02%       0.700us         0.02%       0.700us       0.700us             1  \n",
      "    Activity Buffer Request        22.99%     850.000us        22.99%     850.000us     850.000us             1  \n",
      "           cudaLaunchKernel         7.22%     266.900us         7.22%     266.900us     266.900us             1  \n",
      "      cudaDeviceSynchronize        68.49%       2.532ms        68.49%       2.532ms       2.532ms             1  \n",
      "---------------------------  ------------  ------------  ------------  ------------  ------------  ------------  \n",
      "Self CPU time total: 3.697ms\n",
      "\n"
     ]
    }
   ],
   "execution_count": 7
  },
  {
   "metadata": {},
   "cell_type": "code",
   "outputs": [],
   "execution_count": null,
   "source": "",
   "id": "cf4a13c65d5a820d"
  }
 ],
 "metadata": {
  "kernelspec": {
   "display_name": "Python 3",
   "language": "python",
   "name": "python3"
  },
  "language_info": {
   "codemirror_mode": {
    "name": "ipython",
    "version": 2
   },
   "file_extension": ".py",
   "mimetype": "text/x-python",
   "name": "python",
   "nbconvert_exporter": "python",
   "pygments_lexer": "ipython2",
   "version": "2.7.6"
  }
 },
 "nbformat": 4,
 "nbformat_minor": 5
}
